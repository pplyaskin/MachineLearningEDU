{
 "cells": [
  {
   "cell_type": "markdown",
   "metadata": {},
   "source": [
    "# Майнор \"Интеллектуальный анализ данных\", Введение в Анализ данных (ВШЭ)\n",
    "## Домашнее задание №1"
   ]
  },
  {
   "cell_type": "markdown",
   "metadata": {},
   "source": [
    "__Дата выдачи__: 28.01.2016\n",
    "\n",
    "__Дедлайн__: 23:59 10.01.2016"
   ]
  },
  {
   "cell_type": "markdown",
   "metadata": {},
   "source": [
    "Задание состоит в том, чтобы дописать в этом ipython notebook тело для всех функций, чтобы они работали так, как указано в формулировке. \n",
    "\n",
    "### Не нужно создавать свои функции с другими названиями!\n",
    "Точнее, ответ должна выдавать именно та функция, которая указана в задании. Промежуточные функции создавать, конечно, можно.\n",
    "\n",
    "Готовый файл нужно переименовать в формате iad16\\_SnapeS.ipynb (заменив фамилию «Snape» и первую букву имени «S» на свои) и прислать на [hse.minor.dm+16@gmail.com](hse.minor.dm+16@gmail.com), указав в теме «[HW1] SnapeS»."
   ]
  },
  {
   "cell_type": "markdown",
   "metadata": {},
   "source": [
    "Мы настоятельно рекомендуем выполнять задание на своем компьютере. Для этого лучше всего создать отдельную папку, скопировать туда этот notebook, открыть консоль (например, в Windows8: Shift + правая кнопка мыши, выбрать \"Открыть → Окно команд\") и написать jupiter notebook. Тогда вы всегда будете знать, где находятся ваши файлы."
   ]
  },
  {
   "cell_type": "markdown",
   "metadata": {},
   "source": [
    "При выполнении на сервере не гарантируется его стабильная работа, и ваш код смогут видеть другие студенты. \n",
    "\n",
    "На всякий случай напоминаем, что списывать нехорошо. За это будет <s>выпорот</s> сурово наказан и тот, кто списал, и тот, кто у кого списали. Но надеемся, что таких случаев не будет"
   ]
  },
  {
   "cell_type": "markdown",
   "metadata": {},
   "source": [
    "Если формулировка задания не ясна — пишите на почту курса или семинаристам лично. Мы с радостью поможем разобраться.\n",
    "\n",
    "Непонятные термины рекомендуем гуглить :) \n",
    "\n",
    "А вот решения гуглить не рекомендуем: задания не очень сложные, и сделаны они в первую очередь для того, чтобы вы освоились с numpy и pandas. Без этого дальше изучать курс будет сложно."
   ]
  },
  {
   "cell_type": "markdown",
   "metadata": {},
   "source": [
    "__Каждое выполненное задание дает 1 балл.__\n",
    "\n",
    "При решении задач нельзя пользоваться циклами и рекурсией."
   ]
  },
  {
   "cell_type": "code",
   "execution_count": 1,
   "metadata": {
    "collapsed": true
   },
   "outputs": [],
   "source": [
    "import numpy as np"
   ]
  },
  {
   "cell_type": "markdown",
   "metadata": {},
   "source": [
    "# во всех задачах запрещается использовать циклы и рекурсию!"
   ]
  },
  {
   "cell_type": "markdown",
   "metadata": {},
   "source": [
    "__№1__.  Написать функцию, которая берет на вход прямоугольную матрицу $A$ размера m x n и превращает каждый ее столбец в дискретное распределение с помощью применения функции _softmax_:\n",
    "\n",
    "$\\text{softmax}(a_j) = \\frac {\\exp (a_j)}{\\sum_i \\exp(a_i)}$, где a --- столбец матрицы $A$.\n",
    "\n",
    "Таким образом, в матрице, возвращенной функцией, сумма каждого столбца матрицы должна быть равна 1."
   ]
  },
  {
   "cell_type": "code",
   "execution_count": 7,
   "metadata": {
    "collapsed": false
   },
   "outputs": [
    {
     "name": "stdout",
     "output_type": "stream",
     "text": [
      "Example\n",
      "Input:\n",
      "[[0 1]\n",
      " [1 2]]\n",
      "Output:\n",
      "[[ 0.26894142  0.26894142]\n",
      " [ 0.73105858  0.73105858]]\n"
     ]
    }
   ],
   "source": [
    "#Пример"
   ]
  },
  {
   "cell_type": "code",
   "execution_count": null,
   "metadata": {
    "collapsed": true
   },
   "outputs": [],
   "source": [
    "def compute_softmax(A):\n",
    "    "
   ]
  },
  {
   "cell_type": "markdown",
   "metadata": {},
   "source": [
    "__№2__. Напишите функцию, принимающую на вход матрицу X и два массива i и j одинаковой длины n и возвращающую вектор np.array, состоящий из последовательности элементов [X[i[0], j[0]], X[i[1], j[1]], ..., X[i[n-1], j[n-1]]]."
   ]
  },
  {
   "cell_type": "code",
   "execution_count": 11,
   "metadata": {
    "collapsed": false
   },
   "outputs": [
    {
     "name": "stdout",
     "output_type": "stream",
     "text": [
      "Example\n",
      "Input:\n",
      "X = [[0 1]\n",
      " [1 2]]\n",
      "i =  [0 0] j =  [0 1]\n",
      "Output:\n",
      "0 1\n"
     ]
    }
   ],
   "source": [
    "#Пример"
   ]
  },
  {
   "cell_type": "code",
   "execution_count": null,
   "metadata": {
    "collapsed": true
   },
   "outputs": [],
   "source": [
    "def choose_elems(X, i, j):\n",
    "    "
   ]
  },
  {
   "cell_type": "markdown",
   "metadata": {},
   "source": [
    "__№3__. Написать функцию, которая берет на вход матрицу A размера m x n, вектор b длины m и вектор c длины n и возвращает матрицу, составленную из блоков:\n",
    "\n",
    "$\\begin{pmatrix} A & b \\\\  c^T& 0 \\end{pmatrix}$ = \n",
    "\n",
    "$\\begin{pmatrix} a_{00} & a_{01} & \\dots &a_{0,n-1} & b_0 \\\\ \n",
    "a_{10} & a_{11} & \\dots &a_{1,n-1} & b_1 \\\\\n",
    " &&\\dots& \\\\\n",
    "a_{m-1,0} & a_{m-1,1} & \\dots &a_{m-1,n-1} & b_{m-1} \\\\ \n",
    "c_0 & c_1 & \\dots & c_{n-1 }& 0 \\end{pmatrix}$\n",
    "\n",
    "Будем считать, что матрица A может быть очень большой, поэтому выделять дополнительную память размера, сопоставимого с размером матрицы, нельзя."
   ]
  },
  {
   "cell_type": "code",
   "execution_count": 12,
   "metadata": {
    "collapsed": false
   },
   "outputs": [
    {
     "name": "stdout",
     "output_type": "stream",
     "text": [
      "Example\n",
      "Input:\n",
      "A = [[0 1]\n",
      " [1 2]]\n",
      "b =  [8 9] c =  [7 3]\n",
      "Output:\n",
      "[[0 1 8]\n",
      " [1 2 9]\n",
      " [7 3 0]]\n"
     ]
    }
   ],
   "source": [
    "#Пример"
   ]
  },
  {
   "cell_type": "code",
   "execution_count": null,
   "metadata": {
    "collapsed": true
   },
   "outputs": [],
   "source": [
    "def construct_matrix(A, b, c):\n",
    "    "
   ]
  },
  {
   "cell_type": "markdown",
   "metadata": {},
   "source": [
    "__№4__. Даны две небольшие бинарные матрицы $A$ размера $m \\times n$ и $B$ размера $n \\times k$. \n",
    "Написать функцию, возвращающую матрицу $C$ такую, что\n",
    "\n",
    "$C_{ij} = \\&_{s=1}^n (A_{is} \\lor B_{sj})$.\n",
    "\n",
    "Здесь $\\&$ означает логическое умножение (and), а $\\lor$ — дизъюнкцию (or)."
   ]
  },
  {
   "cell_type": "code",
   "execution_count": 14,
   "metadata": {
    "collapsed": false
   },
   "outputs": [
    {
     "name": "stdout",
     "output_type": "stream",
     "text": [
      "Example\n",
      "Input:\n",
      "A = [[False  True]\n",
      " [ True False]]\n",
      "Input:\n",
      "B = [[ True False]\n",
      " [False  True]]\n",
      "Output:\n",
      "[[ True False]\n",
      " [False  True]]\n"
     ]
    }
   ],
   "source": [
    "#Пример"
   ]
  },
  {
   "cell_type": "code",
   "execution_count": null,
   "metadata": {
    "collapsed": true
   },
   "outputs": [],
   "source": [
    "def perform_logical_computation(A, B):\n",
    "    "
   ]
  },
  {
   "cell_type": "markdown",
   "metadata": {},
   "source": [
    "__№5__. Напишите функцию, принимающую на вход np.array размера n и возвращающую матрицу размера n + 1 x n + 1, у которой над главной даигональю стоят элементы массива (остальные элементы должны быть нулевыми). "
   ]
  },
  {
   "cell_type": "code",
   "execution_count": 15,
   "metadata": {
    "collapsed": false
   },
   "outputs": [
    {
     "name": "stdout",
     "output_type": "stream",
     "text": [
      "Example\n",
      "Input:\n",
      "[[1 2]]\n",
      "Output:\n",
      "[[0 1 0]\n",
      " [0 0 2]\n",
      " [0 0 0]]\n"
     ]
    }
   ],
   "source": [
    "#Пример"
   ]
  },
  {
   "cell_type": "markdown",
   "metadata": {},
   "source": [
    "__№6__. Дана матрица объекты-признаки X размера n x m. Посчитать (квадратную) матрицу попарных корреляций между признаками C:\n",
    "\n",
    "$C_{ij} = cor_{ij} = \\frac {cov_{ij}}{\\sqrt{cov_{ii}cov_{jj}}}$ \n",
    "\n",
    "$cov_{ij} = cov(X_i, X_j), \\quad i,j = 0, \\dots, m-1.$\n",
    "\n",
    "$cov(\\{x_0, \\dots, x_{n-1}\\}, \\{y_0, \\dots, y_{n-1}\\}) = \\frac 1 {n-1} \\sum_{i=0} ^ {n-1} (x_i-\\bar x) (y_i - \\bar y)$.\n",
    "\n",
    "$\\bar x = mean(\\{x_0, \\dots, x_{n-1}\\}) = \\frac 1 n \\sum_{i=0} ^ {n-1} x_i$\n",
    "\n",
    "Нельзя использовать функции np.cov, np.corrcoef, np.correlate (их можно использовать для проверки правильности ответа)\n"
   ]
  },
  {
   "cell_type": "code",
   "execution_count": null,
   "metadata": {
    "collapsed": true
   },
   "outputs": [],
   "source": [
    "def compute_corr_matrix(X):\n",
    "    "
   ]
  },
  {
   "cell_type": "markdown",
   "metadata": {},
   "source": [
    "__№7__. Дан массив X (размерность неизвестна). Заменить все элементы, кратные 3, которые больше 0 и меньше 100, на среднее значение по массиву."
   ]
  },
  {
   "cell_type": "code",
   "execution_count": 19,
   "metadata": {
    "collapsed": false
   },
   "outputs": [
    {
     "name": "stdout",
     "output_type": "stream",
     "text": [
      "Example\n",
      "Input:\n",
      "[[14 11 10  0 12]\n",
      " [ 9  4 13  8  3]\n",
      " [ 6 14 13  5  5]\n",
      " [ 8  1  6  7 12]]\n",
      "Output:\n",
      "[[14 11 10  0  8]\n",
      " [ 8  4 13  8  8]\n",
      " [ 8 14 13  5  5]\n",
      " [ 8  1  8  7  8]]\n"
     ]
    }
   ],
   "source": [
    "#Пример"
   ]
  },
  {
   "cell_type": "code",
   "execution_count": 20,
   "metadata": {
    "collapsed": true
   },
   "outputs": [],
   "source": [
    "import pandas as pd"
   ]
  },
  {
   "cell_type": "markdown",
   "metadata": {},
   "source": [
    "Для выполнения заданий по pandas понадобится файл _countries.csv_: [https://goo.gl/AQqxaR](https://goo.gl/AQqxaR) --- тут его нужно скачать! Чтобы загрузить файл в jupiter, на странице с ноутбуками нажмите Upload, найдите на компьютере файл, снов анажмите upload."
   ]
  },
  {
   "cell_type": "code",
   "execution_count": 22,
   "metadata": {
    "collapsed": true
   },
   "outputs": [],
   "source": [
    "#Загрузите данные в notebook:\n",
    "\n",
    "\n",
    "\n"
   ]
  },
  {
   "cell_type": "markdown",
   "metadata": {},
   "source": [
    "__№8__. Напишите функцию, которая берет на вход датафрейм pandas со считанными данными и возвращает ответ на следующий вопрос (строка).\n",
    "\n",
    "Найдите страну, у которой наибольшее ВВП среди стран площадью меньше 200 или население меньше 10000 (или — не исключающее)."
   ]
  },
  {
   "cell_type": "code",
   "execution_count": null,
   "metadata": {
    "collapsed": true
   },
   "outputs": [],
   "source": [
    "def find_country(df):\n",
    "    "
   ]
  },
  {
   "cell_type": "markdown",
   "metadata": {},
   "source": [
    "__№9__.  Напишите функцию, которая берет на вход датафрейм pandas и возвращает датафрейм, в котором все пропуски заменены на среднее значение по столбцу. \n",
    "\n",
    "_Подсказка_: используйте функцию pandas.fillna()"
   ]
  },
  {
   "cell_type": "code",
   "execution_count": null,
   "metadata": {
    "collapsed": true
   },
   "outputs": [],
   "source": [
    "def fill_na(df):\n",
    "    "
   ]
  },
  {
   "cell_type": "markdown",
   "metadata": {},
   "source": [
    "__№10__.  Напишите функцию, которая берет на вход датафрейм pandas и число и возвращает ответ на вопрос (строка):\n",
    "\n",
    "В какой стране ВВП (GDP) наиболее близок к указанной величине?"
   ]
  },
  {
   "cell_type": "code",
   "execution_count": null,
   "metadata": {
    "collapsed": true
   },
   "outputs": [],
   "source": [
    "def compare_GDP(df, gdp):\n",
    "    "
   ]
  },
  {
   "cell_type": "markdown",
   "metadata": {},
   "source": [
    "__№11__. __(Дополнительный). За выполнение этого задания можно получить +1 балл к общей сумме баллов (к 10)!__\n",
    "\n",
    "Напишите функцию, которая берет на вход датафрейм pandas со считанными данными и возвращает датафрейм с двумя колонками: буква алфавита и значение ВВП, усреднённое по всем странам, начинающимся с данной буквы.\n",
    "\n",
    "Для решения задачи может понадобиться функция pandas.groupby, которую вы не успели пройти на семинаре. Поэтому задача и дополнительная."
   ]
  },
  {
   "cell_type": "code",
   "execution_count": null,
   "metadata": {
    "collapsed": false
   },
   "outputs": [],
   "source": [
    "def compute_means_by_letters(df):\n",
    "    "
   ]
  },
  {
   "cell_type": "code",
   "execution_count": null,
   "metadata": {
    "collapsed": true
   },
   "outputs": [],
   "source": []
  }
 ],
 "metadata": {
  "kernelspec": {
   "display_name": "Python 2",
   "language": "python",
   "name": "python2"
  },
  "language_info": {
   "codemirror_mode": {
    "name": "ipython",
    "version": 2
   },
   "file_extension": ".py",
   "mimetype": "text/x-python",
   "name": "python",
   "nbconvert_exporter": "python",
   "pygments_lexer": "ipython2",
   "version": "2.7.10"
  }
 },
 "nbformat": 4,
 "nbformat_minor": 0
}

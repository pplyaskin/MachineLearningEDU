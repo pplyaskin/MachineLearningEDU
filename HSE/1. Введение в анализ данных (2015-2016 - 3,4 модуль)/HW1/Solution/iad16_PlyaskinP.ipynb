{
 "cells": [
  {
   "cell_type": "markdown",
   "metadata": {},
   "source": [
    "# Майнор \"Интеллектуальный анализ данных\", Введение в Анализ данных (ВШЭ)\n",
    "## Домашнее задание №1"
   ]
  },
  {
   "cell_type": "markdown",
   "metadata": {},
   "source": [
    "__Дата выдачи__: 28.01.2016\n",
    "\n",
    "__Дедлайн__: 23:59 10.01.2016"
   ]
  },
  {
   "cell_type": "markdown",
   "metadata": {},
   "source": [
    "Задание состоит в том, чтобы дописать в этом ipython notebook тело для всех функций, чтобы они работали так, как указано в формулировке. \n",
    "\n",
    "### Не нужно создавать свои функции с другими названиями!\n",
    "Точнее, ответ должна выдавать именно та функция, которая указана в задании. Промежуточные функции создавать, конечно, можно.\n",
    "\n",
    "Готовый файл нужно переименовать в формате iad16\\_SnapeS.ipynb (заменив фамилию «Snape» и первую букву имени «S» на свои) и прислать на [hse.minor.dm+16@gmail.com](hse.minor.dm+16@gmail.com), указав в теме «[HW1] SnapeS»."
   ]
  },
  {
   "cell_type": "markdown",
   "metadata": {},
   "source": [
    "Мы настоятельно рекомендуем выполнять задание на своем компьютере. Для этого лучше всего создать отдельную папку, скопировать туда этот notebook, открыть консоль (например, в Windows8: Shift + правая кнопка мыши, выбрать \"Открыть → Окно команд\") и написать jupiter notebook. Тогда вы всегда будете знать, где находятся ваши файлы."
   ]
  },
  {
   "cell_type": "markdown",
   "metadata": {},
   "source": [
    "При выполнении на сервере не гарантируется его стабильная работа, и ваш код смогут видеть другие студенты. \n",
    "\n",
    "На всякий случай напоминаем, что списывать нехорошо. За это будет <s>выпорот</s> сурово наказан и тот, кто списал, и тот, кто у кого списали. Но надеемся, что таких случаев не будет"
   ]
  },
  {
   "cell_type": "markdown",
   "metadata": {},
   "source": [
    "Если формулировка задания не ясна — пишите на почту курса или семинаристам лично. Мы с радостью поможем разобраться.\n",
    "\n",
    "Непонятные термины рекомендуем гуглить :) \n",
    "\n",
    "А вот решения гуглить не рекомендуем: задания не очень сложные, и сделаны они в первую очередь для того, чтобы вы освоились с numpy и pandas. Без этого дальше изучать курс будет сложно."
   ]
  },
  {
   "cell_type": "markdown",
   "metadata": {},
   "source": [
    "__Каждое выполненное задание дает 1 балл.__\n",
    "\n",
    "При решении задач нельзя пользоваться циклами и рекурсией."
   ]
  },
  {
   "cell_type": "code",
   "execution_count": 3,
   "metadata": {
    "collapsed": true
   },
   "outputs": [],
   "source": [
    "import numpy as np"
   ]
  },
  {
   "cell_type": "markdown",
   "metadata": {},
   "source": [
    "# во всех задачах запрещается использовать циклы и рекурсию!"
   ]
  },
  {
   "cell_type": "markdown",
   "metadata": {},
   "source": [
    "__№1__.  Написать функцию, которая берет на вход прямоугольную матрицу $A$ размера m x n и превращает каждый ее столбец в дискретное распределение с помощью применения функции _softmax_:\n",
    "\n",
    "$\\text{softmax}(a_j) = \\frac {\\exp (a_j)}{\\sum_i \\exp(a_i)}$, где a --- столбец матрицы $A$.\n",
    "\n",
    "Таким образом, в матрице, возвращенной функцией, сумма каждого столбца матрицы должна быть равна 1."
   ]
  },
  {
   "cell_type": "code",
   "execution_count": 7,
   "metadata": {
    "collapsed": false
   },
   "outputs": [
    {
     "name": "stdout",
     "output_type": "stream",
     "text": [
      "Example\n",
      "Input:\n",
      "[[0 1]\n",
      " [1 2]]\n",
      "Output:\n",
      "[[ 0.26894142  0.26894142]\n",
      " [ 0.73105858  0.73105858]]\n"
     ]
    }
   ],
   "source": [
    "#Пример"
   ]
  },
  {
   "cell_type": "code",
   "execution_count": 6,
   "metadata": {
    "collapsed": false
   },
   "outputs": [],
   "source": [
    "def compute_softmax(A):\n",
    "    exp_A = np.exp(A)\n",
    "    sum_exp_A = exp_A.sum(axis = 0)\n",
    "    return exp_A / sum_exp_A"
   ]
  },
  {
   "cell_type": "code",
   "execution_count": 9,
   "metadata": {
    "collapsed": false
   },
   "outputs": [
    {
     "data": {
      "text/plain": [
       "array([[ 0.26894142,  0.26894142],\n",
       "       [ 0.73105858,  0.73105858]])"
      ]
     },
     "execution_count": 9,
     "metadata": {},
     "output_type": "execute_result"
    }
   ],
   "source": [
    "A = np.array([[0,1], [1, 2]])\n",
    "compute_softmax(A)"
   ]
  },
  {
   "cell_type": "markdown",
   "metadata": {},
   "source": [
    "__№2__. Напишите функцию, принимающую на вход матрицу X и два массива i и j одинаковой длины n и возвращающую вектор np.array, состоящий из последовательности элементов [X[i[0], j[0]], X[i[1], j[1]], ..., X[i[n-1], j[n-1]]]."
   ]
  },
  {
   "cell_type": "code",
   "execution_count": 11,
   "metadata": {
    "collapsed": false
   },
   "outputs": [
    {
     "name": "stdout",
     "output_type": "stream",
     "text": [
      "Example\n",
      "Input:\n",
      "X = [[0 1]\n",
      " [1 2]]\n",
      "i =  [0 0] j =  [0 1]\n",
      "Output:\n",
      "0 1\n"
     ]
    }
   ],
   "source": [
    "#Пример"
   ]
  },
  {
   "cell_type": "code",
   "execution_count": 4,
   "metadata": {
    "collapsed": false
   },
   "outputs": [],
   "source": [
    "def choose_elems(X, i, j):\n",
    "    return X[i, j]"
   ]
  },
  {
   "cell_type": "code",
   "execution_count": 5,
   "metadata": {
    "collapsed": false
   },
   "outputs": [
    {
     "data": {
      "text/plain": [
       "array([0, 1])"
      ]
     },
     "execution_count": 5,
     "metadata": {},
     "output_type": "execute_result"
    }
   ],
   "source": [
    "X = np.array([[0, 1], [1, 2]])\n",
    "i = np.array([0, 0])\n",
    "j = np.array([0, 1])\n",
    "choose_elems(X, i, j)"
   ]
  },
  {
   "cell_type": "markdown",
   "metadata": {},
   "source": [
    "__№3__. Написать функцию, которая берет на вход матрицу A размера m x n, вектор b длины m и вектор c длины n и возвращает матрицу, составленную из блоков:\n",
    "\n",
    "$\\begin{pmatrix} A & b \\\\  c^T& 0 \\end{pmatrix}$ = \n",
    "\n",
    "$\\begin{pmatrix} a_{00} & a_{01} & \\dots &a_{0,n-1} & b_0 \\\\ \n",
    "a_{10} & a_{11} & \\dots &a_{1,n-1} & b_1 \\\\\n",
    " &&\\dots& \\\\\n",
    "a_{m-1,0} & a_{m-1,1} & \\dots &a_{m-1,n-1} & b_{m-1} \\\\ \n",
    "c_0 & c_1 & \\dots & c_{n-1 }& 0 \\end{pmatrix}$\n",
    "\n",
    "Будем считать, что матрица A может быть очень большой, поэтому выделять дополнительную память размера, сопоставимого с размером матрицы, нельзя."
   ]
  },
  {
   "cell_type": "code",
   "execution_count": 12,
   "metadata": {
    "collapsed": false
   },
   "outputs": [
    {
     "name": "stdout",
     "output_type": "stream",
     "text": [
      "Example\n",
      "Input:\n",
      "A = [[0 1]\n",
      " [1 2]]\n",
      "b =  [8 9] c =  [7 3]\n",
      "Output:\n",
      "[[0 1 8]\n",
      " [1 2 9]\n",
      " [7 3 0]]\n"
     ]
    }
   ],
   "source": [
    "#Пример"
   ]
  },
  {
   "cell_type": "code",
   "execution_count": 6,
   "metadata": {
    "collapsed": false
   },
   "outputs": [],
   "source": [
    "def construct_matrix(A, b, c):\n",
    "    b = b[:, np.newaxis]\n",
    "    c = np.append(c,[0])\n",
    "    A = np.hstack((A, b))\n",
    "    A = np.vstack((A, c))\n",
    "    return A"
   ]
  },
  {
   "cell_type": "code",
   "execution_count": 7,
   "metadata": {
    "collapsed": false
   },
   "outputs": [
    {
     "data": {
      "text/plain": [
       "array([[0, 1, 8],\n",
       "       [1, 2, 9],\n",
       "       [7, 3, 0]])"
      ]
     },
     "execution_count": 7,
     "metadata": {},
     "output_type": "execute_result"
    }
   ],
   "source": [
    "A = np.array([[0, 1], [1, 2]])\n",
    "b = np.array([8, 9])\n",
    "c = np.array([7, 3])\n",
    "construct_matrix(A, b, c)"
   ]
  },
  {
   "cell_type": "markdown",
   "metadata": {},
   "source": [
    "__№4__. Даны две небольшие бинарные матрицы $A$ размера $m \\times n$ и $B$ размера $n \\times k$. \n",
    "Написать функцию, возвращающую матрицу $C$ такую, что\n",
    "\n",
    "$C_{ij} = \\&_{s=1}^n (A_{is} \\lor B_{sj})$.\n",
    "\n",
    "Здесь $\\&$ означает логическое умножение (and), а $\\lor$ — дизъюнкцию (or)."
   ]
  },
  {
   "cell_type": "code",
   "execution_count": 14,
   "metadata": {
    "collapsed": false
   },
   "outputs": [
    {
     "name": "stdout",
     "output_type": "stream",
     "text": [
      "Example\n",
      "Input:\n",
      "A = [[False  True]\n",
      " [ True False]]\n",
      "Input:\n",
      "B = [[ True False]\n",
      " [False  True]]\n",
      "Output:\n",
      "[[ True False]\n",
      " [False  True]]\n"
     ]
    }
   ],
   "source": [
    "#Пример"
   ]
  },
  {
   "cell_type": "code",
   "execution_count": null,
   "metadata": {
    "collapsed": true
   },
   "outputs": [],
   "source": [
    "def perform_logical_computation(A, B):"
   ]
  },
  {
   "cell_type": "markdown",
   "metadata": {},
   "source": [
    "__№5__. Напишите функцию, принимающую на вход np.array размера n и возвращающую матрицу размера n + 1 x n + 1, у которой над главной даигональю стоят элементы массива (остальные элементы должны быть нулевыми). "
   ]
  },
  {
   "cell_type": "code",
   "execution_count": 15,
   "metadata": {
    "collapsed": false
   },
   "outputs": [
    {
     "name": "stdout",
     "output_type": "stream",
     "text": [
      "Example\n",
      "Input:\n",
      "[[1 2]]\n",
      "Output:\n",
      "[[0 1 0]\n",
      " [0 0 2]\n",
      " [0 0 0]]\n"
     ]
    }
   ],
   "source": [
    "#Пример"
   ]
  },
  {
   "cell_type": "code",
   "execution_count": 8,
   "metadata": {
    "collapsed": false
   },
   "outputs": [],
   "source": [
    "def above_diagonal(x):\n",
    "    a = np.zeros((len(x)+1, len(x)+1))\n",
    "    row = np.arange(len(x))\n",
    "    column = np.arange(1, len(x) + 1)\n",
    "    a[row,column]= x\n",
    "    return a"
   ]
  },
  {
   "cell_type": "code",
   "execution_count": 11,
   "metadata": {
    "collapsed": false
   },
   "outputs": [
    {
     "data": {
      "text/plain": [
       "array([[ 0.,  1.,  0.],\n",
       "       [ 0.,  0.,  2.],\n",
       "       [ 0.,  0.,  0.]])"
      ]
     },
     "execution_count": 11,
     "metadata": {},
     "output_type": "execute_result"
    }
   ],
   "source": [
    "x = np.array([1, 2])\n",
    "above_diagonal(x)"
   ]
  },
  {
   "cell_type": "markdown",
   "metadata": {},
   "source": [
    "__№6__. Дана матрица объекты-признаки X размера n x m. Посчитать (квадратную) матрицу попарных корреляций между признаками C:\n",
    "\n",
    "$C_{ij} = cor_{ij} = \\frac {cov_{ij}}{\\sqrt{cov_{ii}cov_{jj}}}$ \n",
    "\n",
    "$cov_{ij} = cov(X_i, X_j), \\quad i,j = 0, \\dots, m-1.$\n",
    "\n",
    "$cov(\\{x_0, \\dots, x_{n-1}\\}, \\{y_0, \\dots, y_{n-1}\\}) = \\frac 1 {n-1} \\sum_{i=0} ^ {n-1} (x_i-\\bar x) (y_i - \\bar y)$.\n",
    "\n",
    "$\\bar x = mean(\\{x_0, \\dots, x_{n-1}\\}) = \\frac 1 n \\sum_{i=0} ^ {n-1} x_i$\n",
    "\n",
    "Нельзя использовать функции np.cov, np.corrcoef, np.correlate (их можно использовать для проверки правильности ответа)\n"
   ]
  },
  {
   "cell_type": "code",
   "execution_count": null,
   "metadata": {
    "collapsed": true
   },
   "outputs": [],
   "source": [
    "def compute_corr_matrix(X):\n",
    "    "
   ]
  },
  {
   "cell_type": "markdown",
   "metadata": {},
   "source": [
    "__№7__. Дан массив X (размерность неизвестна). Заменить все элементы, кратные 3, которые больше 0 и меньше 100, на среднее значение по массиву."
   ]
  },
  {
   "cell_type": "code",
   "execution_count": 19,
   "metadata": {
    "collapsed": false
   },
   "outputs": [
    {
     "name": "stdout",
     "output_type": "stream",
     "text": [
      "Example\n",
      "Input:\n",
      "[[14 11 10  0 12]\n",
      " [ 9  4 13  8  3]\n",
      " [ 6 14 13  5  5]\n",
      " [ 8  1  6  7 12]]\n",
      "Output:\n",
      "[[14 11 10  0  8]\n",
      " [ 8  4 13  8  8]\n",
      " [ 8 14 13  5  5]\n",
      " [ 8  1  8  7  8]]\n"
     ]
    }
   ],
   "source": [
    "#Пример"
   ]
  },
  {
   "cell_type": "code",
   "execution_count": 12,
   "metadata": {
    "collapsed": false
   },
   "outputs": [],
   "source": [
    "def change_value(A):\n",
    "    mean = np.sum(A)/A.size\n",
    "    A[np.logical_and(A % 3 == 0, A > 0, A < 100)] = mean\n",
    "    return A"
   ]
  },
  {
   "cell_type": "code",
   "execution_count": 13,
   "metadata": {
    "collapsed": false
   },
   "outputs": [
    {
     "data": {
      "text/plain": [
       "array([[14, 11, 10,  0,  8],\n",
       "       [ 8,  4, 13,  8,  8],\n",
       "       [ 8, 14, 13,  5,  5],\n",
       "       [ 8,  1,  8,  7,  8]])"
      ]
     },
     "execution_count": 13,
     "metadata": {},
     "output_type": "execute_result"
    }
   ],
   "source": [
    "A = np.array([[14, 11, 10,  0, 12], [ 9,  4, 13,  8,  3], [ 6, 14, 13,  5,  5], [ 8,  1,  6,  7, 12]])\n",
    "change_value(A)"
   ]
  },
  {
   "cell_type": "code",
   "execution_count": 3,
   "metadata": {
    "collapsed": true
   },
   "outputs": [],
   "source": [
    "import pandas as pd"
   ]
  },
  {
   "cell_type": "markdown",
   "metadata": {},
   "source": [
    "Для выполнения заданий по pandas понадобится файл _countries.csv_: [https://goo.gl/AQqxaR](https://goo.gl/AQqxaR) --- тут его нужно скачать! Чтобы загрузить файл в jupiter, на странице с ноутбуками нажмите Upload, найдите на компьютере файл, снов анажмите upload."
   ]
  },
  {
   "cell_type": "code",
   "execution_count": 4,
   "metadata": {
    "collapsed": false
   },
   "outputs": [],
   "source": [
    "#Загрузите данные в notebook:\n",
    "df = pd.read_csv(\"countries.csv\", sep=\";\")"
   ]
  },
  {
   "cell_type": "markdown",
   "metadata": {},
   "source": [
    "__№8__. Напишите функцию, которая берет на вход датафрейм pandas со считанными данными и возвращает ответ на следующий вопрос (строка).\n",
    "\n",
    "Найдите страну, у которой наибольшее ВВП среди стран площадью меньше 200 или население меньше 10000 (или — не исключающее)."
   ]
  },
  {
   "cell_type": "code",
   "execution_count": 16,
   "metadata": {
    "collapsed": false
   },
   "outputs": [],
   "source": [
    "def find_country(df):\n",
    "    view1 = df[['Country' ,'Area(sq km)', 'Population', 'GDP']]\n",
    "    mask1 = ( (df['Area(sq km)'] < 200) | (df['Population'] < 10000) )\n",
    "    view1 = view1[mask1]\n",
    "    mask2 = view1['GDP']==view1['GDP'].max()\n",
    "    return view1[mask2]"
   ]
  },
  {
   "cell_type": "code",
   "execution_count": 17,
   "metadata": {
    "collapsed": false
   },
   "outputs": [
    {
     "data": {
      "text/html": [
       "<div>\n",
       "<table border=\"1\" class=\"dataframe\">\n",
       "  <thead>\n",
       "    <tr style=\"text-align: right;\">\n",
       "      <th></th>\n",
       "      <th>Country</th>\n",
       "      <th>Area(sq km)</th>\n",
       "      <th>Population</th>\n",
       "      <th>GDP</th>\n",
       "    </tr>\n",
       "  </thead>\n",
       "  <tbody>\n",
       "    <tr>\n",
       "      <th>145</th>\n",
       "      <td>Macau</td>\n",
       "      <td>25</td>\n",
       "      <td>449198</td>\n",
       "      <td>9100000000</td>\n",
       "    </tr>\n",
       "  </tbody>\n",
       "</table>\n",
       "</div>"
      ],
      "text/plain": [
       "    Country  Area(sq km)  Population         GDP\n",
       "145   Macau           25      449198  9100000000"
      ]
     },
     "execution_count": 17,
     "metadata": {},
     "output_type": "execute_result"
    }
   ],
   "source": [
    "find_country(df)"
   ]
  },
  {
   "cell_type": "markdown",
   "metadata": {},
   "source": [
    "__№9__.  Напишите функцию, которая берет на вход датафрейм pandas и возвращает датафрейм, в котором все пропуски заменены на среднее значение по столбцу. \n",
    "\n",
    "_Подсказка_: используйте функцию pandas.fillna()"
   ]
  },
  {
   "cell_type": "code",
   "execution_count": 18,
   "metadata": {
    "collapsed": false
   },
   "outputs": [],
   "source": [
    "def fill_na(df):\n",
    "    return df.fillna(df.mean())"
   ]
  },
  {
   "cell_type": "code",
   "execution_count": 19,
   "metadata": {
    "collapsed": false
   },
   "outputs": [
    {
     "data": {
      "text/html": [
       "<div>\n",
       "<table border=\"1\" class=\"dataframe\">\n",
       "  <thead>\n",
       "    <tr style=\"text-align: right;\">\n",
       "      <th></th>\n",
       "      <th>Country</th>\n",
       "      <th>Area(sq km)</th>\n",
       "      <th>Birth rate(births/1000 population)</th>\n",
       "      <th>Current account balance</th>\n",
       "      <th>Death rate(deaths/1000 population)</th>\n",
       "      <th>Debt - external</th>\n",
       "      <th>Electricity - consumption(kWh)</th>\n",
       "      <th>Electricity - production(kWh)</th>\n",
       "      <th>Exports</th>\n",
       "      <th>GDP</th>\n",
       "      <th>...</th>\n",
       "      <th>Oil - production(bbl/day)</th>\n",
       "      <th>Oil - proved reserves(bbl)</th>\n",
       "      <th>Population</th>\n",
       "      <th>Public debt(% of GDP)</th>\n",
       "      <th>Railways(km)</th>\n",
       "      <th>Reserves of foreign exchange &amp; gold</th>\n",
       "      <th>Telephones - main lines in use</th>\n",
       "      <th>Telephones - mobile cellular</th>\n",
       "      <th>Total fertility rate(children born/woman)</th>\n",
       "      <th>Unemployment rate(%)</th>\n",
       "    </tr>\n",
       "  </thead>\n",
       "  <tbody>\n",
       "    <tr>\n",
       "      <th>0</th>\n",
       "      <td>Afghanistan</td>\n",
       "      <td>647500</td>\n",
       "      <td>47.020000</td>\n",
       "      <td>-8.473897e+08</td>\n",
       "      <td>20.750000</td>\n",
       "      <td>8.000000e+09</td>\n",
       "      <td>6.522000e+08</td>\n",
       "      <td>5.400000e+08</td>\n",
       "      <td>4.460000e+08</td>\n",
       "      <td>2.150000e+10</td>\n",
       "      <td>...</td>\n",
       "      <td>0.000000</td>\n",
       "      <td>0.000000e+00</td>\n",
       "      <td>29928987.000000</td>\n",
       "      <td>55.896296</td>\n",
       "      <td>10217.246269</td>\n",
       "      <td>2.599825e+10</td>\n",
       "      <td>33100.000000</td>\n",
       "      <td>15000.000000</td>\n",
       "      <td>6.750000</td>\n",
       "      <td>15.254688</td>\n",
       "    </tr>\n",
       "    <tr>\n",
       "      <th>1</th>\n",
       "      <td>Akrotiri</td>\n",
       "      <td>123</td>\n",
       "      <td>22.146667</td>\n",
       "      <td>-8.473897e+08</td>\n",
       "      <td>9.374267</td>\n",
       "      <td>6.317084e+10</td>\n",
       "      <td>8.070919e+10</td>\n",
       "      <td>8.849167e+10</td>\n",
       "      <td>4.432637e+10</td>\n",
       "      <td>2.925614e+11</td>\n",
       "      <td>...</td>\n",
       "      <td>371043.542453</td>\n",
       "      <td>1.416887e+10</td>\n",
       "      <td>29004941.184874</td>\n",
       "      <td>55.896296</td>\n",
       "      <td>10217.246269</td>\n",
       "      <td>2.599825e+10</td>\n",
       "      <td>5998770.193966</td>\n",
       "      <td>7331345.657895</td>\n",
       "      <td>2.937778</td>\n",
       "      <td>15.254688</td>\n",
       "    </tr>\n",
       "    <tr>\n",
       "      <th>2</th>\n",
       "      <td>Albania</td>\n",
       "      <td>28748</td>\n",
       "      <td>15.080000</td>\n",
       "      <td>-5.040000e+08</td>\n",
       "      <td>5.120000</td>\n",
       "      <td>1.410000e+09</td>\n",
       "      <td>6.760000e+09</td>\n",
       "      <td>5.680000e+09</td>\n",
       "      <td>5.524000e+08</td>\n",
       "      <td>1.746000e+10</td>\n",
       "      <td>...</td>\n",
       "      <td>2000.000000</td>\n",
       "      <td>1.855000e+08</td>\n",
       "      <td>3563112.000000</td>\n",
       "      <td>55.896296</td>\n",
       "      <td>447.000000</td>\n",
       "      <td>1.206000e+09</td>\n",
       "      <td>255000.000000</td>\n",
       "      <td>1100000.000000</td>\n",
       "      <td>2.040000</td>\n",
       "      <td>14.800000</td>\n",
       "    </tr>\n",
       "    <tr>\n",
       "      <th>3</th>\n",
       "      <td>Algeria</td>\n",
       "      <td>2381740</td>\n",
       "      <td>17.130000</td>\n",
       "      <td>1.190000e+10</td>\n",
       "      <td>4.600000</td>\n",
       "      <td>2.190000e+10</td>\n",
       "      <td>2.361000e+10</td>\n",
       "      <td>2.576000e+10</td>\n",
       "      <td>3.216000e+10</td>\n",
       "      <td>2.123000e+11</td>\n",
       "      <td>...</td>\n",
       "      <td>1200000.000000</td>\n",
       "      <td>1.187000e+10</td>\n",
       "      <td>32531853.000000</td>\n",
       "      <td>37.400000</td>\n",
       "      <td>3973.000000</td>\n",
       "      <td>4.355000e+10</td>\n",
       "      <td>2199600.000000</td>\n",
       "      <td>1447310.000000</td>\n",
       "      <td>1.920000</td>\n",
       "      <td>25.400000</td>\n",
       "    </tr>\n",
       "    <tr>\n",
       "      <th>4</th>\n",
       "      <td>American Samoa</td>\n",
       "      <td>199</td>\n",
       "      <td>23.130000</td>\n",
       "      <td>-8.473897e+08</td>\n",
       "      <td>3.330000</td>\n",
       "      <td>6.317084e+10</td>\n",
       "      <td>1.209000e+08</td>\n",
       "      <td>1.300000e+08</td>\n",
       "      <td>3.000000e+07</td>\n",
       "      <td>5.000000e+08</td>\n",
       "      <td>...</td>\n",
       "      <td>0.000000</td>\n",
       "      <td>1.416887e+10</td>\n",
       "      <td>57881.000000</td>\n",
       "      <td>55.896296</td>\n",
       "      <td>10217.246269</td>\n",
       "      <td>2.599825e+10</td>\n",
       "      <td>15000.000000</td>\n",
       "      <td>2377.000000</td>\n",
       "      <td>3.250000</td>\n",
       "      <td>6.000000</td>\n",
       "    </tr>\n",
       "  </tbody>\n",
       "</table>\n",
       "<p>5 rows × 45 columns</p>\n",
       "</div>"
      ],
      "text/plain": [
       "          Country  Area(sq km)  Birth rate(births/1000 population)  \\\n",
       "0     Afghanistan       647500                           47.020000   \n",
       "1        Akrotiri          123                           22.146667   \n",
       "2         Albania        28748                           15.080000   \n",
       "3         Algeria      2381740                           17.130000   \n",
       "4  American Samoa          199                           23.130000   \n",
       "\n",
       "   Current account balance  Death rate(deaths/1000 population)  \\\n",
       "0            -8.473897e+08                           20.750000   \n",
       "1            -8.473897e+08                            9.374267   \n",
       "2            -5.040000e+08                            5.120000   \n",
       "3             1.190000e+10                            4.600000   \n",
       "4            -8.473897e+08                            3.330000   \n",
       "\n",
       "   Debt - external  Electricity - consumption(kWh)  \\\n",
       "0     8.000000e+09                    6.522000e+08   \n",
       "1     6.317084e+10                    8.070919e+10   \n",
       "2     1.410000e+09                    6.760000e+09   \n",
       "3     2.190000e+10                    2.361000e+10   \n",
       "4     6.317084e+10                    1.209000e+08   \n",
       "\n",
       "   Electricity - production(kWh)       Exports           GDP  \\\n",
       "0                   5.400000e+08  4.460000e+08  2.150000e+10   \n",
       "1                   8.849167e+10  4.432637e+10  2.925614e+11   \n",
       "2                   5.680000e+09  5.524000e+08  1.746000e+10   \n",
       "3                   2.576000e+10  3.216000e+10  2.123000e+11   \n",
       "4                   1.300000e+08  3.000000e+07  5.000000e+08   \n",
       "\n",
       "           ...           Oil - production(bbl/day)  \\\n",
       "0          ...                            0.000000   \n",
       "1          ...                       371043.542453   \n",
       "2          ...                         2000.000000   \n",
       "3          ...                      1200000.000000   \n",
       "4          ...                            0.000000   \n",
       "\n",
       "   Oil - proved reserves(bbl)       Population  Public debt(% of GDP)  \\\n",
       "0                0.000000e+00  29928987.000000              55.896296   \n",
       "1                1.416887e+10  29004941.184874              55.896296   \n",
       "2                1.855000e+08   3563112.000000              55.896296   \n",
       "3                1.187000e+10  32531853.000000              37.400000   \n",
       "4                1.416887e+10     57881.000000              55.896296   \n",
       "\n",
       "   Railways(km)  Reserves of foreign exchange & gold  \\\n",
       "0  10217.246269                         2.599825e+10   \n",
       "1  10217.246269                         2.599825e+10   \n",
       "2    447.000000                         1.206000e+09   \n",
       "3   3973.000000                         4.355000e+10   \n",
       "4  10217.246269                         2.599825e+10   \n",
       "\n",
       "   Telephones - main lines in use  Telephones - mobile cellular  \\\n",
       "0                    33100.000000                  15000.000000   \n",
       "1                  5998770.193966                7331345.657895   \n",
       "2                   255000.000000                1100000.000000   \n",
       "3                  2199600.000000                1447310.000000   \n",
       "4                    15000.000000                   2377.000000   \n",
       "\n",
       "   Total fertility rate(children born/woman)  Unemployment rate(%)  \n",
       "0                                   6.750000             15.254688  \n",
       "1                                   2.937778             15.254688  \n",
       "2                                   2.040000             14.800000  \n",
       "3                                   1.920000             25.400000  \n",
       "4                                   3.250000              6.000000  \n",
       "\n",
       "[5 rows x 45 columns]"
      ]
     },
     "execution_count": 19,
     "metadata": {},
     "output_type": "execute_result"
    }
   ],
   "source": [
    "fill_na(df).head()"
   ]
  },
  {
   "cell_type": "markdown",
   "metadata": {},
   "source": [
    "__№10__.  Напишите функцию, которая берет на вход датафрейм pandas и число и возвращает ответ на вопрос (строка):\n",
    "\n",
    "В какой стране ВВП (GDP) наиболее близок к указанной величине?"
   ]
  },
  {
   "cell_type": "code",
   "execution_count": 20,
   "metadata": {
    "collapsed": false
   },
   "outputs": [],
   "source": [
    "def compare_GDP(df, gdp):\n",
    "    diff = abs(gdp - df['GDP'])\n",
    "    mask3 = diff==diff.min()\n",
    "    return df[mask3]"
   ]
  },
  {
   "cell_type": "code",
   "execution_count": 25,
   "metadata": {
    "collapsed": false
   },
   "outputs": [
    {
     "data": {
      "text/html": [
       "<div>\n",
       "<table border=\"1\" class=\"dataframe\">\n",
       "  <thead>\n",
       "    <tr style=\"text-align: right;\">\n",
       "      <th></th>\n",
       "      <th>Country</th>\n",
       "      <th>Area(sq km)</th>\n",
       "      <th>Birth rate(births/1000 population)</th>\n",
       "      <th>Current account balance</th>\n",
       "      <th>Death rate(deaths/1000 population)</th>\n",
       "      <th>Debt - external</th>\n",
       "      <th>Electricity - consumption(kWh)</th>\n",
       "      <th>Electricity - production(kWh)</th>\n",
       "      <th>Exports</th>\n",
       "      <th>GDP</th>\n",
       "      <th>...</th>\n",
       "      <th>Oil - production(bbl/day)</th>\n",
       "      <th>Oil - proved reserves(bbl)</th>\n",
       "      <th>Population</th>\n",
       "      <th>Public debt(% of GDP)</th>\n",
       "      <th>Railways(km)</th>\n",
       "      <th>Reserves of foreign exchange &amp; gold</th>\n",
       "      <th>Telephones - main lines in use</th>\n",
       "      <th>Telephones - mobile cellular</th>\n",
       "      <th>Total fertility rate(children born/woman)</th>\n",
       "      <th>Unemployment rate(%)</th>\n",
       "    </tr>\n",
       "  </thead>\n",
       "  <tbody>\n",
       "    <tr>\n",
       "      <th>165</th>\n",
       "      <td>Montserrat</td>\n",
       "      <td>102</td>\n",
       "      <td>17.56</td>\n",
       "      <td>NaN</td>\n",
       "      <td>7.17</td>\n",
       "      <td>8900000</td>\n",
       "      <td>1674000</td>\n",
       "      <td>1800000</td>\n",
       "      <td>700000</td>\n",
       "      <td>29000000</td>\n",
       "      <td>...</td>\n",
       "      <td>0</td>\n",
       "      <td>NaN</td>\n",
       "      <td>9341</td>\n",
       "      <td>NaN</td>\n",
       "      <td>NaN</td>\n",
       "      <td>NaN</td>\n",
       "      <td>NaN</td>\n",
       "      <td>70</td>\n",
       "      <td>1.78</td>\n",
       "      <td>6</td>\n",
       "    </tr>\n",
       "  </tbody>\n",
       "</table>\n",
       "<p>1 rows × 45 columns</p>\n",
       "</div>"
      ],
      "text/plain": [
       "        Country  Area(sq km)  Birth rate(births/1000 population)  \\\n",
       "165  Montserrat          102                               17.56   \n",
       "\n",
       "     Current account balance  Death rate(deaths/1000 population)  \\\n",
       "165                      NaN                                7.17   \n",
       "\n",
       "     Debt - external  Electricity - consumption(kWh)  \\\n",
       "165          8900000                         1674000   \n",
       "\n",
       "     Electricity - production(kWh)  Exports       GDP          ...           \\\n",
       "165                        1800000   700000  29000000          ...            \n",
       "\n",
       "     Oil - production(bbl/day)  Oil - proved reserves(bbl)  Population  \\\n",
       "165                          0                         NaN        9341   \n",
       "\n",
       "     Public debt(% of GDP)  Railways(km)  Reserves of foreign exchange & gold  \\\n",
       "165                    NaN           NaN                                  NaN   \n",
       "\n",
       "     Telephones - main lines in use  Telephones - mobile cellular  \\\n",
       "165                             NaN                            70   \n",
       "\n",
       "     Total fertility rate(children born/woman)  Unemployment rate(%)  \n",
       "165                                       1.78                     6  \n",
       "\n",
       "[1 rows x 45 columns]"
      ]
     },
     "execution_count": 25,
     "metadata": {},
     "output_type": "execute_result"
    }
   ],
   "source": [
    "gdp = 25600000\n",
    "compare_GDP(df, gdp)"
   ]
  },
  {
   "cell_type": "markdown",
   "metadata": {},
   "source": [
    "__№11__. __(Дополнительный). За выполнение этого задания можно получить +1 балл к общей сумме баллов (к 10)!__\n",
    "\n",
    "Напишите функцию, которая берет на вход датафрейм pandas со считанными данными и возвращает датафрейм с двумя колонками: буква алфавита и значение ВВП, усреднённое по всем странам, начинающимся с данной буквы.\n",
    "\n",
    "Для решения задачи может понадобиться функция pandas.groupby, которую вы не успели пройти на семинаре. Поэтому задача и дополнительная."
   ]
  },
  {
   "cell_type": "code",
   "execution_count": 26,
   "metadata": {
    "collapsed": true
   },
   "outputs": [],
   "source": [
    "def compute_means_by_letters(df):\n",
    "    country_n = df.groupby(df[\"Country\"].str[:1])\n",
    "    return country_n['GDP'].mean()"
   ]
  },
  {
   "cell_type": "code",
   "execution_count": 27,
   "metadata": {
    "collapsed": false
   },
   "outputs": [
    {
     "data": {
      "text/plain": [
       "Country\n",
       "#    1.165000e+13\n",
       "A    1.195994e+11\n",
       "B    1.210610e+11\n",
       "C    4.591804e+11\n",
       "D    5.777075e+10\n",
       "E    5.975925e+10\n",
       "F    2.715113e+11\n",
       "G    1.621848e+11\n",
       "H    1.036600e+11\n",
       "I    8.283341e+11\n",
       "J    9.463075e+11\n",
       "K    1.665191e+11\n",
       "L    1.958222e+10\n",
       "M    6.833354e+10\n",
       "N    7.424858e+10\n",
       "O    3.809000e+10\n",
       "P    1.716514e+11\n",
       "Q    1.949000e+10\n",
       "R    3.986250e+11\n",
       "S    1.025396e+11\n",
       "T    1.354214e+11\n",
       "U    2.004431e+12\n",
       "V    9.387000e+10\n",
       "W    9.300000e+08\n",
       "Y    1.625000e+10\n",
       "Z    1.688950e+10\n",
       "Name: GDP, dtype: float64"
      ]
     },
     "execution_count": 27,
     "metadata": {},
     "output_type": "execute_result"
    }
   ],
   "source": [
    "compute_means_by_letters(df)"
   ]
  },
  {
   "cell_type": "code",
   "execution_count": null,
   "metadata": {
    "collapsed": true
   },
   "outputs": [],
   "source": []
  }
 ],
 "metadata": {
  "anaconda-cloud": {},
  "kernelspec": {
   "display_name": "Python [conda root]",
   "language": "python",
   "name": "conda-root-py"
  },
  "language_info": {
   "codemirror_mode": {
    "name": "ipython",
    "version": 3
   },
   "file_extension": ".py",
   "mimetype": "text/x-python",
   "name": "python",
   "nbconvert_exporter": "python",
   "pygments_lexer": "ipython3",
   "version": "3.5.2"
  }
 },
 "nbformat": 4,
 "nbformat_minor": 0
}

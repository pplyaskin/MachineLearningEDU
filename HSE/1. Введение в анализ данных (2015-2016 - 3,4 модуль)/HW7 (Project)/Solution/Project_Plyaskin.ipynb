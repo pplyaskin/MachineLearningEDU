{
 "cells": [
  {
   "cell_type": "markdown",
   "metadata": {},
   "source": [
    "# Проект предсказывания зарплаты"
   ]
  },
  {
   "cell_type": "markdown",
   "metadata": {},
   "source": [
    "Выполнил: **Пляскин Павел**"
   ]
  },
  {
   "cell_type": "code",
   "execution_count": 80,
   "metadata": {
    "collapsed": false
   },
   "outputs": [],
   "source": [
    "import pandas as pd\n",
    "import numpy as np\n",
    "import re\n",
    "from matplotlib import pyplot as plt\n",
    "%matplotlib inline\n",
    "import seaborn as sns\n",
    "import nltk\n",
    "from nltk import WordNetLemmatizer\n",
    "from nltk import tokenize\n",
    "import sklearn\n",
    "from sklearn.feature_extraction.text import CountVectorizer"
   ]
  },
  {
   "cell_type": "markdown",
   "metadata": {},
   "source": [
    "**Описание полей**:\n",
    "\n",
    "**LocationRaw** - The freetext location as provided by the job advertiser.\n",
    "\n",
    "**LocationNormalized** - Adzuna's normalised location from within our own location tree, interpreted by us based on the raw location. Our normaliser is not perfect!\n",
    "\n",
    "**ContractType** - full_time or part_time, interpreted by Adzuna from description or a specific additional field we received from the advertiser.\n",
    "\n",
    "**ContractTime** - permanent or contract, interpreted by Adzuna from description or a specific additional field we received from the advertiser.\n",
    "\n",
    "**Company** - the name of the employer as supplied to us by the job advertiser.\n",
    "\n",
    "**Category** - which of 30 standard job categories this ad fits into, inferred in a very messy way based on the source the ad came from.\n",
    "We know there is a lot of noise and error in this field.\n",
    "\n",
    "**SalaryRaw** - the freetext salary field we received in the job advert from the advertiser.\n",
    "\n",
    "**SalaryNormalised** *(целевой признак)* - the annualised salary interpreted by Adzuna from the raw salary. Note that this is always a single value based on the midpoint of any range found in the raw salary. This is the value we are trying to predict.\n",
    "\n",
    "**SourceName** - the name of the website or advertiser from whom we received the job advert."
   ]
  },
  {
   "cell_type": "code",
   "execution_count": 81,
   "metadata": {
    "collapsed": true
   },
   "outputs": [],
   "source": [
    "df = pd.read_csv(\"descriptions.csv\", sep = \",\")"
   ]
  },
  {
   "cell_type": "code",
   "execution_count": 82,
   "metadata": {
    "collapsed": false
   },
   "outputs": [
    {
     "data": {
      "text/plain": [
       "(9999, 12)"
      ]
     },
     "execution_count": 82,
     "metadata": {},
     "output_type": "execute_result"
    }
   ],
   "source": [
    "df.shape"
   ]
  },
  {
   "cell_type": "markdown",
   "metadata": {},
   "source": [
    "**1)** Посмотрим на нашу таблицу и убедимся в корректности считывания данных:"
   ]
  },
  {
   "cell_type": "code",
   "execution_count": 83,
   "metadata": {
    "collapsed": false
   },
   "outputs": [
    {
     "data": {
      "text/html": [
       "<div>\n",
       "<table border=\"1\" class=\"dataframe\">\n",
       "  <thead>\n",
       "    <tr style=\"text-align: right;\">\n",
       "      <th></th>\n",
       "      <th>Id</th>\n",
       "      <th>Title</th>\n",
       "      <th>FullDescription</th>\n",
       "      <th>LocationRaw</th>\n",
       "      <th>LocationNormalized</th>\n",
       "      <th>ContractType</th>\n",
       "      <th>ContractTime</th>\n",
       "      <th>Company</th>\n",
       "      <th>Category</th>\n",
       "      <th>SalaryRaw</th>\n",
       "      <th>SalaryNormalized</th>\n",
       "      <th>SourceName</th>\n",
       "    </tr>\n",
       "  </thead>\n",
       "  <tbody>\n",
       "    <tr>\n",
       "      <th>0</th>\n",
       "      <td>12612628</td>\n",
       "      <td>Engineering Systems Analyst</td>\n",
       "      <td>Engineering Systems Analyst Dorking Surrey Sal...</td>\n",
       "      <td>Dorking, Surrey, Surrey</td>\n",
       "      <td>Dorking</td>\n",
       "      <td>NaN</td>\n",
       "      <td>permanent</td>\n",
       "      <td>Gregory Martin International</td>\n",
       "      <td>Engineering Jobs</td>\n",
       "      <td>20000 - 30000/annum 20-30K</td>\n",
       "      <td>25000</td>\n",
       "      <td>cv-library.co.uk</td>\n",
       "    </tr>\n",
       "    <tr>\n",
       "      <th>1</th>\n",
       "      <td>12612830</td>\n",
       "      <td>Stress Engineer Glasgow</td>\n",
       "      <td>Stress Engineer Glasgow Salary **** to **** We...</td>\n",
       "      <td>Glasgow, Scotland, Scotland</td>\n",
       "      <td>Glasgow</td>\n",
       "      <td>NaN</td>\n",
       "      <td>permanent</td>\n",
       "      <td>Gregory Martin International</td>\n",
       "      <td>Engineering Jobs</td>\n",
       "      <td>25000 - 35000/annum 25-35K</td>\n",
       "      <td>30000</td>\n",
       "      <td>cv-library.co.uk</td>\n",
       "    </tr>\n",
       "    <tr>\n",
       "      <th>2</th>\n",
       "      <td>12612844</td>\n",
       "      <td>Modelling and simulation analyst</td>\n",
       "      <td>Mathematical Modeller / Simulation Analyst / O...</td>\n",
       "      <td>Hampshire, South East, South East</td>\n",
       "      <td>Hampshire</td>\n",
       "      <td>NaN</td>\n",
       "      <td>permanent</td>\n",
       "      <td>Gregory Martin International</td>\n",
       "      <td>Engineering Jobs</td>\n",
       "      <td>20000 - 40000/annum 20-40K</td>\n",
       "      <td>30000</td>\n",
       "      <td>cv-library.co.uk</td>\n",
       "    </tr>\n",
       "    <tr>\n",
       "      <th>3</th>\n",
       "      <td>12613049</td>\n",
       "      <td>Engineering Systems Analyst / Mathematical Mod...</td>\n",
       "      <td>Engineering Systems Analyst / Mathematical Mod...</td>\n",
       "      <td>Surrey, South East, South East</td>\n",
       "      <td>Surrey</td>\n",
       "      <td>NaN</td>\n",
       "      <td>permanent</td>\n",
       "      <td>Gregory Martin International</td>\n",
       "      <td>Engineering Jobs</td>\n",
       "      <td>25000 - 30000/annum 25K-30K negotiable</td>\n",
       "      <td>27500</td>\n",
       "      <td>cv-library.co.uk</td>\n",
       "    </tr>\n",
       "    <tr>\n",
       "      <th>4</th>\n",
       "      <td>12613647</td>\n",
       "      <td>Pioneer, Miser Engineering Systems Analyst</td>\n",
       "      <td>Pioneer, Miser  Engineering Systems Analyst Do...</td>\n",
       "      <td>Surrey, South East, South East</td>\n",
       "      <td>Surrey</td>\n",
       "      <td>NaN</td>\n",
       "      <td>permanent</td>\n",
       "      <td>Gregory Martin International</td>\n",
       "      <td>Engineering Jobs</td>\n",
       "      <td>20000 - 30000/annum 20-30K</td>\n",
       "      <td>25000</td>\n",
       "      <td>cv-library.co.uk</td>\n",
       "    </tr>\n",
       "  </tbody>\n",
       "</table>\n",
       "</div>"
      ],
      "text/plain": [
       "         Id                                              Title  \\\n",
       "0  12612628                        Engineering Systems Analyst   \n",
       "1  12612830                            Stress Engineer Glasgow   \n",
       "2  12612844                   Modelling and simulation analyst   \n",
       "3  12613049  Engineering Systems Analyst / Mathematical Mod...   \n",
       "4  12613647         Pioneer, Miser Engineering Systems Analyst   \n",
       "\n",
       "                                     FullDescription  \\\n",
       "0  Engineering Systems Analyst Dorking Surrey Sal...   \n",
       "1  Stress Engineer Glasgow Salary **** to **** We...   \n",
       "2  Mathematical Modeller / Simulation Analyst / O...   \n",
       "3  Engineering Systems Analyst / Mathematical Mod...   \n",
       "4  Pioneer, Miser  Engineering Systems Analyst Do...   \n",
       "\n",
       "                         LocationRaw LocationNormalized ContractType  \\\n",
       "0            Dorking, Surrey, Surrey            Dorking          NaN   \n",
       "1        Glasgow, Scotland, Scotland            Glasgow          NaN   \n",
       "2  Hampshire, South East, South East          Hampshire          NaN   \n",
       "3     Surrey, South East, South East             Surrey          NaN   \n",
       "4     Surrey, South East, South East             Surrey          NaN   \n",
       "\n",
       "  ContractTime                       Company          Category  \\\n",
       "0    permanent  Gregory Martin International  Engineering Jobs   \n",
       "1    permanent  Gregory Martin International  Engineering Jobs   \n",
       "2    permanent  Gregory Martin International  Engineering Jobs   \n",
       "3    permanent  Gregory Martin International  Engineering Jobs   \n",
       "4    permanent  Gregory Martin International  Engineering Jobs   \n",
       "\n",
       "                                SalaryRaw  SalaryNormalized        SourceName  \n",
       "0              20000 - 30000/annum 20-30K             25000  cv-library.co.uk  \n",
       "1              25000 - 35000/annum 25-35K             30000  cv-library.co.uk  \n",
       "2              20000 - 40000/annum 20-40K             30000  cv-library.co.uk  \n",
       "3  25000 - 30000/annum 25K-30K negotiable             27500  cv-library.co.uk  \n",
       "4              20000 - 30000/annum 20-30K             25000  cv-library.co.uk  "
      ]
     },
     "execution_count": 83,
     "metadata": {},
     "output_type": "execute_result"
    }
   ],
   "source": [
    "df.head()"
   ]
  },
  {
   "cell_type": "markdown",
   "metadata": {},
   "source": [
    "**2)** Удалим объекты в которых отсутствует какой-либо признак:"
   ]
  },
  {
   "cell_type": "code",
   "execution_count": 84,
   "metadata": {
    "collapsed": true
   },
   "outputs": [],
   "source": [
    "df = df.dropna()\n",
    "df = df.reset_index(drop=True) #переназначим индексы для удобства"
   ]
  },
  {
   "cell_type": "code",
   "execution_count": 85,
   "metadata": {
    "collapsed": false
   },
   "outputs": [
    {
     "data": {
      "text/plain": [
       "(1821, 12)"
      ]
     },
     "execution_count": 85,
     "metadata": {},
     "output_type": "execute_result"
    }
   ],
   "source": [
    "df.shape"
   ]
  },
  {
   "cell_type": "markdown",
   "metadata": {},
   "source": [
    "**3)** Поле **Id** не представляет никакой практической пользы ни для анализа данных, ни для машинного обучения, по этому избавимся и от него:"
   ]
  },
  {
   "cell_type": "code",
   "execution_count": 86,
   "metadata": {
    "collapsed": false
   },
   "outputs": [],
   "source": [
    "df = df[df.columns[1:]]"
   ]
  },
  {
   "cell_type": "code",
   "execution_count": 87,
   "metadata": {
    "collapsed": false,
    "scrolled": true
   },
   "outputs": [
    {
     "data": {
      "text/html": [
       "<div>\n",
       "<table border=\"1\" class=\"dataframe\">\n",
       "  <thead>\n",
       "    <tr style=\"text-align: right;\">\n",
       "      <th></th>\n",
       "      <th>Title</th>\n",
       "      <th>FullDescription</th>\n",
       "      <th>LocationRaw</th>\n",
       "      <th>LocationNormalized</th>\n",
       "      <th>ContractType</th>\n",
       "      <th>ContractTime</th>\n",
       "      <th>Company</th>\n",
       "      <th>Category</th>\n",
       "      <th>SalaryRaw</th>\n",
       "      <th>SalaryNormalized</th>\n",
       "      <th>SourceName</th>\n",
       "    </tr>\n",
       "  </thead>\n",
       "  <tbody>\n",
       "    <tr>\n",
       "      <th>0</th>\n",
       "      <td>Financial Accountant</td>\n",
       "      <td>A leading Insurance/Reinsurance Business is cu...</td>\n",
       "      <td>London</td>\n",
       "      <td>London</td>\n",
       "      <td>full_time</td>\n",
       "      <td>permanent</td>\n",
       "      <td>CMC Consulting Limited</td>\n",
       "      <td>Accounting &amp; Finance Jobs</td>\n",
       "      <td>40,000 - 50,000 + Bonus + B</td>\n",
       "      <td>45000</td>\n",
       "      <td>myjobs.cimaglobal.com</td>\n",
       "    </tr>\n",
       "    <tr>\n",
       "      <th>1</th>\n",
       "      <td>Commercial Finance Analyst</td>\n",
       "      <td>Our client, has an unrivalled opportunity for ...</td>\n",
       "      <td>Bedfordshire</td>\n",
       "      <td>Bedfordshire</td>\n",
       "      <td>full_time</td>\n",
       "      <td>permanent</td>\n",
       "      <td>CMC Consulting Limited</td>\n",
       "      <td>Accounting &amp; Finance Jobs</td>\n",
       "      <td>25,000 - 35,000</td>\n",
       "      <td>30000</td>\n",
       "      <td>myjobs.cimaglobal.com</td>\n",
       "    </tr>\n",
       "    <tr>\n",
       "      <th>2</th>\n",
       "      <td>Financial Accountant</td>\n",
       "      <td>Our client, a leading Insurance company, is cu...</td>\n",
       "      <td>London</td>\n",
       "      <td>London</td>\n",
       "      <td>full_time</td>\n",
       "      <td>permanent</td>\n",
       "      <td>CMC Consulting Limited</td>\n",
       "      <td>Accounting &amp; Finance Jobs</td>\n",
       "      <td>40,000 - 45,000 + Bonus + B</td>\n",
       "      <td>42500</td>\n",
       "      <td>myjobs.cimaglobal.com</td>\n",
       "    </tr>\n",
       "    <tr>\n",
       "      <th>3</th>\n",
       "      <td>Commercial Analyst</td>\n",
       "      <td>My client, a market leading software company, ...</td>\n",
       "      <td>Berkshire</td>\n",
       "      <td>Berkshire</td>\n",
       "      <td>full_time</td>\n",
       "      <td>permanent</td>\n",
       "      <td>CMC Consulting Limited</td>\n",
       "      <td>Accounting &amp; Finance Jobs</td>\n",
       "      <td>50,000 - 55,000 + Benefits</td>\n",
       "      <td>52500</td>\n",
       "      <td>myjobs.cimaglobal.com</td>\n",
       "    </tr>\n",
       "    <tr>\n",
       "      <th>4</th>\n",
       "      <td>Teachers</td>\n",
       "      <td>iday s unrivalled originality has captured the...</td>\n",
       "      <td>Norfolk</td>\n",
       "      <td>Norfolk</td>\n",
       "      <td>part_time</td>\n",
       "      <td>contract</td>\n",
       "      <td>Engage Education</td>\n",
       "      <td>Teaching Jobs</td>\n",
       "      <td>100 - 145/day</td>\n",
       "      <td>29400</td>\n",
       "      <td>cv-library.co.uk</td>\n",
       "    </tr>\n",
       "  </tbody>\n",
       "</table>\n",
       "</div>"
      ],
      "text/plain": [
       "                        Title  \\\n",
       "0        Financial Accountant   \n",
       "1  Commercial Finance Analyst   \n",
       "2        Financial Accountant   \n",
       "3          Commercial Analyst   \n",
       "4                    Teachers   \n",
       "\n",
       "                                     FullDescription   LocationRaw  \\\n",
       "0  A leading Insurance/Reinsurance Business is cu...        London   \n",
       "1  Our client, has an unrivalled opportunity for ...  Bedfordshire   \n",
       "2  Our client, a leading Insurance company, is cu...        London   \n",
       "3  My client, a market leading software company, ...     Berkshire   \n",
       "4  iday s unrivalled originality has captured the...       Norfolk   \n",
       "\n",
       "  LocationNormalized ContractType ContractTime                 Company  \\\n",
       "0             London    full_time    permanent  CMC Consulting Limited   \n",
       "1       Bedfordshire    full_time    permanent  CMC Consulting Limited   \n",
       "2             London    full_time    permanent  CMC Consulting Limited   \n",
       "3          Berkshire    full_time    permanent  CMC Consulting Limited   \n",
       "4            Norfolk    part_time     contract        Engage Education   \n",
       "\n",
       "                    Category                    SalaryRaw  SalaryNormalized  \\\n",
       "0  Accounting & Finance Jobs  40,000 - 50,000 + Bonus + B             45000   \n",
       "1  Accounting & Finance Jobs              25,000 - 35,000             30000   \n",
       "2  Accounting & Finance Jobs  40,000 - 45,000 + Bonus + B             42500   \n",
       "3  Accounting & Finance Jobs   50,000 - 55,000 + Benefits             52500   \n",
       "4              Teaching Jobs                100 - 145/day             29400   \n",
       "\n",
       "              SourceName  \n",
       "0  myjobs.cimaglobal.com  \n",
       "1  myjobs.cimaglobal.com  \n",
       "2  myjobs.cimaglobal.com  \n",
       "3  myjobs.cimaglobal.com  \n",
       "4       cv-library.co.uk  "
      ]
     },
     "execution_count": 87,
     "metadata": {},
     "output_type": "execute_result"
    }
   ],
   "source": [
    "df.head()"
   ]
  },
  {
   "cell_type": "markdown",
   "metadata": {
    "collapsed": false
   },
   "source": [
    "**4)** Выполним некоторое преобразование поля **FullDescription** и **Title**, а именно удалим оттуда все знаки препинания"
   ]
  },
  {
   "cell_type": "code",
   "execution_count": 88,
   "metadata": {
    "collapsed": false
   },
   "outputs": [],
   "source": [
    "df[\"FullDescription\"] = [re.sub('[^0-9a-zA-Z ]', '', descr) for descr in df['FullDescription']]\n",
    "df[\"Title\"] = [re.sub('[^0-9a-zA-Z ]', '', title) for title in df['Title']]"
   ]
  },
  {
   "cell_type": "markdown",
   "metadata": {},
   "source": [
    "**5)** Заметим, что признаки **ContractType** и **ContractTime** имеют бинарный тип, поэтому следует заменить их на числовые значения"
   ]
  },
  {
   "cell_type": "code",
   "execution_count": 89,
   "metadata": {
    "collapsed": false
   },
   "outputs": [
    {
     "name": "stdout",
     "output_type": "stream",
     "text": [
      "ContractType: ['full_time' 'part_time']\n",
      "ContractTime: ['permanent' 'contract']\n"
     ]
    }
   ],
   "source": [
    "print (\"ContractType:\",df.ContractType.unique())\n",
    "print (\"ContractTime:\",df.ContractTime.unique())"
   ]
  },
  {
   "cell_type": "markdown",
   "metadata": {},
   "source": [
    "**5.1)** В **ContractType** заменим **full_time** на **1**, а **part_time** на **0**:"
   ]
  },
  {
   "cell_type": "code",
   "execution_count": 90,
   "metadata": {
    "collapsed": false
   },
   "outputs": [],
   "source": [
    "x = {'full_time' : 1, 'part_time' : 0}\n",
    "df[\"ContractType\"] = df[\"ContractType\"].map(x)"
   ]
  },
  {
   "cell_type": "markdown",
   "metadata": {},
   "source": [
    "**5.2)** В **ContractTime** заменим **permanent** на **1** и **contract** на **0**:"
   ]
  },
  {
   "cell_type": "code",
   "execution_count": 91,
   "metadata": {
    "collapsed": true
   },
   "outputs": [],
   "source": [
    "x = {'permanent' : 1, 'contract' : 0}\n",
    "df[\"ContractTime\"] = df[\"ContractTime\"].map(x)"
   ]
  },
  {
   "cell_type": "code",
   "execution_count": 92,
   "metadata": {
    "collapsed": false
   },
   "outputs": [
    {
     "data": {
      "text/html": [
       "<div>\n",
       "<table border=\"1\" class=\"dataframe\">\n",
       "  <thead>\n",
       "    <tr style=\"text-align: right;\">\n",
       "      <th></th>\n",
       "      <th>Title</th>\n",
       "      <th>FullDescription</th>\n",
       "      <th>LocationRaw</th>\n",
       "      <th>LocationNormalized</th>\n",
       "      <th>ContractType</th>\n",
       "      <th>ContractTime</th>\n",
       "      <th>Company</th>\n",
       "      <th>Category</th>\n",
       "      <th>SalaryRaw</th>\n",
       "      <th>SalaryNormalized</th>\n",
       "      <th>SourceName</th>\n",
       "    </tr>\n",
       "  </thead>\n",
       "  <tbody>\n",
       "    <tr>\n",
       "      <th>0</th>\n",
       "      <td>Financial Accountant</td>\n",
       "      <td>A leading InsuranceReinsurance Business is cur...</td>\n",
       "      <td>London</td>\n",
       "      <td>London</td>\n",
       "      <td>1</td>\n",
       "      <td>1</td>\n",
       "      <td>CMC Consulting Limited</td>\n",
       "      <td>Accounting &amp; Finance Jobs</td>\n",
       "      <td>40,000 - 50,000 + Bonus + B</td>\n",
       "      <td>45000</td>\n",
       "      <td>myjobs.cimaglobal.com</td>\n",
       "    </tr>\n",
       "    <tr>\n",
       "      <th>1</th>\n",
       "      <td>Commercial Finance Analyst</td>\n",
       "      <td>Our client has an unrivalled opportunity for a...</td>\n",
       "      <td>Bedfordshire</td>\n",
       "      <td>Bedfordshire</td>\n",
       "      <td>1</td>\n",
       "      <td>1</td>\n",
       "      <td>CMC Consulting Limited</td>\n",
       "      <td>Accounting &amp; Finance Jobs</td>\n",
       "      <td>25,000 - 35,000</td>\n",
       "      <td>30000</td>\n",
       "      <td>myjobs.cimaglobal.com</td>\n",
       "    </tr>\n",
       "    <tr>\n",
       "      <th>2</th>\n",
       "      <td>Financial Accountant</td>\n",
       "      <td>Our client a leading Insurance company is curr...</td>\n",
       "      <td>London</td>\n",
       "      <td>London</td>\n",
       "      <td>1</td>\n",
       "      <td>1</td>\n",
       "      <td>CMC Consulting Limited</td>\n",
       "      <td>Accounting &amp; Finance Jobs</td>\n",
       "      <td>40,000 - 45,000 + Bonus + B</td>\n",
       "      <td>42500</td>\n",
       "      <td>myjobs.cimaglobal.com</td>\n",
       "    </tr>\n",
       "    <tr>\n",
       "      <th>3</th>\n",
       "      <td>Commercial Analyst</td>\n",
       "      <td>My client a market leading software company is...</td>\n",
       "      <td>Berkshire</td>\n",
       "      <td>Berkshire</td>\n",
       "      <td>1</td>\n",
       "      <td>1</td>\n",
       "      <td>CMC Consulting Limited</td>\n",
       "      <td>Accounting &amp; Finance Jobs</td>\n",
       "      <td>50,000 - 55,000 + Benefits</td>\n",
       "      <td>52500</td>\n",
       "      <td>myjobs.cimaglobal.com</td>\n",
       "    </tr>\n",
       "    <tr>\n",
       "      <th>4</th>\n",
       "      <td>Teachers</td>\n",
       "      <td>iday s unrivalled originality has captured the...</td>\n",
       "      <td>Norfolk</td>\n",
       "      <td>Norfolk</td>\n",
       "      <td>0</td>\n",
       "      <td>0</td>\n",
       "      <td>Engage Education</td>\n",
       "      <td>Teaching Jobs</td>\n",
       "      <td>100 - 145/day</td>\n",
       "      <td>29400</td>\n",
       "      <td>cv-library.co.uk</td>\n",
       "    </tr>\n",
       "  </tbody>\n",
       "</table>\n",
       "</div>"
      ],
      "text/plain": [
       "                        Title  \\\n",
       "0        Financial Accountant   \n",
       "1  Commercial Finance Analyst   \n",
       "2        Financial Accountant   \n",
       "3          Commercial Analyst   \n",
       "4                    Teachers   \n",
       "\n",
       "                                     FullDescription   LocationRaw  \\\n",
       "0  A leading InsuranceReinsurance Business is cur...        London   \n",
       "1  Our client has an unrivalled opportunity for a...  Bedfordshire   \n",
       "2  Our client a leading Insurance company is curr...        London   \n",
       "3  My client a market leading software company is...     Berkshire   \n",
       "4  iday s unrivalled originality has captured the...       Norfolk   \n",
       "\n",
       "  LocationNormalized  ContractType  ContractTime                 Company  \\\n",
       "0             London             1             1  CMC Consulting Limited   \n",
       "1       Bedfordshire             1             1  CMC Consulting Limited   \n",
       "2             London             1             1  CMC Consulting Limited   \n",
       "3          Berkshire             1             1  CMC Consulting Limited   \n",
       "4            Norfolk             0             0        Engage Education   \n",
       "\n",
       "                    Category                    SalaryRaw  SalaryNormalized  \\\n",
       "0  Accounting & Finance Jobs  40,000 - 50,000 + Bonus + B             45000   \n",
       "1  Accounting & Finance Jobs              25,000 - 35,000             30000   \n",
       "2  Accounting & Finance Jobs  40,000 - 45,000 + Bonus + B             42500   \n",
       "3  Accounting & Finance Jobs   50,000 - 55,000 + Benefits             52500   \n",
       "4              Teaching Jobs                100 - 145/day             29400   \n",
       "\n",
       "              SourceName  \n",
       "0  myjobs.cimaglobal.com  \n",
       "1  myjobs.cimaglobal.com  \n",
       "2  myjobs.cimaglobal.com  \n",
       "3  myjobs.cimaglobal.com  \n",
       "4       cv-library.co.uk  "
      ]
     },
     "execution_count": 92,
     "metadata": {},
     "output_type": "execute_result"
    }
   ],
   "source": [
    "df.head()"
   ]
  },
  {
   "cell_type": "markdown",
   "metadata": {},
   "source": [
    "**6)** Сделаем некоторую визуалицию наших данных"
   ]
  },
  {
   "cell_type": "markdown",
   "metadata": {},
   "source": [
    "Построим графики отражающие зависимость **SalaryNormalized** от **ContractType** и **ContractTime**"
   ]
  },
  {
   "cell_type": "code",
   "execution_count": 35,
   "metadata": {
    "collapsed": false
   },
   "outputs": [
    {
     "data": {
      "text/plain": [
       "<matplotlib.text.Text at 0x3dd5119c88>"
      ]
     },
     "execution_count": 35,
     "metadata": {},
     "output_type": "execute_result"
    },
    {
     "data": {
      "image/png": "[encoded data removed]",
      "text/plain": [
       "<matplotlib.figure.Figure at 0x3dcbe8d978>"
      ]
     },
     "metadata": {},
     "output_type": "display_data"
    },
    {
     "data": {
      "image/png": "[encoded data removed]",
      "text/plain": [
       "<matplotlib.figure.Figure at 0x3dd51356d8>"
      ]
     },
     "metadata": {},
     "output_type": "display_data"
    }
   ],
   "source": [
    "plt.figure(figsize=(4, 4))\n",
    "plt.scatter(df[\"ContractType\"], df[\"SalaryNormalized\"])\n",
    "plt.xlabel(\"ContractType\")\n",
    "plt.ylabel(\"Salary\")\n",
    "\n",
    "plt.figure(figsize=(4, 4))\n",
    "plt.scatter(df[\"ContractTime\"], df[\"SalaryNormalized\"])\n",
    "plt.xlabel(\"ContractTime\")\n",
    "plt.ylabel(\"Salary\")"
   ]
  },
  {
   "cell_type": "markdown",
   "metadata": {},
   "source": [
    "Из этих двух графиков видно, что вакансии на **part_time** имеют намного более низкую максимальную зарплату по сравнению с **full_time**. Особой разницы между **permanent** и **contract** вакансиями нет"
   ]
  },
  {
   "cell_type": "markdown",
   "metadata": {},
   "source": [
    "Построим гистограму по целевому признаку:"
   ]
  },
  {
   "cell_type": "code",
   "execution_count": 36,
   "metadata": {
    "collapsed": false
   },
   "outputs": [
    {
     "data": {
      "image/png": "[encoded data removed]",
      "text/plain": [
       "<matplotlib.figure.Figure at 0x3dd4f5eef0>"
      ]
     },
     "metadata": {},
     "output_type": "display_data"
    }
   ],
   "source": [
    "df[\"SalaryNormalized\"].hist();"
   ]
  },
  {
   "cell_type": "markdown",
   "metadata": {},
   "source": [
    "Из этого графика видно, что наиболее часто предлагается зарплата от **30000** до **40000**"
   ]
  },
  {
   "cell_type": "markdown",
   "metadata": {},
   "source": [
    "Узнаем некоторое описание числовых признаков"
   ]
  },
  {
   "cell_type": "code",
   "execution_count": 37,
   "metadata": {
    "collapsed": false
   },
   "outputs": [
    {
     "data": {
      "text/html": [
       "<div>\n",
       "<table border=\"1\" class=\"dataframe\">\n",
       "  <thead>\n",
       "    <tr style=\"text-align: right;\">\n",
       "      <th></th>\n",
       "      <th>ContractType</th>\n",
       "      <th>ContractTime</th>\n",
       "      <th>SalaryNormalized</th>\n",
       "    </tr>\n",
       "  </thead>\n",
       "  <tbody>\n",
       "    <tr>\n",
       "      <th>count</th>\n",
       "      <td>1821.000000</td>\n",
       "      <td>1821.000000</td>\n",
       "      <td>1821.000000</td>\n",
       "    </tr>\n",
       "    <tr>\n",
       "      <th>mean</th>\n",
       "      <td>0.985722</td>\n",
       "      <td>0.913784</td>\n",
       "      <td>35954.645799</td>\n",
       "    </tr>\n",
       "    <tr>\n",
       "      <th>std</th>\n",
       "      <td>0.118667</td>\n",
       "      <td>0.280760</td>\n",
       "      <td>16408.913836</td>\n",
       "    </tr>\n",
       "    <tr>\n",
       "      <th>min</th>\n",
       "      <td>0.000000</td>\n",
       "      <td>0.000000</td>\n",
       "      <td>7200.000000</td>\n",
       "    </tr>\n",
       "    <tr>\n",
       "      <th>25%</th>\n",
       "      <td>1.000000</td>\n",
       "      <td>1.000000</td>\n",
       "      <td>25000.000000</td>\n",
       "    </tr>\n",
       "    <tr>\n",
       "      <th>50%</th>\n",
       "      <td>1.000000</td>\n",
       "      <td>1.000000</td>\n",
       "      <td>32000.000000</td>\n",
       "    </tr>\n",
       "    <tr>\n",
       "      <th>75%</th>\n",
       "      <td>1.000000</td>\n",
       "      <td>1.000000</td>\n",
       "      <td>44650.000000</td>\n",
       "    </tr>\n",
       "    <tr>\n",
       "      <th>max</th>\n",
       "      <td>1.000000</td>\n",
       "      <td>1.000000</td>\n",
       "      <td>100000.000000</td>\n",
       "    </tr>\n",
       "  </tbody>\n",
       "</table>\n",
       "</div>"
      ],
      "text/plain": [
       "       ContractType  ContractTime  SalaryNormalized\n",
       "count   1821.000000   1821.000000       1821.000000\n",
       "mean       0.985722      0.913784      35954.645799\n",
       "std        0.118667      0.280760      16408.913836\n",
       "min        0.000000      0.000000       7200.000000\n",
       "25%        1.000000      1.000000      25000.000000\n",
       "50%        1.000000      1.000000      32000.000000\n",
       "75%        1.000000      1.000000      44650.000000\n",
       "max        1.000000      1.000000     100000.000000"
      ]
     },
     "execution_count": 37,
     "metadata": {},
     "output_type": "execute_result"
    }
   ],
   "source": [
    "df.describe()"
   ]
  },
  {
   "cell_type": "markdown",
   "metadata": {},
   "source": [
    "Построим график зависимости **SalaryNormalized** от **Category**"
   ]
  },
  {
   "cell_type": "code",
   "execution_count": 38,
   "metadata": {
    "collapsed": false,
    "scrolled": true
   },
   "outputs": [
    {
     "data": {
      "text/plain": [
       "<seaborn.axisgrid.FacetGrid at 0x3dd4f99f60>"
      ]
     },
     "execution_count": 38,
     "metadata": {},
     "output_type": "execute_result"
    },
    {
     "data": {
      "image/png": "[encoded data removed]",
      "text/plain": [
       "<matplotlib.figure.Figure at 0x3dd4f5b5f8>"
      ]
     },
     "metadata": {},
     "output_type": "display_data"
    }
   ],
   "source": [
    "sns.factorplot(x=\"Category\", y=\"SalaryNormalized\", kind='strip',  data=df, size=3, aspect=7, hue='Category').add_legend()"
   ]
  },
  {
   "cell_type": "markdown",
   "metadata": {
    "collapsed": false
   },
   "source": [
    "**7)** Выполним лемматизацию для признака **FullDescription**"
   ]
  },
  {
   "cell_type": "code",
   "execution_count": 93,
   "metadata": {
    "collapsed": true
   },
   "outputs": [],
   "source": [
    "wnl = nltk.WordNetLemmatizer()"
   ]
  },
  {
   "cell_type": "code",
   "execution_count": 94,
   "metadata": {
    "collapsed": true
   },
   "outputs": [],
   "source": [
    "df[\"FullDescription\"] = [tokenize.word_tokenize(descr) for descr in df[\"FullDescription\"]]\n",
    "df[\"FullDescription\"] = [[wnl.lemmatize(word) for word in descr] for descr in df[\"FullDescription\"]]"
   ]
  },
  {
   "cell_type": "code",
   "execution_count": 95,
   "metadata": {
    "collapsed": true
   },
   "outputs": [],
   "source": [
    "df[\"FullDescription\"] = [\" \".join(descr) for descr in df[\"FullDescription\"]]"
   ]
  },
  {
   "cell_type": "markdown",
   "metadata": {},
   "source": [
    "**8)** Создадим матрицу объект-признак из всех описаний вакансий:"
   ]
  },
  {
   "cell_type": "code",
   "execution_count": 39,
   "metadata": {
    "collapsed": false
   },
   "outputs": [],
   "source": [
    "vectorizer = CountVectorizer()\n",
    "words = vectorizer.fit_transform(df[\"FullDescription\"]).toarray()"
   ]
  },
  {
   "cell_type": "markdown",
   "metadata": {},
   "source": [
    "**9)** Склеим ее с нашими данными"
   ]
  },
  {
   "cell_type": "markdown",
   "metadata": {},
   "source": [
    "преобразуем полученную матрицу в датафрейм и поставим названия колонок соотствующие признаку, то есть слову"
   ]
  },
  {
   "cell_type": "code",
   "execution_count": 40,
   "metadata": {
    "collapsed": false
   },
   "outputs": [],
   "source": [
    "words = pd.DataFrame(words)\n",
    "words.columns = vectorizer.get_feature_names()"
   ]
  },
  {
   "cell_type": "markdown",
   "metadata": {},
   "source": [
    "Сделаем новый датафрейм, который будет представлять из себя матрицу объекты-признаки"
   ]
  },
  {
   "cell_type": "code",
   "execution_count": 41,
   "metadata": {
    "collapsed": false
   },
   "outputs": [],
   "source": [
    "data = pd.concat([df, words], axis=1)\n",
    "data = data.drop(\"FullDescription\", axis=1) #удалим уже ненужный нам столбец с описанием"
   ]
  },
  {
   "cell_type": "code",
   "execution_count": 42,
   "metadata": {
    "collapsed": false,
    "scrolled": true
   },
   "outputs": [
    {
     "data": {
      "text/html": [
       "<div>\n",
       "<table border=\"1\" class=\"dataframe\">\n",
       "  <thead>\n",
       "    <tr style=\"text-align: right;\">\n",
       "      <th></th>\n",
       "      <th>Title</th>\n",
       "      <th>LocationRaw</th>\n",
       "      <th>LocationNormalized</th>\n",
       "      <th>ContractType</th>\n",
       "      <th>ContractTime</th>\n",
       "      <th>Company</th>\n",
       "      <th>Category</th>\n",
       "      <th>SalaryRaw</th>\n",
       "      <th>SalaryNormalized</th>\n",
       "      <th>SourceName</th>\n",
       "      <th>...</th>\n",
       "      <th>youyou</th>\n",
       "      <th>yr</th>\n",
       "      <th>yr1</th>\n",
       "      <th>yrs</th>\n",
       "      <th>ys</th>\n",
       "      <th>zealous</th>\n",
       "      <th>zend</th>\n",
       "      <th>zero</th>\n",
       "      <th>zone</th>\n",
       "      <th>zuken</th>\n",
       "    </tr>\n",
       "  </thead>\n",
       "  <tbody>\n",
       "    <tr>\n",
       "      <th>0</th>\n",
       "      <td>Financial Accountant</td>\n",
       "      <td>London</td>\n",
       "      <td>London</td>\n",
       "      <td>1</td>\n",
       "      <td>1</td>\n",
       "      <td>CMC Consulting Limited</td>\n",
       "      <td>Accounting &amp; Finance Jobs</td>\n",
       "      <td>40,000 - 50,000 + Bonus + B</td>\n",
       "      <td>45000</td>\n",
       "      <td>myjobs.cimaglobal.com</td>\n",
       "      <td>...</td>\n",
       "      <td>0</td>\n",
       "      <td>0</td>\n",
       "      <td>0</td>\n",
       "      <td>0</td>\n",
       "      <td>0</td>\n",
       "      <td>0</td>\n",
       "      <td>0</td>\n",
       "      <td>0</td>\n",
       "      <td>0</td>\n",
       "      <td>0</td>\n",
       "    </tr>\n",
       "    <tr>\n",
       "      <th>1</th>\n",
       "      <td>Commercial Finance Analyst</td>\n",
       "      <td>Bedfordshire</td>\n",
       "      <td>Bedfordshire</td>\n",
       "      <td>1</td>\n",
       "      <td>1</td>\n",
       "      <td>CMC Consulting Limited</td>\n",
       "      <td>Accounting &amp; Finance Jobs</td>\n",
       "      <td>25,000 - 35,000</td>\n",
       "      <td>30000</td>\n",
       "      <td>myjobs.cimaglobal.com</td>\n",
       "      <td>...</td>\n",
       "      <td>0</td>\n",
       "      <td>0</td>\n",
       "      <td>0</td>\n",
       "      <td>0</td>\n",
       "      <td>0</td>\n",
       "      <td>0</td>\n",
       "      <td>0</td>\n",
       "      <td>0</td>\n",
       "      <td>0</td>\n",
       "      <td>0</td>\n",
       "    </tr>\n",
       "    <tr>\n",
       "      <th>2</th>\n",
       "      <td>Financial Accountant</td>\n",
       "      <td>London</td>\n",
       "      <td>London</td>\n",
       "      <td>1</td>\n",
       "      <td>1</td>\n",
       "      <td>CMC Consulting Limited</td>\n",
       "      <td>Accounting &amp; Finance Jobs</td>\n",
       "      <td>40,000 - 45,000 + Bonus + B</td>\n",
       "      <td>42500</td>\n",
       "      <td>myjobs.cimaglobal.com</td>\n",
       "      <td>...</td>\n",
       "      <td>0</td>\n",
       "      <td>0</td>\n",
       "      <td>0</td>\n",
       "      <td>0</td>\n",
       "      <td>0</td>\n",
       "      <td>0</td>\n",
       "      <td>0</td>\n",
       "      <td>0</td>\n",
       "      <td>0</td>\n",
       "      <td>0</td>\n",
       "    </tr>\n",
       "    <tr>\n",
       "      <th>3</th>\n",
       "      <td>Commercial Analyst</td>\n",
       "      <td>Berkshire</td>\n",
       "      <td>Berkshire</td>\n",
       "      <td>1</td>\n",
       "      <td>1</td>\n",
       "      <td>CMC Consulting Limited</td>\n",
       "      <td>Accounting &amp; Finance Jobs</td>\n",
       "      <td>50,000 - 55,000 + Benefits</td>\n",
       "      <td>52500</td>\n",
       "      <td>myjobs.cimaglobal.com</td>\n",
       "      <td>...</td>\n",
       "      <td>0</td>\n",
       "      <td>0</td>\n",
       "      <td>0</td>\n",
       "      <td>0</td>\n",
       "      <td>0</td>\n",
       "      <td>0</td>\n",
       "      <td>0</td>\n",
       "      <td>0</td>\n",
       "      <td>0</td>\n",
       "      <td>0</td>\n",
       "    </tr>\n",
       "    <tr>\n",
       "      <th>4</th>\n",
       "      <td>Teachers</td>\n",
       "      <td>Norfolk</td>\n",
       "      <td>Norfolk</td>\n",
       "      <td>0</td>\n",
       "      <td>0</td>\n",
       "      <td>Engage Education</td>\n",
       "      <td>Teaching Jobs</td>\n",
       "      <td>100 - 145/day</td>\n",
       "      <td>29400</td>\n",
       "      <td>cv-library.co.uk</td>\n",
       "      <td>...</td>\n",
       "      <td>0</td>\n",
       "      <td>0</td>\n",
       "      <td>0</td>\n",
       "      <td>0</td>\n",
       "      <td>0</td>\n",
       "      <td>0</td>\n",
       "      <td>0</td>\n",
       "      <td>0</td>\n",
       "      <td>0</td>\n",
       "      <td>0</td>\n",
       "    </tr>\n",
       "  </tbody>\n",
       "</table>\n",
       "<p>5 rows × 13902 columns</p>\n",
       "</div>"
      ],
      "text/plain": [
       "                        Title   LocationRaw LocationNormalized  ContractType  \\\n",
       "0        Financial Accountant        London             London             1   \n",
       "1  Commercial Finance Analyst  Bedfordshire       Bedfordshire             1   \n",
       "2        Financial Accountant        London             London             1   \n",
       "3          Commercial Analyst     Berkshire          Berkshire             1   \n",
       "4                    Teachers       Norfolk            Norfolk             0   \n",
       "\n",
       "   ContractTime                 Company                   Category  \\\n",
       "0             1  CMC Consulting Limited  Accounting & Finance Jobs   \n",
       "1             1  CMC Consulting Limited  Accounting & Finance Jobs   \n",
       "2             1  CMC Consulting Limited  Accounting & Finance Jobs   \n",
       "3             1  CMC Consulting Limited  Accounting & Finance Jobs   \n",
       "4             0        Engage Education              Teaching Jobs   \n",
       "\n",
       "                     SalaryRaw  SalaryNormalized             SourceName  \\\n",
       "0  40,000 - 50,000 + Bonus + B             45000  myjobs.cimaglobal.com   \n",
       "1              25,000 - 35,000             30000  myjobs.cimaglobal.com   \n",
       "2  40,000 - 45,000 + Bonus + B             42500  myjobs.cimaglobal.com   \n",
       "3   50,000 - 55,000 + Benefits             52500  myjobs.cimaglobal.com   \n",
       "4                100 - 145/day             29400       cv-library.co.uk   \n",
       "\n",
       "   ...    youyou  yr  yr1  yrs  ys  zealous  zend  zero  zone  zuken  \n",
       "0  ...         0   0    0    0   0        0     0     0     0      0  \n",
       "1  ...         0   0    0    0   0        0     0     0     0      0  \n",
       "2  ...         0   0    0    0   0        0     0     0     0      0  \n",
       "3  ...         0   0    0    0   0        0     0     0     0      0  \n",
       "4  ...         0   0    0    0   0        0     0     0     0      0  \n",
       "\n",
       "[5 rows x 13902 columns]"
      ]
     },
     "execution_count": 42,
     "metadata": {},
     "output_type": "execute_result"
    }
   ],
   "source": [
    "data.head()"
   ]
  },
  {
   "cell_type": "markdown",
   "metadata": {},
   "source": [
    "**10)** Сохраним матрицу в csv"
   ]
  },
  {
   "cell_type": "code",
   "execution_count": 43,
   "metadata": {
    "collapsed": false
   },
   "outputs": [],
   "source": [
    "data.to_csv('data.csv')"
   ]
  },
  {
   "cell_type": "markdown",
   "metadata": {},
   "source": [
    "#  Задание второго модуля"
   ]
  },
  {
   "cell_type": "markdown",
   "metadata": {},
   "source": [
    "**1)** Выделим обучающую выборку и вектор ответов\n",
    "\n",
    "Удалим из выборки признаки:\n",
    "\n",
    "1. *LocationRaw*,  так как он дублируется в признаке *LocationNormalized*\n",
    "\n",
    "2. *SalaryRaw* и *SalaryNormalized*, так как это наш целевой признак"
   ]
  },
  {
   "cell_type": "code",
   "execution_count": 44,
   "metadata": {
    "collapsed": true
   },
   "outputs": [],
   "source": [
    "X = data.drop(['LocationRaw', 'SalaryRaw', 'SalaryNormalized'], 1)\n",
    "Y = data['SalaryNormalized']"
   ]
  },
  {
   "cell_type": "code",
   "execution_count": 45,
   "metadata": {
    "collapsed": false
   },
   "outputs": [],
   "source": [
    "X['ContractType'] = X['ContractType'].astype(str)\n",
    "X['ContractTime'] = X['ContractTime'].astype(str)"
   ]
  },
  {
   "cell_type": "code",
   "execution_count": 46,
   "metadata": {
    "collapsed": false
   },
   "outputs": [],
   "source": [
    "from sklearn.feature_extraction import DictVectorizer"
   ]
  },
  {
   "cell_type": "code",
   "execution_count": 47,
   "metadata": {
    "collapsed": true
   },
   "outputs": [],
   "source": [
    "categories = ['Title', 'LocationNormalized', 'ContractType', 'ContractTime', 'Company', 'Category', 'SourceName']\n",
    "dict_vectorizer = DictVectorizer()\n",
    "features = X[categories].T.to_dict().values()\n",
    "X_category = dict_vectorizer.fit_transform(features).toarray()"
   ]
  },
  {
   "cell_type": "code",
   "execution_count": 48,
   "metadata": {
    "collapsed": false
   },
   "outputs": [],
   "source": [
    "X_category = pd.DataFrame(X_category, columns=dict_vectorizer.get_feature_names())"
   ]
  },
  {
   "cell_type": "code",
   "execution_count": 49,
   "metadata": {
    "collapsed": false
   },
   "outputs": [],
   "source": [
    "others = list(set(X.columns.values.tolist()) - set(categories))"
   ]
  },
  {
   "cell_type": "code",
   "execution_count": 50,
   "metadata": {
    "collapsed": false
   },
   "outputs": [],
   "source": [
    "X_coded_cat =  pd.concat([X_category, X[others]],  axis=1, join='inner')"
   ]
  },
  {
   "cell_type": "code",
   "execution_count": 51,
   "metadata": {
    "collapsed": false
   },
   "outputs": [
    {
     "data": {
      "text/html": [
       "<div>\n",
       "<table border=\"1\" class=\"dataframe\">\n",
       "  <thead>\n",
       "    <tr style=\"text-align: right;\">\n",
       "      <th></th>\n",
       "      <th>Category=Accounting &amp; Finance Jobs</th>\n",
       "      <th>Category=Admin Jobs</th>\n",
       "      <th>Category=Charity &amp; Voluntary Jobs</th>\n",
       "      <th>Category=Consultancy Jobs</th>\n",
       "      <th>Category=Creative &amp; Design Jobs</th>\n",
       "      <th>Category=Customer Services Jobs</th>\n",
       "      <th>Category=Domestic help &amp; Cleaning Jobs</th>\n",
       "      <th>Category=Energy, Oil &amp; Gas Jobs</th>\n",
       "      <th>Category=Engineering Jobs</th>\n",
       "      <th>Category=HR &amp; Recruitment Jobs</th>\n",
       "      <th>...</th>\n",
       "      <th>winforms</th>\n",
       "      <th>ad</th>\n",
       "      <th>planned</th>\n",
       "      <th>steadilythis</th>\n",
       "      <th>phases</th>\n",
       "      <th>crbpolice</th>\n",
       "      <th>developer</th>\n",
       "      <th>flourishing</th>\n",
       "      <th>importancesubstantial</th>\n",
       "      <th>brbrthis</th>\n",
       "    </tr>\n",
       "  </thead>\n",
       "  <tbody>\n",
       "    <tr>\n",
       "      <th>0</th>\n",
       "      <td>1.0</td>\n",
       "      <td>0.0</td>\n",
       "      <td>0.0</td>\n",
       "      <td>0.0</td>\n",
       "      <td>0.0</td>\n",
       "      <td>0.0</td>\n",
       "      <td>0.0</td>\n",
       "      <td>0.0</td>\n",
       "      <td>0.0</td>\n",
       "      <td>0.0</td>\n",
       "      <td>...</td>\n",
       "      <td>0</td>\n",
       "      <td>0</td>\n",
       "      <td>0</td>\n",
       "      <td>0</td>\n",
       "      <td>0</td>\n",
       "      <td>0</td>\n",
       "      <td>0</td>\n",
       "      <td>0</td>\n",
       "      <td>0</td>\n",
       "      <td>0</td>\n",
       "    </tr>\n",
       "    <tr>\n",
       "      <th>1</th>\n",
       "      <td>1.0</td>\n",
       "      <td>0.0</td>\n",
       "      <td>0.0</td>\n",
       "      <td>0.0</td>\n",
       "      <td>0.0</td>\n",
       "      <td>0.0</td>\n",
       "      <td>0.0</td>\n",
       "      <td>0.0</td>\n",
       "      <td>0.0</td>\n",
       "      <td>0.0</td>\n",
       "      <td>...</td>\n",
       "      <td>0</td>\n",
       "      <td>0</td>\n",
       "      <td>0</td>\n",
       "      <td>0</td>\n",
       "      <td>0</td>\n",
       "      <td>0</td>\n",
       "      <td>0</td>\n",
       "      <td>0</td>\n",
       "      <td>0</td>\n",
       "      <td>0</td>\n",
       "    </tr>\n",
       "    <tr>\n",
       "      <th>2</th>\n",
       "      <td>1.0</td>\n",
       "      <td>0.0</td>\n",
       "      <td>0.0</td>\n",
       "      <td>0.0</td>\n",
       "      <td>0.0</td>\n",
       "      <td>0.0</td>\n",
       "      <td>0.0</td>\n",
       "      <td>0.0</td>\n",
       "      <td>0.0</td>\n",
       "      <td>0.0</td>\n",
       "      <td>...</td>\n",
       "      <td>0</td>\n",
       "      <td>0</td>\n",
       "      <td>0</td>\n",
       "      <td>0</td>\n",
       "      <td>0</td>\n",
       "      <td>0</td>\n",
       "      <td>0</td>\n",
       "      <td>0</td>\n",
       "      <td>0</td>\n",
       "      <td>0</td>\n",
       "    </tr>\n",
       "    <tr>\n",
       "      <th>3</th>\n",
       "      <td>1.0</td>\n",
       "      <td>0.0</td>\n",
       "      <td>0.0</td>\n",
       "      <td>0.0</td>\n",
       "      <td>0.0</td>\n",
       "      <td>0.0</td>\n",
       "      <td>0.0</td>\n",
       "      <td>0.0</td>\n",
       "      <td>0.0</td>\n",
       "      <td>0.0</td>\n",
       "      <td>...</td>\n",
       "      <td>0</td>\n",
       "      <td>0</td>\n",
       "      <td>0</td>\n",
       "      <td>0</td>\n",
       "      <td>0</td>\n",
       "      <td>0</td>\n",
       "      <td>0</td>\n",
       "      <td>0</td>\n",
       "      <td>0</td>\n",
       "      <td>0</td>\n",
       "    </tr>\n",
       "    <tr>\n",
       "      <th>4</th>\n",
       "      <td>0.0</td>\n",
       "      <td>0.0</td>\n",
       "      <td>0.0</td>\n",
       "      <td>0.0</td>\n",
       "      <td>0.0</td>\n",
       "      <td>0.0</td>\n",
       "      <td>0.0</td>\n",
       "      <td>0.0</td>\n",
       "      <td>0.0</td>\n",
       "      <td>0.0</td>\n",
       "      <td>...</td>\n",
       "      <td>0</td>\n",
       "      <td>0</td>\n",
       "      <td>0</td>\n",
       "      <td>0</td>\n",
       "      <td>0</td>\n",
       "      <td>0</td>\n",
       "      <td>0</td>\n",
       "      <td>0</td>\n",
       "      <td>0</td>\n",
       "      <td>0</td>\n",
       "    </tr>\n",
       "  </tbody>\n",
       "</table>\n",
       "<p>5 rows × 16012 columns</p>\n",
       "</div>"
      ],
      "text/plain": [
       "   Category=Accounting & Finance Jobs  Category=Admin Jobs  \\\n",
       "0                                 1.0                  0.0   \n",
       "1                                 1.0                  0.0   \n",
       "2                                 1.0                  0.0   \n",
       "3                                 1.0                  0.0   \n",
       "4                                 0.0                  0.0   \n",
       "\n",
       "   Category=Charity & Voluntary Jobs  Category=Consultancy Jobs  \\\n",
       "0                                0.0                        0.0   \n",
       "1                                0.0                        0.0   \n",
       "2                                0.0                        0.0   \n",
       "3                                0.0                        0.0   \n",
       "4                                0.0                        0.0   \n",
       "\n",
       "   Category=Creative & Design Jobs  Category=Customer Services Jobs  \\\n",
       "0                              0.0                              0.0   \n",
       "1                              0.0                              0.0   \n",
       "2                              0.0                              0.0   \n",
       "3                              0.0                              0.0   \n",
       "4                              0.0                              0.0   \n",
       "\n",
       "   Category=Domestic help & Cleaning Jobs  Category=Energy, Oil & Gas Jobs  \\\n",
       "0                                     0.0                              0.0   \n",
       "1                                     0.0                              0.0   \n",
       "2                                     0.0                              0.0   \n",
       "3                                     0.0                              0.0   \n",
       "4                                     0.0                              0.0   \n",
       "\n",
       "   Category=Engineering Jobs  Category=HR & Recruitment Jobs    ...     \\\n",
       "0                        0.0                             0.0    ...      \n",
       "1                        0.0                             0.0    ...      \n",
       "2                        0.0                             0.0    ...      \n",
       "3                        0.0                             0.0    ...      \n",
       "4                        0.0                             0.0    ...      \n",
       "\n",
       "   winforms  ad  planned  steadilythis  phases  crbpolice  developer  \\\n",
       "0         0   0        0             0       0          0          0   \n",
       "1         0   0        0             0       0          0          0   \n",
       "2         0   0        0             0       0          0          0   \n",
       "3         0   0        0             0       0          0          0   \n",
       "4         0   0        0             0       0          0          0   \n",
       "\n",
       "   flourishing  importancesubstantial  brbrthis  \n",
       "0            0                      0         0  \n",
       "1            0                      0         0  \n",
       "2            0                      0         0  \n",
       "3            0                      0         0  \n",
       "4            0                      0         0  \n",
       "\n",
       "[5 rows x 16012 columns]"
      ]
     },
     "execution_count": 51,
     "metadata": {},
     "output_type": "execute_result"
    }
   ],
   "source": [
    "X_coded_cat.head()"
   ]
  },
  {
   "cell_type": "markdown",
   "metadata": {},
   "source": [
    "## Разделение выборки на обучение и тест"
   ]
  },
  {
   "cell_type": "code",
   "execution_count": 52,
   "metadata": {
    "collapsed": true
   },
   "outputs": [],
   "source": [
    "X_train = X_coded_cat[:1500]\n",
    "X_test = X_coded_cat[1500:]\n",
    "Y_train = Y[:1500]\n",
    "Y_test = Y[1500:]"
   ]
  },
  {
   "cell_type": "markdown",
   "metadata": {},
   "source": [
    "## Сравним различные изученые методы"
   ]
  },
  {
   "cell_type": "markdown",
   "metadata": {},
   "source": [
    "В качетсве основной метрики была выбрана  **Mean absolute error** (MAE), как дополнительная метрика будет рассматриваться **r2**"
   ]
  },
  {
   "cell_type": "markdown",
   "metadata": {},
   "source": [
    "### Линейная регрессия"
   ]
  },
  {
   "cell_type": "code",
   "execution_count": 32,
   "metadata": {
    "collapsed": true
   },
   "outputs": [],
   "source": [
    "from sklearn.metrics import mean_absolute_error\n",
    "from sklearn.metrics import r2_score"
   ]
  },
  {
   "cell_type": "code",
   "execution_count": 33,
   "metadata": {
    "collapsed": true
   },
   "outputs": [],
   "source": [
    "from sklearn.linear_model import LinearRegression"
   ]
  },
  {
   "cell_type": "code",
   "execution_count": 34,
   "metadata": {
    "collapsed": true
   },
   "outputs": [],
   "source": [
    "Lin_reg = LinearRegression()\n",
    "Lin_reg.fit(X_train, Y_train)\n",
    "lin_reg_predict = Lin_reg.predict(X_test)"
   ]
  },
  {
   "cell_type": "code",
   "execution_count": 35,
   "metadata": {
    "collapsed": false
   },
   "outputs": [
    {
     "name": "stdout",
     "output_type": "stream",
     "text": [
      "MAE: 11783.0357042\n",
      "r2 score: -0.0390302569278\n"
     ]
    }
   ],
   "source": [
    "print(\"MAE:\", mean_absolute_error(Y_test, lin_reg_predict))\n",
    "print(\"r2 score:\", r2_score(Y_test, lin_reg_predict))"
   ]
  },
  {
   "cell_type": "markdown",
   "metadata": {},
   "source": [
    "### Ridge"
   ]
  },
  {
   "cell_type": "code",
   "execution_count": 53,
   "metadata": {
    "collapsed": true
   },
   "outputs": [],
   "source": [
    "from sklearn.linear_model import RidgeCV, LassoCV"
   ]
  },
  {
   "cell_type": "code",
   "execution_count": 54,
   "metadata": {
    "collapsed": false
   },
   "outputs": [
    {
     "data": {
      "text/plain": [
       "RidgeCV(alphas=array([  1.00000e+01,   1.23285e+01, ...,   8.11131e+09,   1.00000e+10]),\n",
       "    cv=None, fit_intercept=True, gcv_mode=None, normalize=False,\n",
       "    scoring=None, store_cv_values=False)"
      ]
     },
     "execution_count": 54,
     "metadata": {},
     "output_type": "execute_result"
    }
   ],
   "source": [
    "lr_R = RidgeCV(alphas=np.logspace(1, 10, 100))\n",
    "lr_R.fit(X_train, Y_train)"
   ]
  },
  {
   "cell_type": "code",
   "execution_count": 38,
   "metadata": {
    "collapsed": false
   },
   "outputs": [
    {
     "name": "stdout",
     "output_type": "stream",
     "text": [
      "MAE: 8872.95075924\n",
      "r2 score: 0.362841086621\n"
     ]
    }
   ],
   "source": [
    "lr_R_predict = lr_R.predict(X_test)\n",
    "mae_ridge = mean_absolute_error(Y_test, lr_R_predict)\n",
    "r2_ridge = r2_score(Y_test, lr_R_predict)\n",
    "print(\"MAE:\", mae_ridge)\n",
    "print(\"r2 score:\", r2_ridge)"
   ]
  },
  {
   "cell_type": "markdown",
   "metadata": {},
   "source": [
    "### Lasso"
   ]
  },
  {
   "cell_type": "code",
   "execution_count": 39,
   "metadata": {
    "collapsed": false
   },
   "outputs": [
    {
     "name": "stderr",
     "output_type": "stream",
     "text": [
      "C:\\Anaconda3\\lib\\site-packages\\sklearn\\linear_model\\coordinate_descent.py:466: ConvergenceWarning: Objective did not converge. You might want to increase the number of iterations\n",
      "  ConvergenceWarning)\n"
     ]
    },
    {
     "data": {
      "text/plain": [
       "LassoCV(alphas=array([  1.00000e+01,   1.23285e+01, ...,   8.11131e+09,   1.00000e+10]),\n",
       "    copy_X=True, cv=None, eps=0.001, fit_intercept=True, max_iter=1000,\n",
       "    n_alphas=100, n_jobs=1, normalize=False, positive=False,\n",
       "    precompute='auto', random_state=None, selection='cyclic', tol=0.0001,\n",
       "    verbose=False)"
      ]
     },
     "execution_count": 39,
     "metadata": {},
     "output_type": "execute_result"
    }
   ],
   "source": [
    "lr_L = LassoCV(alphas=np.logspace(1, 10, 100))\n",
    "lr_L.fit(X_train[:100], Y_train[:100])"
   ]
  },
  {
   "cell_type": "code",
   "execution_count": 40,
   "metadata": {
    "collapsed": false
   },
   "outputs": [
    {
     "name": "stdout",
     "output_type": "stream",
     "text": [
      "MAE: 14729.5915373\n",
      "r2 score: -0.197282725549\n"
     ]
    }
   ],
   "source": [
    "lr_L_predict = lr_L.predict(X_test)\n",
    "print(\"MAE:\", mean_absolute_error(Y_test, lr_L_predict))\n",
    "print(\"r2 score:\", r2_score(Y_test, lr_L_predict))"
   ]
  },
  {
   "cell_type": "markdown",
   "metadata": {},
   "source": [
    "### DecisionTree"
   ]
  },
  {
   "cell_type": "code",
   "execution_count": 41,
   "metadata": {
    "collapsed": true
   },
   "outputs": [],
   "source": [
    "from sklearn.grid_search import GridSearchCV\n",
    "from sklearn import tree"
   ]
  },
  {
   "cell_type": "code",
   "execution_count": 42,
   "metadata": {
    "collapsed": false
   },
   "outputs": [],
   "source": [
    "parameters = {\"max_depth\":[2, 4, 8, 16], \"min_samples_leaf\":[1, 10, 50], \n",
    "              \"max_leaf_nodes\":[10, 100, 1000]}\n",
    "cv_trees = GridSearchCV(tree.DecisionTreeRegressor(), parameters)\n",
    "cv_trees.fit(X_train.as_matrix(), Y_train.as_matrix());"
   ]
  },
  {
   "cell_type": "code",
   "execution_count": 43,
   "metadata": {
    "collapsed": false
   },
   "outputs": [
    {
     "name": "stdout",
     "output_type": "stream",
     "text": [
      "MAE: 11083.4598435\n",
      "r2 score: 0.114377242475\n"
     ]
    }
   ],
   "source": [
    "cv_trees_predict = cv_trees.predict(X_test)\n",
    "print(\"MAE:\", mean_absolute_error(Y_test, cv_trees_predict))\n",
    "print(\"r2 score:\", r2_score(Y_test, cv_trees_predict))"
   ]
  },
  {
   "cell_type": "markdown",
   "metadata": {
    "collapsed": true
   },
   "source": [
    "### kNN"
   ]
  },
  {
   "cell_type": "code",
   "execution_count": 44,
   "metadata": {
    "collapsed": true
   },
   "outputs": [],
   "source": [
    "from sklearn.neighbors import KNeighborsRegressor"
   ]
  },
  {
   "cell_type": "code",
   "execution_count": 45,
   "metadata": {
    "collapsed": false
   },
   "outputs": [],
   "source": [
    "parameters = {'n_neighbors':np.arange(25, 40, 5), 'weights':['uniform', 'distance']}\n",
    "cv_knn = GridSearchCV(KNeighborsRegressor(), parameters)\n",
    "cv_knn.fit(X_train.as_matrix(), Y_train.as_matrix());"
   ]
  },
  {
   "cell_type": "code",
   "execution_count": 46,
   "metadata": {
    "collapsed": false
   },
   "outputs": [
    {
     "name": "stdout",
     "output_type": "stream",
     "text": [
      "Best parameters: {'n_neighbors': 25, 'weights': 'distance'}\n",
      "MAE: 10582.2805525\n",
      "r2 score: 0.12005378902\n"
     ]
    }
   ],
   "source": [
    "cv_knn_predict = cv_knn.predict(X_test)\n",
    "print(\"Best parameters:\", cv_knn.best_params_)\n",
    "print(\"MAE:\", mean_absolute_error(Y_test, cv_knn_predict))\n",
    "print(\"r2 score:\", r2_score(Y_test, cv_knn_predict))"
   ]
  },
  {
   "cell_type": "markdown",
   "metadata": {
    "collapsed": true
   },
   "source": [
    "## Сравнение результатов"
   ]
  },
  {
   "cell_type": "markdown",
   "metadata": {},
   "source": [
    "Проведем сравнение показательй нашей основной метрики **MAE**:\n",
    "\n",
    "С поставленной задачей лучше всего справился **Ridge** показав минимальное значение **MAE = 8872**, также им был достигнут лучший показатель по дополнительной метрике **r2 = 0.36**\n",
    "\n",
    "Хуже всего справился **Lasso** показав значение **MAE = 14729**, **r2 = -0.19**"
   ]
  },
  {
   "cell_type": "markdown",
   "metadata": {
    "collapsed": true
   },
   "source": [
    "# 2 модуль [2/2]"
   ]
  },
  {
   "cell_type": "markdown",
   "metadata": {},
   "source": [
    "## Работа с признаками"
   ]
  },
  {
   "cell_type": "markdown",
   "metadata": {},
   "source": [
    "### Tf - Idf features\n",
    "\n",
    "Попробуем вместо обычного **DictVectorizer**, который только дает информацию о вхождении какого-либо слова, применить **TfidfVectorizer** c помощью него мы сможем посчитать частоту вхождения и важность этого слова."
   ]
  },
  {
   "cell_type": "code",
   "execution_count": 96,
   "metadata": {
    "collapsed": true
   },
   "outputs": [],
   "source": [
    "#вернемся к данным с начальной предобработкой (удалены пропуски, id объектов, преобразование текстов)\n",
    "df_n = df"
   ]
  },
  {
   "cell_type": "code",
   "execution_count": 97,
   "metadata": {
    "collapsed": true
   },
   "outputs": [],
   "source": [
    "from sklearn.feature_extraction.text import TfidfVectorizer"
   ]
  },
  {
   "cell_type": "code",
   "execution_count": 98,
   "metadata": {
    "collapsed": false
   },
   "outputs": [],
   "source": [
    "def TfIdfVec (vectorizer, column_name):\n",
    "    global df_n\n",
    "    features = df_n[column_name].T.to_dict().values()\n",
    "    train_features = vectorizer.fit_transform(features).toarray()\n",
    "    X_category = pd.DataFrame(train_features, columns=vectorizer.get_feature_names())\n",
    "    df_n = pd.concat([X_category, df_n], axis=1, join='inner')"
   ]
  },
  {
   "cell_type": "markdown",
   "metadata": {
    "collapsed": false
   },
   "source": [
    "Выберем по 200 самых важных и частых слов в признаках **Title** и **FullDescription**"
   ]
  },
  {
   "cell_type": "code",
   "execution_count": 99,
   "metadata": {
    "collapsed": false
   },
   "outputs": [],
   "source": [
    "vectorizer = TfidfVectorizer(norm='l1', max_features = 200, analyzer = 'word', strip_accents='unicode', binary=True)\n",
    "categories = ['Title','FullDescription']\n",
    "for name in categories:\n",
    "    TfIdfVec(vectorizer, name)"
   ]
  },
  {
   "cell_type": "markdown",
   "metadata": {},
   "source": [
    "Кодировка категориальных признаков"
   ]
  },
  {
   "cell_type": "code",
   "execution_count": 100,
   "metadata": {
    "collapsed": false
   },
   "outputs": [],
   "source": [
    "categories = ['LocationNormalized', 'ContractType', 'ContractTime', 'Company', 'Category', 'SourceName']\n",
    "dict_vectorizer = DictVectorizer()\n",
    "features = df_n[categories].T.to_dict().values()\n",
    "X_category = dict_vectorizer.fit_transform(features).toarray()"
   ]
  },
  {
   "cell_type": "code",
   "execution_count": 101,
   "metadata": {
    "collapsed": true
   },
   "outputs": [],
   "source": [
    "X_category = pd.DataFrame(X_category, columns=dict_vectorizer.get_feature_names())"
   ]
  },
  {
   "cell_type": "code",
   "execution_count": 102,
   "metadata": {
    "collapsed": true
   },
   "outputs": [],
   "source": [
    "others = list(set(X.columns.values.tolist()) - set(categories))"
   ]
  },
  {
   "cell_type": "code",
   "execution_count": 103,
   "metadata": {
    "collapsed": true
   },
   "outputs": [],
   "source": [
    "frame = df_n.drop(['LocationRaw', 'SalaryRaw', 'Title','FullDescription', 'LocationNormalized', \n",
    "               'ContractType', 'ContractTime', 'Company', 'Category', 'SourceName'], 1)"
   ]
  },
  {
   "cell_type": "code",
   "execution_count": 104,
   "metadata": {
    "collapsed": true
   },
   "outputs": [],
   "source": [
    "frame =  pd.concat([X_category, frame],  axis=1, join='inner')"
   ]
  },
  {
   "cell_type": "code",
   "execution_count": 105,
   "metadata": {
    "collapsed": false
   },
   "outputs": [
    {
     "data": {
      "text/plain": [
       "(1821, 901)"
      ]
     },
     "execution_count": 105,
     "metadata": {},
     "output_type": "execute_result"
    }
   ],
   "source": [
    "frame.shape"
   ]
  },
  {
   "cell_type": "markdown",
   "metadata": {},
   "source": [
    "Сформируем новую обучающаю выборку"
   ]
  },
  {
   "cell_type": "code",
   "execution_count": 106,
   "metadata": {
    "collapsed": true
   },
   "outputs": [],
   "source": [
    "X = frame.drop('SalaryNormalized', axis=1)\n",
    "Y = frame['SalaryNormalized']"
   ]
  },
  {
   "cell_type": "code",
   "execution_count": 107,
   "metadata": {
    "collapsed": true
   },
   "outputs": [],
   "source": [
    "from sklearn.cross_validation import train_test_split\n",
    "\n",
    "X_train, X_test, Y_train, Y_test = train_test_split(X, Y, test_size=0.3, random_state=42)"
   ]
  },
  {
   "cell_type": "markdown",
   "metadata": {},
   "source": [
    "### Посмотрим результаты на новой выборке\n",
    "\n",
    "Будем использовать **Ridge** так как он лучше всех показал себя в прошлых сравнениях"
   ]
  },
  {
   "cell_type": "code",
   "execution_count": 67,
   "metadata": {
    "collapsed": false
   },
   "outputs": [],
   "source": [
    "lr_R_n = RidgeCV(alphas=np.logspace(1, 10, 100), scoring='mean_absolute_error')\n",
    "lr_R_n.fit(X_train, Y_train);"
   ]
  },
  {
   "cell_type": "code",
   "execution_count": 206,
   "metadata": {
    "collapsed": false,
    "scrolled": true
   },
   "outputs": [
    {
     "name": "stdout",
     "output_type": "stream",
     "text": [
      "С TF - IDF признаками:\n",
      "\tMAE: 9116.55667758\n",
      "\tr2 score: 0.384661271088\n",
      "\n",
      "На старых данных: \n",
      "\tMAE: 8872.95075924\n",
      "\tr2 score: 0.362841086621\n"
     ]
    }
   ],
   "source": [
    "lr_R_n_predict = lr_R_n.predict(X_test)\n",
    "mae_ridge_tf = mean_absolute_error(Y_test, lr_R_n_predict)\n",
    "r2_ridge_tf = r2_score(Y_test, lr_R_n_predict)\n",
    "print(\"С TF - IDF признаками:\")\n",
    "print(\"\\tMAE:\", mae_ridge_tf)\n",
    "print(\"\\tr2 score:\", r2_ridge_tf)\n",
    "print(\"\")\n",
    "print(\"На старых данных: \")\n",
    "print(\"\\tMAE:\", mae_ridge)\n",
    "print(\"\\tr2 score:\", r2_ridge)"
   ]
  },
  {
   "cell_type": "markdown",
   "metadata": {},
   "source": [
    "Мы видим, что результаты улучшились улучшились"
   ]
  },
  {
   "cell_type": "markdown",
   "metadata": {},
   "source": [
    "## PCA"
   ]
  },
  {
   "cell_type": "markdown",
   "metadata": {},
   "source": [
    "Применим метод главных компонент"
   ]
  },
  {
   "cell_type": "code",
   "execution_count": 68,
   "metadata": {
    "collapsed": false
   },
   "outputs": [],
   "source": [
    "from sklearn.decomposition import PCA\n",
    "\n",
    "pca = PCA(n_components=680)\n",
    "X_transform = pca.fit_transform(X)"
   ]
  },
  {
   "cell_type": "code",
   "execution_count": 69,
   "metadata": {
    "collapsed": true
   },
   "outputs": [],
   "source": [
    "X_train_pca, X_test_pca, Y_train, Y_test = train_test_split(X_transform, Y, test_size=0.3, random_state=42)"
   ]
  },
  {
   "cell_type": "code",
   "execution_count": 70,
   "metadata": {
    "collapsed": false
   },
   "outputs": [],
   "source": [
    "ridge_pca = RidgeCV(alphas=np.logspace(1, 10, 100), scoring='mean_absolute_error')\n",
    "ridge_pca.fit(X_train_pca, Y_train);"
   ]
  },
  {
   "cell_type": "code",
   "execution_count": 210,
   "metadata": {
    "collapsed": false
   },
   "outputs": [],
   "source": [
    "ridge_pca_pred = ridge_pca.predict(X_test_pca)\n",
    "mae_ridge_pca = mean_absolute_error(Y_test, ridge_pca_pred)\n",
    "r2_ridge_pca = r2_score(Y_test, ridge_pca_pred)"
   ]
  },
  {
   "cell_type": "code",
   "execution_count": 211,
   "metadata": {
    "collapsed": false
   },
   "outputs": [
    {
     "name": "stdout",
     "output_type": "stream",
     "text": [
      "Качество после применения PCA:\n",
      "\tMAE: 9115.84673602\n",
      "\tr2 score: 0.384719747405\n",
      "\n",
      "Качество до применения PCA:\n",
      "\tMAE: 9116.55667758\n",
      "\tr2 score: 0.384661271088\n"
     ]
    }
   ],
   "source": [
    "print(\"Качество после применения PCA:\")\n",
    "print(\"\\tMAE:\",mae_ridge_pca)\n",
    "print(\"\\tr2 score:\",r2_ridge_pca)\n",
    "print(\"\")\n",
    "print(\"Качество до применения PCA:\")\n",
    "print(\"\\tMAE:\", mae_ridge_tf)\n",
    "print(\"\\tr2 score:\", r2_ridge_tf)"
   ]
  },
  {
   "cell_type": "markdown",
   "metadata": {},
   "source": [
    "Улучшение результатов сново произошло, однако незначительное. Но так как мы удалили аж 220 признаков, дальнейщая работа с данными будет происходить быстрее, следовательно использование **PCA** более чем обоснованно."
   ]
  },
  {
   "cell_type": "markdown",
   "metadata": {},
   "source": [
    "## Работа с объектами"
   ]
  },
  {
   "cell_type": "markdown",
   "metadata": {},
   "source": [
    "### Удаление редких объектов"
   ]
  },
  {
   "cell_type": "code",
   "execution_count": 108,
   "metadata": {
    "collapsed": false
   },
   "outputs": [],
   "source": [
    "counted_values = frame['SalaryNormalized'].value_counts()"
   ]
  },
  {
   "cell_type": "code",
   "execution_count": 109,
   "metadata": {
    "collapsed": true
   },
   "outputs": [],
   "source": [
    "#удалим объекты встречающиеся меньше 20 раз\n",
    "selected_values = dict(counted_values.where(counted_values < 20).dropna())\n",
    "frame_s = frame[~frame.SalaryNormalized.isin(selected_values)];"
   ]
  },
  {
   "cell_type": "code",
   "execution_count": 110,
   "metadata": {
    "collapsed": false
   },
   "outputs": [
    {
     "data": {
      "text/plain": [
       "(1055, 901)"
      ]
     },
     "execution_count": 110,
     "metadata": {},
     "output_type": "execute_result"
    }
   ],
   "source": [
    "frame_s.shape"
   ]
  },
  {
   "cell_type": "code",
   "execution_count": 111,
   "metadata": {
    "collapsed": true
   },
   "outputs": [],
   "source": [
    "X = frame_s.drop('SalaryNormalized', axis=1)\n",
    "Y = frame_s['SalaryNormalized']"
   ]
  },
  {
   "cell_type": "code",
   "execution_count": 112,
   "metadata": {
    "collapsed": true
   },
   "outputs": [],
   "source": [
    "pca = PCA(n_components=680)\n",
    "X_transform_s = pca.fit_transform(X)"
   ]
  },
  {
   "cell_type": "code",
   "execution_count": 113,
   "metadata": {
    "collapsed": false
   },
   "outputs": [],
   "source": [
    "X_train_short, X_test_short, Y_train_short, Y_test_short = train_test_split(X_transform_s, Y, test_size=0.3, random_state=42)"
   ]
  },
  {
   "cell_type": "code",
   "execution_count": 114,
   "metadata": {
    "collapsed": true
   },
   "outputs": [],
   "source": [
    "ridge_short = RidgeCV(alphas=np.logspace(1, 10, 100), scoring='mean_absolute_error')\n",
    "ridge_short.fit(X_train_short, Y_train_short);"
   ]
  },
  {
   "cell_type": "code",
   "execution_count": 379,
   "metadata": {
    "collapsed": false
   },
   "outputs": [],
   "source": [
    "ridge_short_pred = ridge_short.predict(X_test_short)\n",
    "mae_ridge_short = mean_absolute_error(Y_test_short, ridge_short_pred)\n",
    "r2_ridge_short = r2_score(Y_test_short, ridge_short_pred)"
   ]
  },
  {
   "cell_type": "code",
   "execution_count": 380,
   "metadata": {
    "collapsed": false,
    "scrolled": true
   },
   "outputs": [
    {
     "name": "stdout",
     "output_type": "stream",
     "text": [
      "Качество после удаления редких объектов\n",
      "\tMAE: 7548.0443487\n",
      "\tr2 score: 0.401695206582\n",
      "Качество без удаления:\n",
      "\tMAE: 9115.84673602\n",
      "\tr2 score: 0.384719747405\n"
     ]
    }
   ],
   "source": [
    "print(\"Качество после удаления редких объектов\")\n",
    "print(\"\\tMAE:\",mae_ridge_short)\n",
    "print(\"\\tr2 score:\",r2_ridge_short)\n",
    "print(\"Качество без удаления:\")\n",
    "print(\"\\tMAE:\",mae_ridge_pca)\n",
    "print(\"\\tr2 score:\",r2_ridge_pca)"
   ]
  },
  {
   "cell_type": "markdown",
   "metadata": {},
   "source": [
    "После удаления редких объектов качество сильно выросло, скорее всего это связано с переобучением, так как модель настраивалась на \"шумы\""
   ]
  },
  {
   "cell_type": "markdown",
   "metadata": {},
   "source": [
    "# Предсказание тестовой выборки"
   ]
  },
  {
   "cell_type": "code",
   "execution_count": 165,
   "metadata": {
    "collapsed": true
   },
   "outputs": [],
   "source": [
    "test = pd.read_csv('test.csv', sep = \",\")"
   ]
  },
  {
   "cell_type": "code",
   "execution_count": 166,
   "metadata": {
    "collapsed": false
   },
   "outputs": [],
   "source": [
    "Id = test.Id"
   ]
  },
  {
   "cell_type": "code",
   "execution_count": 167,
   "metadata": {
    "collapsed": false
   },
   "outputs": [],
   "source": [
    "test = test[test.columns[2:]]"
   ]
  },
  {
   "cell_type": "code",
   "execution_count": 168,
   "metadata": {
    "collapsed": true
   },
   "outputs": [],
   "source": [
    "test = test.fillna('nan')"
   ]
  },
  {
   "cell_type": "code",
   "execution_count": 169,
   "metadata": {
    "collapsed": false
   },
   "outputs": [],
   "source": [
    "test[\"FullDescription\"] = [re.sub('[^0-9a-zA-Z ]', '', descr) for descr in test['FullDescription']]\n",
    "test[\"Title\"] = [re.sub('[^0-9a-zA-Z ]', '', title) for title in test['Title']]"
   ]
  },
  {
   "cell_type": "code",
   "execution_count": 170,
   "metadata": {
    "collapsed": true
   },
   "outputs": [],
   "source": [
    "def TfIdfVec (vectorizer, column_name):\n",
    "    global test\n",
    "    features = test[column_name].T.to_dict().values()\n",
    "    train_features = vectorizer.transform(features).toarray()\n",
    "    X_category = pd.DataFrame(train_features, columns=vectorizer.get_feature_names())\n",
    "    test = pd.concat([X_category, test], axis=1, join='inner')"
   ]
  },
  {
   "cell_type": "code",
   "execution_count": 171,
   "metadata": {
    "collapsed": false
   },
   "outputs": [],
   "source": [
    "categories = ['Title','FullDescription']\n",
    "for name in categories:\n",
    "    TfIdfVec(vectorizer, name)"
   ]
  },
  {
   "cell_type": "code",
   "execution_count": 172,
   "metadata": {
    "collapsed": false
   },
   "outputs": [],
   "source": [
    "categories = ['LocationNormalized', 'ContractType', 'ContractTime', 'Company', 'Category', 'SourceName']\n",
    "\n",
    "features = test[categories].T.to_dict().values()\n",
    "X_category = dict_vectorizer.transform(features).toarray()"
   ]
  },
  {
   "cell_type": "code",
   "execution_count": 173,
   "metadata": {
    "collapsed": false
   },
   "outputs": [],
   "source": [
    "X_category = pd.DataFrame(X_category, columns=dict_vectorizer.get_feature_names())\n",
    "others = list(set(test.columns.values.tolist()) - set(categories))\n",
    "test = test.drop(['LocationRaw', 'Title','FullDescription', 'LocationNormalized', \n",
    "               'ContractType', 'ContractTime', 'Company', 'Category', 'SourceName'], 1)"
   ]
  },
  {
   "cell_type": "code",
   "execution_count": 174,
   "metadata": {
    "collapsed": true
   },
   "outputs": [],
   "source": [
    "test =  pd.concat([X_category, test],  axis=1, join='inner')"
   ]
  },
  {
   "cell_type": "code",
   "execution_count": 175,
   "metadata": {
    "collapsed": true
   },
   "outputs": [],
   "source": [
    "test = pca.transform(test)"
   ]
  },
  {
   "cell_type": "code",
   "execution_count": 176,
   "metadata": {
    "collapsed": false
   },
   "outputs": [],
   "source": [
    "test_predict = ridge_short.predict(test)"
   ]
  },
  {
   "cell_type": "code",
   "execution_count": 177,
   "metadata": {
    "collapsed": false
   },
   "outputs": [],
   "source": [
    "testcsv = pd.DataFrame(test_predict, columns=['Prediction'])"
   ]
  },
  {
   "cell_type": "code",
   "execution_count": 178,
   "metadata": {
    "collapsed": true
   },
   "outputs": [],
   "source": [
    "testcsv = pd.concat([Id, testcsv], axis=1, join='inner')"
   ]
  },
  {
   "cell_type": "code",
   "execution_count": 181,
   "metadata": {
    "collapsed": true
   },
   "outputs": [],
   "source": [
    "testcsv.to_csv('prediction_values.csv', index=False)"
   ]
  },
  {
   "cell_type": "code",
   "execution_count": null,
   "metadata": {
    "collapsed": true
   },
   "outputs": [],
   "source": []
  }
 ],
 "metadata": {
  "anaconda-cloud": {},
  "kernelspec": {
   "display_name": "Python 3",
   "language": "python",
   "name": "python3"
  },
  "language_info": {
   "codemirror_mode": {
    "name": "ipython",
    "version": 3
   },
   "file_extension": ".py",
   "mimetype": "text/x-python",
   "name": "python",
   "nbconvert_exporter": "python",
   "pygments_lexer": "ipython3",
   "version": "3.6.0"
  }
 },
 "nbformat": 4,
 "nbformat_minor": 0
}

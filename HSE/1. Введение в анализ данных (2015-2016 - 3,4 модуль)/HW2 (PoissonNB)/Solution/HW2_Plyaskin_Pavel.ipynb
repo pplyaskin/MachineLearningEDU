{
 "cells": [
  {
   "cell_type": "code",
   "execution_count": 1,
   "metadata": {
    "collapsed": true
   },
   "outputs": [],
   "source": [
    "import numpy as np\n",
    "import sklearn\n",
    "import os\n",
    "import string\n",
    "import re\n",
    "from sklearn.utils import shuffle\n",
    "from sklearn.feature_extraction.text import CountVectorizer\n",
    "from sklearn.naive_bayes import GaussianNB\n",
    "from sklearn.naive_bayes import MultinomialNB"
   ]
  },
  {
   "cell_type": "code",
   "execution_count": 2,
   "metadata": {
    "collapsed": true
   },
   "outputs": [],
   "source": [
    "def convert_text(s):\n",
    "    # Removes all characters from string except letters and digits and convert letters to lowercase\n",
    "    return re.sub(\"[^a-zA-Z0-9]\", \" \", s.lower())\n",
    "\n",
    "def read_txts(dir_path=\"./txt_sentoken/pos/\"):\n",
    "    # Reads all files from directory\n",
    "    if dir_path[-1] != \"/\":\n",
    "        dir_path = dir_path + \"/\"\n",
    "    txt_list = []\n",
    "    for file in os.listdir(dir_path):\n",
    "        file = dir_path + file\n",
    "        fin = open(file, 'r')\n",
    "        txt = \" \".join(fin.readlines())\n",
    "        txt = convert_text(txt)\n",
    "        txt_list.append(txt)\n",
    "    return txt_list"
   ]
  },
  {
   "cell_type": "code",
   "execution_count": 3,
   "metadata": {
    "collapsed": false
   },
   "outputs": [],
   "source": [
    "class PoissonNB:\n",
    "    def __init__(self, class_prior=None):\n",
    "        \"\"\"\n",
    "        class_prior : np.array, size (n_classes,)\n",
    "        Prior probabilities of the classes. If specified the priors are not\n",
    "        adjusted according to the data.\n",
    "        \"\"\"\n",
    "        self.class_prior = class_prior\n",
    "    \n",
    "    def fit(self, X, y, epsilon=1e-9):\n",
    "        \"\"\"\n",
    "        Fit Poisson Naive Bayes according to X, y\n",
    "        \n",
    "        Parameters\n",
    "        ----------\n",
    "        X : np.array, shape (n_samples, n_features)\n",
    "            Training vectors, where n_samples is the number of samples\n",
    "            and n_features is the number of features.\n",
    "        y : np.array, shape (n_samples,)\n",
    "            Target values.\n",
    "        \"\"\"\n",
    "        num_samples, num_features = X.shape\n",
    "        self.classes = np.unique(y) \n",
    "        num_classes = self.classes.shape[0] \n",
    "        self.lambda_m = np.zeros((num_classes, num_features))\n",
    "        self.class_prior = np.zeros(num_classes)\n",
    "        for i, yi in enumerate(self.classes):\n",
    "            Xi = X[y == yi, :]\n",
    "            self.lambda_m[i,:] = np.mean(Xi, axis = 0) + epsilon\n",
    "            self.class_prior[i] = float(Xi.shape[0]) / num_samples\n",
    "        \n",
    "    def predict(self, X):\n",
    "        \"\"\"\n",
    "        Perform classification on an array of test vectors X.\n",
    "        \n",
    "        Parameters\n",
    "        ----------\n",
    "        X : np.array, shape = [n_samples, n_features]\n",
    "        \n",
    "        Returns\n",
    "        -------\n",
    "        C : np.array, shape = [n_samples]\n",
    "            Predicted target values for X\n",
    "        \"\"\"\n",
    "        probability_m = np.zeros((X.shape[0], self.classes.size))\n",
    "        for i in range (self.classes.shape[0]):\n",
    "            lg_class_prior = np.log(self.class_prior[i])\n",
    "            prob_ij = np.sum(X*np.log(self.lambda_m[i,:]), axis = 1)\n",
    "            prob_ij = prob_ij - np.sum(self.lambda_m[i,:])\n",
    "            probability_m[:,i] = lg_class_prior + prob_ij\n",
    "        return self.classes[np.argmax(probability_m, axis=1)]"
   ]
  },
  {
   "cell_type": "markdown",
   "metadata": {},
   "source": [
    "1) Создадим два списка отзывов:"
   ]
  },
  {
   "cell_type": "code",
   "execution_count": 4,
   "metadata": {
    "collapsed": false
   },
   "outputs": [],
   "source": [
    "pos_feeds = read_txts(\"./txt_sentoken/pos/\")\n",
    "neg_feeds = read_txts(\"./txt_sentoken/neg/\")"
   ]
  },
  {
   "cell_type": "markdown",
   "metadata": {
    "collapsed": true
   },
   "source": [
    "2.1) Создание обучающей выборки c вектором ответов:"
   ]
  },
  {
   "cell_type": "code",
   "execution_count": 5,
   "metadata": {
    "collapsed": true
   },
   "outputs": [],
   "source": [
    "pos_feeds , neg_feeds = shuffle(pos_feeds, neg_feeds)"
   ]
  },
  {
   "cell_type": "code",
   "execution_count": 6,
   "metadata": {
    "collapsed": false
   },
   "outputs": [
    {
     "data": {
      "text/plain": [
       "list"
      ]
     },
     "execution_count": 6,
     "metadata": {},
     "output_type": "execute_result"
    }
   ],
   "source": [
    "learn_X = pos_feeds[:700] + neg_feeds[:700]\n",
    "learn_Y = np.ones(1400)\n",
    "learn_Y[700:] = 0\n",
    "type(learn_X)"
   ]
  },
  {
   "cell_type": "markdown",
   "metadata": {
    "collapsed": false
   },
   "source": [
    "2.2) Создание контрольной выборки с вектором ответов:"
   ]
  },
  {
   "cell_type": "code",
   "execution_count": 7,
   "metadata": {
    "collapsed": true
   },
   "outputs": [],
   "source": [
    "test_X = pos_feeds[700:] + neg_feeds[700:]\n",
    "test_Y = np.ones(600)\n",
    "test_Y[300:] = 0"
   ]
  },
  {
   "cell_type": "markdown",
   "metadata": {
    "collapsed": true
   },
   "source": [
    "3) Создадим матрицу объект-признак:"
   ]
  },
  {
   "cell_type": "code",
   "execution_count": 8,
   "metadata": {
    "collapsed": true
   },
   "outputs": [],
   "source": [
    "vectorizer = CountVectorizer()"
   ]
  },
  {
   "cell_type": "code",
   "execution_count": 9,
   "metadata": {
    "collapsed": false
   },
   "outputs": [],
   "source": [
    "learn_X_tr = vectorizer.fit_transform(learn_X).toarray()\n",
    "test_X_tr = vectorizer.transform(test_X).toarray()"
   ]
  },
  {
   "cell_type": "markdown",
   "metadata": {},
   "source": [
    "5) Тест пуассоновного наивного байесовкого классификатора:"
   ]
  },
  {
   "cell_type": "code",
   "execution_count": 10,
   "metadata": {
    "collapsed": false
   },
   "outputs": [
    {
     "name": "stdout",
     "output_type": "stream",
     "text": [
      "Accuracy is 0.72\n"
     ]
    }
   ],
   "source": [
    "p_clf = PoissonNB()\n",
    "p_clf.fit(learn_X_tr, learn_Y)\n",
    "p_predict = p_clf.predict(test_X_tr)\n",
    "print (\"Accuracy is\", np.mean(test_Y == p_predict))"
   ]
  },
  {
   "cell_type": "markdown",
   "metadata": {
    "collapsed": true
   },
   "source": [
    "6.1) Тест гауссовского наивного байесовского классификатора"
   ]
  },
  {
   "cell_type": "code",
   "execution_count": 11,
   "metadata": {
    "collapsed": false
   },
   "outputs": [
    {
     "name": "stdout",
     "output_type": "stream",
     "text": [
      "Accuracy is 0.643333333333\n"
     ]
    }
   ],
   "source": [
    "g_clf = GaussianNB()\n",
    "g_clf.fit(learn_X_tr, learn_Y)\n",
    "g_predict = g_clf.predict(test_X_tr)\n",
    "print (\"Accuracy is\", np.mean(test_Y == g_predict))"
   ]
  },
  {
   "cell_type": "markdown",
   "metadata": {},
   "source": [
    "6.2) Тест мультиномиального байесовского классификатора"
   ]
  },
  {
   "cell_type": "code",
   "execution_count": 12,
   "metadata": {
    "collapsed": false
   },
   "outputs": [
    {
     "name": "stdout",
     "output_type": "stream",
     "text": [
      "Accuracy is 0.823333333333\n"
     ]
    }
   ],
   "source": [
    "m_clf = MultinomialNB()\n",
    "m_clf.fit(learn_X_tr, learn_Y)\n",
    "m_predict = m_clf.predict(test_X_tr)\n",
    "print (\"Accuracy is\", np.mean(test_Y == m_predict))"
   ]
  },
  {
   "cell_type": "markdown",
   "metadata": {},
   "source": [
    "7) Создаем функцию, которая принимает на вход строку с текстом рецензии, обученный классификатор, обученный объект класса CountVectorizer и печатает положительна ли данная рецензия."
   ]
  },
  {
   "cell_type": "code",
   "execution_count": 13,
   "metadata": {
    "collapsed": false
   },
   "outputs": [],
   "source": [
    "def text_predict (text, clf, vectorizer):\n",
    "    text = [convert_text(text)]\n",
    "    text_tr = vectorizer.transform(text).toarray()\n",
    "    if clf.predict(text_tr) == 1:\n",
    "        print ('Positive feed')\n",
    "    else: print ('Negative feed')"
   ]
  },
  {
   "cell_type": "code",
   "execution_count": 14,
   "metadata": {
    "collapsed": true
   },
   "outputs": [],
   "source": [
    "text = \"\"\"after bloody clashes and independence won , lumumba refused to pander to the belgians , who continued a condescending and paternalistic relationship with the congo . \n",
    "their officers , particularly general janssens ( rudi delhem ) in the force publique , the congo's army , caused rebellions , undermining lumumba , who was outraged at the rape and murder of belgian nationals . \n",
    "with unrest building , moise tshombe ( pascal nzonzi ) and the province of katanga , which contained 70 percent of the country's resources , proclaimed secession . \n",
    "lumumba replaced janssens , making mobutu a colonel , and went on a pacification \n",
    "tour with congolese president joseph kasa vubu ( maka kotto ) , but it was too late . \n",
    "'when you want to drown a dog , you say it has rabies , ' prophesies lumumba of his own fate . \n",
    "peck and bonitzer do an exemplary job telling a complicated tale with a myriad of players , although they frequently succumb to cliche , particularly regarding lumumba's private life . \n",
    "peck's script illuminates bantu sayings like 'the hand that gives , rules' when lumumba uses it with the american ambassador . \n",
    "peck's direction is less assured , with many scenes unfortunately playing like standard television fare . \n",
    "he's served well , though , by his casting of ebouaney in the title role . \n",
    "ebouaney is dynamic , radiating his character's fierce passion for his people and his country . \n",
    "lumumba's intelligence and ability to strategize , even as he's cornered by insurmountable odds , are given life by ebouaney . \n",
    "peck's subject and lead actor elevate his film above its mediocre production . \n",
    " \" lumumba \" is a story that deserves to be told and ebouaney's performance makes the tragedy personally felt . \"\"\""
   ]
  },
  {
   "cell_type": "code",
   "execution_count": 15,
   "metadata": {
    "collapsed": false
   },
   "outputs": [
    {
     "name": "stdout",
     "output_type": "stream",
     "text": [
      "Positive feed\n"
     ]
    }
   ],
   "source": [
    "text_predict (text, m_clf, vectorizer)"
   ]
  },
  {
   "cell_type": "markdown",
   "metadata": {},
   "source": [
    "8) Почему наивный байесовский классификатор плохо или хорошо работает для данной задачи?"
   ]
  },
  {
   "cell_type": "markdown",
   "metadata": {},
   "source": [
    "Наивный байесовский классификатор хорошо подходит для задач классификации данных. Основным его допущением является независимость одного признакого от другого, в нашем случае это означает, что появление одного слова никак не зависит от другого. С одной стороны кажется, что совершать такое допущение является большой ошибкой, однако результаты предсказаний данного классификатора говорят об обратном. Таким образом это превращается в один из его плюсов. Так как время необходимое для обучения является достотачно небольшим, к тому же это хорошо подходит для небольшой выборки обучающих данных. "
   ]
  },
  {
   "cell_type": "markdown",
   "metadata": {},
   "source": [
    "Бонус 2) Была найдена выборка \"Reuters-21578 dataset\" в которой 5485 текстов разделенных по 8 категориям. Источник http://ana.cachopo.org/datasets-for-single-label-text-categorization"
   ]
  },
  {
   "cell_type": "markdown",
   "metadata": {},
   "source": [
    "Осуществим чтение файла с созданием выборки и вектора ответов:"
   ]
  },
  {
   "cell_type": "code",
   "execution_count": 16,
   "metadata": {
    "collapsed": true
   },
   "outputs": [],
   "source": [
    "data_X = []\n",
    "data_Y = []\n",
    "with open(\"r8-train-all-terms.txt\") as f:\n",
    "    for line in f:\n",
    "        line = re.split(r'\\t+', line)\n",
    "        txt = \"\".join(line[1:])\n",
    "        data_Y.append(line[0]) # достаем класс, обозначенный первым словом\n",
    "        data_X.append(txt) # формируем тексты без первого слова, указывающее класс"
   ]
  },
  {
   "cell_type": "markdown",
   "metadata": {},
   "source": [
    "Случайным образом выберем 3000 текстов для обучающей выборки и оставшиеся 2485 для теста:"
   ]
  },
  {
   "cell_type": "code",
   "execution_count": 17,
   "metadata": {
    "collapsed": false
   },
   "outputs": [],
   "source": [
    "data_X, data_Y = shuffle(data_X, data_Y)\n",
    "learn_data_X = data_X[:3000]\n",
    "learn_data_Y = data_Y[:3000]\n",
    "test_data_X = data_X[3000:]\n",
    "test_data_Y = data_Y[3000:]"
   ]
  },
  {
   "cell_type": "markdown",
   "metadata": {},
   "source": [
    "Создадим матрицу \"объект - признак\":"
   ]
  },
  {
   "cell_type": "code",
   "execution_count": 18,
   "metadata": {
    "collapsed": true
   },
   "outputs": [],
   "source": [
    "vectorizer = CountVectorizer()\n",
    "learn_data_X_tr = vectorizer.fit_transform(learn_data_X).toarray()\n",
    "test_data_X_tr = vectorizer.transform(test_data_X).toarray()"
   ]
  },
  {
   "cell_type": "markdown",
   "metadata": {},
   "source": [
    "Применим различные классификаторы и посмотрим их точность:"
   ]
  },
  {
   "cell_type": "code",
   "execution_count": 19,
   "metadata": {
    "collapsed": true
   },
   "outputs": [],
   "source": [
    "g_clf = GaussianNB()\n",
    "g_clf.fit(learn_data_X_tr, learn_data_Y)\n",
    "g_predict = g_clf.predict(test_data_X_tr)"
   ]
  },
  {
   "cell_type": "code",
   "execution_count": 20,
   "metadata": {
    "collapsed": true
   },
   "outputs": [],
   "source": [
    "m_clf = MultinomialNB()\n",
    "m_clf.fit(learn_data_X_tr, learn_data_Y)\n",
    "m_predict = m_clf.predict(test_data_X_tr)"
   ]
  },
  {
   "cell_type": "code",
   "execution_count": 21,
   "metadata": {
    "collapsed": false
   },
   "outputs": [
    {
     "name": "stdout",
     "output_type": "stream",
     "text": [
      "GaussianNB accuracy is 0.819315895372\n",
      "MultinomialNB accuracy is 0.920724346076\n"
     ]
    }
   ],
   "source": [
    "print (\"GaussianNB accuracy is\", np.mean(test_data_Y == g_predict))\n",
    "print (\"MultinomialNB accuracy is\", np.mean(test_data_Y == m_predict))"
   ]
  },
  {
   "cell_type": "code",
   "execution_count": 22,
   "metadata": {
    "collapsed": false
   },
   "outputs": [
    {
     "name": "stdout",
     "output_type": "stream",
     "text": [
      "PoissonNB accuracy is 0.280482897384\n"
     ]
    },
    {
     "name": "stderr",
     "output_type": "stream",
     "text": [
      "C:\\Anaconda3\\lib\\site-packages\\ipykernel\\__main__.py:28: DeprecationWarning: using a boolean instead of an integer will result in an error in the future\n"
     ]
    }
   ],
   "source": [
    "p_clf = PoissonNB()\n",
    "p_clf.fit(learn_data_X_tr, learn_data_Y)\n",
    "p_predict = p_clf.predict(test_data_X_tr)\n",
    "print (\"PoissonNB accuracy is\", np.mean(test_data_Y == p_predict))"
   ]
  },
  {
   "cell_type": "code",
   "execution_count": null,
   "metadata": {
    "collapsed": true
   },
   "outputs": [],
   "source": []
  }
 ],
 "metadata": {
  "kernelspec": {
   "display_name": "Python 3",
   "language": "python",
   "name": "python3"
  },
  "language_info": {
   "codemirror_mode": {
    "name": "ipython",
    "version": 3
   },
   "file_extension": ".py",
   "mimetype": "text/x-python",
   "name": "python",
   "nbconvert_exporter": "python",
   "pygments_lexer": "ipython3",
   "version": "3.6.0"
  }
 },
 "nbformat": 4,
 "nbformat_minor": 0
}

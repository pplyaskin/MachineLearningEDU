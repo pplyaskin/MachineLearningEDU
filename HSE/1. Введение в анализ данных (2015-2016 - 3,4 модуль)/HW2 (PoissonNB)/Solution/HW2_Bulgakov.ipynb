{
 "cells": [
  {
   "cell_type": "markdown",
   "metadata": {},
   "source": [
    "# Отчет по выполнению домашнего задания #2"
   ]
  },
  {
   "cell_type": "markdown",
   "metadata": {},
   "source": [
    "__Дата выдачи__: 24.02.2016\n",
    "\n",
    "__Дедлайн__: 23:59 9.03.2016\n",
    "\n",
    "__Выполнил__: Булгаков Дмитрий (ИАД16)"
   ]
  },
  {
   "cell_type": "code",
   "execution_count": 1,
   "metadata": {
    "collapsed": true
   },
   "outputs": [],
   "source": [
    "import numpy as np\n",
    "import sklearn\n",
    "import os\n",
    "import string\n",
    "import re\n",
    "from sklearn.cross_validation import train_test_split\n",
    "from sklearn.feature_extraction.text import CountVectorizer"
   ]
  },
  {
   "cell_type": "code",
   "execution_count": 2,
   "metadata": {
    "collapsed": true
   },
   "outputs": [],
   "source": [
    "def convert_text(s):\n",
    "    # Removes all characters from string except letters and digits and convert letters to lowercase\n",
    "    return re.sub(\"[^a-zA-Z0-9]\", \" \", s.lower())\n",
    "\n",
    "def read_txts(dir_path=\"./txt_sentoken/pos/\"):\n",
    "    # Reads all files from directory\n",
    "    if dir_path[-1] != \"/\":\n",
    "        dir_path = dir_path + \"/\"\n",
    "    txt_list = []\n",
    "    for file in os.listdir(dir_path):\n",
    "        file = dir_path + file\n",
    "        fin = open(file, 'r')\n",
    "        txt = \" \".join(fin.readlines())\n",
    "        txt = convert_text(txt)\n",
    "        txt_list.append(txt)\n",
    "    return txt_list"
   ]
  },
  {
   "cell_type": "code",
   "execution_count": 3,
   "metadata": {
    "collapsed": false
   },
   "outputs": [],
   "source": [
    "class PoissonNB:\n",
    "    def __init__(self, class_prior=None):\n",
    "        \"\"\"\n",
    "        class_prior : np.array, size (n_classes,)\n",
    "        Prior probabilities of the classes. If specified the priors are not\n",
    "        adjusted according to the data.\n",
    "        \"\"\"\n",
    "        self.class_prior = class_prior\n",
    "    \n",
    "    def fit(self, X, y, epsilon=1e-9):\n",
    "        \"\"\"\n",
    "        Fit Poisson Naive Bayes according to X, y\n",
    "        \n",
    "        Parameters\n",
    "        ----------\n",
    "        X : np.array, shape (n_samples, n_features)\n",
    "            Training vectors, where n_samples is the number of samples\n",
    "            and n_features is the number of features.\n",
    "        y : np.array, shape (n_samples,)\n",
    "            Target values.\n",
    "        \"\"\"\n",
    "        # finding uniq classes \n",
    "        self.class_vector = np.unique(y)\n",
    "        # getting number of claseses\n",
    "        self.class_number = self.class_vector.shape[0]\n",
    "        # getting number of samples and features\n",
    "        samples_number, features_number = X.shape\n",
    "        \n",
    "        # creating empty arrays for calucations\n",
    "        self.lambda_matrix = np.zeros((self.class_number, features_number))\n",
    "        self.class_prior = np.zeros(self.class_number)\n",
    "        \n",
    "        # calculating prior propability matrix\n",
    "        for i, y_i in enumerate(self.class_vector):\n",
    "            Xi = X[y == y_i, :]\n",
    "            self.lambda_matrix[i, :] = np.mean(Xi, axis=0) + epsilon\n",
    "            self.class_prior[i] = float(Xi.shape[0]) / samples_number\n",
    "        \n",
    "    def predict(self, X):\n",
    "        \"\"\"\n",
    "        Perform classification on an array of test vectors X.\n",
    "        \n",
    "        Parameters\n",
    "        ----------\n",
    "        X : np.array, shape = [n_samples, n_features]\n",
    "        \n",
    "        Returns\n",
    "        -------\n",
    "        C : np.array, shape = [n_samples]\n",
    "            Predicted target values for X\n",
    "        \"\"\"\n",
    "        likehood_matrix = np.zeros((np.shape(X)[0], np.size(self.class_vector)))\n",
    "\n",
    "        for i in range(len(self.class_vector)):\n",
    "            jointi = np.log(self.class_prior[i])\n",
    "            n_ij = np.sum(X * np.log(self.lambda_matrix[i, :]), axis=1)\n",
    "            n_ij -= np.sum(self.lambda_matrix[i, :])\n",
    "            likehood_matrix[:, i] = jointi + n_ij\n",
    "        \n",
    "        return self.class_vector[np.argmax(likehood_matrix, axis=1)]\n",
    "        "
   ]
  },
  {
   "cell_type": "markdown",
   "metadata": {
    "collapsed": true
   },
   "source": [
    "__Решение задачи:__"
   ]
  },
  {
   "cell_type": "markdown",
   "metadata": {},
   "source": [
    "__#1.__ Загрузите и преобразуйте данные с помощью функции read_txts() из выданного ноутбука. В итоге\n",
    "\n",
    "должно получиться два списка: с положительными и с отрицательными рецензиями."
   ]
  },
  {
   "cell_type": "code",
   "execution_count": 4,
   "metadata": {
    "collapsed": false
   },
   "outputs": [],
   "source": [
    "pos_rev = read_txts(\"./txt_sentoken/pos/\")\n",
    "neg_rev = read_txts(\"./txt_sentoken/neg/\")"
   ]
  },
  {
   "cell_type": "markdown",
   "metadata": {},
   "source": [
    "__#2__ Из всех рецензий сформируйте два списка: тексты для обучающей выборки (по 700 случайных каж-\n",
    "\n",
    "дого класса) и для контрольной выборки (по 300 оставшихся), а также вектор правильных ответов\n",
    "\n",
    "для обучающей и контрольной выборки. Например, положительные рецензии можно относить к\n",
    "\n",
    "классу «1», а отрицательные — к классу «0»."
   ]
  },
  {
   "cell_type": "code",
   "execution_count": 5,
   "metadata": {
    "collapsed": false
   },
   "outputs": [],
   "source": [
    "X = np.hstack((pos_rev, neg_rev))\n",
    "y = np.ones(len(pos_rev) + len(neg_rev))\n",
    "y[len(pos_rev):] = 0\n",
    "X_train, X_test, y_train, y_test = train_test_split(X, y, test_size=0.3, random_state=0) "
   ]
  },
  {
   "cell_type": "markdown",
   "metadata": {},
   "source": [
    "__#3__ Прочитайте, как работает класс sklearn.feature_extraction.text.CountVectorizer, и с его помощью со-\n",
    "\n",
    "здайте две матрицы «объекты × признаки»: для обучающей и контрольной выборки. Учтите, что\n",
    "\n",
    "CountVectorizer.transform возвращает разреженную матрицу — чтобы преобразовать её к знакомому\n",
    "\n",
    "нам np.array, воспользуйтесь функцией .toarray()."
   ]
  },
  {
   "cell_type": "code",
   "execution_count": 6,
   "metadata": {
    "collapsed": false
   },
   "outputs": [],
   "source": [
    "cv = CountVectorizer()\n",
    "train_features = cv.fit_transform(X_train).toarray()\n",
    "test_features = cv.transform(X_test).toarray()"
   ]
  },
  {
   "cell_type": "markdown",
   "metadata": {},
   "source": [
    "__#4__ Сами реализуйте класс PoissonNB, реализующий пуассоновский наивный байесовский классифи-\n",
    "\n",
    "катор. Методы, которые должны быть реализованы в этом классе, описаны в jupyter ноутбуке,\n",
    "\n",
    "выданном вместе с заданием."
   ]
  },
  {
   "cell_type": "code",
   "execution_count": 7,
   "metadata": {
    "collapsed": false
   },
   "outputs": [],
   "source": [
    "pnb = PoissonNB()\n",
    "pnb.fit(train_features, y_train)"
   ]
  },
  {
   "cell_type": "markdown",
   "metadata": {},
   "source": [
    "__#5__Протестируйте ваш классификатор на данных и посчитайте accuracy — долю правильных ответов."
   ]
  },
  {
   "cell_type": "code",
   "execution_count": 9,
   "metadata": {
    "collapsed": false
   },
   "outputs": [
    {
     "name": "stdout",
     "output_type": "stream",
     "text": [
      "Accuracy for Poisson naive Bayes classificator is  0.706666666667 %\n"
     ]
    }
   ],
   "source": [
    "res_test = pnb.predict(test_features)\n",
    "nbp_accuracy = np.mean(y_test==res_test)\n",
    "print('Accuracy for Poisson naive Bayes classificator is ', nbp_accuracy, \"%\")"
   ]
  },
  {
   "cell_type": "code",
   "execution_count": null,
   "metadata": {
    "collapsed": false
   },
   "outputs": [],
   "source": []
  },
  {
   "cell_type": "code",
   "execution_count": null,
   "metadata": {
    "collapsed": true
   },
   "outputs": [],
   "source": []
  }
 ],
 "metadata": {
  "kernelspec": {
   "display_name": "Python 3",
   "language": "python",
   "name": "python3"
  },
  "language_info": {
   "codemirror_mode": {
    "name": "ipython",
    "version": 3
   },
   "file_extension": ".py",
   "mimetype": "text/x-python",
   "name": "python",
   "nbconvert_exporter": "python",
   "pygments_lexer": "ipython3",
   "version": "3.5.1"
  }
 },
 "nbformat": 4,
 "nbformat_minor": 0
}

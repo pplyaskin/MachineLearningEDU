{
 "cells": [
  {
   "cell_type": "markdown",
   "metadata": {},
   "source": [
    "## Решение соревнования"
   ]
  },
  {
   "cell_type": "code",
   "execution_count": 1,
   "metadata": {
    "collapsed": false
   },
   "outputs": [],
   "source": [
    "import pandas as pd\n",
    "import numpy as np\n",
    "import matplotlib.pyplot as plt\n",
    "%matplotlib inline\n",
    "from sklearn.metrics import roc_auc_score"
   ]
  },
  {
   "cell_type": "code",
   "execution_count": 2,
   "metadata": {
    "collapsed": false
   },
   "outputs": [],
   "source": [
    "train_data = pd.read_csv('data/train_data.csv')\n",
    "train_target = pd.read_csv('data/train_target.csv', header = None, names  = ['Answ'])\n",
    "test_data = pd.read_csv(\"data/test_data.csv\", sep = ',', index_col=0)"
   ]
  },
  {
   "cell_type": "code",
   "execution_count": 3,
   "metadata": {
    "collapsed": false
   },
   "outputs": [
    {
     "data": {
      "text/plain": [
       "(27595, 20)"
      ]
     },
     "execution_count": 3,
     "metadata": {},
     "output_type": "execute_result"
    }
   ],
   "source": [
    "train_data.shape"
   ]
  },
  {
   "cell_type": "code",
   "execution_count": 4,
   "metadata": {
    "collapsed": false
   },
   "outputs": [
    {
     "data": {
      "text/html": [
       "<div>\n",
       "<table border=\"1\" class=\"dataframe\">\n",
       "  <thead>\n",
       "    <tr style=\"text-align: right;\">\n",
       "      <th></th>\n",
       "      <th>age</th>\n",
       "      <th>job</th>\n",
       "      <th>marital</th>\n",
       "      <th>education</th>\n",
       "      <th>default</th>\n",
       "      <th>housing</th>\n",
       "      <th>loan</th>\n",
       "      <th>contact</th>\n",
       "      <th>month</th>\n",
       "      <th>day_of_week</th>\n",
       "      <th>duration</th>\n",
       "      <th>campaign</th>\n",
       "      <th>pdays</th>\n",
       "      <th>previous</th>\n",
       "      <th>poutcome</th>\n",
       "      <th>emp.var.rate</th>\n",
       "      <th>cons.price.idx</th>\n",
       "      <th>cons.conf.idx</th>\n",
       "      <th>euribor3m</th>\n",
       "      <th>nr.employed</th>\n",
       "    </tr>\n",
       "  </thead>\n",
       "  <tbody>\n",
       "    <tr>\n",
       "      <th>0</th>\n",
       "      <td>26</td>\n",
       "      <td>student</td>\n",
       "      <td>single</td>\n",
       "      <td>high.school</td>\n",
       "      <td>no</td>\n",
       "      <td>no</td>\n",
       "      <td>no</td>\n",
       "      <td>telephone</td>\n",
       "      <td>jun</td>\n",
       "      <td>mon</td>\n",
       "      <td>901</td>\n",
       "      <td>1</td>\n",
       "      <td>999</td>\n",
       "      <td>0</td>\n",
       "      <td>nonexistent</td>\n",
       "      <td>1.4</td>\n",
       "      <td>94.465</td>\n",
       "      <td>-41.8</td>\n",
       "      <td>4.961</td>\n",
       "      <td>5228.1</td>\n",
       "    </tr>\n",
       "    <tr>\n",
       "      <th>1</th>\n",
       "      <td>46</td>\n",
       "      <td>admin.</td>\n",
       "      <td>married</td>\n",
       "      <td>university.degree</td>\n",
       "      <td>no</td>\n",
       "      <td>yes</td>\n",
       "      <td>no</td>\n",
       "      <td>cellular</td>\n",
       "      <td>aug</td>\n",
       "      <td>tue</td>\n",
       "      <td>208</td>\n",
       "      <td>2</td>\n",
       "      <td>999</td>\n",
       "      <td>0</td>\n",
       "      <td>nonexistent</td>\n",
       "      <td>1.4</td>\n",
       "      <td>93.444</td>\n",
       "      <td>-36.1</td>\n",
       "      <td>4.963</td>\n",
       "      <td>5228.1</td>\n",
       "    </tr>\n",
       "    <tr>\n",
       "      <th>2</th>\n",
       "      <td>49</td>\n",
       "      <td>blue-collar</td>\n",
       "      <td>married</td>\n",
       "      <td>basic.4y</td>\n",
       "      <td>unknown</td>\n",
       "      <td>yes</td>\n",
       "      <td>yes</td>\n",
       "      <td>telephone</td>\n",
       "      <td>jun</td>\n",
       "      <td>tue</td>\n",
       "      <td>131</td>\n",
       "      <td>5</td>\n",
       "      <td>999</td>\n",
       "      <td>0</td>\n",
       "      <td>nonexistent</td>\n",
       "      <td>1.4</td>\n",
       "      <td>94.465</td>\n",
       "      <td>-41.8</td>\n",
       "      <td>4.864</td>\n",
       "      <td>5228.1</td>\n",
       "    </tr>\n",
       "    <tr>\n",
       "      <th>3</th>\n",
       "      <td>31</td>\n",
       "      <td>technician</td>\n",
       "      <td>married</td>\n",
       "      <td>university.degree</td>\n",
       "      <td>no</td>\n",
       "      <td>no</td>\n",
       "      <td>no</td>\n",
       "      <td>cellular</td>\n",
       "      <td>jul</td>\n",
       "      <td>tue</td>\n",
       "      <td>404</td>\n",
       "      <td>1</td>\n",
       "      <td>999</td>\n",
       "      <td>0</td>\n",
       "      <td>nonexistent</td>\n",
       "      <td>-2.9</td>\n",
       "      <td>92.469</td>\n",
       "      <td>-33.6</td>\n",
       "      <td>1.044</td>\n",
       "      <td>5076.2</td>\n",
       "    </tr>\n",
       "    <tr>\n",
       "      <th>4</th>\n",
       "      <td>42</td>\n",
       "      <td>housemaid</td>\n",
       "      <td>married</td>\n",
       "      <td>university.degree</td>\n",
       "      <td>no</td>\n",
       "      <td>yes</td>\n",
       "      <td>no</td>\n",
       "      <td>telephone</td>\n",
       "      <td>nov</td>\n",
       "      <td>mon</td>\n",
       "      <td>85</td>\n",
       "      <td>1</td>\n",
       "      <td>999</td>\n",
       "      <td>0</td>\n",
       "      <td>nonexistent</td>\n",
       "      <td>-0.1</td>\n",
       "      <td>93.200</td>\n",
       "      <td>-42.0</td>\n",
       "      <td>4.191</td>\n",
       "      <td>5195.8</td>\n",
       "    </tr>\n",
       "  </tbody>\n",
       "</table>\n",
       "</div>"
      ],
      "text/plain": [
       "   age          job  marital          education  default housing loan  \\\n",
       "0   26      student   single        high.school       no      no   no   \n",
       "1   46       admin.  married  university.degree       no     yes   no   \n",
       "2   49  blue-collar  married           basic.4y  unknown     yes  yes   \n",
       "3   31   technician  married  university.degree       no      no   no   \n",
       "4   42    housemaid  married  university.degree       no     yes   no   \n",
       "\n",
       "     contact month day_of_week  duration  campaign  pdays  previous  \\\n",
       "0  telephone   jun         mon       901         1    999         0   \n",
       "1   cellular   aug         tue       208         2    999         0   \n",
       "2  telephone   jun         tue       131         5    999         0   \n",
       "3   cellular   jul         tue       404         1    999         0   \n",
       "4  telephone   nov         mon        85         1    999         0   \n",
       "\n",
       "      poutcome  emp.var.rate  cons.price.idx  cons.conf.idx  euribor3m  \\\n",
       "0  nonexistent           1.4          94.465          -41.8      4.961   \n",
       "1  nonexistent           1.4          93.444          -36.1      4.963   \n",
       "2  nonexistent           1.4          94.465          -41.8      4.864   \n",
       "3  nonexistent          -2.9          92.469          -33.6      1.044   \n",
       "4  nonexistent          -0.1          93.200          -42.0      4.191   \n",
       "\n",
       "   nr.employed  \n",
       "0       5228.1  \n",
       "1       5228.1  \n",
       "2       5228.1  \n",
       "3       5076.2  \n",
       "4       5195.8  "
      ]
     },
     "execution_count": 4,
     "metadata": {},
     "output_type": "execute_result"
    }
   ],
   "source": [
    "train_data.head()"
   ]
  },
  {
   "cell_type": "code",
   "execution_count": 5,
   "metadata": {
    "collapsed": false
   },
   "outputs": [
    {
     "data": {
      "image/png": "[encoded data removed]",
      "text/plain": [
       "<matplotlib.figure.Figure at 0x1b7a8943198>"
      ]
     },
     "metadata": {},
     "output_type": "display_data"
    }
   ],
   "source": [
    "train_data.hist(figsize=(15, 15));"
   ]
  },
  {
   "cell_type": "markdown",
   "metadata": {},
   "source": [
    "## Обработка категориальных признаков"
   ]
  },
  {
   "cell_type": "markdown",
   "metadata": {},
   "source": [
    "### Удаление выбросов"
   ]
  },
  {
   "cell_type": "code",
   "execution_count": 6,
   "metadata": {
    "collapsed": false
   },
   "outputs": [
    {
     "name": "stdout",
     "output_type": "stream",
     "text": [
      "unknown    57\n",
      "Name: marital, dtype: int64\n",
      "unknown    222\n",
      "Name: job, dtype: int64\n",
      "unknown    672\n",
      "Name: loan, dtype: int64\n",
      "unknown    1162\n",
      "Name: education, dtype: int64\n"
     ]
    }
   ],
   "source": [
    "print (train_data['marital'][train_data.marital == 'unknown'].value_counts())\n",
    "print (train_data['job'][train_data.job == 'unknown'].value_counts())\n",
    "print (train_data.loan[train_data.loan == 'unknown'].value_counts())\n",
    "print (train_data.education[train_data.education == 'unknown'].value_counts())"
   ]
  },
  {
   "cell_type": "code",
   "execution_count": 7,
   "metadata": {
    "collapsed": false
   },
   "outputs": [],
   "source": [
    "obj_to_drop = []\n",
    "index_drop = list()\n",
    "\n",
    "obj_to_drop.append(train_data[train_data.marital == 'unknown'].index)\n",
    "obj_to_drop.append(train_data[train_data.job == 'unknown'].index)\n",
    "obj_to_drop.append(train_data[train_data.loan == 'unknown'].index)\n",
    "obj_to_drop.append(train_data[train_data.education == 'unknown'].index)\n",
    "\n",
    "for i in range(len(obj_to_drop)):\n",
    "    for j in range(len(obj_to_drop[i])):\n",
    "        index_drop.append(obj_to_drop[i][j])"
   ]
  },
  {
   "cell_type": "code",
   "execution_count": 8,
   "metadata": {
    "collapsed": false
   },
   "outputs": [],
   "source": [
    "train_data = train_data.drop(index_drop).reset_index(drop=True)\n",
    "train_target = train_target.drop(index_drop).reset_index(drop=True)"
   ]
  },
  {
   "cell_type": "code",
   "execution_count": 9,
   "metadata": {
    "collapsed": true
   },
   "outputs": [],
   "source": [
    "def prepare_data(data):\n",
    "    prepared_data = data.copy()\n",
    "    prepared_data = prepared_data.drop(['previous', 'default'], axis = 1)\n",
    "    prepared_data['housing'] = prepared_data.apply(lambda row: 1 if row['housing'] == 'yes' else 0, axis=1)\n",
    "    prepared_data['loan'] = prepared_data.apply(lambda row: 1 if row['loan'] == 'yes' else 0, axis=1)\n",
    "    prepared_data['pdays'] = prepared_data.apply(lambda row: 0 if row['pdays'] == 999 else 1, axis=1)\n",
    "    prepared_data['previous'] = prepared_data.apply(lambda row: 0 if row['previous'] != 999 else 1, axis=1)\n",
    "    return prepared_data"
   ]
  },
  {
   "cell_type": "markdown",
   "metadata": {},
   "source": [
    "### Кодирование категориальных признаков"
   ]
  },
  {
   "cell_type": "code",
   "execution_count": 11,
   "metadata": {
    "collapsed": false
   },
   "outputs": [],
   "source": [
    "train_data = prepare_data(train_data)"
   ]
  },
  {
   "cell_type": "code",
   "execution_count": 12,
   "metadata": {
    "collapsed": true
   },
   "outputs": [],
   "source": [
    "categorical_features = ['job', 'marital', 'education', 'contact', 'month', 'day_of_week', \n",
    "                        'poutcome']"
   ]
  },
  {
   "cell_type": "code",
   "execution_count": 13,
   "metadata": {
    "collapsed": false
   },
   "outputs": [],
   "source": [
    "from sklearn.feature_extraction import DictVectorizer\n",
    "\n",
    "dict_vectorizer = DictVectorizer()\n",
    "features = train_data[categorical_features].T.to_dict().values()\n",
    "X_category = dict_vectorizer.fit_transform(features).toarray()\n",
    "X_category = pd.DataFrame(X_category, columns=dict_vectorizer.get_feature_names())\n",
    "\n",
    "df = pd.concat([X_category,train_data], axis = 1, join='inner')\n",
    "df = df.drop(categorical_features, axis = 1)"
   ]
  },
  {
   "cell_type": "markdown",
   "metadata": {},
   "source": [
    "## Undersampling"
   ]
  },
  {
   "cell_type": "code",
   "execution_count": 14,
   "metadata": {
    "collapsed": false
   },
   "outputs": [
    {
     "name": "stderr",
     "output_type": "stream",
     "text": [
      "C:\\Users\\Павел\\Anaconda3\\lib\\site-packages\\sklearn\\cross_validation.py:44: DeprecationWarning: This module was deprecated in version 0.18 in favor of the model_selection module into which all the refactored classes and functions are moved. Also note that the interface of the new CV iterators are different from that of this module. This module will be removed in 0.20.\n",
      "  \"This module will be removed in 0.20.\", DeprecationWarning)\n"
     ]
    }
   ],
   "source": [
    "from imblearn.under_sampling import RandomUnderSampler\n",
    "sampler = RandomUnderSampler()\n",
    "df_s, train_target_s = sampler.fit_sample(df, train_target['Answ'].values.ravel())\n",
    "df_s = pd.DataFrame(df_s, columns = df.columns)\n",
    "train_target_s = pd.DataFrame(train_target_s, columns = ['Answ'])"
   ]
  },
  {
   "cell_type": "code",
   "execution_count": 15,
   "metadata": {
    "collapsed": false
   },
   "outputs": [
    {
     "data": {
      "text/plain": [
       "1    2850\n",
       "0    2850\n",
       "Name: Answ, dtype: int64"
      ]
     },
     "execution_count": 15,
     "metadata": {},
     "output_type": "execute_result"
    }
   ],
   "source": [
    "train_target_s['Answ'].value_counts()"
   ]
  },
  {
   "cell_type": "code",
   "execution_count": 16,
   "metadata": {
    "collapsed": true
   },
   "outputs": [],
   "source": [
    "train_target_s = train_target_s.Answ.values"
   ]
  },
  {
   "cell_type": "markdown",
   "metadata": {},
   "source": [
    "# Обработка тестовой выборки"
   ]
  },
  {
   "cell_type": "code",
   "execution_count": 18,
   "metadata": {
    "collapsed": false
   },
   "outputs": [],
   "source": [
    "test_data = prepare_data(test_data)\n",
    "\n",
    "features = test_data[categorical_features].T.to_dict().values()\n",
    "X_category_t = dict_vectorizer.transform(features).toarray()\n",
    "X_category_t = pd.DataFrame(X_category_t, columns=dict_vectorizer.get_feature_names())\n",
    "\n",
    "test_data = pd.concat([X_category_t,test_data], axis = 1, join='inner')\n",
    "test_data = test_data.drop(categorical_features, axis = 1)"
   ]
  },
  {
   "cell_type": "markdown",
   "metadata": {},
   "source": [
    "# Разбиение выборки"
   ]
  },
  {
   "cell_type": "code",
   "execution_count": 19,
   "metadata": {
    "collapsed": true
   },
   "outputs": [],
   "source": [
    "from sklearn.model_selection import train_test_split"
   ]
  },
  {
   "cell_type": "code",
   "execution_count": 20,
   "metadata": {
    "collapsed": false
   },
   "outputs": [],
   "source": [
    "RANDOM_SEED = 664433\n",
    "\n",
    "#выборка без undersamping\n",
    "X_train, X_test, y_train, y_test = train_test_split(df, train_target, test_size=0.3, stratify=train_target, \n",
    "                                                    random_state=RANDOM_SEED)\n",
    "#выборка с undersampling\n",
    "X_train_s, X_test_s, y_train_s, y_test_s = train_test_split(df_s, train_target_s, test_size=0.3, stratify=train_target_s, \n",
    "                                                    random_state=RANDOM_SEED)"
   ]
  },
  {
   "cell_type": "markdown",
   "metadata": {},
   "source": [
    "# Feature importances"
   ]
  },
  {
   "cell_type": "code",
   "execution_count": 21,
   "metadata": {
    "collapsed": true
   },
   "outputs": [],
   "source": [
    "from sklearn.model_selection import GridSearchCV\n",
    "from sklearn.ensemble import RandomForestClassifier"
   ]
  },
  {
   "cell_type": "code",
   "execution_count": 22,
   "metadata": {
    "collapsed": true
   },
   "outputs": [],
   "source": [
    "def weights_print(weights):\n",
    "    ind = weights.argsort()[::-1]\n",
    "    print('5 most important feature for the model:')\n",
    "    for i, index in enumerate(ind[:5]):\n",
    "        print ('\\t{})  {} has {:.4f} weight'.format(i+1, X_train.columns[index], weights[index]))\n",
    "    return ind[:5]"
   ]
  },
  {
   "cell_type": "code",
   "execution_count": 23,
   "metadata": {
    "collapsed": false
   },
   "outputs": [
    {
     "name": "stderr",
     "output_type": "stream",
     "text": [
      "C:\\Users\\Павел\\Anaconda3\\lib\\site-packages\\ipykernel\\__main__.py:2: DataConversionWarning: A column-vector y was passed when a 1d array was expected. Please change the shape of y to (n_samples,), for example using ravel().\n",
      "  from ipykernel import kernelapp as app\n"
     ]
    },
    {
     "name": "stdout",
     "output_type": "stream",
     "text": [
      "5 most important feature for the model:\n",
      "\t1)  duration has 0.3024 weight\n",
      "\t2)  euribor3m has 0.0911 weight\n",
      "\t3)  age has 0.0776 weight\n",
      "\t4)  poutcome=success has 0.0487 weight\n",
      "\t5)  campaign has 0.0403 weight\n"
     ]
    }
   ],
   "source": [
    "feat_imp = RandomForestClassifier(random_state=RANDOM_SEED)\n",
    "feat_imp.fit(X_train, y_train);\n",
    "feat = weights_print(feat_imp.feature_importances_)"
   ]
  },
  {
   "cell_type": "markdown",
   "metadata": {},
   "source": [
    "# Применение моделей"
   ]
  },
  {
   "cell_type": "markdown",
   "metadata": {},
   "source": [
    "## 1. RandomForest"
   ]
  },
  {
   "cell_type": "code",
   "execution_count": 24,
   "metadata": {
    "collapsed": false
   },
   "outputs": [
    {
     "name": "stdout",
     "output_type": "stream",
     "text": [
      "Fitting 3 folds for each of 168 candidates, totalling 504 fits\n"
     ]
    },
    {
     "name": "stderr",
     "output_type": "stream",
     "text": [
      "[Parallel(n_jobs=1)]: Done 504 out of 504 | elapsed:   30.4s finished\n"
     ]
    }
   ],
   "source": [
    "parameters = {'criterion':['gini', 'entropy'], 'max_features':[1, 2, 3, 4, 5, 'log2', 'auto'],\n",
    "         'max_depth':[2, 4, 8, 16, 32, 64], 'class_weight':['balanced', None]}\n",
    "\n",
    "estimator = RandomForestClassifier(random_state=RANDOM_SEED)\n",
    "rfc = GridSearchCV(estimator, parameters, scoring='roc_auc', verbose = 1)\n",
    "\n",
    "rfc.fit(X_train_s, y_train_s);"
   ]
  },
  {
   "cell_type": "code",
   "execution_count": 25,
   "metadata": {
    "collapsed": false
   },
   "outputs": [
    {
     "name": "stdout",
     "output_type": "stream",
     "text": [
      "Param:  {'criterion': 'entropy', 'max_depth': 8, 'max_features': 'auto', 'class_weight': 'balanced'}\n",
      "\n",
      "ROC-AUC score with all features: 0.9383489592698193\n"
     ]
    }
   ],
   "source": [
    "print ('Param: ', rfc.best_params_)\n",
    "print ('')\n",
    "\n",
    "rfc_pred = rfc.predict_proba(X_test)\n",
    "rfc_pred_auc = roc_auc_score(y_test, rfc_pred[:,1])\n",
    "print ('ROC-AUC score with all features: {}'.format(rfc_pred_auc))"
   ]
  },
  {
   "cell_type": "markdown",
   "metadata": {},
   "source": [
    "# 2. SVM"
   ]
  },
  {
   "cell_type": "raw",
   "metadata": {
    "collapsed": true
   },
   "source": [
    "from sklearn.svm import SVC\n",
    "parameters = {'C': np.linspace(0.01, 0.03, num=5), \n",
    "              'class_weight':['balanced', None], 'kernel':['linear'],\n",
    "              'decision_function_shape' : ['ovo', 'ovr', None]}\n",
    "\n",
    "estimator = SVC()\n",
    "svc = GridSearchCV(estimator, parameters, scoring='roc_auc', verbose = 1, n_jobs = -1)\n",
    "\n",
    "svc.fit(X_train, y_train);\n",
    "\n",
    "print ('Param: ', svc.best_params_)\n",
    "\n",
    "svc_pred = svc.predict_proba(X_test_s)\n",
    "svc_pred_auc = roc_auc_score(y_test_s, svc_pred[:,1])\n",
    "\n",
    "print ('ROC-AUC score with all features: {}'.format(svc_pred_auc))"
   ]
  },
  {
   "cell_type": "markdown",
   "metadata": {},
   "source": [
    "## 3. k-NN"
   ]
  },
  {
   "cell_type": "code",
   "execution_count": 26,
   "metadata": {
    "collapsed": true
   },
   "outputs": [],
   "source": [
    "from sklearn.neighbors import KNeighborsClassifier"
   ]
  },
  {
   "cell_type": "code",
   "execution_count": 27,
   "metadata": {
    "collapsed": false,
    "scrolled": true
   },
   "outputs": [
    {
     "name": "stdout",
     "output_type": "stream",
     "text": [
      "Fitting 3 folds for each of 144 candidates, totalling 432 fits\n"
     ]
    },
    {
     "name": "stderr",
     "output_type": "stream",
     "text": [
      "[Parallel(n_jobs=-1)]: Done  46 tasks      | elapsed:    8.1s\n",
      "[Parallel(n_jobs=-1)]: Done 196 tasks      | elapsed:   29.4s\n",
      "[Parallel(n_jobs=-1)]: Done 432 out of 432 | elapsed:  1.8min finished\n"
     ]
    }
   ],
   "source": [
    "parameters = {'n_neighbors': [30, 50, 70], 'weights': ['uniform', 'distance'], \n",
    "              'algorithm':['auto', 'ball_tree', 'kd_tree', 'brute'], \n",
    "              'leaf_size' : [20, 30, 50], 'p':[1, 2]}\n",
    "\n",
    "estimator = KNeighborsClassifier()\n",
    "knn = GridSearchCV(estimator, parameters, scoring='roc_auc', verbose = 1, n_jobs = -1)\n",
    "knn.fit(X_train_s, y_train_s);"
   ]
  },
  {
   "cell_type": "code",
   "execution_count": 28,
   "metadata": {
    "collapsed": false
   },
   "outputs": [
    {
     "name": "stdout",
     "output_type": "stream",
     "text": [
      "Param:  {'algorithm': 'ball_tree', 'p': 1, 'weights': 'distance', 'n_neighbors': 70, 'leaf_size': 50}\n",
      "\n",
      "ROC-AUC score with all features: 0.9416996682739988\n"
     ]
    }
   ],
   "source": [
    "print ('Param: ', knn.best_params_)\n",
    "print ('')\n",
    "knn_pred = knn.predict_proba(X_test_s)\n",
    "knn_pred_auc = roc_auc_score(y_test_s, knn_pred[:,1])\n",
    "\n",
    "print ('ROC-AUC score with all features: {}'.format(knn_pred_auc))"
   ]
  },
  {
   "cell_type": "markdown",
   "metadata": {},
   "source": [
    "## GradBoost"
   ]
  },
  {
   "cell_type": "code",
   "execution_count": 29,
   "metadata": {
    "collapsed": false
   },
   "outputs": [
    {
     "name": "stdout",
     "output_type": "stream",
     "text": [
      "Fitting 3 folds for each of 56 candidates, totalling 168 fits\n"
     ]
    },
    {
     "name": "stderr",
     "output_type": "stream",
     "text": [
      "[Parallel(n_jobs=-1)]: Done  46 tasks      | elapsed:   14.5s\n",
      "[Parallel(n_jobs=-1)]: Done 168 out of 168 | elapsed:  1.2min finished\n"
     ]
    }
   ],
   "source": [
    "from sklearn.ensemble import GradientBoostingClassifier\n",
    "\n",
    "parameters = {'loss': ['deviance', 'exponential'], 'max_features':[1, 2, 3, 4, 5, 'log2', 'auto'], 'presort':[True, False],\n",
    "         'n_estimators':[200, 300], 'min_samples_leaf' : [3]}\n",
    "\n",
    "estimator = GradientBoostingClassifier(random_state=RANDOM_SEED)\n",
    "gbc = GridSearchCV(estimator, parameters, scoring='roc_auc', verbose = 1, n_jobs = -1)\n",
    "\n",
    "gbc.fit(X_train_s, y_train_s);"
   ]
  },
  {
   "cell_type": "code",
   "execution_count": 30,
   "metadata": {
    "collapsed": false
   },
   "outputs": [
    {
     "name": "stdout",
     "output_type": "stream",
     "text": [
      "Param:  {'max_features': 'auto', 'n_estimators': 300, 'loss': 'exponential', 'presort': False, 'min_samples_leaf': 3}\n",
      "\n",
      "ROC-AUC score with all features: 0.953540576587668\n"
     ]
    }
   ],
   "source": [
    "print ('Param: ', gbc.best_params_)\n",
    "print ('')\n",
    "gbc_pred = gbc.predict_proba(X_test_s)\n",
    "gbc_pred_auc = roc_auc_score(y_test_s, gbc_pred[:, 1])\n",
    "\n",
    "print ('ROC-AUC score with all features: {}'.format(gbc_pred_auc))"
   ]
  },
  {
   "cell_type": "markdown",
   "metadata": {},
   "source": [
    "## 5. VotingClassifier"
   ]
  },
  {
   "cell_type": "code",
   "execution_count": 31,
   "metadata": {
    "collapsed": true
   },
   "outputs": [],
   "source": [
    "from sklearn.ensemble import VotingClassifier"
   ]
  },
  {
   "cell_type": "code",
   "execution_count": 32,
   "metadata": {
    "collapsed": false
   },
   "outputs": [
    {
     "name": "stdout",
     "output_type": "stream",
     "text": [
      "ROC-AUC score with all features: 0.9526021681885025\n"
     ]
    }
   ],
   "source": [
    "eclf = VotingClassifier(estimators=[('rfc', rfc.best_estimator_), \n",
    "                                    ('gbc', gbc.best_estimator_), \n",
    "                                    ('knn', knn.best_estimator_)], voting='soft')\n",
    "\n",
    "eclf.fit(X_train_s, y_train_s);\n",
    "\n",
    "eclf_pred = eclf.predict_proba(X_test_s)\n",
    "eclf_pred_auc = roc_auc_score(y_test_s, eclf_pred[:,1])\n",
    "\n",
    "print ('ROC-AUC score with all features: {}'.format(eclf_pred_auc))"
   ]
  },
  {
   "cell_type": "markdown",
   "metadata": {},
   "source": [
    "## XGBOOST"
   ]
  },
  {
   "cell_type": "code",
   "execution_count": 33,
   "metadata": {
    "collapsed": false
   },
   "outputs": [],
   "source": [
    "import os \n",
    "mingw_path = 'C:\\\\Program Files\\\\mingw-w64\\\\x86_64-5.3.0-posix-seh-rt_v4-rev0\\\\mingw64\\\\bin' \n",
    "os.environ['PATH'] = mingw_path + ';' + os.environ['PATH'] "
   ]
  },
  {
   "cell_type": "code",
   "execution_count": 34,
   "metadata": {
    "collapsed": false
   },
   "outputs": [],
   "source": [
    "from xgboost import XGBClassifier \n",
    "\n",
    "estimator = XGBClassifier(seed=RANDOM_SEED, reg_alpha=0.005, reg_lambda=0.004) \n",
    "parameters = {'max_depth': range(2, 10), 'n_estimators': [2, 4, 5, 6, 8, 15, 50, 65, 70, 80], 'objective' : \n",
    "['reg:linear', 'binary:logistic', 'binary:logitraw', 'rank:pairwise'], \n",
    "'gamma': [0, .2, .3]} \n",
    "\n",
    "xgb = GridSearchCV(estimator, parameters, scoring='roc_auc', verbose = 1, n_jobs = -1) "
   ]
  },
  {
   "cell_type": "code",
   "execution_count": 35,
   "metadata": {
    "collapsed": false,
    "scrolled": true
   },
   "outputs": [
    {
     "name": "stdout",
     "output_type": "stream",
     "text": [
      "Fitting 3 folds for each of 960 candidates, totalling 2880 fits\n"
     ]
    },
    {
     "name": "stderr",
     "output_type": "stream",
     "text": [
      "[Parallel(n_jobs=-1)]: Done  46 tasks      | elapsed:   11.5s\n",
      "[Parallel(n_jobs=-1)]: Done 196 tasks      | elapsed:  1.3min\n",
      "[Parallel(n_jobs=-1)]: Done 446 tasks      | elapsed:  3.8min\n",
      "[Parallel(n_jobs=-1)]: Done 796 tasks      | elapsed:  8.8min\n",
      "[Parallel(n_jobs=-1)]: Done 1246 tasks      | elapsed: 14.8min\n",
      "[Parallel(n_jobs=-1)]: Done 1796 tasks      | elapsed: 23.0min\n",
      "[Parallel(n_jobs=-1)]: Done 2446 tasks      | elapsed: 30.0min\n",
      "[Parallel(n_jobs=-1)]: Done 2880 out of 2880 | elapsed: 38.0min finished\n"
     ]
    }
   ],
   "source": [
    "xgb.fit(X_train, y_train['Answ'].values);"
   ]
  },
  {
   "cell_type": "code",
   "execution_count": 36,
   "metadata": {
    "collapsed": false
   },
   "outputs": [
    {
     "name": "stdout",
     "output_type": "stream",
     "text": [
      "Param:  {'max_depth': 4, 'n_estimators': 70, 'gamma': 0, 'objective': 'binary:logistic'}\n",
      "\n",
      "ROC-AUC score with all features: 0.9455040113705444\n"
     ]
    }
   ],
   "source": [
    "print ('Param: ', xgb.best_params_) \n",
    "print ('') \n",
    "xgb_pred = xgb.predict_proba(X_test) \n",
    "xgb_pred_auc = roc_auc_score(y_test, xgb_pred[:, 1]) \n",
    "\n",
    "print ('ROC-AUC score with all features: {}'.format(xgb_pred_auc))"
   ]
  },
  {
   "cell_type": "markdown",
   "metadata": {},
   "source": [
    "## Прогноз"
   ]
  },
  {
   "cell_type": "code",
   "execution_count": 37,
   "metadata": {
    "collapsed": true
   },
   "outputs": [],
   "source": [
    "xgb_prediction = xgb.predict_proba(test_data)[:,1]\n",
    "xgb_prediction = pd.DataFrame(xgb_prediction, index = np.arange(0, xgb_prediction.shape[0]), columns=['Prediction'])\n",
    "xgb_prediction.to_csv('xgb_pred', index_label='Id')"
   ]
  }
 ],
 "metadata": {
  "anaconda-cloud": {},
  "kernelspec": {
   "display_name": "Python [conda root]",
   "language": "python",
   "name": "conda-root-py"
  },
  "language_info": {
   "codemirror_mode": {
    "name": "ipython",
    "version": 3
   },
   "file_extension": ".py",
   "mimetype": "text/x-python",
   "name": "python",
   "nbconvert_exporter": "python",
   "pygments_lexer": "ipython3",
   "version": "3.5.2"
  }
 },
 "nbformat": 4,
 "nbformat_minor": 1
}

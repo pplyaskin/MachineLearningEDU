{
 "cells": [
  {
   "cell_type": "code",
   "execution_count": 1,
   "metadata": {
    "collapsed": false
   },
   "outputs": [],
   "source": [
    "import numpy as np\n",
    "import pandas as pd\n",
    "import sklearn\n",
    "import os\n",
    "import string\n",
    "from matplotlib import pyplot as plt\n",
    "%matplotlib inline"
   ]
  },
  {
   "cell_type": "markdown",
   "metadata": {},
   "source": [
    "## Данные"
   ]
  },
  {
   "cell_type": "code",
   "execution_count": 2,
   "metadata": {
    "collapsed": false
   },
   "outputs": [],
   "source": [
    "X_train = pd.read_csv(\"train_data.csv\", sep = ',')\n",
    "y_train = pd.read_csv(\"train_target.csv\", sep = ',', header = None)\n",
    "X_test = pd.read_csv(\"test_data.csv\", sep = ',', index_col = 0)"
   ]
  },
  {
   "cell_type": "code",
   "execution_count": 3,
   "metadata": {
    "collapsed": false
   },
   "outputs": [
    {
     "data": {
      "text/html": [
       "<div>\n",
       "<table border=\"1\" class=\"dataframe\">\n",
       "  <thead>\n",
       "    <tr style=\"text-align: right;\">\n",
       "      <th></th>\n",
       "      <th>age</th>\n",
       "      <th>job</th>\n",
       "      <th>marital</th>\n",
       "      <th>education</th>\n",
       "      <th>default</th>\n",
       "      <th>housing</th>\n",
       "      <th>loan</th>\n",
       "      <th>contact</th>\n",
       "      <th>month</th>\n",
       "      <th>day_of_week</th>\n",
       "      <th>duration</th>\n",
       "      <th>campaign</th>\n",
       "      <th>pdays</th>\n",
       "      <th>previous</th>\n",
       "      <th>poutcome</th>\n",
       "      <th>emp.var.rate</th>\n",
       "      <th>cons.price.idx</th>\n",
       "      <th>cons.conf.idx</th>\n",
       "      <th>euribor3m</th>\n",
       "      <th>nr.employed</th>\n",
       "    </tr>\n",
       "  </thead>\n",
       "  <tbody>\n",
       "    <tr>\n",
       "      <th>0</th>\n",
       "      <td>26</td>\n",
       "      <td>student</td>\n",
       "      <td>single</td>\n",
       "      <td>high.school</td>\n",
       "      <td>no</td>\n",
       "      <td>no</td>\n",
       "      <td>no</td>\n",
       "      <td>telephone</td>\n",
       "      <td>jun</td>\n",
       "      <td>mon</td>\n",
       "      <td>901</td>\n",
       "      <td>1</td>\n",
       "      <td>999</td>\n",
       "      <td>0</td>\n",
       "      <td>nonexistent</td>\n",
       "      <td>1.4</td>\n",
       "      <td>94.465</td>\n",
       "      <td>-41.8</td>\n",
       "      <td>4.961</td>\n",
       "      <td>5228.1</td>\n",
       "    </tr>\n",
       "    <tr>\n",
       "      <th>1</th>\n",
       "      <td>46</td>\n",
       "      <td>admin.</td>\n",
       "      <td>married</td>\n",
       "      <td>university.degree</td>\n",
       "      <td>no</td>\n",
       "      <td>yes</td>\n",
       "      <td>no</td>\n",
       "      <td>cellular</td>\n",
       "      <td>aug</td>\n",
       "      <td>tue</td>\n",
       "      <td>208</td>\n",
       "      <td>2</td>\n",
       "      <td>999</td>\n",
       "      <td>0</td>\n",
       "      <td>nonexistent</td>\n",
       "      <td>1.4</td>\n",
       "      <td>93.444</td>\n",
       "      <td>-36.1</td>\n",
       "      <td>4.963</td>\n",
       "      <td>5228.1</td>\n",
       "    </tr>\n",
       "    <tr>\n",
       "      <th>2</th>\n",
       "      <td>49</td>\n",
       "      <td>blue-collar</td>\n",
       "      <td>married</td>\n",
       "      <td>basic.4y</td>\n",
       "      <td>unknown</td>\n",
       "      <td>yes</td>\n",
       "      <td>yes</td>\n",
       "      <td>telephone</td>\n",
       "      <td>jun</td>\n",
       "      <td>tue</td>\n",
       "      <td>131</td>\n",
       "      <td>5</td>\n",
       "      <td>999</td>\n",
       "      <td>0</td>\n",
       "      <td>nonexistent</td>\n",
       "      <td>1.4</td>\n",
       "      <td>94.465</td>\n",
       "      <td>-41.8</td>\n",
       "      <td>4.864</td>\n",
       "      <td>5228.1</td>\n",
       "    </tr>\n",
       "    <tr>\n",
       "      <th>3</th>\n",
       "      <td>31</td>\n",
       "      <td>technician</td>\n",
       "      <td>married</td>\n",
       "      <td>university.degree</td>\n",
       "      <td>no</td>\n",
       "      <td>no</td>\n",
       "      <td>no</td>\n",
       "      <td>cellular</td>\n",
       "      <td>jul</td>\n",
       "      <td>tue</td>\n",
       "      <td>404</td>\n",
       "      <td>1</td>\n",
       "      <td>999</td>\n",
       "      <td>0</td>\n",
       "      <td>nonexistent</td>\n",
       "      <td>-2.9</td>\n",
       "      <td>92.469</td>\n",
       "      <td>-33.6</td>\n",
       "      <td>1.044</td>\n",
       "      <td>5076.2</td>\n",
       "    </tr>\n",
       "    <tr>\n",
       "      <th>4</th>\n",
       "      <td>42</td>\n",
       "      <td>housemaid</td>\n",
       "      <td>married</td>\n",
       "      <td>university.degree</td>\n",
       "      <td>no</td>\n",
       "      <td>yes</td>\n",
       "      <td>no</td>\n",
       "      <td>telephone</td>\n",
       "      <td>nov</td>\n",
       "      <td>mon</td>\n",
       "      <td>85</td>\n",
       "      <td>1</td>\n",
       "      <td>999</td>\n",
       "      <td>0</td>\n",
       "      <td>nonexistent</td>\n",
       "      <td>-0.1</td>\n",
       "      <td>93.200</td>\n",
       "      <td>-42.0</td>\n",
       "      <td>4.191</td>\n",
       "      <td>5195.8</td>\n",
       "    </tr>\n",
       "  </tbody>\n",
       "</table>\n",
       "</div>"
      ],
      "text/plain": [
       "   age          job  marital          education  default housing loan  \\\n",
       "0   26      student   single        high.school       no      no   no   \n",
       "1   46       admin.  married  university.degree       no     yes   no   \n",
       "2   49  blue-collar  married           basic.4y  unknown     yes  yes   \n",
       "3   31   technician  married  university.degree       no      no   no   \n",
       "4   42    housemaid  married  university.degree       no     yes   no   \n",
       "\n",
       "     contact month day_of_week  duration  campaign  pdays  previous  \\\n",
       "0  telephone   jun         mon       901         1    999         0   \n",
       "1   cellular   aug         tue       208         2    999         0   \n",
       "2  telephone   jun         tue       131         5    999         0   \n",
       "3   cellular   jul         tue       404         1    999         0   \n",
       "4  telephone   nov         mon        85         1    999         0   \n",
       "\n",
       "      poutcome  emp.var.rate  cons.price.idx  cons.conf.idx  euribor3m  \\\n",
       "0  nonexistent           1.4          94.465          -41.8      4.961   \n",
       "1  nonexistent           1.4          93.444          -36.1      4.963   \n",
       "2  nonexistent           1.4          94.465          -41.8      4.864   \n",
       "3  nonexistent          -2.9          92.469          -33.6      1.044   \n",
       "4  nonexistent          -0.1          93.200          -42.0      4.191   \n",
       "\n",
       "   nr.employed  \n",
       "0       5228.1  \n",
       "1       5228.1  \n",
       "2       5228.1  \n",
       "3       5076.2  \n",
       "4       5195.8  "
      ]
     },
     "execution_count": 3,
     "metadata": {},
     "output_type": "execute_result"
    }
   ],
   "source": [
    "X_train.head()"
   ]
  },
  {
   "cell_type": "code",
   "execution_count": 4,
   "metadata": {
    "collapsed": false
   },
   "outputs": [
    {
     "data": {
      "text/plain": [
       "(27595, 20)"
      ]
     },
     "execution_count": 4,
     "metadata": {},
     "output_type": "execute_result"
    }
   ],
   "source": [
    "X_train.shape"
   ]
  },
  {
   "cell_type": "code",
   "execution_count": 5,
   "metadata": {
    "collapsed": false
   },
   "outputs": [
    {
     "data": {
      "image/png": "[encoded data removed]",
      "text/plain": [
       "<matplotlib.figure.Figure at 0xaa91400>"
      ]
     },
     "metadata": {},
     "output_type": "display_data"
    }
   ],
   "source": [
    "X_train.hist(figsize = (15, 15));"
   ]
  },
  {
   "cell_type": "code",
   "execution_count": 6,
   "metadata": {
    "collapsed": false
   },
   "outputs": [
    {
     "data": {
      "text/plain": [
       "(27595, 1)"
      ]
     },
     "execution_count": 6,
     "metadata": {},
     "output_type": "execute_result"
    }
   ],
   "source": [
    "y_train.shape"
   ]
  },
  {
   "cell_type": "code",
   "execution_count": 7,
   "metadata": {
    "collapsed": false
   },
   "outputs": [
    {
     "data": {
      "text/plain": [
       "Index([u'age', u'job', u'marital', u'education', u'default', u'housing',\n",
       "       u'loan', u'contact', u'month', u'day_of_week', u'duration', u'campaign',\n",
       "       u'pdays', u'previous', u'poutcome', u'emp.var.rate', u'cons.price.idx',\n",
       "       u'cons.conf.idx', u'euribor3m', u'nr.employed'],\n",
       "      dtype='object')"
      ]
     },
     "execution_count": 7,
     "metadata": {},
     "output_type": "execute_result"
    }
   ],
   "source": [
    "X_train.columns"
   ]
  },
  {
   "cell_type": "code",
   "execution_count": 8,
   "metadata": {
    "collapsed": false
   },
   "outputs": [
    {
     "data": {
      "text/plain": [
       "(27595, 20)"
      ]
     },
     "execution_count": 8,
     "metadata": {},
     "output_type": "execute_result"
    }
   ],
   "source": [
    "X_train.shape"
   ]
  },
  {
   "cell_type": "markdown",
   "metadata": {
    "collapsed": false
   },
   "source": [
    "## Кодирование признаков"
   ]
  },
  {
   "cell_type": "markdown",
   "metadata": {},
   "source": [
    "### Посмотрим на признаки marital, job, default, еducation"
   ]
  },
  {
   "cell_type": "code",
   "execution_count": 9,
   "metadata": {
    "collapsed": false
   },
   "outputs": [
    {
     "name": "stdout",
     "output_type": "stream",
     "text": [
      "married     16692\n",
      "single       7772\n",
      "divorced     3074\n",
      "unknown        57\n",
      "Name: marital, dtype: int64\n",
      "\n",
      "admin.           6996\n",
      "blue-collar      6160\n",
      "technician       4488\n",
      "services         2697\n",
      "management       1994\n",
      "retired          1183\n",
      "entrepreneur      954\n",
      "self-employed     922\n",
      "housemaid         718\n",
      "unemployed        678\n",
      "student           583\n",
      "unknown           222\n",
      "Name: job, dtype: int64\n",
      "\n",
      "no         21800\n",
      "unknown     5792\n",
      "yes            3\n",
      "Name: default, dtype: int64\n",
      "\n",
      "university.degree      8128\n",
      "high.school            6424\n",
      "basic.9y               4065\n",
      "professional.course    3502\n",
      "basic.4y               2777\n",
      "basic.6y               1526\n",
      "unknown                1162\n",
      "illiterate               11\n",
      "Name: education, dtype: int64\n",
      "\n"
     ]
    }
   ],
   "source": [
    "for i in ['marital', 'job', 'default', 'education']:\n",
    "    print (X_train[i].value_counts())\n",
    "    print ('')"
   ]
  },
  {
   "cell_type": "markdown",
   "metadata": {},
   "source": [
    "### Удалим 'unknown' из marital, job, education"
   ]
  },
  {
   "cell_type": "raw",
   "metadata": {
    "collapsed": false
   },
   "source": [
    "ind_drop = X_train[X_train.marital == 'unknown'].index\n",
    "X_train = X_train.drop(ind_drop).reset_index(drop = True)\n",
    "y_train = y_train.drop(ind_drop).reset_index(drop = True)"
   ]
  },
  {
   "cell_type": "raw",
   "metadata": {
    "collapsed": false
   },
   "source": [
    "ind_drop_job = X_train[X_train.job == 'unknown'].index\n",
    "X_train = X_train.drop(ind_drop_job).reset_index(drop = True)\n",
    "y_train = y_train.drop(ind_drop_job).reset_index(drop = True)"
   ]
  },
  {
   "cell_type": "raw",
   "metadata": {
    "collapsed": false
   },
   "source": [
    "ind_drop_edu = X_train[X_train.education == 'unknown'].index\n",
    "X_train = X_train.drop(ind_drop_edu).reset_index(drop = True)\n",
    "y_train = y_train.drop(ind_drop_edu).reset_index(drop = True)"
   ]
  },
  {
   "cell_type": "markdown",
   "metadata": {},
   "source": [
    "### Преобразуем в бинарные оставшиеся признаки marital, contact, loan, housing, pdays и previous"
   ]
  },
  {
   "cell_type": "code",
   "execution_count": 10,
   "metadata": {
    "collapsed": false
   },
   "outputs": [],
   "source": [
    "dict_1 = {'yes' : 0, 'no' : 1, 'unknown' : 1}\n",
    "dict_2 = {'divorced' : 0, 'single' : 0, 'married' : 1} #'unknown' : 0\n",
    "#dict_3 = {'admin.' : 0, 'blue-collar' : 0, 'entrepreneur' : 0, 'management' : 0, 'self-employed' : 0, 'services' : 0, 'technician' : 0,\n",
    "#          'housemaid' : 1, 'retired' : 1,  'student' : 1,  'unemployed' : 1} # 'unknown' : 1\n",
    "dict_4 = {'cellular' : 0, 'telephone' : 1}"
   ]
  },
  {
   "cell_type": "code",
   "execution_count": 11,
   "metadata": {
    "collapsed": true
   },
   "outputs": [],
   "source": [
    "X_train['marital'] = X_train['marital'].map(dict_2)\n",
    "#X_train['job'] = X_train['job'].map(dict_3)\n",
    "X_train['contact'] = X_train['contact'].map(dict_4)\n",
    "\n",
    "X_test['marital'] = X_test['marital'].map(dict_2)\n",
    "#X_test['job'] = X_test['job'].map(dict_3)\n",
    "X_test['contact'] = X_test['contact'].map(dict_4)"
   ]
  },
  {
   "cell_type": "code",
   "execution_count": 12,
   "metadata": {
    "collapsed": false
   },
   "outputs": [
    {
     "data": {
      "text/plain": [
       "(27595, 20)"
      ]
     },
     "execution_count": 12,
     "metadata": {},
     "output_type": "execute_result"
    }
   ],
   "source": [
    "X_train.shape"
   ]
  },
  {
   "cell_type": "code",
   "execution_count": 13,
   "metadata": {
    "collapsed": false
   },
   "outputs": [],
   "source": [
    "for i in ['loan', 'housing']:  \n",
    "    X_train[i] = X_train[i].map(dict_1)\n",
    "    X_test[i] = X_test[i].map(dict_1)"
   ]
  },
  {
   "cell_type": "code",
   "execution_count": 14,
   "metadata": {
    "collapsed": true
   },
   "outputs": [],
   "source": [
    "X_train['pdays_before'] = X_train.apply(lambda row: 1 if row['pdays'] != 999 else 0, axis=1)    \n",
    "X_train = X_train.drop(['default', 'pdays'], axis = 1)"
   ]
  },
  {
   "cell_type": "code",
   "execution_count": 15,
   "metadata": {
    "collapsed": true
   },
   "outputs": [],
   "source": [
    "X_test['pdays_before'] = X_test.apply(lambda row: 1 if row['pdays'] != 999 else 0, axis=1)    \n",
    "X_test = X_test.drop(['default', 'pdays'], axis = 1)"
   ]
  },
  {
   "cell_type": "code",
   "execution_count": 16,
   "metadata": {
    "collapsed": false
   },
   "outputs": [
    {
     "data": {
      "text/plain": [
       "Index([u'age', u'job', u'marital', u'education', u'housing', u'loan',\n",
       "       u'contact', u'month', u'day_of_week', u'duration', u'campaign',\n",
       "       u'previous', u'poutcome', u'emp.var.rate', u'cons.price.idx',\n",
       "       u'cons.conf.idx', u'euribor3m', u'nr.employed', u'pdays_before'],\n",
       "      dtype='object')"
      ]
     },
     "execution_count": 16,
     "metadata": {},
     "output_type": "execute_result"
    }
   ],
   "source": [
    "X_train.columns"
   ]
  },
  {
   "cell_type": "code",
   "execution_count": 17,
   "metadata": {
    "collapsed": true
   },
   "outputs": [],
   "source": [
    "X_train['previous_new'] = X_train.apply(lambda row: 1 if row['previous'] >= 1 else 0, axis=1)\n",
    "X_train = X_train.drop(['previous'], axis = 1)"
   ]
  },
  {
   "cell_type": "code",
   "execution_count": 18,
   "metadata": {
    "collapsed": true
   },
   "outputs": [],
   "source": [
    "X_test['previous_new'] = X_test.apply(lambda row: 1 if row['previous'] >= 1 else 0, axis=1)\n",
    "X_test = X_test.drop(['previous'], axis = 1)"
   ]
  },
  {
   "cell_type": "markdown",
   "metadata": {},
   "source": [
    "### Преобразование категориальных признаков month, day_of_week, poutcome, education, job с помощью DictVectorizer "
   ]
  },
  {
   "cell_type": "code",
   "execution_count": 19,
   "metadata": {
    "collapsed": true
   },
   "outputs": [],
   "source": [
    "from sklearn.feature_extraction import DictVectorizer"
   ]
  },
  {
   "cell_type": "code",
   "execution_count": 20,
   "metadata": {
    "collapsed": true
   },
   "outputs": [],
   "source": [
    "categories = ['month', 'day_of_week', 'poutcome', 'education', 'job']\n",
    "dict_vectorizer = DictVectorizer()\n",
    "features = X_train[categories].T.to_dict().values()\n",
    "X_category = dict_vectorizer.fit_transform(features).toarray()\n",
    "X_category = pd.DataFrame(X_category, columns = dict_vectorizer.get_feature_names())"
   ]
  },
  {
   "cell_type": "code",
   "execution_count": 21,
   "metadata": {
    "collapsed": true
   },
   "outputs": [],
   "source": [
    "features_test = X_test[categories].T.to_dict().values()\n",
    "X_category_test = dict_vectorizer.transform(features_test).toarray()\n",
    "X_category_test = pd.DataFrame(X_category_test, columns = dict_vectorizer.get_feature_names())"
   ]
  },
  {
   "cell_type": "code",
   "execution_count": 22,
   "metadata": {
    "collapsed": true
   },
   "outputs": [],
   "source": [
    "X_train = pd.concat([X_train, X_category], axis = 1)\n",
    "X_train = X_train.drop(['month', 'day_of_week', 'poutcome', 'education', 'job'], axis = 1)"
   ]
  },
  {
   "cell_type": "code",
   "execution_count": 23,
   "metadata": {
    "collapsed": false
   },
   "outputs": [],
   "source": [
    "X_test = pd.concat([X_test, X_category_test], axis = 1)\n",
    "X_test = X_test.drop(['month', 'day_of_week', 'poutcome', 'education', 'job'], axis = 1)"
   ]
  },
  {
   "cell_type": "code",
   "execution_count": 24,
   "metadata": {
    "collapsed": false
   },
   "outputs": [
    {
     "data": {
      "text/plain": [
       "Index([u'age', u'marital', u'housing', u'loan', u'contact', u'duration',\n",
       "       u'campaign', u'emp.var.rate', u'cons.price.idx', u'cons.conf.idx',\n",
       "       u'euribor3m', u'nr.employed', u'pdays_before', u'previous_new',\n",
       "       u'day_of_week=fri', u'day_of_week=mon', u'day_of_week=thu',\n",
       "       u'day_of_week=tue', u'day_of_week=wed', u'education=basic.4y',\n",
       "       u'education=basic.6y', u'education=basic.9y', u'education=high.school',\n",
       "       u'education=illiterate', u'education=professional.course',\n",
       "       u'education=university.degree', u'education=unknown', u'job=admin.',\n",
       "       u'job=blue-collar', u'job=entrepreneur', u'job=housemaid',\n",
       "       u'job=management', u'job=retired', u'job=self-employed',\n",
       "       u'job=services', u'job=student', u'job=technician', u'job=unemployed',\n",
       "       u'job=unknown', u'month=apr', u'month=aug', u'month=dec', u'month=jul',\n",
       "       u'month=jun', u'month=mar', u'month=may', u'month=nov', u'month=oct',\n",
       "       u'month=sep', u'poutcome=failure', u'poutcome=nonexistent',\n",
       "       u'poutcome=success'],\n",
       "      dtype='object')"
      ]
     },
     "execution_count": 24,
     "metadata": {},
     "output_type": "execute_result"
    }
   ],
   "source": [
    "X_train.columns"
   ]
  },
  {
   "cell_type": "code",
   "execution_count": 25,
   "metadata": {
    "collapsed": false
   },
   "outputs": [
    {
     "data": {
      "text/plain": [
       "Index([u'age', u'marital', u'housing', u'loan', u'contact', u'duration',\n",
       "       u'campaign', u'emp.var.rate', u'cons.price.idx', u'cons.conf.idx',\n",
       "       u'euribor3m', u'nr.employed', u'pdays_before', u'previous_new',\n",
       "       u'day_of_week=fri', u'day_of_week=mon', u'day_of_week=thu',\n",
       "       u'day_of_week=tue', u'day_of_week=wed', u'education=basic.4y',\n",
       "       u'education=basic.6y', u'education=basic.9y', u'education=high.school',\n",
       "       u'education=illiterate', u'education=professional.course',\n",
       "       u'education=university.degree', u'education=unknown', u'job=admin.',\n",
       "       u'job=blue-collar', u'job=entrepreneur', u'job=housemaid',\n",
       "       u'job=management', u'job=retired', u'job=self-employed',\n",
       "       u'job=services', u'job=student', u'job=technician', u'job=unemployed',\n",
       "       u'job=unknown', u'month=apr', u'month=aug', u'month=dec', u'month=jul',\n",
       "       u'month=jun', u'month=mar', u'month=may', u'month=nov', u'month=oct',\n",
       "       u'month=sep', u'poutcome=failure', u'poutcome=nonexistent',\n",
       "       u'poutcome=success'],\n",
       "      dtype='object')"
      ]
     },
     "execution_count": 25,
     "metadata": {},
     "output_type": "execute_result"
    }
   ],
   "source": [
    "X_test.columns"
   ]
  },
  {
   "cell_type": "markdown",
   "metadata": {},
   "source": [
    "## Аge"
   ]
  },
  {
   "cell_type": "markdown",
   "metadata": {
    "collapsed": false
   },
   "source": [
    "X_train['age'].min(), X_train['age'].max()"
   ]
  },
  {
   "cell_type": "markdown",
   "metadata": {
    "collapsed": true
   },
   "source": [
    "list_17 = 0\n",
    "list_30 = 0\n",
    "list_40 = 0\n",
    "list_50 = 0\n",
    "list_60 = 0\n",
    "list_70 = 0\n",
    "list_80 = 0\n",
    "for i in X_train['age']:\n",
    "    if (i >= 17) and (i < 30):\n",
    "        list_17 += 1\n",
    "    if (i >= 30) and (i < 40):\n",
    "        list_30 += 1\n",
    "    if (i >= 40) and (i < 50):\n",
    "        list_40 += 1\n",
    "    if (i >= 50) and (i < 60):\n",
    "        list_50 += 1\n",
    "    if (i >= 60) and (i < 70):\n",
    "        list_60 += 1\n",
    "    if (i >= 70) and (i < 80):\n",
    "        list_70 += 1\n",
    "    else:\n",
    "        list_80 += 1     "
   ]
  },
  {
   "cell_type": "markdown",
   "metadata": {
    "collapsed": false
   },
   "source": [
    "print('Age from 17 to 30 is {}'.format(list_17))\n",
    "print('Age from 30 to 40 is {}'.format(list_30))\n",
    "print('Age from 40 to 50 is {}'.format(list_40))\n",
    "print('Age from 50 to 60 is {}'.format(list_50))\n",
    "print('Age from 60 to 70 is {}'.format(list_60))\n",
    "print('Age from 70 to 80 is {}'.format(list_70))\n",
    "print('Age from 80 to 94 is {}'.format(list_80))"
   ]
  },
  {
   "cell_type": "markdown",
   "metadata": {
    "collapsed": true
   },
   "source": [
    "X_train['age_group_40_80'] = (X_train['age'] >= 40) & (X_train['age'] < 80)\n",
    "X_train['age_group_17_30'] = X_train['age'] < 30\n",
    "X_train['age_group_30_40'] = (X_train['age'] >= 30) & (X_train['age'] < 40)\n",
    "X_train['age_group_80_94'] = X_train['age'] > 80\n",
    "\n",
    "X_train.drop(['age'], axis = 1, inplace = True)"
   ]
  },
  {
   "cell_type": "markdown",
   "metadata": {
    "collapsed": true
   },
   "source": [
    "X_train['age_group_40_80'] = X_train['age_group_40_80'].astype(int)\n",
    "X_train['age_group_17_30'] = X_train['age_group_17_30'].astype(int)\n",
    "X_train['age_group_30_40'] = X_train['age_group_30_40'].astype(int)\n",
    "X_train['age_group_80_94'] = X_train['age_group_80_94'].astype(int)"
   ]
  },
  {
   "cell_type": "markdown",
   "metadata": {
    "collapsed": false
   },
   "source": [
    "X_train.head()"
   ]
  },
  {
   "cell_type": "markdown",
   "metadata": {
    "collapsed": true
   },
   "source": [
    "X_test['age_group_40_80'] = (X_test['age'] >= 40) & (X_test['age'] < 80)\n",
    "X_test['age_group_17_30'] = X_test['age'] < 30\n",
    "X_test['age_group_30_40'] = (X_test['age'] >= 30) & (X_test['age'] < 40)\n",
    "X_test['age_group_80_94'] = X_test['age'] > 80\n",
    "\n",
    "X_test.drop(['age'], axis = 1, inplace = True)"
   ]
  },
  {
   "cell_type": "markdown",
   "metadata": {
    "collapsed": true
   },
   "source": [
    "X_test['age_group_40_80'] = X_test['age_group_40_80'].astype(int)\n",
    "X_test['age_group_17_30'] = X_test['age_group_17_30'].astype(int)\n",
    "X_test['age_group_30_40'] = X_test['age_group_30_40'].astype(int)\n",
    "X_test['age_group_80_94'] = X_test['age_group_80_94'].astype(int)"
   ]
  },
  {
   "cell_type": "markdown",
   "metadata": {},
   "source": [
    "## Education"
   ]
  },
  {
   "cell_type": "markdown",
   "metadata": {
    "collapsed": false
   },
   "source": [
    "X_train['education_basic'] = (X_train['education'] == 'basic.4y') | (X_train['education'] == 'basic.6y')  | (X_train['education'] == 'illiterate') \n",
    "X_train['education_school'] = (X_train['education'] == 'basic.9y') | (X_train['education'] == 'high.school') \n",
    "X_train['education_high'] = (X_train['education'] == 'professional.course') | (X_train['education'] == 'university.degree')\n",
    "#X_train['education_unknow'] = (X_train['education'] == 'unknown')\n",
    "\n",
    "X_train.drop(['education'], axis = 1, inplace = True)"
   ]
  },
  {
   "cell_type": "markdown",
   "metadata": {
    "collapsed": false
   },
   "source": [
    "X_train['education_basic'] = X_train['education_basic'].astype(int)\n",
    "X_train['education_school'] = X_train['education_school'].astype(int)\n",
    "X_train['education_high'] = X_train['education_high'].astype(int)\n",
    "#X_train['education_unknow'] = X_train['education_unknow'].astype(int)"
   ]
  },
  {
   "cell_type": "markdown",
   "metadata": {
    "collapsed": true
   },
   "source": [
    "X_test['education_basic'] = (X_test['education'] == 'basic.4y') | (X_test['education'] == 'basic.6y') |  (X_test['education'] == 'illiterate')\n",
    "X_test['education_school'] = (X_test['education'] == 'basic.9y') | (X_test['education'] == 'high.school') \n",
    "X_test['education_high'] = (X_test['education'] == 'professional.course') | (X_test['education'] == 'university.degree')\n",
    "#X_test['education_unknow'] = (X_test['education'] == 'unknown')  \n",
    "X_test.drop(['education'], axis = 1, inplace = True)"
   ]
  },
  {
   "cell_type": "markdown",
   "metadata": {
    "collapsed": true
   },
   "source": [
    "X_test['education_basic'] = X_test['education_basic'].astype(int)\n",
    "X_test['education_school'] = X_test['education_school'].astype(int)\n",
    "X_test['education_high'] = X_test['education_high'].astype(int)\n",
    "#X_test['education_unknow'] = X_test['education_unknow'].astype(int)"
   ]
  },
  {
   "cell_type": "markdown",
   "metadata": {},
   "source": [
    "## Корреляция"
   ]
  },
  {
   "cell_type": "code",
   "execution_count": 26,
   "metadata": {
    "collapsed": false
   },
   "outputs": [
    {
     "data": {
      "text/html": [
       "<div>\n",
       "<table border=\"1\" class=\"dataframe\">\n",
       "  <thead>\n",
       "    <tr style=\"text-align: right;\">\n",
       "      <th></th>\n",
       "      <th>duration</th>\n",
       "      <th>emp.var.rate</th>\n",
       "      <th>cons.price.idx</th>\n",
       "      <th>cons.conf.idx</th>\n",
       "      <th>euribor3m</th>\n",
       "      <th>nr.employed</th>\n",
       "      <th>contact</th>\n",
       "      <th>day_of_week=fri</th>\n",
       "      <th>previous_new</th>\n",
       "      <th>campaign</th>\n",
       "      <th>...</th>\n",
       "      <th>month=jul</th>\n",
       "      <th>month=jun</th>\n",
       "      <th>month=mar</th>\n",
       "      <th>month=may</th>\n",
       "      <th>month=nov</th>\n",
       "      <th>month=oct</th>\n",
       "      <th>month=sep</th>\n",
       "      <th>poutcome=failure</th>\n",
       "      <th>poutcome=nonexistent</th>\n",
       "      <th>poutcome=success</th>\n",
       "    </tr>\n",
       "  </thead>\n",
       "  <tbody>\n",
       "    <tr>\n",
       "      <th>duration</th>\n",
       "      <td>1.000000</td>\n",
       "      <td>-0.034308</td>\n",
       "      <td>0.001166</td>\n",
       "      <td>-0.012445</td>\n",
       "      <td>-0.039330</td>\n",
       "      <td>-0.049034</td>\n",
       "      <td>-0.029910</td>\n",
       "      <td>-0.009591</td>\n",
       "      <td>0.013792</td>\n",
       "      <td>-0.075007</td>\n",
       "      <td>...</td>\n",
       "      <td>0.024338</td>\n",
       "      <td>-0.020277</td>\n",
       "      <td>-0.002505</td>\n",
       "      <td>0.008654</td>\n",
       "      <td>-0.017984</td>\n",
       "      <td>0.013703</td>\n",
       "      <td>0.011933</td>\n",
       "      <td>-0.009130</td>\n",
       "      <td>-0.013792</td>\n",
       "      <td>0.041869</td>\n",
       "    </tr>\n",
       "    <tr>\n",
       "      <th>emp.var.rate</th>\n",
       "      <td>-0.034308</td>\n",
       "      <td>1.000000</td>\n",
       "      <td>0.773356</td>\n",
       "      <td>0.197029</td>\n",
       "      <td>0.971966</td>\n",
       "      <td>0.906407</td>\n",
       "      <td>0.395713</td>\n",
       "      <td>-0.015883</td>\n",
       "      <td>-0.474324</td>\n",
       "      <td>0.152108</td>\n",
       "      <td>...</td>\n",
       "      <td>0.314389</td>\n",
       "      <td>0.148851</td>\n",
       "      <td>-0.143040</td>\n",
       "      <td>-0.109436</td>\n",
       "      <td>-0.107899</td>\n",
       "      <td>-0.213679</td>\n",
       "      <td>-0.168892</td>\n",
       "      <td>-0.384679</td>\n",
       "      <td>0.474324</td>\n",
       "      <td>-0.255458</td>\n",
       "    </tr>\n",
       "    <tr>\n",
       "      <th>cons.price.idx</th>\n",
       "      <td>0.001166</td>\n",
       "      <td>0.773356</td>\n",
       "      <td>1.000000</td>\n",
       "      <td>0.058647</td>\n",
       "      <td>0.685298</td>\n",
       "      <td>0.519069</td>\n",
       "      <td>0.595781</td>\n",
       "      <td>0.000409</td>\n",
       "      <td>-0.304190</td>\n",
       "      <td>0.129243</td>\n",
       "      <td>...</td>\n",
       "      <td>0.251556</td>\n",
       "      <td>0.449829</td>\n",
       "      <td>-0.099396</td>\n",
       "      <td>-0.054677</td>\n",
       "      <td>-0.219626</td>\n",
       "      <td>-0.091987</td>\n",
       "      <td>-0.043679</td>\n",
       "      <td>-0.297995</td>\n",
       "      <td>0.304190</td>\n",
       "      <td>-0.076867</td>\n",
       "    </tr>\n",
       "    <tr>\n",
       "      <th>cons.conf.idx</th>\n",
       "      <td>-0.012445</td>\n",
       "      <td>0.197029</td>\n",
       "      <td>0.058647</td>\n",
       "      <td>1.000000</td>\n",
       "      <td>0.277765</td>\n",
       "      <td>0.100704</td>\n",
       "      <td>0.245508</td>\n",
       "      <td>-0.007367</td>\n",
       "      <td>-0.097195</td>\n",
       "      <td>-0.014175</td>\n",
       "      <td>...</td>\n",
       "      <td>-0.185797</td>\n",
       "      <td>-0.090372</td>\n",
       "      <td>-0.057980</td>\n",
       "      <td>-0.006937</td>\n",
       "      <td>-0.054610</td>\n",
       "      <td>0.170043</td>\n",
       "      <td>0.167125</td>\n",
       "      <td>-0.157922</td>\n",
       "      <td>0.097195</td>\n",
       "      <td>0.081749</td>\n",
       "    </tr>\n",
       "    <tr>\n",
       "      <th>euribor3m</th>\n",
       "      <td>-0.039330</td>\n",
       "      <td>0.971966</td>\n",
       "      <td>0.685298</td>\n",
       "      <td>0.277765</td>\n",
       "      <td>1.000000</td>\n",
       "      <td>0.945204</td>\n",
       "      <td>0.400181</td>\n",
       "      <td>-0.016099</td>\n",
       "      <td>-0.491134</td>\n",
       "      <td>0.136463</td>\n",
       "      <td>...</td>\n",
       "      <td>0.281131</td>\n",
       "      <td>0.140114</td>\n",
       "      <td>-0.168697</td>\n",
       "      <td>-0.132196</td>\n",
       "      <td>0.019100</td>\n",
       "      <td>-0.185632</td>\n",
       "      <td>-0.190495</td>\n",
       "      <td>-0.389099</td>\n",
       "      <td>0.491134</td>\n",
       "      <td>-0.280132</td>\n",
       "    </tr>\n",
       "    <tr>\n",
       "      <th>nr.employed</th>\n",
       "      <td>-0.049034</td>\n",
       "      <td>0.906407</td>\n",
       "      <td>0.519069</td>\n",
       "      <td>0.100704</td>\n",
       "      <td>0.945204</td>\n",
       "      <td>1.000000</td>\n",
       "      <td>0.270674</td>\n",
       "      <td>-0.011658</td>\n",
       "      <td>-0.495992</td>\n",
       "      <td>0.144706</td>\n",
       "      <td>...</td>\n",
       "      <td>0.298129</td>\n",
       "      <td>0.160695</td>\n",
       "      <td>-0.183052</td>\n",
       "      <td>-0.171099</td>\n",
       "      <td>0.028112</td>\n",
       "      <td>-0.272243</td>\n",
       "      <td>-0.292404</td>\n",
       "      <td>-0.353894</td>\n",
       "      <td>0.495992</td>\n",
       "      <td>-0.349112</td>\n",
       "    </tr>\n",
       "    <tr>\n",
       "      <th>contact</th>\n",
       "      <td>-0.029910</td>\n",
       "      <td>0.395713</td>\n",
       "      <td>0.595781</td>\n",
       "      <td>0.245508</td>\n",
       "      <td>0.400181</td>\n",
       "      <td>0.270674</td>\n",
       "      <td>1.000000</td>\n",
       "      <td>0.039072</td>\n",
       "      <td>-0.244296</td>\n",
       "      <td>0.077891</td>\n",
       "      <td>...</td>\n",
       "      <td>-0.199664</td>\n",
       "      <td>0.387190</td>\n",
       "      <td>-0.064542</td>\n",
       "      <td>0.345436</td>\n",
       "      <td>-0.186965</td>\n",
       "      <td>-0.044830</td>\n",
       "      <td>-0.048263</td>\n",
       "      <td>-0.208817</td>\n",
       "      <td>0.244296</td>\n",
       "      <td>-0.113446</td>\n",
       "    </tr>\n",
       "    <tr>\n",
       "      <th>day_of_week=fri</th>\n",
       "      <td>-0.009591</td>\n",
       "      <td>-0.015883</td>\n",
       "      <td>0.000409</td>\n",
       "      <td>-0.007367</td>\n",
       "      <td>-0.016099</td>\n",
       "      <td>-0.011658</td>\n",
       "      <td>0.039072</td>\n",
       "      <td>1.000000</td>\n",
       "      <td>0.007500</td>\n",
       "      <td>0.027498</td>\n",
       "      <td>...</td>\n",
       "      <td>-0.058954</td>\n",
       "      <td>0.027279</td>\n",
       "      <td>-0.006361</td>\n",
       "      <td>0.035210</td>\n",
       "      <td>-0.003539</td>\n",
       "      <td>-0.000373</td>\n",
       "      <td>0.003872</td>\n",
       "      <td>0.017677</td>\n",
       "      <td>-0.007500</td>\n",
       "      <td>-0.015617</td>\n",
       "    </tr>\n",
       "    <tr>\n",
       "      <th>previous_new</th>\n",
       "      <td>0.013792</td>\n",
       "      <td>-0.474324</td>\n",
       "      <td>-0.304190</td>\n",
       "      <td>-0.097195</td>\n",
       "      <td>-0.491134</td>\n",
       "      <td>-0.495992</td>\n",
       "      <td>-0.244296</td>\n",
       "      <td>0.007500</td>\n",
       "      <td>1.000000</td>\n",
       "      <td>-0.089371</td>\n",
       "      <td>...</td>\n",
       "      <td>-0.140211</td>\n",
       "      <td>-0.086281</td>\n",
       "      <td>0.067482</td>\n",
       "      <td>0.021310</td>\n",
       "      <td>0.099284</td>\n",
       "      <td>0.116793</td>\n",
       "      <td>0.123944</td>\n",
       "      <td>0.853206</td>\n",
       "      <td>-1.000000</td>\n",
       "      <td>0.467030</td>\n",
       "    </tr>\n",
       "    <tr>\n",
       "      <th>campaign</th>\n",
       "      <td>-0.075007</td>\n",
       "      <td>0.152108</td>\n",
       "      <td>0.129243</td>\n",
       "      <td>-0.014175</td>\n",
       "      <td>0.136463</td>\n",
       "      <td>0.144706</td>\n",
       "      <td>0.077891</td>\n",
       "      <td>0.027498</td>\n",
       "      <td>-0.089371</td>\n",
       "      <td>1.000000</td>\n",
       "      <td>...</td>\n",
       "      <td>0.099756</td>\n",
       "      <td>0.068783</td>\n",
       "      <td>-0.011213</td>\n",
       "      <td>-0.031266</td>\n",
       "      <td>-0.081446</td>\n",
       "      <td>-0.050101</td>\n",
       "      <td>-0.033483</td>\n",
       "      <td>-0.070299</td>\n",
       "      <td>0.089371</td>\n",
       "      <td>-0.051831</td>\n",
       "    </tr>\n",
       "    <tr>\n",
       "      <th>day_of_week=mon</th>\n",
       "      <td>-0.024568</td>\n",
       "      <td>-0.015737</td>\n",
       "      <td>0.006261</td>\n",
       "      <td>-0.037119</td>\n",
       "      <td>-0.020956</td>\n",
       "      <td>-0.016833</td>\n",
       "      <td>-0.015764</td>\n",
       "      <td>-0.247756</td>\n",
       "      <td>0.006194</td>\n",
       "      <td>0.010704</td>\n",
       "      <td>...</td>\n",
       "      <td>0.007769</td>\n",
       "      <td>0.028038</td>\n",
       "      <td>0.018683</td>\n",
       "      <td>-0.029656</td>\n",
       "      <td>-0.013590</td>\n",
       "      <td>-0.009304</td>\n",
       "      <td>-0.012672</td>\n",
       "      <td>0.006021</td>\n",
       "      <td>-0.006194</td>\n",
       "      <td>0.001644</td>\n",
       "    </tr>\n",
       "    <tr>\n",
       "      <th>day_of_week=thu</th>\n",
       "      <td>0.013176</td>\n",
       "      <td>-0.008805</td>\n",
       "      <td>-0.019512</td>\n",
       "      <td>-0.035591</td>\n",
       "      <td>-0.015357</td>\n",
       "      <td>-0.002491</td>\n",
       "      <td>-0.046488</td>\n",
       "      <td>-0.250761</td>\n",
       "      <td>0.001498</td>\n",
       "      <td>0.000754</td>\n",
       "      <td>...</td>\n",
       "      <td>0.028412</td>\n",
       "      <td>-0.025394</td>\n",
       "      <td>-0.006867</td>\n",
       "      <td>-0.049339</td>\n",
       "      <td>0.011647</td>\n",
       "      <td>0.002352</td>\n",
       "      <td>0.000761</td>\n",
       "      <td>-0.006392</td>\n",
       "      <td>-0.001498</td>\n",
       "      <td>0.013702</td>\n",
       "    </tr>\n",
       "    <tr>\n",
       "      <th>day_of_week=tue</th>\n",
       "      <td>0.006769</td>\n",
       "      <td>0.008304</td>\n",
       "      <td>-0.003434</td>\n",
       "      <td>0.050419</td>\n",
       "      <td>0.016729</td>\n",
       "      <td>0.003636</td>\n",
       "      <td>0.004124</td>\n",
       "      <td>-0.237436</td>\n",
       "      <td>-0.001102</td>\n",
       "      <td>-0.027874</td>\n",
       "      <td>...</td>\n",
       "      <td>0.012297</td>\n",
       "      <td>-0.017054</td>\n",
       "      <td>0.012299</td>\n",
       "      <td>0.020928</td>\n",
       "      <td>0.000120</td>\n",
       "      <td>0.010471</td>\n",
       "      <td>-0.003411</td>\n",
       "      <td>-0.003593</td>\n",
       "      <td>0.001102</td>\n",
       "      <td>0.003981</td>\n",
       "    </tr>\n",
       "    <tr>\n",
       "      <th>day_of_week=wed</th>\n",
       "      <td>0.014226</td>\n",
       "      <td>0.032431</td>\n",
       "      <td>0.016615</td>\n",
       "      <td>0.031468</td>\n",
       "      <td>0.036309</td>\n",
       "      <td>0.027545</td>\n",
       "      <td>0.021060</td>\n",
       "      <td>-0.240905</td>\n",
       "      <td>-0.014127</td>\n",
       "      <td>-0.011111</td>\n",
       "      <td>...</td>\n",
       "      <td>0.008885</td>\n",
       "      <td>-0.012471</td>\n",
       "      <td>-0.017892</td>\n",
       "      <td>0.025253</td>\n",
       "      <td>0.005259</td>\n",
       "      <td>-0.002959</td>\n",
       "      <td>0.011674</td>\n",
       "      <td>-0.013428</td>\n",
       "      <td>0.014127</td>\n",
       "      <td>-0.004268</td>\n",
       "    </tr>\n",
       "    <tr>\n",
       "      <th>month=apr</th>\n",
       "      <td>0.042452</td>\n",
       "      <td>-0.313325</td>\n",
       "      <td>-0.208100</td>\n",
       "      <td>-0.329970</td>\n",
       "      <td>-0.340320</td>\n",
       "      <td>-0.265117</td>\n",
       "      <td>-0.157828</td>\n",
       "      <td>0.021591</td>\n",
       "      <td>0.112779</td>\n",
       "      <td>-0.057615</td>\n",
       "      <td>...</td>\n",
       "      <td>-0.118759</td>\n",
       "      <td>-0.101145</td>\n",
       "      <td>-0.030912</td>\n",
       "      <td>-0.182915</td>\n",
       "      <td>-0.087791</td>\n",
       "      <td>-0.034658</td>\n",
       "      <td>-0.030707</td>\n",
       "      <td>0.119992</td>\n",
       "      <td>-0.112779</td>\n",
       "      <td>0.012375</td>\n",
       "    </tr>\n",
       "    <tr>\n",
       "      <th>pdays_before</th>\n",
       "      <td>0.044142</td>\n",
       "      <td>-0.268921</td>\n",
       "      <td>-0.077765</td>\n",
       "      <td>0.086968</td>\n",
       "      <td>-0.295769</td>\n",
       "      <td>-0.370738</td>\n",
       "      <td>-0.119915</td>\n",
       "      <td>-0.015249</td>\n",
       "      <td>0.491022</td>\n",
       "      <td>-0.054138</td>\n",
       "      <td>...</td>\n",
       "      <td>-0.051596</td>\n",
       "      <td>-0.016831</td>\n",
       "      <td>0.083993</td>\n",
       "      <td>-0.068818</td>\n",
       "      <td>0.017139</td>\n",
       "      <td>0.127487</td>\n",
       "      <td>0.161151</td>\n",
       "      <td>-0.006824</td>\n",
       "      <td>-0.491022</td>\n",
       "      <td>0.951139</td>\n",
       "    </tr>\n",
       "    <tr>\n",
       "      <th>month=aug</th>\n",
       "      <td>-0.044576</td>\n",
       "      <td>0.180948</td>\n",
       "      <td>-0.190766</td>\n",
       "      <td>0.445435</td>\n",
       "      <td>0.166660</td>\n",
       "      <td>0.194766</td>\n",
       "      <td>-0.285068</td>\n",
       "      <td>-0.018845</td>\n",
       "      <td>-0.078069</td>\n",
       "      <td>0.013852</td>\n",
       "      <td>...</td>\n",
       "      <td>-0.191907</td>\n",
       "      <td>-0.163443</td>\n",
       "      <td>-0.049951</td>\n",
       "      <td>-0.295577</td>\n",
       "      <td>-0.141863</td>\n",
       "      <td>-0.056005</td>\n",
       "      <td>-0.049620</td>\n",
       "      <td>-0.085236</td>\n",
       "      <td>0.078069</td>\n",
       "      <td>-0.004882</td>\n",
       "    </tr>\n",
       "    <tr>\n",
       "      <th>month=dec</th>\n",
       "      <td>0.025163</td>\n",
       "      <td>-0.127953</td>\n",
       "      <td>-0.102547</td>\n",
       "      <td>0.099985</td>\n",
       "      <td>-0.109178</td>\n",
       "      <td>-0.128032</td>\n",
       "      <td>-0.026987</td>\n",
       "      <td>-0.009084</td>\n",
       "      <td>0.069967</td>\n",
       "      <td>-0.009737</td>\n",
       "      <td>...</td>\n",
       "      <td>-0.031399</td>\n",
       "      <td>-0.026742</td>\n",
       "      <td>-0.008173</td>\n",
       "      <td>-0.048362</td>\n",
       "      <td>-0.023211</td>\n",
       "      <td>-0.009163</td>\n",
       "      <td>-0.008119</td>\n",
       "      <td>0.028987</td>\n",
       "      <td>-0.069967</td>\n",
       "      <td>0.084740</td>\n",
       "    </tr>\n",
       "    <tr>\n",
       "      <th>month=jul</th>\n",
       "      <td>0.024338</td>\n",
       "      <td>0.314389</td>\n",
       "      <td>0.251556</td>\n",
       "      <td>-0.185797</td>\n",
       "      <td>0.281131</td>\n",
       "      <td>0.298129</td>\n",
       "      <td>-0.199664</td>\n",
       "      <td>-0.058954</td>\n",
       "      <td>-0.140211</td>\n",
       "      <td>0.099756</td>\n",
       "      <td>...</td>\n",
       "      <td>1.000000</td>\n",
       "      <td>-0.177399</td>\n",
       "      <td>-0.054216</td>\n",
       "      <td>-0.320816</td>\n",
       "      <td>-0.153977</td>\n",
       "      <td>-0.060787</td>\n",
       "      <td>-0.053857</td>\n",
       "      <td>-0.129537</td>\n",
       "      <td>0.140211</td>\n",
       "      <td>-0.048685</td>\n",
       "    </tr>\n",
       "    <tr>\n",
       "      <th>month=jun</th>\n",
       "      <td>-0.020277</td>\n",
       "      <td>0.148851</td>\n",
       "      <td>0.449829</td>\n",
       "      <td>-0.090372</td>\n",
       "      <td>0.140114</td>\n",
       "      <td>0.160695</td>\n",
       "      <td>0.387190</td>\n",
       "      <td>0.027279</td>\n",
       "      <td>-0.086281</td>\n",
       "      <td>0.068783</td>\n",
       "      <td>...</td>\n",
       "      <td>-0.177399</td>\n",
       "      <td>1.000000</td>\n",
       "      <td>-0.046175</td>\n",
       "      <td>-0.273232</td>\n",
       "      <td>-0.131139</td>\n",
       "      <td>-0.051771</td>\n",
       "      <td>-0.045869</td>\n",
       "      <td>-0.089530</td>\n",
       "      <td>0.086281</td>\n",
       "      <td>-0.013317</td>\n",
       "    </tr>\n",
       "    <tr>\n",
       "      <th>month=mar</th>\n",
       "      <td>-0.002505</td>\n",
       "      <td>-0.143040</td>\n",
       "      <td>-0.099396</td>\n",
       "      <td>-0.057980</td>\n",
       "      <td>-0.168697</td>\n",
       "      <td>-0.183052</td>\n",
       "      <td>-0.064542</td>\n",
       "      <td>-0.006361</td>\n",
       "      <td>0.067482</td>\n",
       "      <td>-0.011213</td>\n",
       "      <td>...</td>\n",
       "      <td>-0.054216</td>\n",
       "      <td>-0.046175</td>\n",
       "      <td>1.000000</td>\n",
       "      <td>-0.083505</td>\n",
       "      <td>-0.040078</td>\n",
       "      <td>-0.015822</td>\n",
       "      <td>-0.014018</td>\n",
       "      <td>0.028034</td>\n",
       "      <td>-0.067482</td>\n",
       "      <td>0.081600</td>\n",
       "    </tr>\n",
       "    <tr>\n",
       "      <th>month=may</th>\n",
       "      <td>0.008654</td>\n",
       "      <td>-0.109436</td>\n",
       "      <td>-0.054677</td>\n",
       "      <td>-0.006937</td>\n",
       "      <td>-0.132196</td>\n",
       "      <td>-0.171099</td>\n",
       "      <td>0.345436</td>\n",
       "      <td>0.035210</td>\n",
       "      <td>0.021310</td>\n",
       "      <td>-0.031266</td>\n",
       "      <td>...</td>\n",
       "      <td>-0.320816</td>\n",
       "      <td>-0.273232</td>\n",
       "      <td>-0.083505</td>\n",
       "      <td>1.000000</td>\n",
       "      <td>-0.237157</td>\n",
       "      <td>-0.093626</td>\n",
       "      <td>-0.082952</td>\n",
       "      <td>0.062585</td>\n",
       "      <td>-0.021310</td>\n",
       "      <td>-0.065326</td>\n",
       "    </tr>\n",
       "    <tr>\n",
       "      <th>month=nov</th>\n",
       "      <td>-0.017984</td>\n",
       "      <td>-0.107899</td>\n",
       "      <td>-0.219626</td>\n",
       "      <td>-0.054610</td>\n",
       "      <td>0.019100</td>\n",
       "      <td>0.028112</td>\n",
       "      <td>-0.186965</td>\n",
       "      <td>-0.003539</td>\n",
       "      <td>0.099284</td>\n",
       "      <td>-0.081446</td>\n",
       "      <td>...</td>\n",
       "      <td>-0.153977</td>\n",
       "      <td>-0.131139</td>\n",
       "      <td>-0.040078</td>\n",
       "      <td>-0.237157</td>\n",
       "      <td>1.000000</td>\n",
       "      <td>-0.044936</td>\n",
       "      <td>-0.039813</td>\n",
       "      <td>0.105209</td>\n",
       "      <td>-0.099284</td>\n",
       "      <td>0.011615</td>\n",
       "    </tr>\n",
       "    <tr>\n",
       "      <th>month=oct</th>\n",
       "      <td>0.013703</td>\n",
       "      <td>-0.213679</td>\n",
       "      <td>-0.091987</td>\n",
       "      <td>0.170043</td>\n",
       "      <td>-0.185632</td>\n",
       "      <td>-0.272243</td>\n",
       "      <td>-0.044830</td>\n",
       "      <td>-0.000373</td>\n",
       "      <td>0.116793</td>\n",
       "      <td>-0.050101</td>\n",
       "      <td>...</td>\n",
       "      <td>-0.060787</td>\n",
       "      <td>-0.051771</td>\n",
       "      <td>-0.015822</td>\n",
       "      <td>-0.093626</td>\n",
       "      <td>-0.044936</td>\n",
       "      <td>1.000000</td>\n",
       "      <td>-0.015717</td>\n",
       "      <td>0.062499</td>\n",
       "      <td>-0.116793</td>\n",
       "      <td>0.117526</td>\n",
       "    </tr>\n",
       "    <tr>\n",
       "      <th>month=sep</th>\n",
       "      <td>0.011933</td>\n",
       "      <td>-0.168892</td>\n",
       "      <td>-0.043679</td>\n",
       "      <td>0.167125</td>\n",
       "      <td>-0.190495</td>\n",
       "      <td>-0.292404</td>\n",
       "      <td>-0.048263</td>\n",
       "      <td>0.003872</td>\n",
       "      <td>0.123944</td>\n",
       "      <td>-0.033483</td>\n",
       "      <td>...</td>\n",
       "      <td>-0.053857</td>\n",
       "      <td>-0.045869</td>\n",
       "      <td>-0.014018</td>\n",
       "      <td>-0.082952</td>\n",
       "      <td>-0.039813</td>\n",
       "      <td>-0.015717</td>\n",
       "      <td>1.000000</td>\n",
       "      <td>0.048221</td>\n",
       "      <td>-0.123944</td>\n",
       "      <td>0.155417</td>\n",
       "    </tr>\n",
       "    <tr>\n",
       "      <th>poutcome=failure</th>\n",
       "      <td>-0.009130</td>\n",
       "      <td>-0.384679</td>\n",
       "      <td>-0.297995</td>\n",
       "      <td>-0.157922</td>\n",
       "      <td>-0.389099</td>\n",
       "      <td>-0.353894</td>\n",
       "      <td>-0.208817</td>\n",
       "      <td>0.017677</td>\n",
       "      <td>0.853206</td>\n",
       "      <td>-0.070299</td>\n",
       "      <td>...</td>\n",
       "      <td>-0.129537</td>\n",
       "      <td>-0.089530</td>\n",
       "      <td>0.028034</td>\n",
       "      <td>0.062585</td>\n",
       "      <td>0.105209</td>\n",
       "      <td>0.062499</td>\n",
       "      <td>0.048221</td>\n",
       "      <td>1.000000</td>\n",
       "      <td>-0.853206</td>\n",
       "      <td>-0.062724</td>\n",
       "    </tr>\n",
       "    <tr>\n",
       "      <th>poutcome=nonexistent</th>\n",
       "      <td>-0.013792</td>\n",
       "      <td>0.474324</td>\n",
       "      <td>0.304190</td>\n",
       "      <td>0.097195</td>\n",
       "      <td>0.491134</td>\n",
       "      <td>0.495992</td>\n",
       "      <td>0.244296</td>\n",
       "      <td>-0.007500</td>\n",
       "      <td>-1.000000</td>\n",
       "      <td>0.089371</td>\n",
       "      <td>...</td>\n",
       "      <td>0.140211</td>\n",
       "      <td>0.086281</td>\n",
       "      <td>-0.067482</td>\n",
       "      <td>-0.021310</td>\n",
       "      <td>-0.099284</td>\n",
       "      <td>-0.116793</td>\n",
       "      <td>-0.123944</td>\n",
       "      <td>-0.853206</td>\n",
       "      <td>1.000000</td>\n",
       "      <td>-0.467030</td>\n",
       "    </tr>\n",
       "    <tr>\n",
       "      <th>poutcome=success</th>\n",
       "      <td>0.041869</td>\n",
       "      <td>-0.255458</td>\n",
       "      <td>-0.076867</td>\n",
       "      <td>0.081749</td>\n",
       "      <td>-0.280132</td>\n",
       "      <td>-0.349112</td>\n",
       "      <td>-0.113446</td>\n",
       "      <td>-0.015617</td>\n",
       "      <td>0.467030</td>\n",
       "      <td>-0.051831</td>\n",
       "      <td>...</td>\n",
       "      <td>-0.048685</td>\n",
       "      <td>-0.013317</td>\n",
       "      <td>0.081600</td>\n",
       "      <td>-0.065326</td>\n",
       "      <td>0.011615</td>\n",
       "      <td>0.117526</td>\n",
       "      <td>0.155417</td>\n",
       "      <td>-0.062724</td>\n",
       "      <td>-0.467030</td>\n",
       "      <td>1.000000</td>\n",
       "    </tr>\n",
       "  </tbody>\n",
       "</table>\n",
       "<p>28 rows × 28 columns</p>\n",
       "</div>"
      ],
      "text/plain": [
       "                      duration  emp.var.rate  cons.price.idx  cons.conf.idx  \\\n",
       "duration              1.000000     -0.034308        0.001166      -0.012445   \n",
       "emp.var.rate         -0.034308      1.000000        0.773356       0.197029   \n",
       "cons.price.idx        0.001166      0.773356        1.000000       0.058647   \n",
       "cons.conf.idx        -0.012445      0.197029        0.058647       1.000000   \n",
       "euribor3m            -0.039330      0.971966        0.685298       0.277765   \n",
       "nr.employed          -0.049034      0.906407        0.519069       0.100704   \n",
       "contact              -0.029910      0.395713        0.595781       0.245508   \n",
       "day_of_week=fri      -0.009591     -0.015883        0.000409      -0.007367   \n",
       "previous_new          0.013792     -0.474324       -0.304190      -0.097195   \n",
       "campaign             -0.075007      0.152108        0.129243      -0.014175   \n",
       "day_of_week=mon      -0.024568     -0.015737        0.006261      -0.037119   \n",
       "day_of_week=thu       0.013176     -0.008805       -0.019512      -0.035591   \n",
       "day_of_week=tue       0.006769      0.008304       -0.003434       0.050419   \n",
       "day_of_week=wed       0.014226      0.032431        0.016615       0.031468   \n",
       "month=apr             0.042452     -0.313325       -0.208100      -0.329970   \n",
       "pdays_before          0.044142     -0.268921       -0.077765       0.086968   \n",
       "month=aug            -0.044576      0.180948       -0.190766       0.445435   \n",
       "month=dec             0.025163     -0.127953       -0.102547       0.099985   \n",
       "month=jul             0.024338      0.314389        0.251556      -0.185797   \n",
       "month=jun            -0.020277      0.148851        0.449829      -0.090372   \n",
       "month=mar            -0.002505     -0.143040       -0.099396      -0.057980   \n",
       "month=may             0.008654     -0.109436       -0.054677      -0.006937   \n",
       "month=nov            -0.017984     -0.107899       -0.219626      -0.054610   \n",
       "month=oct             0.013703     -0.213679       -0.091987       0.170043   \n",
       "month=sep             0.011933     -0.168892       -0.043679       0.167125   \n",
       "poutcome=failure     -0.009130     -0.384679       -0.297995      -0.157922   \n",
       "poutcome=nonexistent -0.013792      0.474324        0.304190       0.097195   \n",
       "poutcome=success      0.041869     -0.255458       -0.076867       0.081749   \n",
       "\n",
       "                      euribor3m  nr.employed   contact  day_of_week=fri  \\\n",
       "duration              -0.039330    -0.049034 -0.029910        -0.009591   \n",
       "emp.var.rate           0.971966     0.906407  0.395713        -0.015883   \n",
       "cons.price.idx         0.685298     0.519069  0.595781         0.000409   \n",
       "cons.conf.idx          0.277765     0.100704  0.245508        -0.007367   \n",
       "euribor3m              1.000000     0.945204  0.400181        -0.016099   \n",
       "nr.employed            0.945204     1.000000  0.270674        -0.011658   \n",
       "contact                0.400181     0.270674  1.000000         0.039072   \n",
       "day_of_week=fri       -0.016099    -0.011658  0.039072         1.000000   \n",
       "previous_new          -0.491134    -0.495992 -0.244296         0.007500   \n",
       "campaign               0.136463     0.144706  0.077891         0.027498   \n",
       "day_of_week=mon       -0.020956    -0.016833 -0.015764        -0.247756   \n",
       "day_of_week=thu       -0.015357    -0.002491 -0.046488        -0.250761   \n",
       "day_of_week=tue        0.016729     0.003636  0.004124        -0.237436   \n",
       "day_of_week=wed        0.036309     0.027545  0.021060        -0.240905   \n",
       "month=apr             -0.340320    -0.265117 -0.157828         0.021591   \n",
       "pdays_before          -0.295769    -0.370738 -0.119915        -0.015249   \n",
       "month=aug              0.166660     0.194766 -0.285068        -0.018845   \n",
       "month=dec             -0.109178    -0.128032 -0.026987        -0.009084   \n",
       "month=jul              0.281131     0.298129 -0.199664        -0.058954   \n",
       "month=jun              0.140114     0.160695  0.387190         0.027279   \n",
       "month=mar             -0.168697    -0.183052 -0.064542        -0.006361   \n",
       "month=may             -0.132196    -0.171099  0.345436         0.035210   \n",
       "month=nov              0.019100     0.028112 -0.186965        -0.003539   \n",
       "month=oct             -0.185632    -0.272243 -0.044830        -0.000373   \n",
       "month=sep             -0.190495    -0.292404 -0.048263         0.003872   \n",
       "poutcome=failure      -0.389099    -0.353894 -0.208817         0.017677   \n",
       "poutcome=nonexistent   0.491134     0.495992  0.244296        -0.007500   \n",
       "poutcome=success      -0.280132    -0.349112 -0.113446        -0.015617   \n",
       "\n",
       "                      previous_new  campaign        ...         month=jul  \\\n",
       "duration                  0.013792 -0.075007        ...          0.024338   \n",
       "emp.var.rate             -0.474324  0.152108        ...          0.314389   \n",
       "cons.price.idx           -0.304190  0.129243        ...          0.251556   \n",
       "cons.conf.idx            -0.097195 -0.014175        ...         -0.185797   \n",
       "euribor3m                -0.491134  0.136463        ...          0.281131   \n",
       "nr.employed              -0.495992  0.144706        ...          0.298129   \n",
       "contact                  -0.244296  0.077891        ...         -0.199664   \n",
       "day_of_week=fri           0.007500  0.027498        ...         -0.058954   \n",
       "previous_new              1.000000 -0.089371        ...         -0.140211   \n",
       "campaign                 -0.089371  1.000000        ...          0.099756   \n",
       "day_of_week=mon           0.006194  0.010704        ...          0.007769   \n",
       "day_of_week=thu           0.001498  0.000754        ...          0.028412   \n",
       "day_of_week=tue          -0.001102 -0.027874        ...          0.012297   \n",
       "day_of_week=wed          -0.014127 -0.011111        ...          0.008885   \n",
       "month=apr                 0.112779 -0.057615        ...         -0.118759   \n",
       "pdays_before              0.491022 -0.054138        ...         -0.051596   \n",
       "month=aug                -0.078069  0.013852        ...         -0.191907   \n",
       "month=dec                 0.069967 -0.009737        ...         -0.031399   \n",
       "month=jul                -0.140211  0.099756        ...          1.000000   \n",
       "month=jun                -0.086281  0.068783        ...         -0.177399   \n",
       "month=mar                 0.067482 -0.011213        ...         -0.054216   \n",
       "month=may                 0.021310 -0.031266        ...         -0.320816   \n",
       "month=nov                 0.099284 -0.081446        ...         -0.153977   \n",
       "month=oct                 0.116793 -0.050101        ...         -0.060787   \n",
       "month=sep                 0.123944 -0.033483        ...         -0.053857   \n",
       "poutcome=failure          0.853206 -0.070299        ...         -0.129537   \n",
       "poutcome=nonexistent     -1.000000  0.089371        ...          0.140211   \n",
       "poutcome=success          0.467030 -0.051831        ...         -0.048685   \n",
       "\n",
       "                      month=jun  month=mar  month=may  month=nov  month=oct  \\\n",
       "duration              -0.020277  -0.002505   0.008654  -0.017984   0.013703   \n",
       "emp.var.rate           0.148851  -0.143040  -0.109436  -0.107899  -0.213679   \n",
       "cons.price.idx         0.449829  -0.099396  -0.054677  -0.219626  -0.091987   \n",
       "cons.conf.idx         -0.090372  -0.057980  -0.006937  -0.054610   0.170043   \n",
       "euribor3m              0.140114  -0.168697  -0.132196   0.019100  -0.185632   \n",
       "nr.employed            0.160695  -0.183052  -0.171099   0.028112  -0.272243   \n",
       "contact                0.387190  -0.064542   0.345436  -0.186965  -0.044830   \n",
       "day_of_week=fri        0.027279  -0.006361   0.035210  -0.003539  -0.000373   \n",
       "previous_new          -0.086281   0.067482   0.021310   0.099284   0.116793   \n",
       "campaign               0.068783  -0.011213  -0.031266  -0.081446  -0.050101   \n",
       "day_of_week=mon        0.028038   0.018683  -0.029656  -0.013590  -0.009304   \n",
       "day_of_week=thu       -0.025394  -0.006867  -0.049339   0.011647   0.002352   \n",
       "day_of_week=tue       -0.017054   0.012299   0.020928   0.000120   0.010471   \n",
       "day_of_week=wed       -0.012471  -0.017892   0.025253   0.005259  -0.002959   \n",
       "month=apr             -0.101145  -0.030912  -0.182915  -0.087791  -0.034658   \n",
       "pdays_before          -0.016831   0.083993  -0.068818   0.017139   0.127487   \n",
       "month=aug             -0.163443  -0.049951  -0.295577  -0.141863  -0.056005   \n",
       "month=dec             -0.026742  -0.008173  -0.048362  -0.023211  -0.009163   \n",
       "month=jul             -0.177399  -0.054216  -0.320816  -0.153977  -0.060787   \n",
       "month=jun              1.000000  -0.046175  -0.273232  -0.131139  -0.051771   \n",
       "month=mar             -0.046175   1.000000  -0.083505  -0.040078  -0.015822   \n",
       "month=may             -0.273232  -0.083505   1.000000  -0.237157  -0.093626   \n",
       "month=nov             -0.131139  -0.040078  -0.237157   1.000000  -0.044936   \n",
       "month=oct             -0.051771  -0.015822  -0.093626  -0.044936   1.000000   \n",
       "month=sep             -0.045869  -0.014018  -0.082952  -0.039813  -0.015717   \n",
       "poutcome=failure      -0.089530   0.028034   0.062585   0.105209   0.062499   \n",
       "poutcome=nonexistent   0.086281  -0.067482  -0.021310  -0.099284  -0.116793   \n",
       "poutcome=success      -0.013317   0.081600  -0.065326   0.011615   0.117526   \n",
       "\n",
       "                      month=sep  poutcome=failure  poutcome=nonexistent  \\\n",
       "duration               0.011933         -0.009130             -0.013792   \n",
       "emp.var.rate          -0.168892         -0.384679              0.474324   \n",
       "cons.price.idx        -0.043679         -0.297995              0.304190   \n",
       "cons.conf.idx          0.167125         -0.157922              0.097195   \n",
       "euribor3m             -0.190495         -0.389099              0.491134   \n",
       "nr.employed           -0.292404         -0.353894              0.495992   \n",
       "contact               -0.048263         -0.208817              0.244296   \n",
       "day_of_week=fri        0.003872          0.017677             -0.007500   \n",
       "previous_new           0.123944          0.853206             -1.000000   \n",
       "campaign              -0.033483         -0.070299              0.089371   \n",
       "day_of_week=mon       -0.012672          0.006021             -0.006194   \n",
       "day_of_week=thu        0.000761         -0.006392             -0.001498   \n",
       "day_of_week=tue       -0.003411         -0.003593              0.001102   \n",
       "day_of_week=wed        0.011674         -0.013428              0.014127   \n",
       "month=apr             -0.030707          0.119992             -0.112779   \n",
       "pdays_before           0.161151         -0.006824             -0.491022   \n",
       "month=aug             -0.049620         -0.085236              0.078069   \n",
       "month=dec             -0.008119          0.028987             -0.069967   \n",
       "month=jul             -0.053857         -0.129537              0.140211   \n",
       "month=jun             -0.045869         -0.089530              0.086281   \n",
       "month=mar             -0.014018          0.028034             -0.067482   \n",
       "month=may             -0.082952          0.062585             -0.021310   \n",
       "month=nov             -0.039813          0.105209             -0.099284   \n",
       "month=oct             -0.015717          0.062499             -0.116793   \n",
       "month=sep              1.000000          0.048221             -0.123944   \n",
       "poutcome=failure       0.048221          1.000000             -0.853206   \n",
       "poutcome=nonexistent  -0.123944         -0.853206              1.000000   \n",
       "poutcome=success       0.155417         -0.062724             -0.467030   \n",
       "\n",
       "                      poutcome=success  \n",
       "duration                      0.041869  \n",
       "emp.var.rate                 -0.255458  \n",
       "cons.price.idx               -0.076867  \n",
       "cons.conf.idx                 0.081749  \n",
       "euribor3m                    -0.280132  \n",
       "nr.employed                  -0.349112  \n",
       "contact                      -0.113446  \n",
       "day_of_week=fri              -0.015617  \n",
       "previous_new                  0.467030  \n",
       "campaign                     -0.051831  \n",
       "day_of_week=mon               0.001644  \n",
       "day_of_week=thu               0.013702  \n",
       "day_of_week=tue               0.003981  \n",
       "day_of_week=wed              -0.004268  \n",
       "month=apr                     0.012375  \n",
       "pdays_before                  0.951139  \n",
       "month=aug                    -0.004882  \n",
       "month=dec                     0.084740  \n",
       "month=jul                    -0.048685  \n",
       "month=jun                    -0.013317  \n",
       "month=mar                     0.081600  \n",
       "month=may                    -0.065326  \n",
       "month=nov                     0.011615  \n",
       "month=oct                     0.117526  \n",
       "month=sep                     0.155417  \n",
       "poutcome=failure             -0.062724  \n",
       "poutcome=nonexistent         -0.467030  \n",
       "poutcome=success              1.000000  \n",
       "\n",
       "[28 rows x 28 columns]"
      ]
     },
     "execution_count": 26,
     "metadata": {},
     "output_type": "execute_result"
    }
   ],
   "source": [
    "names = [#'age_group_17_30', 'age_group_30_40', 'age_group_40_80', 'age_group_80_94', \n",
    "         'duration', 'emp.var.rate', 'cons.price.idx', 'cons.conf.idx', 'euribor3m', 'nr.employed', 'contact',       'day_of_week=fri', 'previous_new', 'campaign', 'day_of_week=mon', 'day_of_week=thu', 'day_of_week=tue', 'day_of_week=wed',  'month=apr', 'pdays_before', # 'education_basic', 'education_school', 'education_high', 'education_unknow', \n",
    "'month=aug', 'month=dec', 'month=jul', 'month=jun', 'month=mar', 'month=may', 'month=nov', 'month=oct', 'month=sep', 'poutcome=failure', 'poutcome=nonexistent', 'poutcome=success']\n",
    "names_for_corr = X_train[names]\n",
    "corr_ = names_for_corr.corr()\n",
    "corr_"
   ]
  },
  {
   "cell_type": "code",
   "execution_count": 27,
   "metadata": {
    "collapsed": false
   },
   "outputs": [],
   "source": [
    "s = corr_.unstack()"
   ]
  },
  {
   "cell_type": "code",
   "execution_count": 28,
   "metadata": {
    "collapsed": false
   },
   "outputs": [
    {
     "name": "stderr",
     "output_type": "stream",
     "text": [
      "C:\\Users\\Asus\\Anaconda2\\lib\\site-packages\\ipykernel\\__main__.py:1: FutureWarning: order is deprecated, use sort_values(...)\n",
      "  if __name__ == '__main__':\n"
     ]
    }
   ],
   "source": [
    "so = s.order(kind = \"quicksort\")"
   ]
  },
  {
   "cell_type": "code",
   "execution_count": 29,
   "metadata": {
    "collapsed": false
   },
   "outputs": [
    {
     "data": {
      "text/plain": [
       "previous_new          poutcome=nonexistent    1.000000\n",
       "poutcome=nonexistent  previous_new            1.000000\n",
       "                      poutcome=failure        0.853206\n",
       "poutcome=failure      poutcome=nonexistent    0.853206\n",
       "previous_new          nr.employed             0.495992\n",
       "nr.employed           previous_new            0.495992\n",
       "euribor3m             previous_new            0.491134\n",
       "previous_new          euribor3m               0.491134\n",
       "pdays_before          poutcome=nonexistent    0.491022\n",
       "poutcome=nonexistent  pdays_before            0.491022\n",
       "previous_new          emp.var.rate            0.474324\n",
       "emp.var.rate          previous_new            0.474324\n",
       "poutcome=success      poutcome=nonexistent    0.467030\n",
       "poutcome=nonexistent  poutcome=success        0.467030\n",
       "poutcome=failure      euribor3m               0.389099\n",
       "euribor3m             poutcome=failure        0.389099\n",
       "poutcome=failure      emp.var.rate            0.384679\n",
       "emp.var.rate          poutcome=failure        0.384679\n",
       "pdays_before          nr.employed             0.370738\n",
       "nr.employed           pdays_before            0.370738\n",
       "poutcome=failure      nr.employed             0.353894\n",
       "nr.employed           poutcome=failure        0.353894\n",
       "poutcome=success      nr.employed             0.349112\n",
       "nr.employed           poutcome=success        0.349112\n",
       "euribor3m             month=apr               0.340320\n",
       "month=apr             euribor3m               0.340320\n",
       "cons.conf.idx         month=apr               0.329970\n",
       "month=apr             cons.conf.idx           0.329970\n",
       "month=jul             month=may               0.320816\n",
       "month=may             month=jul               0.320816\n",
       "                                                ...   \n",
       "euribor3m             emp.var.rate            0.971966\n",
       "emp.var.rate          euribor3m               0.971966\n",
       "duration              duration                1.000000\n",
       "poutcome=failure      poutcome=failure        1.000000\n",
       "emp.var.rate          emp.var.rate            1.000000\n",
       "cons.price.idx        cons.price.idx          1.000000\n",
       "cons.conf.idx         cons.conf.idx           1.000000\n",
       "euribor3m             euribor3m               1.000000\n",
       "nr.employed           nr.employed             1.000000\n",
       "contact               contact                 1.000000\n",
       "day_of_week=fri       day_of_week=fri         1.000000\n",
       "previous_new          previous_new            1.000000\n",
       "campaign              campaign                1.000000\n",
       "day_of_week=mon       day_of_week=mon         1.000000\n",
       "day_of_week=thu       day_of_week=thu         1.000000\n",
       "poutcome=nonexistent  poutcome=nonexistent    1.000000\n",
       "day_of_week=tue       day_of_week=tue         1.000000\n",
       "month=apr             month=apr               1.000000\n",
       "pdays_before          pdays_before            1.000000\n",
       "month=aug             month=aug               1.000000\n",
       "month=dec             month=dec               1.000000\n",
       "month=jul             month=jul               1.000000\n",
       "month=jun             month=jun               1.000000\n",
       "month=mar             month=mar               1.000000\n",
       "month=may             month=may               1.000000\n",
       "month=nov             month=nov               1.000000\n",
       "month=oct             month=oct               1.000000\n",
       "month=sep             month=sep               1.000000\n",
       "day_of_week=wed       day_of_week=wed         1.000000\n",
       "poutcome=success      poutcome=success        1.000000\n",
       "dtype: float64"
      ]
     },
     "execution_count": 29,
     "metadata": {},
     "output_type": "execute_result"
    }
   ],
   "source": [
    "so.abs()"
   ]
  },
  {
   "cell_type": "code",
   "execution_count": 30,
   "metadata": {
    "collapsed": true
   },
   "outputs": [],
   "source": [
    "#X_train.drop(['housing=yes'], axis = 1, inplace = True)\n",
    "#X_train.drop(['contact=cellular'], axis = 1, inplace = True)\n",
    "#X_train.drop(['pdays'], axis = 1, inplace = True)\n",
    "#X_train.drop(['poutcome=success'], axis = 1, inplace = True)\n",
    "#X_train.drop(['loan=yes'], axis = 1, inplace = True)\n",
    "#X_train.drop(['euribor3m'], axis = 1, inplace = True)\n",
    "#X_train.drop(['emp.var.rate'], axis = 1, inplace = True)\n",
    "#X_train.drop(['nr.employed'], axis = 1, inplace = True)"
   ]
  },
  {
   "cell_type": "code",
   "execution_count": 31,
   "metadata": {
    "collapsed": true
   },
   "outputs": [],
   "source": [
    "#X_test.drop(['housing=yes'], axis = 1, inplace = True)\n",
    "#X_test.drop(['contact=cellular'], axis = 1, inplace = True)\n",
    "#X_test.drop(['pdays'], axis = 1, inplace = True)\n",
    "#X_test.drop(['poutcome=success'], axis = 1, inplace = True)\n",
    "#X_test.drop(['loan=yes'], axis = 1, inplace = True)\n",
    "#X_test.drop(['euribor3m'], axis = 1, inplace = True)\n",
    "#X_test.drop(['emp.var.rate'], axis = 1, inplace = True)\n",
    "#X_test.drop(['nr.employed'], axis = 1, inplace = True)"
   ]
  },
  {
   "cell_type": "markdown",
   "metadata": {},
   "source": [
    "## Разделение выборки"
   ]
  },
  {
   "cell_type": "code",
   "execution_count": 32,
   "metadata": {
    "collapsed": true
   },
   "outputs": [],
   "source": [
    "from sklearn.model_selection import train_test_split"
   ]
  },
  {
   "cell_type": "code",
   "execution_count": 33,
   "metadata": {
    "collapsed": true
   },
   "outputs": [],
   "source": [
    "RANDOM_SEED = 888888\n",
    "X_train_val, X_test_h, y_train_val, y_test_h = train_test_split(X_train, y_train, \n",
    "                                                                test_size = 0.3, random_state = RANDOM_SEED)"
   ]
  },
  {
   "cell_type": "code",
   "execution_count": 34,
   "metadata": {
    "collapsed": true
   },
   "outputs": [],
   "source": [
    "from sklearn.model_selection import StratifiedKFold\n",
    "kf = StratifiedKFold(n_splits = 3, random_state = RANDOM_SEED)"
   ]
  },
  {
   "cell_type": "code",
   "execution_count": 35,
   "metadata": {
    "collapsed": true
   },
   "outputs": [],
   "source": [
    "from sklearn.model_selection import GridSearchCV"
   ]
  },
  {
   "cell_type": "markdown",
   "metadata": {},
   "source": [
    "## XGboost"
   ]
  },
  {
   "cell_type": "code",
   "execution_count": 36,
   "metadata": {
    "collapsed": false,
    "scrolled": false
   },
   "outputs": [],
   "source": [
    "from sklearn.metrics import roc_auc_score\n",
    "import os\n",
    "\n",
    "mingw_path = 'C:\\\\Program Files\\\\mingw-w64\\\\x86_64-5.3.0-posix-seh-rt_v4-rev0\\\\mingw64\\\\bin'\n",
    "\n",
    "os.environ['PATH'] = mingw_path + ';' + os.environ['PATH']\n",
    "\n",
    "from xgboost import XGBClassifier\n",
    "\n",
    "estimator = XGBClassifier(seed=RANDOM_SEED, reg_alpha=0.005, reg_lambda=0.004)\n",
    "parameters = {'max_depth': range(2, 10), 'n_estimators': [2, 4, 5, 6, 25, 35, 50, 150], 'objective' : \n",
    "         ['reg:linear', 'binary:logistic', 'binary:logitraw', 'rank:pairwise'],\n",
    "         'gamma': [0, .2, .4]}\n",
    "\n",
    "xgb = GridSearchCV(estimator, parameters, scoring='roc_auc', verbose = 1, n_jobs = -1)"
   ]
  },
  {
   "cell_type": "code",
   "execution_count": 37,
   "metadata": {
    "collapsed": false
   },
   "outputs": [
    {
     "name": "stdout",
     "output_type": "stream",
     "text": [
      "Fitting 3 folds for each of 768 candidates, totalling 2304 fits\n"
     ]
    },
    {
     "name": "stderr",
     "output_type": "stream",
     "text": [
      "[Parallel(n_jobs=-1)]: Done  42 tasks      | elapsed:    6.2s\n",
      "[Parallel(n_jobs=-1)]: Done 192 tasks      | elapsed:   57.8s\n",
      "[Parallel(n_jobs=-1)]: Done 442 tasks      | elapsed:  2.6min\n",
      "[Parallel(n_jobs=-1)]: Done 792 tasks      | elapsed:  7.3min\n",
      "[Parallel(n_jobs=-1)]: Done 1242 tasks      | elapsed: 10.4min\n",
      "[Parallel(n_jobs=-1)]: Done 1792 tasks      | elapsed: 15.6min\n",
      "[Parallel(n_jobs=-1)]: Done 2304 out of 2304 | elapsed: 21.8min finished\n"
     ]
    }
   ],
   "source": [
    "xgb.fit(X_train_val, y_train_val[0]);"
   ]
  },
  {
   "cell_type": "code",
   "execution_count": 38,
   "metadata": {
    "collapsed": false
   },
   "outputs": [
    {
     "data": {
      "text/plain": [
       "{'gamma': 0.4,\n",
       " 'max_depth': 4,\n",
       " 'n_estimators': 150,\n",
       " 'objective': 'rank:pairwise'}"
      ]
     },
     "execution_count": 38,
     "metadata": {},
     "output_type": "execute_result"
    }
   ],
   "source": [
    "xgb.best_params_"
   ]
  },
  {
   "cell_type": "code",
   "execution_count": 39,
   "metadata": {
    "collapsed": false
   },
   "outputs": [
    {
     "name": "stdout",
     "output_type": "stream",
     "text": [
      "0.949061592039\n"
     ]
    }
   ],
   "source": [
    "predict_xgb = xgb.predict_proba(X_test_h)\n",
    "predict_xgb_auc = roc_auc_score(y_test_h, predict_xgb[:, 1])\n",
    "\n",
    "print (predict_xgb_auc)"
   ]
  },
  {
   "cell_type": "markdown",
   "metadata": {},
   "source": [
    "## Random Forest"
   ]
  },
  {
   "cell_type": "markdown",
   "metadata": {
    "collapsed": false
   },
   "source": [
    "from sklearn.ensemble import RandomForestClassifier\n",
    "from sklearn.metrics import roc_auc_score"
   ]
  },
  {
   "cell_type": "markdown",
   "metadata": {
    "collapsed": false
   },
   "source": [
    "parameters = {\"criterion\":[\"gini\", \"entropy\"], \n",
    "              \"max_features\":[5, 10, 15, 20, 23, 25, 26, 27, 28, 30, 35],\n",
    "              \"max_depth\":[2, 4, 5, 6, 7, 8, 9, 16, 32, 64], \n",
    "              \"class_weight\":[None, \"balanced\"]}\n",
    "\n",
    "rfc = GridSearchCV(RandomForestClassifier(random_state = RANDOM_SEED), parameters, n_jobs = -1,\n",
    "                   verbose = 1, scoring = 'roc_auc',  cv = kf)\n",
    "rfc.fit(X_train_val, y_train_val.values.ravel());"
   ]
  },
  {
   "cell_type": "markdown",
   "metadata": {},
   "source": [
    "{'class_weight': None,\n",
    " 'criterion': 'entropy',\n",
    " 'max_depth': 7,\n",
    " 'max_features': 27}"
   ]
  },
  {
   "cell_type": "markdown",
   "metadata": {
    "collapsed": false
   },
   "source": [
    "rfc.best_params_"
   ]
  },
  {
   "cell_type": "markdown",
   "metadata": {
    "collapsed": false
   },
   "source": [
    "predict_rfc = rfc.predict(X_test_h)"
   ]
  },
  {
   "cell_type": "markdown",
   "metadata": {
    "collapsed": false
   },
   "source": [
    "roc_auc_score(y_test_h, predict_rfc)"
   ]
  },
  {
   "cell_type": "markdown",
   "metadata": {
    "collapsed": false
   },
   "source": [
    "rfc.best_score_"
   ]
  },
  {
   "cell_type": "markdown",
   "metadata": {
    "collapsed": false
   },
   "source": [
    "predict_rfc_proba = rfc.predict_proba(X_test)[:, 1]"
   ]
  },
  {
   "cell_type": "markdown",
   "metadata": {
    "collapsed": true
   },
   "source": [
    "## GRAD BOOST"
   ]
  },
  {
   "cell_type": "markdown",
   "metadata": {
    "collapsed": true
   },
   "source": [
    "from sklearn.ensemble import GradientBoostingClassifier"
   ]
  },
  {
   "cell_type": "markdown",
   "metadata": {
    "collapsed": false
   },
   "source": [
    "parameters_grad = {#'learning_rate' : [0.1, 0.01, 0.05, 0.2, 0.3], \n",
    "                   #'min_samples_split' : [500],\n",
    "                   'min_samples_leaf' : [1, 2, 3],\n",
    "                   'max_features' : [1, 2, 3, 4, 5, 'log2', 'auto'],\n",
    "                   #'subsample' : [0.9],\n",
    "                   'n_estimators': [200, 250, 300],\n",
    "                   'loss' : ['deviance', 'exponential'],\n",
    "                   'presort' : [True, False]}                 \n",
    "grad_bs = GridSearchCV(GradientBoostingClassifier(random_state = RANDOM_SEED), parameters_grad, scoring = \"roc_auc\", \n",
    "                       n_jobs = -1, verbose = 1, cv = kf)\n",
    "grad_bs.fit(X_train_val, y_train_val[0]);"
   ]
  },
  {
   "cell_type": "markdown",
   "metadata": {},
   "source": [
    "{'learning_rate': 0.1,\n",
    " 'loss': 'exponential',\n",
    " 'max_features': 'auto',\n",
    " 'min_samples_leaf': 2,\n",
    " 'min_samples_split': 500,\n",
    " 'n_estimators': 250,\n",
    " 'presort': True,\n",
    " 'subsample': 0.9}"
   ]
  },
  {
   "cell_type": "markdown",
   "metadata": {
    "collapsed": false
   },
   "source": [
    "grad_bs.best_params_"
   ]
  },
  {
   "cell_type": "markdown",
   "metadata": {
    "collapsed": true
   },
   "source": [
    "predict_grad = grad_bs.predict(X_test_h)"
   ]
  },
  {
   "cell_type": "markdown",
   "metadata": {
    "collapsed": false
   },
   "source": [
    "roc_auc_score(y_test_h, predict_grad)"
   ]
  },
  {
   "cell_type": "markdown",
   "metadata": {
    "collapsed": false
   },
   "source": [
    "grad_bs.best_score_"
   ]
  },
  {
   "cell_type": "markdown",
   "metadata": {},
   "source": [
    "best - 0.94496541389904065\n",
    "\n"
   ]
  },
  {
   "cell_type": "markdown",
   "metadata": {
    "collapsed": true
   },
   "source": [
    "predict_grad_bs = grad_bs.predict_proba(X_test)[:, 1]"
   ]
  },
  {
   "cell_type": "markdown",
   "metadata": {},
   "source": [
    "## kNN"
   ]
  },
  {
   "cell_type": "markdown",
   "metadata": {
    "collapsed": true
   },
   "source": [
    "from sklearn.neighbors import KNeighborsClassifier"
   ]
  },
  {
   "cell_type": "markdown",
   "metadata": {
    "collapsed": false
   },
   "source": [
    "parameters_knn = {'n_neighbors' : [30, 40, 50, 60, 70], \n",
    "                  'weights' : ['uniform', 'distance'],\n",
    "                  'algorithm' : ['auto', 'kd_tree', 'ball_tree'],\n",
    "                  'leaf_size' : [20, 30, 40, 50],\n",
    "                  'p' : [1, 2]}\n",
    "                                    \n",
    "knn = GridSearchCV(KNeighborsClassifier(), parameters_knn, scoring=\"roc_auc\", n_jobs = -1, cv = kf)\n",
    "knn.fit(X_train_val, y_train_val[0]);"
   ]
  },
  {
   "cell_type": "markdown",
   "metadata": {},
   "source": [
    "{'algorithm': 'auto',\n",
    " 'leaf_size': 20,\n",
    " 'n_neighbors': 70,\n",
    " 'p': 1,\n",
    " 'weights': 'distance'}"
   ]
  },
  {
   "cell_type": "markdown",
   "metadata": {
    "collapsed": false
   },
   "source": [
    "knn.best_params_"
   ]
  },
  {
   "cell_type": "markdown",
   "metadata": {
    "collapsed": true
   },
   "source": [
    "predict_knn = knn.predict(X_test_h)"
   ]
  },
  {
   "cell_type": "markdown",
   "metadata": {
    "collapsed": false
   },
   "source": [
    "roc_auc_score(y_test_h, predict_knn)"
   ]
  },
  {
   "cell_type": "markdown",
   "metadata": {
    "collapsed": false
   },
   "source": [
    "knn.best_score_"
   ]
  },
  {
   "cell_type": "markdown",
   "metadata": {
    "collapsed": true
   },
   "source": [
    "predict_knn_bs = knn.predict_proba(X_test)[:, 1]"
   ]
  },
  {
   "cell_type": "markdown",
   "metadata": {},
   "source": [
    "## Voting"
   ]
  },
  {
   "cell_type": "markdown",
   "metadata": {
    "collapsed": false
   },
   "source": [
    "from sklearn.ensemble import VotingClassifier"
   ]
  },
  {
   "cell_type": "markdown",
   "metadata": {
    "collapsed": true
   },
   "source": [
    "parameters_voting = [('rfc', rfc.best_estimator_), ('grad', grad_bs.best_estimator_), ('knn', knn.best_estimator_)]"
   ]
  },
  {
   "cell_type": "markdown",
   "metadata": {
    "collapsed": true
   },
   "source": [
    "voting_cl = VotingClassifier(parameters_voting, voting = 'soft')"
   ]
  },
  {
   "cell_type": "markdown",
   "metadata": {
    "collapsed": false
   },
   "source": [
    "voting_cl.fit(X_train_val, y_train_val[0]);"
   ]
  },
  {
   "cell_type": "markdown",
   "metadata": {
    "collapsed": false
   },
   "source": [
    "predict_voting = voting_cl.predict_proba(X_test_h)\n",
    "predict_voting_auc = roc_auc_score(y_test_h, predict_voting[:,1])"
   ]
  },
  {
   "cell_type": "markdown",
   "metadata": {
    "collapsed": false
   },
   "source": [
    "predict_voting_auc"
   ]
  },
  {
   "cell_type": "markdown",
   "metadata": {
    "collapsed": true
   },
   "source": [
    "predict_voting = voting_cl.predict_proba(X_test)[:,1]"
   ]
  },
  {
   "cell_type": "markdown",
   "metadata": {},
   "source": [
    "## Добавление в файл"
   ]
  },
  {
   "cell_type": "code",
   "execution_count": 40,
   "metadata": {
    "collapsed": false,
    "scrolled": true
   },
   "outputs": [],
   "source": [
    "prediction_arr = xgb.predict_proba(X_test)[:,1]\n",
    "prediction = pd.DataFrame(prediction_arr, index = np.arange(0, prediction_arr.shape[0]), columns=['Prediction'])\n",
    "prediction.to_csv('predition.csv', index_label='Id')"
   ]
  },
  {
   "cell_type": "markdown",
   "metadata": {
    "collapsed": true
   },
   "source": [
    "## Итог"
   ]
  },
  {
   "cell_type": "markdown",
   "metadata": {},
   "source": [
    "Наилучшим образом показал себя XGboost. "
   ]
  }
 ],
 "metadata": {
  "anaconda-cloud": {},
  "kernelspec": {
   "display_name": "Python [conda root]",
   "language": "python",
   "name": "conda-root-py"
  },
  "language_info": {
   "codemirror_mode": {
    "name": "ipython",
    "version": 3
   },
   "file_extension": ".py",
   "mimetype": "text/x-python",
   "name": "python",
   "nbconvert_exporter": "python",
   "pygments_lexer": "ipython3",
   "version": "3.5.2"
  }
 },
 "nbformat": 4,
 "nbformat_minor": 0
}

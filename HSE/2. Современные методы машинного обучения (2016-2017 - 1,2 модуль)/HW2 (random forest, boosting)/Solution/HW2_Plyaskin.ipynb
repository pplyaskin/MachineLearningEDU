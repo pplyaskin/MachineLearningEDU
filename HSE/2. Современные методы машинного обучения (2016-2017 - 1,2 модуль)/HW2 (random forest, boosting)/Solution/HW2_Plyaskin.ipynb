{
 "cells": [
  {
   "cell_type": "markdown",
   "metadata": {},
   "source": [
    "# Домашнее задание 2"
   ]
  },
  {
   "cell_type": "markdown",
   "metadata": {},
   "source": [
    "**Срок сдачи:** 23 октября 2016, 23:59 <br\\>\n",
    "\n",
    "При отправлении ДЗ на почту указывайте **фамилию** в названии файла, и тему письма оформляйте в следующем формате: <br\\>\n",
    "** [Maйнор 2016] ДЗ2 **<br\\>"
   ]
  },
  {
   "cell_type": "markdown",
   "metadata": {},
   "source": [
    "Прочтите статью [\"USING\tDATA\tMINING\tTO\tPREDICT\tSECONDARY SCHOOL\tSTUDENT\tALCOHOL\tCONSUMPTION\"](https://www.dropbox.com/s/054unjn4bfo0khj/STUDENT%20ALCOHOL%20CONSUMPTION.pdf?dl=0), загрузите [датасет](https://archive.ics.uci.edu/ml/datasets/STUDENT+ALCOHOL+CONSUMPTION#) и выполните следующие задания:"
   ]
  },
  {
   "cell_type": "markdown",
   "metadata": {},
   "source": [
    "# Работа с данными (4 балла)\n",
    "- Приведите описание признаков датасета на русском языке с указанием типа данных (1 балла)\n",
    "- Предобработка данных (3)\n",
    "    - Проверьте наличие пропусков. В случае наличия пропусков заполните их медианными значениями (1)\n",
    "    - Подсчитайте количество записей, у которых признак Medu имеет значение \"4\" (1)\n",
    "    - Преобразуйте все номинальные признаки в несколько признаков с бинарным значение (1)"
   ]
  },
  {
   "cell_type": "markdown",
   "metadata": {},
   "source": [
    "## Описание признаков"
   ]
  },
  {
   "cell_type": "markdown",
   "metadata": {},
   "source": [
    "- **school**\tместо учебы ученика\tбинарный\t(GP/MS)\tшкола Gabriel Pereira или Mousinho da Silveira\n",
    "- **sex**\tпол ученика\tбинарный\t(M/F)\tМ - мужской, F - женский\n",
    "- **age**\tвозраст ученика\tчисловой\t15 - 22\t\n",
    "- **address**\tадрес проживания ученика\tбинарный\t(U/R)\tгородской(U), или сельский адрес(R)\n",
    "- **famsize**\tразмер семьи ученика\tбинарный\t(LE3/GT3)\tдо 3(LE3), больше 3 (GT3)\n",
    "- **Pstatus**\tстатус проживания родителей ученика\tбинарный\t(T/A)\tвместе(T), или раздельно (A)\n",
    "- **Medu**\tуровень образования матери ученика\tчисловой\t0-4\t0 - нет, 1 - начальное, 2 - 2-5 класс, 3 - среднее, 4 - высшее\n",
    "- **Fedu**\tуровень образования отца ученика\tчисловой\t0-4\t0 - нет, 1 - начальное, 2 - 2-5 класс, 3 - среднее, 4 - высшее\n",
    "- **Mjob**\tместо работы матери ученика\tноминальный\tteacher/health/services/at home/other\tпреподаватель, медицинский работник, административный работник, работает на дому, другое\n",
    "- **Fjob**\tместо работы отца ученика\tноминальный\tteacher/health/services/at home/other\tпреподаватель, медицинский работник, административный работник, работает на дому, другое\n",
    "- **reason**\tпричина выбора школы\tноминальный\thome/reputation/course/other\tпо причине близости к школе, хорошей репутации, выбора предметов и другое\n",
    "- **guardian**\tопекун ученика\tноминальный\tmother/father/other\tмать, отец, другое\n",
    "- **traveltime**\tдлительность дороги до школы\tчисловой\t1 - 4\t1 - до 15 минут, 2 - от 15-30 минут, 3 - 30-60 минут, 4 - больше 60 минут\n",
    "- **studytime**\tколичество времени, затрачиваемого учеником на учебу в неделю\tчисловой\t1 - 4\t1 - меньше 2 часов, 2 - 2-5 часов, 3 - 5-10 часов, 4 - больше 10 часов\n",
    "- **failures**\tколичество неудач в прошлых классах\tчисловой\t1 - 4\t1 - 3, в случае, если количество 1 <= количество неудач <=3, 4 в противном случае\n",
    "- **schoolsup**\tдополнительная образовательная помощь\tбинарный\t(yes/no)\tyes - да, no - нет\n",
    "- **famsup**\tдополнительная образовательная помощь от родителей\tбинарный\t(yes/no)\tyes - да, no - нет\n",
    "- **paid**\tдополнительные платные курсы по предметам\tбинарный\t(yes/no)\tyes - да, no - нет\n",
    "- **activities**\tучастие во внеклассных активностях\tбинарный\t(yes/no)\tyes - да, no - нет\n",
    "- **nursery**\tпосещение мед училища\tбинарный\t(yes/no)\tyes - да, no - нет\n",
    "- **higher**\tжелание продолжить обучение в ВУЗ-е\tбинарный\t(yes/no)\tyes - да, no - нет\n",
    "- **internet**\tдоступ к интернету дома\tбинарный\t(yes/no)\tyes - да, no - нет\n",
    "- **romantic**\tналичие любовных отношений\tбинарный\t(yes/no)\tyes - да, no - нет\n",
    "- **famrel**\tуровень семейных отношений\tчисловой\t1 - 5\t1 - очень плохие отношения в семье, 5 - отличные отношения в семье\n",
    "- **freetime**\tколичество свободного времени после школы\tчисловой\t1 - 5\t1 - очень мало 5 - очень много\n",
    "- **goout**\tчастота прогулок с друзьями\tчисловой\t1 - 5\t1 - очень редко, 5 - очень часто\n",
    "- **Dalc**\tколичество алкоголя, потребляемого учеником в будни\tчисловой\t1 - 5\t1 - очень мало, 5 - очень много\n",
    "- **Walc**\tколичество алкоголя, потребляемого учеником в выходные\tчисловой\t1 - 5\t1 - очень мало, 5 - очень много\n",
    "- **health**\tтекущий уровень здоровья\tчисловой\t1 - 5\t1 - очень плохое, 5 - очень хорошее\n",
    "- **absences**\tколичество пропусков занятий\tчисловой\t0 - 93\t\n",
    "- **G1**\tоценка в первом периоде\tчисловой\t0 - 20\tматематике, или по португальскому языку\n",
    "- **G2**\tоценка во втором периоде\tчисловой\t0 - 20\tматематике, или по португальскому языку\n",
    "- **G3**\tоценка в третьем периоде\tчисловой\t0 - 20\tматематике, или по португальскому языку"
   ]
  },
  {
   "cell_type": "markdown",
   "metadata": {},
   "source": [
    "## Загрузка данных"
   ]
  },
  {
   "cell_type": "code",
   "execution_count": 3,
   "metadata": {
    "collapsed": true
   },
   "outputs": [],
   "source": [
    "import pandas as pd\n",
    "import numpy as np\n",
    "import matplotlib.pyplot as plt\n",
    "%matplotlib inline\n",
    "import warnings\n",
    "warnings.filterwarnings('ignore')\n",
    "warnings.filterwarnings(\"ignore\",category=DeprecationWarning)"
   ]
  },
  {
   "cell_type": "code",
   "execution_count": 4,
   "metadata": {
    "collapsed": false
   },
   "outputs": [],
   "source": [
    "student_math = pd.read_csv('student-mat.csv', sep=';')\n",
    "student_por = pd.read_csv('student-por.csv', sep=';')"
   ]
  },
  {
   "cell_type": "markdown",
   "metadata": {},
   "source": [
    "## Просмотрим как сильно отличаются данные по оценкам студентов"
   ]
  },
  {
   "cell_type": "code",
   "execution_count": 5,
   "metadata": {
    "collapsed": false
   },
   "outputs": [
    {
     "data": {
      "text/html": [
       "<div>\n",
       "<table border=\"1\" class=\"dataframe\">\n",
       "  <thead>\n",
       "    <tr style=\"text-align: right;\">\n",
       "      <th></th>\n",
       "      <th>G1</th>\n",
       "      <th>G2</th>\n",
       "      <th>G3</th>\n",
       "    </tr>\n",
       "  </thead>\n",
       "  <tbody>\n",
       "    <tr>\n",
       "      <th>count</th>\n",
       "      <td>395.000000</td>\n",
       "      <td>395.000000</td>\n",
       "      <td>395.000000</td>\n",
       "    </tr>\n",
       "    <tr>\n",
       "      <th>mean</th>\n",
       "      <td>10.908861</td>\n",
       "      <td>10.713924</td>\n",
       "      <td>10.415190</td>\n",
       "    </tr>\n",
       "    <tr>\n",
       "      <th>std</th>\n",
       "      <td>3.319195</td>\n",
       "      <td>3.761505</td>\n",
       "      <td>4.581443</td>\n",
       "    </tr>\n",
       "    <tr>\n",
       "      <th>min</th>\n",
       "      <td>3.000000</td>\n",
       "      <td>0.000000</td>\n",
       "      <td>0.000000</td>\n",
       "    </tr>\n",
       "    <tr>\n",
       "      <th>25%</th>\n",
       "      <td>8.000000</td>\n",
       "      <td>9.000000</td>\n",
       "      <td>8.000000</td>\n",
       "    </tr>\n",
       "    <tr>\n",
       "      <th>50%</th>\n",
       "      <td>11.000000</td>\n",
       "      <td>11.000000</td>\n",
       "      <td>11.000000</td>\n",
       "    </tr>\n",
       "    <tr>\n",
       "      <th>75%</th>\n",
       "      <td>13.000000</td>\n",
       "      <td>13.000000</td>\n",
       "      <td>14.000000</td>\n",
       "    </tr>\n",
       "    <tr>\n",
       "      <th>max</th>\n",
       "      <td>19.000000</td>\n",
       "      <td>19.000000</td>\n",
       "      <td>20.000000</td>\n",
       "    </tr>\n",
       "  </tbody>\n",
       "</table>\n",
       "</div>"
      ],
      "text/plain": [
       "               G1          G2          G3\n",
       "count  395.000000  395.000000  395.000000\n",
       "mean    10.908861   10.713924   10.415190\n",
       "std      3.319195    3.761505    4.581443\n",
       "min      3.000000    0.000000    0.000000\n",
       "25%      8.000000    9.000000    8.000000\n",
       "50%     11.000000   11.000000   11.000000\n",
       "75%     13.000000   13.000000   14.000000\n",
       "max     19.000000   19.000000   20.000000"
      ]
     },
     "execution_count": 5,
     "metadata": {},
     "output_type": "execute_result"
    }
   ],
   "source": [
    "student_math[['G1', 'G2', 'G3']].describe()"
   ]
  },
  {
   "cell_type": "code",
   "execution_count": 6,
   "metadata": {
    "collapsed": false,
    "scrolled": true
   },
   "outputs": [
    {
     "data": {
      "text/html": [
       "<div>\n",
       "<table border=\"1\" class=\"dataframe\">\n",
       "  <thead>\n",
       "    <tr style=\"text-align: right;\">\n",
       "      <th></th>\n",
       "      <th>G1</th>\n",
       "      <th>G2</th>\n",
       "      <th>G3</th>\n",
       "    </tr>\n",
       "  </thead>\n",
       "  <tbody>\n",
       "    <tr>\n",
       "      <th>count</th>\n",
       "      <td>649.000000</td>\n",
       "      <td>649.000000</td>\n",
       "      <td>649.000000</td>\n",
       "    </tr>\n",
       "    <tr>\n",
       "      <th>mean</th>\n",
       "      <td>11.399076</td>\n",
       "      <td>11.570108</td>\n",
       "      <td>11.906009</td>\n",
       "    </tr>\n",
       "    <tr>\n",
       "      <th>std</th>\n",
       "      <td>2.745265</td>\n",
       "      <td>2.913639</td>\n",
       "      <td>3.230656</td>\n",
       "    </tr>\n",
       "    <tr>\n",
       "      <th>min</th>\n",
       "      <td>0.000000</td>\n",
       "      <td>0.000000</td>\n",
       "      <td>0.000000</td>\n",
       "    </tr>\n",
       "    <tr>\n",
       "      <th>25%</th>\n",
       "      <td>10.000000</td>\n",
       "      <td>10.000000</td>\n",
       "      <td>10.000000</td>\n",
       "    </tr>\n",
       "    <tr>\n",
       "      <th>50%</th>\n",
       "      <td>11.000000</td>\n",
       "      <td>11.000000</td>\n",
       "      <td>12.000000</td>\n",
       "    </tr>\n",
       "    <tr>\n",
       "      <th>75%</th>\n",
       "      <td>13.000000</td>\n",
       "      <td>13.000000</td>\n",
       "      <td>14.000000</td>\n",
       "    </tr>\n",
       "    <tr>\n",
       "      <th>max</th>\n",
       "      <td>19.000000</td>\n",
       "      <td>19.000000</td>\n",
       "      <td>19.000000</td>\n",
       "    </tr>\n",
       "  </tbody>\n",
       "</table>\n",
       "</div>"
      ],
      "text/plain": [
       "               G1          G2          G3\n",
       "count  649.000000  649.000000  649.000000\n",
       "mean    11.399076   11.570108   11.906009\n",
       "std      2.745265    2.913639    3.230656\n",
       "min      0.000000    0.000000    0.000000\n",
       "25%     10.000000   10.000000   10.000000\n",
       "50%     11.000000   11.000000   12.000000\n",
       "75%     13.000000   13.000000   14.000000\n",
       "max     19.000000   19.000000   19.000000"
      ]
     },
     "execution_count": 6,
     "metadata": {},
     "output_type": "execute_result"
    }
   ],
   "source": [
    "student_por[['G1', 'G2', 'G3']].describe()"
   ]
  },
  {
   "cell_type": "markdown",
   "metadata": {},
   "source": [
    "Разница в данных не столь велика, поэтому объединим данные следующим образом: для студентов, посещающих оба курса, будем считать среднее между двумя оценками"
   ]
  },
  {
   "cell_type": "markdown",
   "metadata": {},
   "source": [
    "## Объединение датасетов"
   ]
  },
  {
   "cell_type": "code",
   "execution_count": 7,
   "metadata": {
    "collapsed": false
   },
   "outputs": [],
   "source": [
    "df = student_math.append(student_por, ignore_index=True)"
   ]
  },
  {
   "cell_type": "code",
   "execution_count": 8,
   "metadata": {
    "collapsed": false
   },
   "outputs": [],
   "source": [
    "df = df.groupby(['school','sex','age','address','famsize','Pstatus','Medu','Fedu','Mjob','Fjob','reason',\n",
    "                 'nursery','internet']).mean().reset_index()"
   ]
  },
  {
   "cell_type": "code",
   "execution_count": 9,
   "metadata": {
    "collapsed": false,
    "scrolled": false
   },
   "outputs": [
    {
     "data": {
      "text/plain": [
       "(662, 26)"
      ]
     },
     "execution_count": 9,
     "metadata": {},
     "output_type": "execute_result"
    }
   ],
   "source": [
    "df.shape"
   ]
  },
  {
   "cell_type": "markdown",
   "metadata": {},
   "source": [
    "## Создание ключевого признака"
   ]
  },
  {
   "cell_type": "markdown",
   "metadata": {},
   "source": [
    "Будем считать студента пьющим, если его показатель **alc**, рассчитаный по формуле *alc = (walc 2 + dalc 5)/7*, больше или равен 3"
   ]
  },
  {
   "cell_type": "code",
   "execution_count": 10,
   "metadata": {
    "collapsed": true
   },
   "outputs": [],
   "source": [
    "def alc(row):\n",
    "    if ((row['Walc']*2 + row['Dalc']*5)/7) >= 3:\n",
    "        return 1\n",
    "    else: return 0"
   ]
  },
  {
   "cell_type": "code",
   "execution_count": 11,
   "metadata": {
    "collapsed": false
   },
   "outputs": [],
   "source": [
    "df['alc'] = df.apply(lambda row: alc(row), axis=1)\n",
    "df = df.drop(['Dalc', 'Walc'], axis=1)"
   ]
  },
  {
   "cell_type": "code",
   "execution_count": 12,
   "metadata": {
    "collapsed": false
   },
   "outputs": [
    {
     "data": {
      "text/plain": [
       "0    584\n",
       "1     78\n",
       "Name: alc, dtype: int64"
      ]
     },
     "execution_count": 12,
     "metadata": {},
     "output_type": "execute_result"
    }
   ],
   "source": [
    "df['alc'].value_counts()"
   ]
  },
  {
   "cell_type": "markdown",
   "metadata": {},
   "source": [
    "##  Наличие пропусков"
   ]
  },
  {
   "cell_type": "code",
   "execution_count": 13,
   "metadata": {
    "collapsed": false,
    "scrolled": true
   },
   "outputs": [
    {
     "data": {
      "text/plain": [
       "True"
      ]
     },
     "execution_count": 13,
     "metadata": {},
     "output_type": "execute_result"
    }
   ],
   "source": [
    "df.shape == df.dropna().shape"
   ]
  },
  {
   "cell_type": "markdown",
   "metadata": {},
   "source": [
    "## Количество записей, у которых признак Medu имеет значение \"4\""
   ]
  },
  {
   "cell_type": "code",
   "execution_count": 14,
   "metadata": {
    "collapsed": false
   },
   "outputs": [
    {
     "name": "stdout",
     "output_type": "stream",
     "text": [
      "Количество студентов, у матерей которых образование 4: 172\n"
     ]
    }
   ],
   "source": [
    "mask = df['Medu'] == 4\n",
    "print('Количество студентов, у матерей которых образование 4: {}'.format(df[mask].shape[0]))"
   ]
  },
  {
   "cell_type": "markdown",
   "metadata": {},
   "source": [
    "## Кодирование признаков"
   ]
  },
  {
   "cell_type": "markdown",
   "metadata": {},
   "source": [
    "### Номинальные признаки"
   ]
  },
  {
   "cell_type": "code",
   "execution_count": 15,
   "metadata": {
    "collapsed": false
   },
   "outputs": [],
   "source": [
    "nom_features = pd.get_dummies(df[['Mjob', 'Fjob', 'reason']], prefix=['Mjob', 'Fjob', 'reason'])"
   ]
  },
  {
   "cell_type": "code",
   "execution_count": 16,
   "metadata": {
    "collapsed": false
   },
   "outputs": [],
   "source": [
    "df = pd.concat([df,nom_features], axis = 1)\n",
    "df = df.drop(['Mjob', 'Fjob', 'reason'], axis = 1)"
   ]
  },
  {
   "cell_type": "markdown",
   "metadata": {},
   "source": [
    "### Бинарные признаки"
   ]
  },
  {
   "cell_type": "code",
   "execution_count": 17,
   "metadata": {
    "collapsed": true
   },
   "outputs": [],
   "source": [
    "x = {'GP' : 1, 'MS' : 0}\n",
    "df['school'] = df['school'].map(x)"
   ]
  },
  {
   "cell_type": "code",
   "execution_count": 18,
   "metadata": {
    "collapsed": true
   },
   "outputs": [],
   "source": [
    "x = {'M' : 1, 'F' : 0}\n",
    "df['sex'] = df['sex'].map(x)"
   ]
  },
  {
   "cell_type": "code",
   "execution_count": 19,
   "metadata": {
    "collapsed": true
   },
   "outputs": [],
   "source": [
    "x = {'U' : 1, 'R' : 0}\n",
    "df['address'] = df['address'].map(x)"
   ]
  },
  {
   "cell_type": "code",
   "execution_count": 20,
   "metadata": {
    "collapsed": true
   },
   "outputs": [],
   "source": [
    "x = {'LE3' : 1, 'GT3' : 0}\n",
    "df['famsize'] = df['famsize'].map(x)"
   ]
  },
  {
   "cell_type": "code",
   "execution_count": 21,
   "metadata": {
    "collapsed": true
   },
   "outputs": [],
   "source": [
    "x = {'T' : 1, 'A' : 0}\n",
    "df['Pstatus'] = df['Pstatus'].map(x)"
   ]
  },
  {
   "cell_type": "code",
   "execution_count": 22,
   "metadata": {
    "collapsed": true
   },
   "outputs": [],
   "source": [
    "x = {'yes' : 1, 'no' : 0}\n",
    "for c in ['internet', 'nursery']:\n",
    "    df[c] = df[c].map(x)"
   ]
  },
  {
   "cell_type": "code",
   "execution_count": 23,
   "metadata": {
    "collapsed": false
   },
   "outputs": [
    {
     "data": {
      "text/plain": [
       "(662, 36)"
      ]
     },
     "execution_count": 23,
     "metadata": {},
     "output_type": "execute_result"
    }
   ],
   "source": [
    "df.shape"
   ]
  },
  {
   "cell_type": "markdown",
   "metadata": {},
   "source": [
    "## Классификация (6 баллов)\n",
    "\n",
    "### Предписания\n",
    "- Используйте accuracy как основную меру качества\n",
    "- Классы в задаче несбалансированные. Для корректной кросс-валидации используйте стратифицированный способ разбиения на фолды [Stratified K-fold](http://scikit-learn.org/stable/modules/generated/sklearn.model_selection.StratifiedKFold.html#sklearn.model_selection.StratifiedKFold)"
   ]
  },
  {
   "cell_type": "markdown",
   "metadata": {},
   "source": [
    "### Задание\n",
    "1. Задайте RANDOM_SEED и случайным образом разделите выборку на обучающую и контрольную в пропорции 80/20. Этот же RANDOM_SEED используйте при кросс-валидации (0.5 балла)\n",
    "2. Random Forest (2 балла)\n",
    "    - В статье описано использование Random Forest для предсказания важности фактором вляющих на потребление алкоголя.\n",
    "    - Повторите эксперимент с использованием [RandomForest](http://scikit-learn.org/stable/modules/generated/sklearn.ensemble.RandomForestClassifier.html#sklearn.ensemble.RandomForestClassifier) и найдите наилучшие параметры с помощью кросс-валидации. (1 балл)\n",
    "    - Изобразите аналогичную таблицу важности признаков для наилучшей настройки метода (значения могут отличаться). (0.5 балла)\n",
    "    - Укажите значение accuracy для пяти наилучших настроек метода на контрольной выборке. (0.5 балла)\n",
    "\n",
    "3. GradientBoosting (2 балла)\n",
    "    - Обучите [GradientBoostingClassifier](http://scikit-learn.org/stable/modules/generated/sklearn.ensemble.GradientBoostingClassifier.html#sklearn.ensemble.GradientBoostingClassifier)  и найдите для него наилучшие параметры с помощью кросс-валидации. (0.5 балла)\n",
    "    - Изобразите таблицу важности признаков для наилучшей настройки метода. Отличается ли она от таблицы метода RandomForest. Почему? (1 балл)\n",
    "    - Укажите значение accuracy для пяти наилучших настроек метода. (0.5 балла)\n",
    "\n",
    "4. AdaBoost (1 балл)\n",
    "    - Обучите [AdaBoostClassifier](http://scikit-learn.org/stable/modules/generated/sklearn.ensemble.AdaBoostClassifier.html) и найдите для него наилучшие параметры с помощью кросс-валидации. (0.5 балла)\n",
    "    - Укажите значение accuracy для наилучших настроек метода. (0.5 балла)\n",
    "\n",
    "5. Какой из классификаторов оказался лучше? (0.5 балла)"
   ]
  },
  {
   "cell_type": "code",
   "execution_count": 24,
   "metadata": {
    "collapsed": false
   },
   "outputs": [],
   "source": [
    "from sklearn.model_selection import train_test_split"
   ]
  },
  {
   "cell_type": "code",
   "execution_count": 25,
   "metadata": {
    "collapsed": true
   },
   "outputs": [],
   "source": [
    "RANDOM_SEED = 1234"
   ]
  },
  {
   "cell_type": "code",
   "execution_count": 26,
   "metadata": {
    "collapsed": false
   },
   "outputs": [],
   "source": [
    "Y = df['alc']\n",
    "df_sample = df.drop('alc', axis=1)"
   ]
  },
  {
   "cell_type": "code",
   "execution_count": 27,
   "metadata": {
    "collapsed": true
   },
   "outputs": [],
   "source": [
    "X_train, X_test, y_train, y_test = train_test_split(df_sample, Y, test_size=0.2, random_state=RANDOM_SEED)"
   ]
  },
  {
   "cell_type": "code",
   "execution_count": 28,
   "metadata": {
    "collapsed": false
   },
   "outputs": [
    {
     "data": {
      "text/plain": [
       "(529,)"
      ]
     },
     "execution_count": 28,
     "metadata": {},
     "output_type": "execute_result"
    }
   ],
   "source": [
    "y_train.shape"
   ]
  },
  {
   "cell_type": "code",
   "execution_count": 26,
   "metadata": {
    "collapsed": true
   },
   "outputs": [],
   "source": [
    "def score_print(grid_scores):\n",
    "    scores = [result.mean_validation_score for result in grid_scores]\n",
    "    scores.sort(reverse=True)\n",
    "    for i,s in enumerate(scores[:5]):\n",
    "        print ('{}) Accuracy score is {}'.format(i+1,s))"
   ]
  },
  {
   "cell_type": "code",
   "execution_count": 27,
   "metadata": {
    "collapsed": true
   },
   "outputs": [],
   "source": [
    "def weights_plot(weights):\n",
    "    idx = np.arange(weights.size)\n",
    "    width = 0.5\n",
    "    plt.figure(figsize=(8,4));\n",
    "    plt.title('Feature Importances')\n",
    "    plt.xlabel('Features')\n",
    "    plt.ylabel('Importance')\n",
    "    p1 = plt.bar(idx, weights, width, color='b')\n",
    "    plt.xticks(idx+width/2, df_sample.columns, rotation = 70);"
   ]
  },
  {
   "cell_type": "code",
   "execution_count": 28,
   "metadata": {
    "collapsed": false
   },
   "outputs": [],
   "source": [
    "def weights_print(weights):\n",
    "    ind = weights.argsort()[::-1]\n",
    "    print('5 most important feature for the model:')\n",
    "    for i, index in enumerate(ind[:5]):\n",
    "        print ('\\t{})  {} has {:.4f} weight'.format(i+1, df_sample.columns[index], weights[index]))"
   ]
  },
  {
   "cell_type": "markdown",
   "metadata": {},
   "source": [
    "## Кросс валидация"
   ]
  },
  {
   "cell_type": "code",
   "execution_count": 29,
   "metadata": {
    "collapsed": false
   },
   "outputs": [],
   "source": [
    "from sklearn.model_selection import StratifiedKFold"
   ]
  },
  {
   "cell_type": "code",
   "execution_count": 30,
   "metadata": {
    "collapsed": true
   },
   "outputs": [],
   "source": [
    "cv = StratifiedKFold(n_splits=5, random_state=RANDOM_SEED)"
   ]
  },
  {
   "cell_type": "markdown",
   "metadata": {},
   "source": [
    "## Random Forest"
   ]
  },
  {
   "cell_type": "code",
   "execution_count": 31,
   "metadata": {
    "collapsed": false
   },
   "outputs": [],
   "source": [
    "from sklearn.model_selection import GridSearchCV\n",
    "from sklearn.ensemble import RandomForestClassifier"
   ]
  },
  {
   "cell_type": "code",
   "execution_count": 32,
   "metadata": {
    "collapsed": false
   },
   "outputs": [],
   "source": [
    "parameters = {'criterion':['gini', 'entropy'], 'max_features':np.arange(1,5),'max_depth':[2, 4, 8, 16, 32, 64], \n",
    "              'class_weight':[None, 'balanced']}"
   ]
  },
  {
   "cell_type": "code",
   "execution_count": 33,
   "metadata": {
    "collapsed": false,
    "scrolled": true
   },
   "outputs": [],
   "source": [
    "estimator = RandomForestClassifier()\n",
    "grid = GridSearchCV(estimator, parameters, scoring='accuracy', cv=cv)"
   ]
  },
  {
   "cell_type": "code",
   "execution_count": 34,
   "metadata": {
    "collapsed": false
   },
   "outputs": [],
   "source": [
    "grid.fit(X_train, y_train);"
   ]
  },
  {
   "cell_type": "code",
   "execution_count": 35,
   "metadata": {
    "collapsed": false
   },
   "outputs": [
    {
     "name": "stdout",
     "output_type": "stream",
     "text": [
      "1) Accuracy score is 0.8809073724007561\n",
      "2) Accuracy score is 0.8809073724007561\n",
      "3) Accuracy score is 0.8809073724007561\n",
      "4) Accuracy score is 0.8809073724007561\n",
      "5) Accuracy score is 0.8790170132325141\n"
     ]
    },
    {
     "name": "stderr",
     "output_type": "stream",
     "text": [
      "C:\\Users\\Павел\\Anaconda3\\lib\\site-packages\\sklearn\\model_selection\\_search.py:662: DeprecationWarning: The grid_scores_ attribute was deprecated in version 0.18 in favor of the more elaborate cv_results_ attribute. The grid_scores_ attribute will not be available from 0.20\n",
      "  DeprecationWarning)\n"
     ]
    }
   ],
   "source": [
    "score_print(grid.grid_scores_)"
   ]
  },
  {
   "cell_type": "code",
   "execution_count": 36,
   "metadata": {
    "collapsed": false
   },
   "outputs": [
    {
     "data": {
      "image/png": "[encoded data removed]",
      "text/plain": [
       "<matplotlib.figure.Figure at 0x1a30329ceb8>"
      ]
     },
     "metadata": {},
     "output_type": "display_data"
    }
   ],
   "source": [
    "weights = grid.best_estimator_.feature_importances_\n",
    "weights_plot(weights)"
   ]
  },
  {
   "cell_type": "code",
   "execution_count": 37,
   "metadata": {
    "collapsed": false
   },
   "outputs": [
    {
     "name": "stdout",
     "output_type": "stream",
     "text": [
      "5 most important feature for the model:\n",
      "\t1)  G3 has 0.0846 weight\n",
      "\t2)  absences has 0.0640 weight\n",
      "\t3)  G1 has 0.0616 weight\n",
      "\t4)  G2 has 0.0566 weight\n",
      "\t5)  famrel has 0.0492 weight\n"
     ]
    }
   ],
   "source": [
    "weights_print(weights)"
   ]
  },
  {
   "cell_type": "markdown",
   "metadata": {},
   "source": [
    "## GradientBoosting"
   ]
  },
  {
   "cell_type": "code",
   "execution_count": 38,
   "metadata": {
    "collapsed": true
   },
   "outputs": [],
   "source": [
    "from sklearn.ensemble import GradientBoostingClassifier"
   ]
  },
  {
   "cell_type": "code",
   "execution_count": 39,
   "metadata": {
    "collapsed": false
   },
   "outputs": [],
   "source": [
    "parameters = {'loss' : ['deviance', 'exponential'], \n",
    "              'max_depth' : np.arange(1,15),\n",
    "              'learning_rate': [0.8, 1.0],\n",
    "               'max_features' : ['auto', 'log2', None]}"
   ]
  },
  {
   "cell_type": "code",
   "execution_count": 40,
   "metadata": {
    "collapsed": false
   },
   "outputs": [],
   "source": [
    "gbc_grid = GridSearchCV(GradientBoostingClassifier(), parameters, scoring='accuracy', cv=cv)\n",
    "gbc_grid.fit(X_train, y_train);"
   ]
  },
  {
   "cell_type": "code",
   "execution_count": 41,
   "metadata": {
    "collapsed": false
   },
   "outputs": [
    {
     "name": "stdout",
     "output_type": "stream",
     "text": [
      "1) Accuracy score is 0.8790170132325141\n",
      "2) Accuracy score is 0.8771266540642723\n",
      "3) Accuracy score is 0.8771266540642723\n",
      "4) Accuracy score is 0.8752362948960303\n",
      "5) Accuracy score is 0.8733459357277883\n"
     ]
    },
    {
     "name": "stderr",
     "output_type": "stream",
     "text": [
      "C:\\Users\\Павел\\Anaconda3\\lib\\site-packages\\sklearn\\model_selection\\_search.py:662: DeprecationWarning: The grid_scores_ attribute was deprecated in version 0.18 in favor of the more elaborate cv_results_ attribute. The grid_scores_ attribute will not be available from 0.20\n",
      "  DeprecationWarning)\n"
     ]
    }
   ],
   "source": [
    "score_print(gbc_grid.grid_scores_)"
   ]
  },
  {
   "cell_type": "code",
   "execution_count": 42,
   "metadata": {
    "collapsed": false
   },
   "outputs": [
    {
     "data": {
      "image/png": "[encoded data removed]",
      "text/plain": [
       "<matplotlib.figure.Figure at 0x1a30335bbe0>"
      ]
     },
     "metadata": {},
     "output_type": "display_data"
    }
   ],
   "source": [
    "weights = gbc_grid.best_estimator_.feature_importances_\n",
    "weights_plot(weights)"
   ]
  },
  {
   "cell_type": "code",
   "execution_count": 43,
   "metadata": {
    "collapsed": false,
    "scrolled": true
   },
   "outputs": [
    {
     "name": "stdout",
     "output_type": "stream",
     "text": [
      "5 most important feature for the model:\n",
      "\t1)  absences has 0.0526 weight\n",
      "\t2)  freetime has 0.0334 weight\n",
      "\t3)  G1 has 0.0316 weight\n",
      "\t4)  G3 has 0.0306 weight\n",
      "\t5)  goout has 0.0247 weight\n"
     ]
    }
   ],
   "source": [
    "weights_print(weights)"
   ]
  },
  {
   "cell_type": "markdown",
   "metadata": {},
   "source": [
    "Принцип работы **GradientBoosting** и **RandomForest** похож тем, что они оба объединяют внутри себя множество нескольких классификаторов. Однако строят связь между этими классификаторами по разному. \n",
    "- Так **RandomForest** основывается на предсказании нескольких независимых друг от друга деревьев, выбирая наиболее вероятное значение класса.\n",
    "- **GradientBoosting** строит композицию алгоритмов каждый из которых основывается на ошибках предыдущих.\n",
    "\n",
    "\n",
    "Не смотря на эти отличия, 4 из 5 наиболее важных признаков совпали и разница между их весами была незначительной."
   ]
  },
  {
   "cell_type": "markdown",
   "metadata": {},
   "source": [
    "## AdaBoost"
   ]
  },
  {
   "cell_type": "code",
   "execution_count": 44,
   "metadata": {
    "collapsed": true
   },
   "outputs": [],
   "source": [
    "from sklearn.ensemble import AdaBoostClassifier"
   ]
  },
  {
   "cell_type": "code",
   "execution_count": 45,
   "metadata": {
    "collapsed": true
   },
   "outputs": [],
   "source": [
    "parameters = {'algorithm': ['SAMME.R', 'SAMME'], 'learning_rate' : [0.8, 1.0]}"
   ]
  },
  {
   "cell_type": "code",
   "execution_count": 46,
   "metadata": {
    "collapsed": false
   },
   "outputs": [],
   "source": [
    "ada = GridSearchCV(AdaBoostClassifier(),parameters, scoring='accuracy',  cv=cv)\n",
    "ada.fit(X_train, y_train);"
   ]
  },
  {
   "cell_type": "code",
   "execution_count": 47,
   "metadata": {
    "collapsed": false
   },
   "outputs": [
    {
     "name": "stdout",
     "output_type": "stream",
     "text": [
      "1) Accuracy score is 0.8733459357277883\n",
      "2) Accuracy score is 0.8638941398865785\n",
      "3) Accuracy score is 0.8582230623818525\n",
      "4) Accuracy score is 0.8506616257088847\n"
     ]
    },
    {
     "name": "stderr",
     "output_type": "stream",
     "text": [
      "C:\\Users\\Павел\\Anaconda3\\lib\\site-packages\\sklearn\\model_selection\\_search.py:662: DeprecationWarning: The grid_scores_ attribute was deprecated in version 0.18 in favor of the more elaborate cv_results_ attribute. The grid_scores_ attribute will not be available from 0.20\n",
      "  DeprecationWarning)\n"
     ]
    }
   ],
   "source": [
    "score_print(ada.grid_scores_);"
   ]
  },
  {
   "cell_type": "code",
   "execution_count": 48,
   "metadata": {
    "collapsed": false
   },
   "outputs": [
    {
     "data": {
      "image/png": "[encoded data removed]",
      "text/plain": [
       "<matplotlib.figure.Figure at 0x1a303519b38>"
      ]
     },
     "metadata": {},
     "output_type": "display_data"
    }
   ],
   "source": [
    "weights = ada.best_estimator_.feature_importances_\n",
    "weights_plot(weights)"
   ]
  },
  {
   "cell_type": "code",
   "execution_count": 49,
   "metadata": {
    "collapsed": false
   },
   "outputs": [
    {
     "name": "stdout",
     "output_type": "stream",
     "text": [
      "5 most important feature for the model:\n",
      "\t1)  sex has 0.2421 weight\n",
      "\t2)  G1 has 0.2072 weight\n",
      "\t3)  absences has 0.1053 weight\n",
      "\t4)  goout has 0.0727 weight\n",
      "\t5)  G2 has 0.0536 weight\n"
     ]
    }
   ],
   "source": [
    "weights_print(weights)"
   ]
  },
  {
   "cell_type": "markdown",
   "metadata": {},
   "source": [
    "## Вывод"
   ]
  },
  {
   "cell_type": "markdown",
   "metadata": {
    "collapsed": true
   },
   "source": [
    "Метод **Random Forest** показал себя чуть лучше остальных методов на этих данных и этой задаче. Однако разница в качестве совсем не велика, поэтому можно сказать, что будут такие данные и задач, на которых **GradientBoosting** и **AdaBoost** покажут себя лучше."
   ]
  },
  {
   "cell_type": "markdown",
   "metadata": {},
   "source": [
    "### Замечания\n",
    "\n",
    "- В работе следует использовать библиотеку scikit-learn версии 0.18 и scipy версии 0.18.1\n",
    "- Используйте данный Ipython Notebook при оформлении домашнего задания."
   ]
  }
 ],
 "metadata": {
  "anaconda-cloud": {},
  "kernelspec": {
   "display_name": "Python 3",
   "language": "python",
   "name": "python3"
  },
  "language_info": {
   "codemirror_mode": {
    "name": "ipython",
    "version": 3
   },
   "file_extension": ".py",
   "mimetype": "text/x-python",
   "name": "python",
   "nbconvert_exporter": "python",
   "pygments_lexer": "ipython3",
   "version": "3.6.0"
  }
 },
 "nbformat": 4,
 "nbformat_minor": 0
}

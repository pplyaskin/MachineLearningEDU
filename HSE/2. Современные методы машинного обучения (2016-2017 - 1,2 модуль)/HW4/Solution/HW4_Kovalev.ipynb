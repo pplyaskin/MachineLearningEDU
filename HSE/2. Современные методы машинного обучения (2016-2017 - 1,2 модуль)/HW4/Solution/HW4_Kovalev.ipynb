{
 "cells": [
  {
   "cell_type": "code",
   "execution_count": 1,
   "metadata": {
    "collapsed": true
   },
   "outputs": [],
   "source": [
    "import numpy as np\n",
    "import pandas as pd"
   ]
  },
  {
   "cell_type": "code",
   "execution_count": 2,
   "metadata": {
    "collapsed": true
   },
   "outputs": [],
   "source": [
    "data = pd.read_csv('churn_analysis.csv')"
   ]
  },
  {
   "cell_type": "code",
   "execution_count": 3,
   "metadata": {
    "collapsed": false
   },
   "outputs": [],
   "source": [
    "data.drop(data.columns[0], axis=1, inplace=True)"
   ]
  },
  {
   "cell_type": "markdown",
   "metadata": {},
   "source": [
    "# 1"
   ]
  },
  {
   "cell_type": "markdown",
   "metadata": {},
   "source": [
    "> Давайте рассмотрим всех пользователей из контрольной группы (treatment = 1). Для таких пользователей мы хотим проверить гипотезу о том, что штат абонента не влияет на то, перестанет ли абонент пользоваться услугами оператора. Постройте таблицы сопряженности между каждой из всех 1275 возможных неупорядоченных пар штатов и значением признака churn. Заметьте, что, например, (AZ, HI) и (HI, AZ) — это одна и та же пара. Какой критерий подходит для решения этой задачи? Сколько достигаемых уровней значимости оказались меньше, чем α=0.05?"
   ]
  },
  {
   "cell_type": "code",
   "execution_count": 4,
   "metadata": {
    "collapsed": true
   },
   "outputs": [],
   "source": [
    "control_group = data[data['treatment'] == 1]"
   ]
  },
  {
   "cell_type": "code",
   "execution_count": 5,
   "metadata": {
    "collapsed": false
   },
   "outputs": [],
   "source": [
    "# массив таблиц сопряженности\n",
    "states_contingency_tables = []\n",
    "# значения, которые принимают state и churn на контрольной группе\n",
    "control_states = control_group['state'].unique()\n",
    "control_churns = control_group['churn'].unique()\n",
    "for i in range(len(control_states) - 1):\n",
    "    for j in range(i + 1, len(control_states)):\n",
    "        contingency_data = {}\n",
    "        for churn in control_churns:\n",
    "            contingency_data.update({churn: [len(control_group[(control_group['state'] ==\n",
    "                                                                control_states[i]) &\n",
    "                                                (control_group['churn'] == churn)]),\n",
    "                                             len(control_group[(control_group['state'] ==\n",
    "                                                                control_states[j]) &\n",
    "                                                (control_group['churn'] == churn)])]})\n",
    "        # формируем таблицу сопряженности\n",
    "        contingency_table = pd.DataFrame(contingency_data, index=[control_states[i], control_states[j]])\n",
    "        states_contingency_tables.append(contingency_table)"
   ]
  },
  {
   "cell_type": "code",
   "execution_count": 6,
   "metadata": {
    "collapsed": false
   },
   "outputs": [
    {
     "data": {
      "text/plain": [
       "array(['KS', 'OH', 'LA', 'IA', 'VT', 'CO', 'WY', 'MO', 'GA', 'AK', 'MA',\n",
       "       'NJ', 'AR', 'MI', 'IN', 'MN', 'SD', 'TX', 'DC', 'NY', 'OR', 'AZ',\n",
       "       'MS', 'UT', 'ME', 'ID', 'FL', 'NV', 'WA', 'WV', 'NH', 'VA', 'NM',\n",
       "       'KY', 'MT', 'PA', 'RI', 'DE', 'OK', 'NE', 'CT', 'WI', 'CA', 'NC',\n",
       "       'MD', 'TN', 'AL', 'IL', 'ND', 'HI', 'SC'], dtype=object)"
      ]
     },
     "execution_count": 6,
     "metadata": {},
     "output_type": "execute_result"
    }
   ],
   "source": [
    "control_states"
   ]
  },
  {
   "cell_type": "code",
   "execution_count": 7,
   "metadata": {
    "collapsed": false
   },
   "outputs": [
    {
     "data": {
      "text/html": [
       "<div>\n",
       "<table border=\"1\" class=\"dataframe\">\n",
       "  <thead>\n",
       "    <tr style=\"text-align: right;\">\n",
       "      <th></th>\n",
       "      <th>False.</th>\n",
       "      <th>True.</th>\n",
       "    </tr>\n",
       "  </thead>\n",
       "  <tbody>\n",
       "    <tr>\n",
       "      <th>KS</th>\n",
       "      <td>18</td>\n",
       "      <td>7</td>\n",
       "    </tr>\n",
       "    <tr>\n",
       "      <th>OH</th>\n",
       "      <td>22</td>\n",
       "      <td>2</td>\n",
       "    </tr>\n",
       "  </tbody>\n",
       "</table>\n",
       "</div>"
      ],
      "text/plain": [
       "    False.  True.\n",
       "KS      18      7\n",
       "OH      22      2"
      ]
     },
     "execution_count": 7,
     "metadata": {},
     "output_type": "execute_result"
    }
   ],
   "source": [
    "states_contingency_tables[0]"
   ]
  },
  {
   "cell_type": "code",
   "execution_count": 8,
   "metadata": {
    "collapsed": false
   },
   "outputs": [
    {
     "data": {
      "text/html": [
       "<div>\n",
       "<table border=\"1\" class=\"dataframe\">\n",
       "  <thead>\n",
       "    <tr style=\"text-align: right;\">\n",
       "      <th></th>\n",
       "      <th>False.</th>\n",
       "      <th>True.</th>\n",
       "    </tr>\n",
       "  </thead>\n",
       "  <tbody>\n",
       "    <tr>\n",
       "      <th>HI</th>\n",
       "      <td>12</td>\n",
       "      <td>1</td>\n",
       "    </tr>\n",
       "    <tr>\n",
       "      <th>SC</th>\n",
       "      <td>16</td>\n",
       "      <td>5</td>\n",
       "    </tr>\n",
       "  </tbody>\n",
       "</table>\n",
       "</div>"
      ],
      "text/plain": [
       "    False.  True.\n",
       "HI      12      1\n",
       "SC      16      5"
      ]
     },
     "execution_count": 8,
     "metadata": {},
     "output_type": "execute_result"
    }
   ],
   "source": [
    "states_contingency_tables[-1]"
   ]
  },
  {
   "cell_type": "code",
   "execution_count": 9,
   "metadata": {
    "collapsed": false
   },
   "outputs": [
    {
     "data": {
      "text/plain": [
       "1275"
      ]
     },
     "execution_count": 9,
     "metadata": {},
     "output_type": "execute_result"
    }
   ],
   "source": [
    "len(states_contingency_tables)"
   ]
  },
  {
   "cell_type": "markdown",
   "metadata": {},
   "source": [
    "Для решения этой задачи подходит точный критерий Фишера."
   ]
  },
  {
   "cell_type": "code",
   "execution_count": 10,
   "metadata": {
    "collapsed": false
   },
   "outputs": [
    {
     "data": {
      "text/plain": [
       "10"
      ]
     },
     "execution_count": 10,
     "metadata": {},
     "output_type": "execute_result"
    }
   ],
   "source": [
    "from scipy.stats import fisher_exact\n",
    "alpha = 0.05\n",
    "# счетчик, отвечающий за количество встретившихся достигаемых уровней значимости, меньших alpha\n",
    "cnt = 0\n",
    "for contingency_table in states_contingency_tables:\n",
    "    oddsratio, p_value = fisher_exact(contingency_table)\n",
    "    if p_value < alpha:\n",
    "        cnt += 1\n",
    "cnt"
   ]
  },
  {
   "cell_type": "markdown",
   "metadata": {},
   "source": [
    "# 2"
   ]
  },
  {
   "cell_type": "markdown",
   "metadata": {},
   "source": [
    "> Посчитайте корреляции Пирсона и Спирмена между day_calls и mes_estim на всех данных, оцените их значимость, дайте интерпретацию результата."
   ]
  },
  {
   "cell_type": "code",
   "execution_count": 11,
   "metadata": {
    "collapsed": false
   },
   "outputs": [
    {
     "data": {
      "text/plain": [
       "-0.051794350587572618"
      ]
     },
     "execution_count": 11,
     "metadata": {},
     "output_type": "execute_result"
    }
   ],
   "source": [
    "pearson_corr = data['day_calls'].corr(data['mes_estim'], method='pearson')\n",
    "pearson_corr"
   ]
  },
  {
   "cell_type": "code",
   "execution_count": 12,
   "metadata": {
    "collapsed": false
   },
   "outputs": [
    {
     "data": {
      "text/plain": [
       "0.043349880533927444"
      ]
     },
     "execution_count": 12,
     "metadata": {},
     "output_type": "execute_result"
    }
   ],
   "source": [
    "spearman_corr = data['day_calls'].corr(data['mes_estim'], method='spearman')\n",
    "spearman_corr"
   ]
  },
  {
   "cell_type": "code",
   "execution_count": 13,
   "metadata": {
    "collapsed": false
   },
   "outputs": [
    {
     "data": {
      "text/plain": [
       "3333"
      ]
     },
     "execution_count": 13,
     "metadata": {},
     "output_type": "execute_result"
    }
   ],
   "source": [
    "n = len(data)\n",
    "n"
   ]
  },
  {
   "cell_type": "markdown",
   "metadata": {},
   "source": [
    "Воспользуемся критерием Стьюдента. Вычислим статистику $T = \\frac{r\\sqrt{n - 2}}{\\sqrt{1 - r^2}}$ - эта статистика подчиняется распределению Стьюдента с $n - 2$ степенями свободы, где $n = 3333$ - размер выборки, $r$ - посчитанный коэффициент корреляции. Далее сравним модуль полученного результата с табличным критическим значением распределения Стьюдента при уровне значимости $\\alpha = 0.05$ и $n - 2$ степенями свободы - оно примерно равно $1.96$."
   ]
  },
  {
   "cell_type": "code",
   "execution_count": 14,
   "metadata": {
    "collapsed": false
   },
   "outputs": [
    {
     "data": {
      "text/plain": [
       "-2.9933191375739687"
      ]
     },
     "execution_count": 14,
     "metadata": {},
     "output_type": "execute_result"
    }
   ],
   "source": [
    "T_pearson = pearson_corr * np.sqrt(n - 2) / np.sqrt(1 - pearson_corr ** 2)\n",
    "T_pearson"
   ]
  },
  {
   "cell_type": "code",
   "execution_count": 15,
   "metadata": {
    "collapsed": false
   },
   "outputs": [
    {
     "data": {
      "text/plain": [
       "2.5042845313829765"
      ]
     },
     "execution_count": 15,
     "metadata": {},
     "output_type": "execute_result"
    }
   ],
   "source": [
    "T_spearman = spearman_corr * np.sqrt(n - 2) / np.sqrt(1 - spearman_corr ** 2)\n",
    "T_spearman"
   ]
  },
  {
   "cell_type": "markdown",
   "metadata": {},
   "source": [
    "Видно, что в каждом из случаев модуль полученного значения статистики больше табличного критического значения. Это означает, что нулевая гипотеза об отсутствии зависимости между признаками отвергается, то есть данные позволяют считать, что связь между признаками существенная. И это можно интерпретировать: наверное, если человек мало пользуется интернет мессенджерами (значение mes_estim мало), то он много звонит по телефону (значение day_calls велико), и наоборот."
   ]
  },
  {
   "cell_type": "markdown",
   "metadata": {},
   "source": [
    "# 3"
   ]
  },
  {
   "cell_type": "markdown",
   "metadata": {},
   "source": [
    "> Посчитайте значение коэффицента корреляции Крамера между штатом (state) и оттоком пользователей (churn) для всех пользователей, которые находились в контрольной группе (treatment=1). Проверьте гипотезу об отсутствии связи между этими признаками."
   ]
  },
  {
   "cell_type": "markdown",
   "metadata": {},
   "source": [
    "Считаем хи-квадрат:"
   ]
  },
  {
   "cell_type": "code",
   "execution_count": 16,
   "metadata": {
    "collapsed": false
   },
   "outputs": [
    {
     "name": "stdout",
     "output_type": "stream",
     "text": [
      "44.0527123669255\n"
     ]
    }
   ],
   "source": [
    "chi2 = 0\n",
    "for state in control_group['state'].unique():\n",
    "    for churn in control_group['churn'].unique():\n",
    "        observed_freq = len(control_group[(control_group['state'] == state) &\n",
    "                                          (control_group['churn'] == churn)])\n",
    "        expected_freq = (len(control_group[control_group['state'] == state]) *\n",
    "                         len(control_group[control_group['churn'] == churn]) /\n",
    "                         len(control_group))\n",
    "        chi2 += (observed_freq - expected_freq) ** 2 / expected_freq\n",
    "print(chi2)"
   ]
  },
  {
   "cell_type": "markdown",
   "metadata": {},
   "source": [
    "Этот же результат можно получить, использовав встроенную функцию chi2_contingency в библиотеке scipy.stats, предварительно составив таблицу сопряженности для столбцов state и churn."
   ]
  },
  {
   "cell_type": "code",
   "execution_count": 17,
   "metadata": {
    "collapsed": false
   },
   "outputs": [
    {
     "name": "stdout",
     "output_type": "stream",
     "text": [
      "[[18, 7], [22, 2], [15, 0], [13, 2], [18, 5], [17, 5], [20, 2], [17, 4], [19, 2], [19, 1], [17, 7], [20, 4], [11, 5], [17, 5], [20, 3], [19, 2], [20, 3], [14, 6], [18, 1], [27, 6], [18, 3], [17, 2], [20, 4], [18, 4], [20, 8], [16, 2], [18, 2], [18, 6], [16, 7], [27, 5], [10, 2], [20, 3], [27, 2], [21, 4], [22, 4], [14, 4], [18, 4], [16, 1], [11, 2], [21, 3], [25, 5], [22, 2], [10, 5], [16, 3], [19, 5], [11, 1], [25, 5], [11, 1], [21, 3], [12, 1], [16, 5]]\n"
     ]
    }
   ],
   "source": [
    "observed = []\n",
    "for state in control_group['state'].unique():\n",
    "    observed_state = []\n",
    "    for churn in control_group['churn'].unique():\n",
    "        observed_freq = len(control_group[(control_group['state'] == state) &\n",
    "                                          (control_group['churn'] == churn)])\n",
    "        observed_state.append(observed_freq)\n",
    "    observed.append(observed_state)\n",
    "print(observed)"
   ]
  },
  {
   "cell_type": "code",
   "execution_count": 18,
   "metadata": {
    "collapsed": false
   },
   "outputs": [
    {
     "data": {
      "text/plain": [
       "44.052712366925476"
      ]
     },
     "execution_count": 18,
     "metadata": {},
     "output_type": "execute_result"
    }
   ],
   "source": [
    "from scipy.stats import chi2_contingency\n",
    "chi2, p, dof, expected = chi2_contingency(observed)\n",
    "chi2"
   ]
  },
  {
   "cell_type": "markdown",
   "metadata": {},
   "source": [
    "Искомый коэффициент корреляции Крамера:"
   ]
  },
  {
   "cell_type": "code",
   "execution_count": 19,
   "metadata": {
    "collapsed": false
   },
   "outputs": [
    {
     "data": {
      "text/plain": [
       "0.20039321502033317"
      ]
     },
     "execution_count": 19,
     "metadata": {},
     "output_type": "execute_result"
    }
   ],
   "source": [
    "cramer_v = np.sqrt(chi2 / len(control_group))\n",
    "cramer_v"
   ]
  },
  {
   "cell_type": "markdown",
   "metadata": {},
   "source": [
    "Воспользуемся критерием хи-квадрат. В данном случае статистикой является уже вычисленная величина chi2, которая подчиняется хи-квадрат распределению с количеством степеней свободы $50$. Табличное критическое значение соответствующего хи-квадрат распределения при уровне значимости $\\alpha = 0.05$ примерно равно $67.5$, поэтому гипотеза об отсутствии зависимости не отвергается, и связь не существенная."
   ]
  },
  {
   "cell_type": "markdown",
   "metadata": {},
   "source": [
    "# 4"
   ]
  },
  {
   "cell_type": "markdown",
   "metadata": {},
   "source": [
    "> Проведите анализ эффективности удержания (churn) с помощью раличных методов (treatment = 0, treatment = 2) относительно контрольной группы пользователей (treatment = 1). Что можно сказать об этих двух методах (treatment = 0, treatment = 2)? Одинаковы ли они с точки зрения эффективности? Каким бы методом вы бы посоветовали воспользоваться компании?"
   ]
  },
  {
   "cell_type": "code",
   "execution_count": 20,
   "metadata": {
    "collapsed": false
   },
   "outputs": [
    {
     "data": {
      "text/plain": [
       "False.    917\n",
       "True.     180\n",
       "Name: churn, dtype: int64"
      ]
     },
     "execution_count": 20,
     "metadata": {},
     "output_type": "execute_result"
    }
   ],
   "source": [
    "control_group['churn'].value_counts()"
   ]
  },
  {
   "cell_type": "code",
   "execution_count": 21,
   "metadata": {
    "collapsed": false
   },
   "outputs": [
    {
     "data": {
      "text/plain": [
       "1097"
      ]
     },
     "execution_count": 21,
     "metadata": {},
     "output_type": "execute_result"
    }
   ],
   "source": [
    "len(control_group['churn'])"
   ]
  },
  {
   "cell_type": "code",
   "execution_count": 22,
   "metadata": {
    "collapsed": false
   },
   "outputs": [
    {
     "data": {
      "text/plain": [
       "False.    968\n",
       "True.     165\n",
       "Name: churn, dtype: int64"
      ]
     },
     "execution_count": 22,
     "metadata": {},
     "output_type": "execute_result"
    }
   ],
   "source": [
    "treatment0 = data[data['treatment'] == 0]\n",
    "treatment0['churn'].value_counts()"
   ]
  },
  {
   "cell_type": "code",
   "execution_count": 23,
   "metadata": {
    "collapsed": false
   },
   "outputs": [
    {
     "data": {
      "text/plain": [
       "1133"
      ]
     },
     "execution_count": 23,
     "metadata": {},
     "output_type": "execute_result"
    }
   ],
   "source": [
    "len(treatment0['churn'])"
   ]
  },
  {
   "cell_type": "code",
   "execution_count": 24,
   "metadata": {
    "collapsed": false
   },
   "outputs": [
    {
     "data": {
      "text/plain": [
       "False.    965\n",
       "True.     138\n",
       "Name: churn, dtype: int64"
      ]
     },
     "execution_count": 24,
     "metadata": {},
     "output_type": "execute_result"
    }
   ],
   "source": [
    "treatment2 = data[data['treatment'] == 2]\n",
    "treatment2['churn'].value_counts()"
   ]
  },
  {
   "cell_type": "code",
   "execution_count": 25,
   "metadata": {
    "collapsed": false
   },
   "outputs": [
    {
     "data": {
      "text/plain": [
       "1103"
      ]
     },
     "execution_count": 25,
     "metadata": {},
     "output_type": "execute_result"
    }
   ],
   "source": [
    "len(treatment2['churn'])"
   ]
  },
  {
   "cell_type": "markdown",
   "metadata": {},
   "source": [
    "Воспользуемся критерием для долей. Для каждой пары выборок посчитаем статистики, равные\n",
    "\n",
    "$$\n",
    "T_{ij} = \\frac{\\frac{m_i}{n_i} - \\frac{m_j}{n_j}}{\\sqrt{\\frac{m_i + m_j}{n_i + n_j} \\left(1 - \\frac{m_i + m_j}{n_i + n_j}\\right) \\left(\\frac{1}{n_i} + \\frac{1}{n_j}\\right)}},\n",
    "$$\n",
    "\n",
    "где $m_i$ и $m_j$ - число оставшихся пользователей в $i$-ой и $j$-ой выборках, $n_i$ и $n_j$ - размеры соответствующих выборок."
   ]
  },
  {
   "cell_type": "code",
   "execution_count": 26,
   "metadata": {
    "collapsed": false
   },
   "outputs": [],
   "source": [
    "m0 = len(treatment0[treatment0['churn'] == 'False.'])\n",
    "n0 = len(treatment0)\n",
    "m1 = len(control_group[control_group['churn'] == 'False.'])\n",
    "n1 = len(control_group)\n",
    "m2 = len(treatment2[treatment2['churn'] == 'False.'])\n",
    "n2 = len(treatment2)"
   ]
  },
  {
   "cell_type": "code",
   "execution_count": 27,
   "metadata": {
    "collapsed": false
   },
   "outputs": [
    {
     "name": "stdout",
     "output_type": "stream",
     "text": [
      "1.20466885512\n",
      "2.59905482098\n"
     ]
    }
   ],
   "source": [
    "T01 = (m0 / n0 - m1 / n1) / np.sqrt(((m0 + m1) / (n0 + n1)) * (1 - (m0 + m1) / (n0 + n1))\n",
    "                                    * (1 / n0 + 1 / n1))\n",
    "T21 = (m2 / n2 - m1 / n1) / np.sqrt(((m1 + m2) / (n1 + n2)) * (1 - (m1 + m2) / (n1 + n2))\n",
    "                                    * (1 / n1 + 1 / n2))\n",
    "print(T01)\n",
    "print(T21)"
   ]
  },
  {
   "cell_type": "markdown",
   "metadata": {},
   "source": [
    "Проведем анализ эффективности удержания. Сначала найдем критическое значение $u$, соответствующее уровню значимости $\\alpha = 0.05$. Если мы проверяем равенство эффектов, то $\\Phi(u) = 0.5 - \\frac{\\alpha}{2}$, где $\\Phi(x) = \\frac{1}{\\sqrt{2\\pi}}\\int\\limits_0^x e^{-\\frac{t^2}{2}}dt$ - функция Лапласа. У нас $\\alpha = 0.05$, и тогда $u = 1.96$.\n",
    "\n",
    "Следовательно, для $T_{01}$ нулевая гипотеза принимается, так как $|T| < u$, а для $T_{21}$ - отвергается. Это значит, что имеющиеся данные позволяют считать, что метод treatment = 0 не является эффективным, а метод treatment = 2 эффективным является, и его можно использовать."
   ]
  },
  {
   "cell_type": "markdown",
   "metadata": {},
   "source": [
    "То же самое можно посчитать с помощью критерия хи-квадрат. Сначала получим таблицу сопряженности для treatment и churn:"
   ]
  },
  {
   "cell_type": "code",
   "execution_count": 28,
   "metadata": {
    "collapsed": false
   },
   "outputs": [
    {
     "name": "stdout",
     "output_type": "stream",
     "text": [
      "[[968, 165], [917, 180], [965, 138]]\n"
     ]
    }
   ],
   "source": [
    "observed = []\n",
    "for treatment in sorted(data['treatment'].unique()):\n",
    "    observed_treatment = []\n",
    "    for churn in data['churn'].unique():\n",
    "        observed_freq = len(data[(data['treatment'] == treatment) &\n",
    "                                 (data['churn'] == churn)])\n",
    "        observed_treatment.append(observed_freq)\n",
    "    observed.append(observed_treatment)\n",
    "print(observed)"
   ]
  },
  {
   "cell_type": "code",
   "execution_count": 29,
   "metadata": {
    "collapsed": false
   },
   "outputs": [
    {
     "data": {
      "text/plain": [
       "1.3135522978703889"
      ]
     },
     "execution_count": 29,
     "metadata": {},
     "output_type": "execute_result"
    }
   ],
   "source": [
    "chi2, p, dof, expected = chi2_contingency([observed[0], observed[1]])\n",
    "chi2"
   ]
  },
  {
   "cell_type": "code",
   "execution_count": 30,
   "metadata": {
    "collapsed": false
   },
   "outputs": [
    {
     "data": {
      "text/plain": [
       "6.4435991416199307"
      ]
     },
     "execution_count": 30,
     "metadata": {},
     "output_type": "execute_result"
    }
   ],
   "source": [
    "chi2, p, dof, expected = chi2_contingency([observed[2], observed[1]])\n",
    "chi2"
   ]
  },
  {
   "cell_type": "markdown",
   "metadata": {},
   "source": [
    "В данном случае статистика аппроксимируется хи-квадрат распределением с одной степенью свободы. Табличное критическое значение при уровне значимости $\\alpha = 0.05$ равно $3.84$, поэтому нулевая гипотеза в первом случае принимается, а во втором отвергается, и метод treatment = 0 не эффективен, а treatment = 2 эффективен."
   ]
  }
 ],
 "metadata": {
  "anaconda-cloud": {},
  "kernelspec": {
   "display_name": "Python [default]",
   "language": "python",
   "name": "python3"
  },
  "language_info": {
   "codemirror_mode": {
    "name": "ipython",
    "version": 3
   },
   "file_extension": ".py",
   "mimetype": "text/x-python",
   "name": "python",
   "nbconvert_exporter": "python",
   "pygments_lexer": "ipython3",
   "version": "3.5.2"
  }
 },
 "nbformat": 4,
 "nbformat_minor": 1
}

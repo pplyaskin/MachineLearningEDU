{
 "cells": [
  {
   "cell_type": "markdown",
   "metadata": {},
   "source": [
    "## <center> Проект по курсу \"Интеллектуальный анализ данных\"\n",
    "## <center>  Прогнозирование популярности статей на Хабре \n",
    "###### Выполнили: \n",
    "* _Осина Анна_ ИАД-2\n",
    "* _Пляскин Павел_  ИАД-2\n",
    "                        "
   ]
  },
  {
   "cell_type": "markdown",
   "metadata": {},
   "source": [
    "**Описание соревнования**\n",
    "\n",
    "Задача заключается в предсказании количества звездочек, которые наберет статья, опубликованная на Хабре, по ее содержанию и времени публикации. Количество звездочек – это количество пользователей, которые добавили данную статью в раздел «избранное». Другими словами, количество звездочек определяет популярность статьи."
   ]
  },
  {
   "cell_type": "markdown",
   "metadata": {},
   "source": [
    "**Целевая переменная **\n",
    "\n",
    "Целевой переменной является _favs_ _lognorm_ - это переменная, которая показывает долю статей, у которых звездочек меньше, чем у текущей."
   ]
  },
  {
   "cell_type": "code",
   "execution_count": 1,
   "metadata": {
    "collapsed": true
   },
   "outputs": [],
   "source": [
    "import pandas as pd\n",
    "\n",
    "from sklearn.feature_extraction.text import TfidfVectorizer\n",
    "from sklearn.feature_extraction import DictVectorizer\n",
    "\n",
    "from sklearn.linear_model import Ridge\n",
    "from sklearn.metrics import mean_squared_error\n",
    "\n",
    "import numpy as np\n",
    "import scipy\n",
    "\n",
    "import seaborn as sns\n",
    "\n",
    "%matplotlib inline\n",
    "from matplotlib import pyplot as plt\n",
    "\n",
    "import brewer2mpl\n",
    "dark2_colors = brewer2mpl.get_map('Paired', 'Qualitative', 10).mpl_colors\n",
    "\n",
    "import warnings\n",
    "warnings.filterwarnings('ignore')\n",
    "\n",
    "sns.set_style(\"dark\")\n",
    "sns.set_palette(\"RdBu\")\n",
    "sns.set_context(\"notebook\", font_scale = 1.5, \n",
    "                rc = { \"figure.figsize\" : (15, 5), \"axes.titlesize\" : 18 })"
   ]
  },
  {
   "cell_type": "code",
   "execution_count": 2,
   "metadata": {
    "collapsed": true
   },
   "outputs": [],
   "source": [
    "train_df = pd.read_csv('howpop_train.csv')\n",
    "test_df  = pd.read_csv('howpop_test.csv')"
   ]
  },
  {
   "cell_type": "code",
   "execution_count": 3,
   "metadata": {
    "collapsed": false
   },
   "outputs": [
    {
     "data": {
      "text/html": [
       "<div>\n",
       "<table border=\"1\" class=\"dataframe\">\n",
       "  <thead>\n",
       "    <tr style=\"text-align: right;\">\n",
       "      <th></th>\n",
       "      <th>0</th>\n",
       "      <th>1</th>\n",
       "      <th>2</th>\n",
       "    </tr>\n",
       "  </thead>\n",
       "  <tbody>\n",
       "    <tr>\n",
       "      <th>url</th>\n",
       "      <td>https://habrahabr.ru/post/18284/</td>\n",
       "      <td>https://habrahabr.ru/post/18285/</td>\n",
       "      <td>https://habrahabr.ru/post/18286/</td>\n",
       "    </tr>\n",
       "    <tr>\n",
       "      <th>domain</th>\n",
       "      <td>habrahabr.ru</td>\n",
       "      <td>habrahabr.ru</td>\n",
       "      <td>habrahabr.ru</td>\n",
       "    </tr>\n",
       "    <tr>\n",
       "      <th>post_id</th>\n",
       "      <td>18284</td>\n",
       "      <td>18285</td>\n",
       "      <td>18286</td>\n",
       "    </tr>\n",
       "    <tr>\n",
       "      <th>published</th>\n",
       "      <td>2008-01-01 18:19:00</td>\n",
       "      <td>2008-01-01 18:30:00</td>\n",
       "      <td>2008-01-01 18:34:00</td>\n",
       "    </tr>\n",
       "    <tr>\n",
       "      <th>author</th>\n",
       "      <td>@Tapac</td>\n",
       "      <td>@DezmASter</td>\n",
       "      <td>@DezmASter</td>\n",
       "    </tr>\n",
       "    <tr>\n",
       "      <th>flow</th>\n",
       "      <td>develop</td>\n",
       "      <td>design</td>\n",
       "      <td>design</td>\n",
       "    </tr>\n",
       "    <tr>\n",
       "      <th>polling</th>\n",
       "      <td>False</td>\n",
       "      <td>False</td>\n",
       "      <td>False</td>\n",
       "    </tr>\n",
       "    <tr>\n",
       "      <th>content_len</th>\n",
       "      <td>4305</td>\n",
       "      <td>7344</td>\n",
       "      <td>8431</td>\n",
       "    </tr>\n",
       "    <tr>\n",
       "      <th>title</th>\n",
       "      <td>Новогодний подарок блоггерам — WordPress 2.3.2</td>\n",
       "      <td>Сумасшедшие яйца, или сервис для отслеживания ...</td>\n",
       "      <td>Сумасшедшие яйца, или сервис для отслеживания ...</td>\n",
       "    </tr>\n",
       "    <tr>\n",
       "      <th>comments</th>\n",
       "      <td>0</td>\n",
       "      <td>1</td>\n",
       "      <td>47</td>\n",
       "    </tr>\n",
       "    <tr>\n",
       "      <th>favs</th>\n",
       "      <td>0</td>\n",
       "      <td>1</td>\n",
       "      <td>72</td>\n",
       "    </tr>\n",
       "    <tr>\n",
       "      <th>views</th>\n",
       "      <td>236</td>\n",
       "      <td>353</td>\n",
       "      <td>1200</td>\n",
       "    </tr>\n",
       "    <tr>\n",
       "      <th>votes_plus</th>\n",
       "      <td>0</td>\n",
       "      <td>1</td>\n",
       "      <td>45</td>\n",
       "    </tr>\n",
       "    <tr>\n",
       "      <th>votes_minus</th>\n",
       "      <td>0</td>\n",
       "      <td>0</td>\n",
       "      <td>5</td>\n",
       "    </tr>\n",
       "    <tr>\n",
       "      <th>views_lognorm</th>\n",
       "      <td>-0.792687</td>\n",
       "      <td>-0.485214</td>\n",
       "      <td>0.44609</td>\n",
       "    </tr>\n",
       "    <tr>\n",
       "      <th>favs_lognorm</th>\n",
       "      <td>-1.34407</td>\n",
       "      <td>-0.831946</td>\n",
       "      <td>1.79402</td>\n",
       "    </tr>\n",
       "    <tr>\n",
       "      <th>comments_lognorm</th>\n",
       "      <td>-2.43687</td>\n",
       "      <td>-1.87319</td>\n",
       "      <td>0.574656</td>\n",
       "    </tr>\n",
       "  </tbody>\n",
       "</table>\n",
       "</div>"
      ],
      "text/plain": [
       "                                                               0  \\\n",
       "url                             https://habrahabr.ru/post/18284/   \n",
       "domain                                              habrahabr.ru   \n",
       "post_id                                                    18284   \n",
       "published                                    2008-01-01 18:19:00   \n",
       "author                                                    @Tapac   \n",
       "flow                                                     develop   \n",
       "polling                                                    False   \n",
       "content_len                                                 4305   \n",
       "title             Новогодний подарок блоггерам — WordPress 2.3.2   \n",
       "comments                                                       0   \n",
       "favs                                                           0   \n",
       "views                                                        236   \n",
       "votes_plus                                                     0   \n",
       "votes_minus                                                    0   \n",
       "views_lognorm                                          -0.792687   \n",
       "favs_lognorm                                            -1.34407   \n",
       "comments_lognorm                                        -2.43687   \n",
       "\n",
       "                                                                  1  \\\n",
       "url                                https://habrahabr.ru/post/18285/   \n",
       "domain                                                 habrahabr.ru   \n",
       "post_id                                                       18285   \n",
       "published                                       2008-01-01 18:30:00   \n",
       "author                                                   @DezmASter   \n",
       "flow                                                         design   \n",
       "polling                                                       False   \n",
       "content_len                                                    7344   \n",
       "title             Сумасшедшие яйца, или сервис для отслеживания ...   \n",
       "comments                                                          1   \n",
       "favs                                                              1   \n",
       "views                                                           353   \n",
       "votes_plus                                                        1   \n",
       "votes_minus                                                       0   \n",
       "views_lognorm                                             -0.485214   \n",
       "favs_lognorm                                              -0.831946   \n",
       "comments_lognorm                                           -1.87319   \n",
       "\n",
       "                                                                  2  \n",
       "url                                https://habrahabr.ru/post/18286/  \n",
       "domain                                                 habrahabr.ru  \n",
       "post_id                                                       18286  \n",
       "published                                       2008-01-01 18:34:00  \n",
       "author                                                   @DezmASter  \n",
       "flow                                                         design  \n",
       "polling                                                       False  \n",
       "content_len                                                    8431  \n",
       "title             Сумасшедшие яйца, или сервис для отслеживания ...  \n",
       "comments                                                         47  \n",
       "favs                                                             72  \n",
       "views                                                          1200  \n",
       "votes_plus                                                       45  \n",
       "votes_minus                                                       5  \n",
       "views_lognorm                                               0.44609  \n",
       "favs_lognorm                                                1.79402  \n",
       "comments_lognorm                                           0.574656  "
      ]
     },
     "execution_count": 3,
     "metadata": {},
     "output_type": "execute_result"
    }
   ],
   "source": [
    "train_df.head(3).T"
   ]
  },
  {
   "cell_type": "markdown",
   "metadata": {},
   "source": [
    "**Описание признаков**\n",
    "\n",
    "* _url_ – единый указатель ресурса domain – домен\n",
    "* _post_id_ – номер поста published – время публикации author – автор\n",
    "* _flow_ – тема статьи\n",
    "* _polling_ – есть ли опрос в статье content_len – длина контента\n",
    "* _title_ – название\n",
    "* _comments_ – комментарии\n",
    "* _favs_ – избранное\n",
    "* _views_ – просмотры\n",
    "* _votes_plus_ – количество плюсов votes_minus – количество минусов views_lognorm – доля статей, у которых просмотров меньше, чем у текущей\n",
    "* _favs_lognorm_ – доля статей, у которых звездочек меньше, чем у текущей\n",
    "* _comments_lognorm_ – доля статей, у которых комментариев меньше, чем у текущей\n",
    "\n",
    "Для объектов из тестовой выборки мы не будем знать значения никаких показателей популярности: \n",
    "* _views_\n",
    "* _favs_\n",
    "* _comments_\n",
    "* _votes_ _plus_\n",
    "* _votes_ _minus_\n",
    "* _views_ _lognorm_\n",
    "* _comments_ _lognorm_ \n",
    "\n",
    "и, соответственно, значение целевой переменной _favs_lognorm_."
   ]
  },
  {
   "cell_type": "markdown",
   "metadata": {},
   "source": [
    "** Число объектов в обучающей и тестовой выборках: **"
   ]
  },
  {
   "cell_type": "code",
   "execution_count": 4,
   "metadata": {
    "collapsed": false
   },
   "outputs": [
    {
     "data": {
      "text/plain": [
       "((134137, 17), (3990, 9))"
      ]
     },
     "execution_count": 4,
     "metadata": {},
     "output_type": "execute_result"
    }
   ],
   "source": [
    "train_df.shape, test_df.shape"
   ]
  },
  {
   "cell_type": "markdown",
   "metadata": {},
   "source": [
    "** Проверим наличие незаполненных данных **"
   ]
  },
  {
   "cell_type": "code",
   "execution_count": 5,
   "metadata": {
    "collapsed": false
   },
   "outputs": [
    {
     "data": {
      "text/plain": [
       "url                 0.000000\n",
       "domain              0.000000\n",
       "post_id             0.000000\n",
       "published           0.000000\n",
       "author              0.271961\n",
       "flow                0.276501\n",
       "polling             0.000000\n",
       "content_len         0.000000\n",
       "title               0.000000\n",
       "comments            0.000000\n",
       "favs                0.000000\n",
       "views               0.000000\n",
       "votes_plus          0.004257\n",
       "votes_minus         0.004257\n",
       "views_lognorm       0.000000\n",
       "favs_lognorm        0.000000\n",
       "comments_lognorm    0.000000\n",
       "dtype: float64"
      ]
     },
     "execution_count": 5,
     "metadata": {},
     "output_type": "execute_result"
    }
   ],
   "source": [
    "train_df.isnull().mean()"
   ]
  },
  {
   "cell_type": "code",
   "execution_count": 6,
   "metadata": {
    "collapsed": false
   },
   "outputs": [
    {
     "data": {
      "text/plain": [
       "url            0.000000\n",
       "domain         0.000000\n",
       "post_id        0.000000\n",
       "published      0.000000\n",
       "author         0.402005\n",
       "flow           0.331328\n",
       "polling        0.000000\n",
       "content_len    0.000000\n",
       "title          0.000000\n",
       "dtype: float64"
      ]
     },
     "execution_count": 6,
     "metadata": {},
     "output_type": "execute_result"
    }
   ],
   "source": [
    "test_df.isnull().mean()"
   ]
  },
  {
   "cell_type": "markdown",
   "metadata": {},
   "source": [
    "Оказывается, в данных существуют пропуски. Заполним их."
   ]
  },
  {
   "cell_type": "code",
   "execution_count": 7,
   "metadata": {
    "collapsed": false
   },
   "outputs": [
    {
     "data": {
      "text/html": [
       "<div>\n",
       "<table border=\"1\" class=\"dataframe\">\n",
       "  <thead>\n",
       "    <tr style=\"text-align: right;\">\n",
       "      <th></th>\n",
       "      <th>author</th>\n",
       "      <th>flow</th>\n",
       "      <th>domain</th>\n",
       "      <th>title</th>\n",
       "    </tr>\n",
       "  </thead>\n",
       "  <tbody>\n",
       "    <tr>\n",
       "      <th>0</th>\n",
       "      <td>@fsou11</td>\n",
       "      <td>develop</td>\n",
       "      <td>habrahabr.ru</td>\n",
       "      <td>Опыт использования MassTransit 3.0</td>\n",
       "    </tr>\n",
       "    <tr>\n",
       "      <th>1</th>\n",
       "      <td>NaN</td>\n",
       "      <td>marketing</td>\n",
       "      <td>habrahabr.ru</td>\n",
       "      <td>Геймификация форума на движке XenForo</td>\n",
       "    </tr>\n",
       "    <tr>\n",
       "      <th>2</th>\n",
       "      <td>NaN</td>\n",
       "      <td>admin</td>\n",
       "      <td>habrahabr.ru</td>\n",
       "      <td>Кластер высокой доступности на postgresql 9.6 ...</td>\n",
       "    </tr>\n",
       "    <tr>\n",
       "      <th>3</th>\n",
       "      <td>NaN</td>\n",
       "      <td>develop</td>\n",
       "      <td>habrahabr.ru</td>\n",
       "      <td>Как перестать бояться и полюбить синтаксически...</td>\n",
       "    </tr>\n",
       "    <tr>\n",
       "      <th>4</th>\n",
       "      <td>NaN</td>\n",
       "      <td>NaN</td>\n",
       "      <td>geektimes.ru</td>\n",
       "      <td>Мифы и реальность: Что нужно знать о современн...</td>\n",
       "    </tr>\n",
       "  </tbody>\n",
       "</table>\n",
       "</div>"
      ],
      "text/plain": [
       "    author       flow        domain  \\\n",
       "0  @fsou11    develop  habrahabr.ru   \n",
       "1      NaN  marketing  habrahabr.ru   \n",
       "2      NaN      admin  habrahabr.ru   \n",
       "3      NaN    develop  habrahabr.ru   \n",
       "4      NaN        NaN  geektimes.ru   \n",
       "\n",
       "                                               title  \n",
       "0                 Опыт использования MassTransit 3.0  \n",
       "1              Геймификация форума на движке XenForo  \n",
       "2  Кластер высокой доступности на postgresql 9.6 ...  \n",
       "3  Как перестать бояться и полюбить синтаксически...  \n",
       "4  Мифы и реальность: Что нужно знать о современн...  "
      ]
     },
     "execution_count": 7,
     "metadata": {},
     "output_type": "execute_result"
    }
   ],
   "source": [
    "categorial = ['author', 'flow', 'domain', 'title']\n",
    "test_df[categorial][:5]"
   ]
  },
  {
   "cell_type": "code",
   "execution_count": 8,
   "metadata": {
    "collapsed": true
   },
   "outputs": [],
   "source": [
    "train_df.flow = train_df.flow.fillna('unknown')\n",
    "train_df.author = train_df.author.fillna('unknown')\n",
    "\n",
    "test_df.flow = test_df.flow.fillna('unknown')\n",
    "test_df.author = test_df.author.fillna('unknown')"
   ]
  },
  {
   "cell_type": "markdown",
   "metadata": {},
   "source": [
    "** Посмотрим на стандартные показатели для каждого признака **"
   ]
  },
  {
   "cell_type": "code",
   "execution_count": 9,
   "metadata": {
    "collapsed": false
   },
   "outputs": [
    {
     "data": {
      "text/html": [
       "<div>\n",
       "<table border=\"1\" class=\"dataframe\">\n",
       "  <thead>\n",
       "    <tr style=\"text-align: right;\">\n",
       "      <th></th>\n",
       "      <th>count</th>\n",
       "      <th>mean</th>\n",
       "      <th>std</th>\n",
       "      <th>min</th>\n",
       "      <th>25%</th>\n",
       "      <th>50%</th>\n",
       "      <th>75%</th>\n",
       "      <th>max</th>\n",
       "    </tr>\n",
       "  </thead>\n",
       "  <tbody>\n",
       "    <tr>\n",
       "      <th>post_id</th>\n",
       "      <td>134137.0</td>\n",
       "      <td>181307.054265</td>\n",
       "      <td>81766.350702</td>\n",
       "      <td>18284.000000</td>\n",
       "      <td>115565.000000</td>\n",
       "      <td>182666.000000</td>\n",
       "      <td>257401.000000</td>\n",
       "      <td>3.140880e+05</td>\n",
       "    </tr>\n",
       "    <tr>\n",
       "      <th>content_len</th>\n",
       "      <td>134137.0</td>\n",
       "      <td>7516.929699</td>\n",
       "      <td>8724.771640</td>\n",
       "      <td>1.000000</td>\n",
       "      <td>2179.000000</td>\n",
       "      <td>4949.000000</td>\n",
       "      <td>9858.000000</td>\n",
       "      <td>3.524710e+05</td>\n",
       "    </tr>\n",
       "    <tr>\n",
       "      <th>comments</th>\n",
       "      <td>134137.0</td>\n",
       "      <td>39.625994</td>\n",
       "      <td>62.398958</td>\n",
       "      <td>0.000000</td>\n",
       "      <td>7.000000</td>\n",
       "      <td>19.000000</td>\n",
       "      <td>48.000000</td>\n",
       "      <td>2.266000e+03</td>\n",
       "    </tr>\n",
       "    <tr>\n",
       "      <th>favs</th>\n",
       "      <td>134137.0</td>\n",
       "      <td>71.999866</td>\n",
       "      <td>145.854135</td>\n",
       "      <td>0.000000</td>\n",
       "      <td>8.000000</td>\n",
       "      <td>27.000000</td>\n",
       "      <td>78.000000</td>\n",
       "      <td>8.718000e+03</td>\n",
       "    </tr>\n",
       "    <tr>\n",
       "      <th>views</th>\n",
       "      <td>134137.0</td>\n",
       "      <td>16631.013084</td>\n",
       "      <td>31479.819691</td>\n",
       "      <td>3.000000</td>\n",
       "      <td>2100.000000</td>\n",
       "      <td>7600.000000</td>\n",
       "      <td>18700.000000</td>\n",
       "      <td>1.730000e+06</td>\n",
       "    </tr>\n",
       "    <tr>\n",
       "      <th>votes_plus</th>\n",
       "      <td>133566.0</td>\n",
       "      <td>35.536888</td>\n",
       "      <td>42.461073</td>\n",
       "      <td>0.000000</td>\n",
       "      <td>11.000000</td>\n",
       "      <td>22.000000</td>\n",
       "      <td>45.000000</td>\n",
       "      <td>1.466000e+03</td>\n",
       "    </tr>\n",
       "    <tr>\n",
       "      <th>votes_minus</th>\n",
       "      <td>133566.0</td>\n",
       "      <td>8.050035</td>\n",
       "      <td>11.398282</td>\n",
       "      <td>0.000000</td>\n",
       "      <td>2.000000</td>\n",
       "      <td>5.000000</td>\n",
       "      <td>10.000000</td>\n",
       "      <td>4.450000e+02</td>\n",
       "    </tr>\n",
       "    <tr>\n",
       "      <th>views_lognorm</th>\n",
       "      <td>134137.0</td>\n",
       "      <td>0.004849</td>\n",
       "      <td>1.002158</td>\n",
       "      <td>-6.615254</td>\n",
       "      <td>-0.706552</td>\n",
       "      <td>-0.020934</td>\n",
       "      <td>0.682689</td>\n",
       "      <td>5.182821e+00</td>\n",
       "    </tr>\n",
       "    <tr>\n",
       "      <th>favs_lognorm</th>\n",
       "      <td>134137.0</td>\n",
       "      <td>0.003402</td>\n",
       "      <td>1.002778</td>\n",
       "      <td>-4.137662</td>\n",
       "      <td>-0.695780</td>\n",
       "      <td>0.007022</td>\n",
       "      <td>0.708778</td>\n",
       "      <td>4.872866e+00</td>\n",
       "    </tr>\n",
       "    <tr>\n",
       "      <th>comments_lognorm</th>\n",
       "      <td>134137.0</td>\n",
       "      <td>-0.003675</td>\n",
       "      <td>1.005259</td>\n",
       "      <td>-4.161967</td>\n",
       "      <td>-0.633775</td>\n",
       "      <td>0.072082</td>\n",
       "      <td>0.697072</td>\n",
       "      <td>3.900973e+00</td>\n",
       "    </tr>\n",
       "  </tbody>\n",
       "</table>\n",
       "</div>"
      ],
      "text/plain": [
       "                     count           mean           std           min  \\\n",
       "post_id           134137.0  181307.054265  81766.350702  18284.000000   \n",
       "content_len       134137.0    7516.929699   8724.771640      1.000000   \n",
       "comments          134137.0      39.625994     62.398958      0.000000   \n",
       "favs              134137.0      71.999866    145.854135      0.000000   \n",
       "views             134137.0   16631.013084  31479.819691      3.000000   \n",
       "votes_plus        133566.0      35.536888     42.461073      0.000000   \n",
       "votes_minus       133566.0       8.050035     11.398282      0.000000   \n",
       "views_lognorm     134137.0       0.004849      1.002158     -6.615254   \n",
       "favs_lognorm      134137.0       0.003402      1.002778     -4.137662   \n",
       "comments_lognorm  134137.0      -0.003675      1.005259     -4.161967   \n",
       "\n",
       "                            25%            50%            75%           max  \n",
       "post_id           115565.000000  182666.000000  257401.000000  3.140880e+05  \n",
       "content_len         2179.000000    4949.000000    9858.000000  3.524710e+05  \n",
       "comments               7.000000      19.000000      48.000000  2.266000e+03  \n",
       "favs                   8.000000      27.000000      78.000000  8.718000e+03  \n",
       "views               2100.000000    7600.000000   18700.000000  1.730000e+06  \n",
       "votes_plus            11.000000      22.000000      45.000000  1.466000e+03  \n",
       "votes_minus            2.000000       5.000000      10.000000  4.450000e+02  \n",
       "views_lognorm         -0.706552      -0.020934       0.682689  5.182821e+00  \n",
       "favs_lognorm          -0.695780       0.007022       0.708778  4.872866e+00  \n",
       "comments_lognorm      -0.633775       0.072082       0.697072  3.900973e+00  "
      ]
     },
     "execution_count": 9,
     "metadata": {},
     "output_type": "execute_result"
    }
   ],
   "source": [
    "train_df.describe().T"
   ]
  },
  {
   "cell_type": "markdown",
   "metadata": {},
   "source": [
    "** Бинарные и категориальные переменные **"
   ]
  },
  {
   "cell_type": "code",
   "execution_count": 10,
   "metadata": {
    "collapsed": false
   },
   "outputs": [
    {
     "data": {
      "text/html": [
       "<div>\n",
       "<table border=\"1\" class=\"dataframe\">\n",
       "  <thead>\n",
       "    <tr style=\"text-align: right;\">\n",
       "      <th></th>\n",
       "      <th>count</th>\n",
       "      <th>unique</th>\n",
       "      <th>top</th>\n",
       "      <th>freq</th>\n",
       "    </tr>\n",
       "  </thead>\n",
       "  <tbody>\n",
       "    <tr>\n",
       "      <th>url</th>\n",
       "      <td>134137</td>\n",
       "      <td>134137</td>\n",
       "      <td>https://habrahabr.ru/post/202904/</td>\n",
       "      <td>1</td>\n",
       "    </tr>\n",
       "    <tr>\n",
       "      <th>domain</th>\n",
       "      <td>134137</td>\n",
       "      <td>2</td>\n",
       "      <td>habrahabr.ru</td>\n",
       "      <td>97048</td>\n",
       "    </tr>\n",
       "    <tr>\n",
       "      <th>published</th>\n",
       "      <td>134137</td>\n",
       "      <td>130291</td>\n",
       "      <td>2011-06-14 15:52:00</td>\n",
       "      <td>39</td>\n",
       "    </tr>\n",
       "    <tr>\n",
       "      <th>author</th>\n",
       "      <td>134137</td>\n",
       "      <td>22078</td>\n",
       "      <td>unknown</td>\n",
       "      <td>36480</td>\n",
       "    </tr>\n",
       "    <tr>\n",
       "      <th>flow</th>\n",
       "      <td>134137</td>\n",
       "      <td>7</td>\n",
       "      <td>develop</td>\n",
       "      <td>53318</td>\n",
       "    </tr>\n",
       "    <tr>\n",
       "      <th>polling</th>\n",
       "      <td>134137</td>\n",
       "      <td>2</td>\n",
       "      <td>False</td>\n",
       "      <td>129412</td>\n",
       "    </tr>\n",
       "    <tr>\n",
       "      <th>title</th>\n",
       "      <td>134137</td>\n",
       "      <td>133628</td>\n",
       "      <td>Интересные события, произошедшие в выходные</td>\n",
       "      <td>56</td>\n",
       "    </tr>\n",
       "  </tbody>\n",
       "</table>\n",
       "</div>"
      ],
      "text/plain": [
       "            count  unique                                          top    freq\n",
       "url        134137  134137            https://habrahabr.ru/post/202904/       1\n",
       "domain     134137       2                                 habrahabr.ru   97048\n",
       "published  134137  130291                          2011-06-14 15:52:00      39\n",
       "author     134137   22078                                      unknown   36480\n",
       "flow       134137       7                                      develop   53318\n",
       "polling    134137       2                                        False  129412\n",
       "title      134137  133628  Интересные события, произошедшие в выходные      56"
      ]
     },
     "execution_count": 10,
     "metadata": {},
     "output_type": "execute_result"
    }
   ],
   "source": [
    "train_df.describe(include = ['object', 'bool']).T"
   ]
  },
  {
   "cell_type": "code",
   "execution_count": 11,
   "metadata": {
    "collapsed": true
   },
   "outputs": [],
   "source": [
    "dict_for_polling = {False : 0, True : 1}\n",
    "train_df.polling = train_df.polling.map(dict_for_polling)"
   ]
  },
  {
   "cell_type": "markdown",
   "metadata": {},
   "source": [
    "#### Убедимся, что данные отсортированы по признаку `published`"
   ]
  },
  {
   "cell_type": "code",
   "execution_count": 12,
   "metadata": {
    "collapsed": false
   },
   "outputs": [
    {
     "data": {
      "image/png": "[encoded data removed]",
      "text/plain": [
       "<matplotlib.figure.Figure at 0x2546ab7b4e0>"
      ]
     },
     "metadata": {},
     "output_type": "display_data"
    }
   ],
   "source": [
    "train_df['published'].apply(lambda ts: pd.to_datetime(ts).value).plot();"
   ]
  },
  {
   "cell_type": "markdown",
   "metadata": {},
   "source": [
    "Мы видим как дата публикации постов в наборе данных монотонно возрастает, а значит они действительно отсортированы по дате."
   ]
  },
  {
   "cell_type": "markdown",
   "metadata": {},
   "source": [
    "#### Проверим, есть ли коррелирующие признаки:"
   ]
  },
  {
   "cell_type": "code",
   "execution_count": 13,
   "metadata": {
    "collapsed": false
   },
   "outputs": [
    {
     "data": {
      "text/html": [
       "<div>\n",
       "<table border=\"1\" class=\"dataframe\">\n",
       "  <thead>\n",
       "    <tr style=\"text-align: right;\">\n",
       "      <th></th>\n",
       "      <th>post_id</th>\n",
       "      <th>polling</th>\n",
       "      <th>content_len</th>\n",
       "      <th>comments</th>\n",
       "      <th>favs</th>\n",
       "      <th>views</th>\n",
       "      <th>votes_plus</th>\n",
       "      <th>votes_minus</th>\n",
       "      <th>views_lognorm</th>\n",
       "      <th>favs_lognorm</th>\n",
       "      <th>comments_lognorm</th>\n",
       "    </tr>\n",
       "  </thead>\n",
       "  <tbody>\n",
       "    <tr>\n",
       "      <th>post_id</th>\n",
       "      <td>1.000000</td>\n",
       "      <td>0.081628</td>\n",
       "      <td>0.241384</td>\n",
       "      <td>-0.147763</td>\n",
       "      <td>0.089313</td>\n",
       "      <td>0.132385</td>\n",
       "      <td>-0.187885</td>\n",
       "      <td>-0.235594</td>\n",
       "      <td>-0.010376</td>\n",
       "      <td>-0.005845</td>\n",
       "      <td>-0.001605</td>\n",
       "    </tr>\n",
       "    <tr>\n",
       "      <th>polling</th>\n",
       "      <td>0.081628</td>\n",
       "      <td>1.000000</td>\n",
       "      <td>-0.003337</td>\n",
       "      <td>0.042605</td>\n",
       "      <td>0.006882</td>\n",
       "      <td>0.025660</td>\n",
       "      <td>-0.033505</td>\n",
       "      <td>0.027116</td>\n",
       "      <td>-0.003523</td>\n",
       "      <td>-0.036385</td>\n",
       "      <td>0.071417</td>\n",
       "    </tr>\n",
       "    <tr>\n",
       "      <th>content_len</th>\n",
       "      <td>0.241384</td>\n",
       "      <td>-0.003337</td>\n",
       "      <td>1.000000</td>\n",
       "      <td>-0.023544</td>\n",
       "      <td>0.308194</td>\n",
       "      <td>0.204101</td>\n",
       "      <td>0.068779</td>\n",
       "      <td>-0.078686</td>\n",
       "      <td>0.246063</td>\n",
       "      <td>0.356481</td>\n",
       "      <td>0.073132</td>\n",
       "    </tr>\n",
       "    <tr>\n",
       "      <th>comments</th>\n",
       "      <td>-0.147763</td>\n",
       "      <td>0.042605</td>\n",
       "      <td>-0.023544</td>\n",
       "      <td>1.000000</td>\n",
       "      <td>0.164166</td>\n",
       "      <td>0.290035</td>\n",
       "      <td>0.613961</td>\n",
       "      <td>0.457638</td>\n",
       "      <td>0.349568</td>\n",
       "      <td>0.278942</td>\n",
       "      <td>0.662740</td>\n",
       "    </tr>\n",
       "    <tr>\n",
       "      <th>favs</th>\n",
       "      <td>0.089313</td>\n",
       "      <td>0.006882</td>\n",
       "      <td>0.308194</td>\n",
       "      <td>0.164166</td>\n",
       "      <td>1.000000</td>\n",
       "      <td>0.634304</td>\n",
       "      <td>0.416241</td>\n",
       "      <td>0.062877</td>\n",
       "      <td>0.456097</td>\n",
       "      <td>0.587982</td>\n",
       "      <td>0.263239</td>\n",
       "    </tr>\n",
       "    <tr>\n",
       "      <th>views</th>\n",
       "      <td>0.132385</td>\n",
       "      <td>0.025660</td>\n",
       "      <td>0.204101</td>\n",
       "      <td>0.290035</td>\n",
       "      <td>0.634304</td>\n",
       "      <td>1.000000</td>\n",
       "      <td>0.396849</td>\n",
       "      <td>0.128654</td>\n",
       "      <td>0.585105</td>\n",
       "      <td>0.406782</td>\n",
       "      <td>0.326427</td>\n",
       "    </tr>\n",
       "    <tr>\n",
       "      <th>votes_plus</th>\n",
       "      <td>-0.187885</td>\n",
       "      <td>-0.033505</td>\n",
       "      <td>0.068779</td>\n",
       "      <td>0.613961</td>\n",
       "      <td>0.416241</td>\n",
       "      <td>0.396849</td>\n",
       "      <td>1.000000</td>\n",
       "      <td>0.464168</td>\n",
       "      <td>0.414232</td>\n",
       "      <td>0.449712</td>\n",
       "      <td>0.525081</td>\n",
       "    </tr>\n",
       "    <tr>\n",
       "      <th>votes_minus</th>\n",
       "      <td>-0.235594</td>\n",
       "      <td>0.027116</td>\n",
       "      <td>-0.078686</td>\n",
       "      <td>0.457638</td>\n",
       "      <td>0.062877</td>\n",
       "      <td>0.128654</td>\n",
       "      <td>0.464168</td>\n",
       "      <td>1.000000</td>\n",
       "      <td>0.146609</td>\n",
       "      <td>0.088226</td>\n",
       "      <td>0.355458</td>\n",
       "    </tr>\n",
       "    <tr>\n",
       "      <th>views_lognorm</th>\n",
       "      <td>-0.010376</td>\n",
       "      <td>-0.003523</td>\n",
       "      <td>0.246063</td>\n",
       "      <td>0.349568</td>\n",
       "      <td>0.456097</td>\n",
       "      <td>0.585105</td>\n",
       "      <td>0.414232</td>\n",
       "      <td>0.146609</td>\n",
       "      <td>1.000000</td>\n",
       "      <td>0.688811</td>\n",
       "      <td>0.546530</td>\n",
       "    </tr>\n",
       "    <tr>\n",
       "      <th>favs_lognorm</th>\n",
       "      <td>-0.005845</td>\n",
       "      <td>-0.036385</td>\n",
       "      <td>0.356481</td>\n",
       "      <td>0.278942</td>\n",
       "      <td>0.587982</td>\n",
       "      <td>0.406782</td>\n",
       "      <td>0.449712</td>\n",
       "      <td>0.088226</td>\n",
       "      <td>0.688811</td>\n",
       "      <td>1.000000</td>\n",
       "      <td>0.479476</td>\n",
       "    </tr>\n",
       "    <tr>\n",
       "      <th>comments_lognorm</th>\n",
       "      <td>-0.001605</td>\n",
       "      <td>0.071417</td>\n",
       "      <td>0.073132</td>\n",
       "      <td>0.662740</td>\n",
       "      <td>0.263239</td>\n",
       "      <td>0.326427</td>\n",
       "      <td>0.525081</td>\n",
       "      <td>0.355458</td>\n",
       "      <td>0.546530</td>\n",
       "      <td>0.479476</td>\n",
       "      <td>1.000000</td>\n",
       "    </tr>\n",
       "  </tbody>\n",
       "</table>\n",
       "</div>"
      ],
      "text/plain": [
       "                   post_id   polling  content_len  comments      favs  \\\n",
       "post_id           1.000000  0.081628     0.241384 -0.147763  0.089313   \n",
       "polling           0.081628  1.000000    -0.003337  0.042605  0.006882   \n",
       "content_len       0.241384 -0.003337     1.000000 -0.023544  0.308194   \n",
       "comments         -0.147763  0.042605    -0.023544  1.000000  0.164166   \n",
       "favs              0.089313  0.006882     0.308194  0.164166  1.000000   \n",
       "views             0.132385  0.025660     0.204101  0.290035  0.634304   \n",
       "votes_plus       -0.187885 -0.033505     0.068779  0.613961  0.416241   \n",
       "votes_minus      -0.235594  0.027116    -0.078686  0.457638  0.062877   \n",
       "views_lognorm    -0.010376 -0.003523     0.246063  0.349568  0.456097   \n",
       "favs_lognorm     -0.005845 -0.036385     0.356481  0.278942  0.587982   \n",
       "comments_lognorm -0.001605  0.071417     0.073132  0.662740  0.263239   \n",
       "\n",
       "                     views  votes_plus  votes_minus  views_lognorm  \\\n",
       "post_id           0.132385   -0.187885    -0.235594      -0.010376   \n",
       "polling           0.025660   -0.033505     0.027116      -0.003523   \n",
       "content_len       0.204101    0.068779    -0.078686       0.246063   \n",
       "comments          0.290035    0.613961     0.457638       0.349568   \n",
       "favs              0.634304    0.416241     0.062877       0.456097   \n",
       "views             1.000000    0.396849     0.128654       0.585105   \n",
       "votes_plus        0.396849    1.000000     0.464168       0.414232   \n",
       "votes_minus       0.128654    0.464168     1.000000       0.146609   \n",
       "views_lognorm     0.585105    0.414232     0.146609       1.000000   \n",
       "favs_lognorm      0.406782    0.449712     0.088226       0.688811   \n",
       "comments_lognorm  0.326427    0.525081     0.355458       0.546530   \n",
       "\n",
       "                  favs_lognorm  comments_lognorm  \n",
       "post_id              -0.005845         -0.001605  \n",
       "polling              -0.036385          0.071417  \n",
       "content_len           0.356481          0.073132  \n",
       "comments              0.278942          0.662740  \n",
       "favs                  0.587982          0.263239  \n",
       "views                 0.406782          0.326427  \n",
       "votes_plus            0.449712          0.525081  \n",
       "votes_minus           0.088226          0.355458  \n",
       "views_lognorm         0.688811          0.546530  \n",
       "favs_lognorm          1.000000          0.479476  \n",
       "comments_lognorm      0.479476          1.000000  "
      ]
     },
     "execution_count": 13,
     "metadata": {},
     "output_type": "execute_result"
    }
   ],
   "source": [
    "names_for_corr = train_df[train_df.columns]\n",
    "corr_ = names_for_corr.corr()\n",
    "corr_"
   ]
  },
  {
   "cell_type": "code",
   "execution_count": 14,
   "metadata": {
    "collapsed": false
   },
   "outputs": [
    {
     "data": {
      "text/plain": [
       "[]"
      ]
     },
     "execution_count": 14,
     "metadata": {},
     "output_type": "execute_result"
    }
   ],
   "source": [
    "[abs(i) for i in np.array(train_df.corr()).flatten() if (i>0.8)&(i<1)]"
   ]
  },
  {
   "cell_type": "markdown",
   "metadata": {},
   "source": [
    "Признаков, которые сильно коррелируют между собой, не найдено."
   ]
  },
  {
   "cell_type": "markdown",
   "metadata": {},
   "source": [
    "#### Столбец published (время публикации) содержит строки. Чтобы мы могли работать с этими данными как с датой/временем публикации, приведём их к типу datetime:"
   ]
  },
  {
   "cell_type": "code",
   "execution_count": 15,
   "metadata": {
    "collapsed": false
   },
   "outputs": [
    {
     "name": "stdout",
     "output_type": "stream",
     "text": [
      "object\n",
      "datetime64[ns]\n"
     ]
    }
   ],
   "source": [
    "print(train_df.published.dtype)\n",
    "train_df['published'] = pd.to_datetime(train_df.published, yearfirst = True)\n",
    "print(train_df.published.dtype)"
   ]
  },
  {
   "cell_type": "code",
   "execution_count": 16,
   "metadata": {
    "collapsed": false
   },
   "outputs": [
    {
     "name": "stdout",
     "output_type": "stream",
     "text": [
      "object\n",
      "datetime64[ns]\n"
     ]
    }
   ],
   "source": [
    "print(test_df.published.dtype)\n",
    "test_df['published'] = pd.to_datetime(test_df.published, yearfirst = True)\n",
    "print(test_df.published.dtype)"
   ]
  },
  {
   "cell_type": "markdown",
   "metadata": {},
   "source": [
    "#### Создадим несколько столбцов на основе данных о времени публикации:"
   ]
  },
  {
   "cell_type": "code",
   "execution_count": 17,
   "metadata": {
    "collapsed": true
   },
   "outputs": [],
   "source": [
    "train_df['published'] = pd.to_datetime(train_df.published, yearfirst = True)\n",
    "test_df['published'] = pd.to_datetime(test_df.published, yearfirst = True)\n",
    "\n",
    "train_df['year'] = [d.year for d in train_df.published]\n",
    "test_df['year'] = [d.year for d in test_df.published]\n",
    "\n",
    "\n",
    "train_df['month'] = [d.month for d in train_df.published]\n",
    "test_df['month'] = [d.month for d in test_df.published]\n",
    "\n",
    "train_df['week_of_day'] = [d.isoweekday() for d in train_df.published]\n",
    "test_df['week_of_day'] = [d.isoweekday() for d in test_df.published]\n",
    "\n",
    "train_df['hour'] = [d.hour for d in train_df.published]\n",
    "test_df['hour'] = [d.hour for d in test_df.published]"
   ]
  },
  {
   "cell_type": "markdown",
   "metadata": {},
   "source": [
    "## Визуализация"
   ]
  },
  {
   "cell_type": "markdown",
   "metadata": {},
   "source": [
    "#### Посмотрим на временной отрезок "
   ]
  },
  {
   "cell_type": "code",
   "execution_count": 18,
   "metadata": {
    "collapsed": true
   },
   "outputs": [],
   "source": [
    "def plot_diagram(train_df):\n",
    "    for_diagram_titles = []\n",
    "    for_diagram_values = []\n",
    "    \n",
    "    for_diagrams = train_df['year'].value_counts()\n",
    "    for_diagram_values = for_diagrams.values\n",
    "    for_diagram_titles = for_diagrams.keys()    \n",
    "    \n",
    "    plt.figure(figsize=(10,8))\n",
    "    plt.subplot(aspect = True)\n",
    "    plt.pie(for_diagram_values, colors = dark2_colors[0:10] , labels=for_diagram_titles, autopct='%i%%')\n",
    "    plt.title(\"Years\")"
   ]
  },
  {
   "cell_type": "code",
   "execution_count": 19,
   "metadata": {
    "collapsed": false
   },
   "outputs": [
    {
     "data": {
      "image/png": "[encoded data removed]",
      "text/plain": [
       "<matplotlib.figure.Figure at 0x2546cb8b208>"
      ]
     },
     "metadata": {},
     "output_type": "display_data"
    }
   ],
   "source": [
    "plot_diagram(train_df)"
   ]
  },
  {
   "cell_type": "markdown",
   "metadata": {},
   "source": [
    "Из графика видно, что тренировочная выборка содержит публикации, начиная с 2008 года. Наибольшее количество публикаций соответствует 2015 году."
   ]
  },
  {
   "cell_type": "code",
   "execution_count": 20,
   "metadata": {
    "collapsed": false
   },
   "outputs": [
    {
     "data": {
      "image/png": "[encoded data removed]",
      "text/plain": [
       "<matplotlib.figure.Figure at 0x2546ab7bd68>"
      ]
     },
     "metadata": {},
     "output_type": "display_data"
    }
   ],
   "source": [
    "plot_diagram(test_df)"
   ]
  },
  {
   "cell_type": "markdown",
   "metadata": {},
   "source": [
    "Тестовая выборка содержит публикации только 2016 и 2017 года. "
   ]
  },
  {
   "cell_type": "markdown",
   "metadata": {},
   "source": [
    "#### Посмотрим в каком месяце (и какого года) было больше всего публикаций?"
   ]
  },
  {
   "cell_type": "code",
   "execution_count": 21,
   "metadata": {
    "collapsed": false
   },
   "outputs": [
    {
     "data": {
      "text/plain": [
       "<matplotlib.axes._subplots.AxesSubplot at 0x2546cb8b550>"
      ]
     },
     "execution_count": 21,
     "metadata": {},
     "output_type": "execute_result"
    },
    {
     "data": {
      "image/png": "[encoded data removed]",
      "text/plain": [
       "<matplotlib.figure.Figure at 0x2546cbeebe0>"
      ]
     },
     "metadata": {},
     "output_type": "display_data"
    }
   ],
   "source": [
    "train_df.groupby(['year','month']).size().plot()"
   ]
  },
  {
   "cell_type": "code",
   "execution_count": 22,
   "metadata": {
    "collapsed": true
   },
   "outputs": [],
   "source": [
    "train_df['popular_month'] = [str(p)[:7] for p in train_df.published]"
   ]
  },
  {
   "cell_type": "code",
   "execution_count": 23,
   "metadata": {
    "collapsed": false
   },
   "outputs": [
    {
     "name": "stdout",
     "output_type": "stream",
     "text": [
      "2015-03    2189\n",
      "2016-03    2115\n",
      "2015-07    2111\n",
      "2015-04    2110\n",
      "2015-12    2084\n",
      "2015-11    2035\n",
      "2015-10    2030\n",
      "2015-06    2004\n",
      "2015-09    1944\n",
      "2016-04    1910\n",
      "Name: popular_month, dtype: int64\n",
      "2015-03\n"
     ]
    }
   ],
   "source": [
    "print(train_df.popular_month.value_counts()[:10])\n",
    "popular_month = train_df.popular_month.value_counts().index[0]\n",
    "print(popular_month)"
   ]
  },
  {
   "cell_type": "markdown",
   "metadata": {},
   "source": [
    "Самым популярным месяцем был март 2015 года. Посмотрим на количество публикаций в этом месяцев в зависимости от дня:"
   ]
  },
  {
   "cell_type": "code",
   "execution_count": 24,
   "metadata": {
    "collapsed": false
   },
   "outputs": [
    {
     "data": {
      "image/png": "[encoded data removed]",
      "text/plain": [
       "<matplotlib.figure.Figure at 0x2546ac46588>"
      ]
     },
     "metadata": {},
     "output_type": "display_data"
    }
   ],
   "source": [
    "popular_month_df = train_df[train_df.popular_month == popular_month]\n",
    "popular_month_df['day'] = [p.day for p in popular_month_df.published]\n",
    "\n",
    "sns.countplot(x = 'day', data = popular_month_df);"
   ]
  },
  {
   "cell_type": "markdown",
   "metadata": {},
   "source": [
    "Легко можем заметить сезонность в данных. В выходные и праздничные дни публикуется в разы меньше постов, чем в будние дни."
   ]
  },
  {
   "cell_type": "markdown",
   "metadata": {},
   "source": [
    "** Также сравним количество публикаций для разных доменов **"
   ]
  },
  {
   "cell_type": "code",
   "execution_count": 25,
   "metadata": {
    "collapsed": false
   },
   "outputs": [
    {
     "data": {
      "image/png": "[encoded data removed]",
      "text/plain": [
       "<matplotlib.figure.Figure at 0x2546cbf5080>"
      ]
     },
     "metadata": {},
     "output_type": "display_data"
    }
   ],
   "source": [
    "sns.countplot(x = 'day', hue = 'domain', data = popular_month_df);"
   ]
  },
  {
   "cell_type": "markdown",
   "metadata": {},
   "source": [
    "Из графика видно, что количество публицкаций на habrahabr.ru больше, чем на geektimes.ru"
   ]
  },
  {
   "cell_type": "markdown",
   "metadata": {
    "collapsed": true
   },
   "source": [
    "Также посмотрим еще на зависимость количества комментариев от времени:"
   ]
  },
  {
   "cell_type": "code",
   "execution_count": 26,
   "metadata": {
    "collapsed": false
   },
   "outputs": [
    {
     "data": {
      "text/plain": [
       "<matplotlib.axes._subplots.AxesSubplot at 0x2546adc2978>"
      ]
     },
     "execution_count": 26,
     "metadata": {},
     "output_type": "execute_result"
    },
    {
     "data": {
      "image/png": "[encoded data removed]",
      "text/plain": [
       "<matplotlib.figure.Figure at 0x2546d1ae240>"
      ]
     },
     "metadata": {},
     "output_type": "display_data"
    }
   ],
   "source": [
    "train_df.groupby('hour')['comments'].mean().plot()"
   ]
  },
  {
   "cell_type": "markdown",
   "metadata": {},
   "source": [
    "Как ни странно, наибольшую активность пользователи проявляют в посты опубликованные в ночное время. Затем к началу рабочего дня активность резко падает и снова начинает расти при приближении времени к вечеру."
   ]
  },
  {
   "cell_type": "markdown",
   "metadata": {
    "collapsed": true
   },
   "source": [
    "А также этот параметр для статьей, написанных на habrahabr.ru"
   ]
  },
  {
   "cell_type": "code",
   "execution_count": 27,
   "metadata": {
    "collapsed": false
   },
   "outputs": [
    {
     "data": {
      "text/plain": [
       "<matplotlib.axes._subplots.AxesSubplot at 0x2546c640ac8>"
      ]
     },
     "execution_count": 27,
     "metadata": {},
     "output_type": "execute_result"
    },
    {
     "data": {
      "image/png": "[encoded data removed]",
      "text/plain": [
       "<matplotlib.figure.Figure at 0x2546c681390>"
      ]
     },
     "metadata": {},
     "output_type": "display_data"
    }
   ],
   "source": [
    "train_df[train_df['domain']=='habrahabr.ru'].groupby('hour')['comments'].mean().plot()"
   ]
  },
  {
   "cell_type": "markdown",
   "metadata": {},
   "source": [
    "** Разбиение на train и test **"
   ]
  },
  {
   "cell_type": "code",
   "execution_count": 28,
   "metadata": {
    "collapsed": true
   },
   "outputs": [],
   "source": [
    "RANDOM_SEED = 88888"
   ]
  },
  {
   "cell_type": "code",
   "execution_count": 29,
   "metadata": {
    "collapsed": true
   },
   "outputs": [],
   "source": [
    "X = train_df.sample(n = train_df.shape[0], random_state = RANDOM_SEED).reset_index(drop = True)"
   ]
  },
  {
   "cell_type": "code",
   "execution_count": 30,
   "metadata": {
    "collapsed": true
   },
   "outputs": [],
   "source": [
    "y = X['favs_lognorm']\n",
    "X = X.drop('favs_lognorm',  axis = 1)"
   ]
  },
  {
   "cell_type": "code",
   "execution_count": 31,
   "metadata": {
    "collapsed": false
   },
   "outputs": [],
   "source": [
    "from sklearn.model_selection import train_test_split\n",
    "from sklearn.ensemble import RandomForestClassifier\n",
    "from sklearn.model_selection import GridSearchCV\n",
    "from sklearn.metrics import accuracy_score\n",
    "from sklearn.ensemble import GradientBoostingClassifier"
   ]
  },
  {
   "cell_type": "code",
   "execution_count": 32,
   "metadata": {
    "collapsed": true
   },
   "outputs": [],
   "source": [
    "X_train, X_valid, y_train, y_valid = train_test_split(X, y, test_size=0.35, random_state = 0)"
   ]
  },
  {
   "cell_type": "markdown",
   "metadata": {
    "collapsed": true
   },
   "source": [
    "** Обработка категориальных признаков **"
   ]
  },
  {
   "cell_type": "code",
   "execution_count": 33,
   "metadata": {
    "collapsed": true
   },
   "outputs": [],
   "source": [
    "vectorizer_for_title = TfidfVectorizer(min_df=3, max_df=0.3, ngram_range=(1, 3))\n",
    "\n",
    "X_train_title = vectorizer_for_title.fit_transform(X_train['title'])\n",
    "X_valid_title = vectorizer_for_title.transform(X_valid['title'])\n",
    "X_test_title = vectorizer_for_title.transform(test_df['title'])"
   ]
  },
  {
   "cell_type": "code",
   "execution_count": 34,
   "metadata": {
    "collapsed": true
   },
   "outputs": [],
   "source": [
    "vectorizer_for_title_char = TfidfVectorizer(analyzer='char')\n",
    "\n",
    "X_train_title_ch = vectorizer_for_title_char.fit_transform(X_train['title'])\n",
    "X_valid_title_ch = vectorizer_for_title_char.transform(X_valid['title'])\n",
    "X_test_title_ch = vectorizer_for_title_char.transform(test_df['title'])"
   ]
  },
  {
   "cell_type": "code",
   "execution_count": 35,
   "metadata": {
    "collapsed": true
   },
   "outputs": [],
   "source": [
    "vectorizer_dict = DictVectorizer()\n",
    "\n",
    "X_train_category = vectorizer_dict.fit_transform(X_train.ix[:, categorial].T.to_dict().values())\n",
    "X_valid_category = vectorizer_dict.transform(X_valid.ix[:, categorial].T.to_dict().values())\n",
    "X_test_category = vectorizer_dict.transform(test_df.ix[:, categorial].T.to_dict().values())"
   ]
  },
  {
   "cell_type": "markdown",
   "metadata": {},
   "source": [
    "** Соединение матриц **"
   ]
  },
  {
   "cell_type": "code",
   "execution_count": 36,
   "metadata": {
    "collapsed": true
   },
   "outputs": [],
   "source": [
    "X_train_ = scipy.sparse.hstack([X_train_title, X_train_title_ch, X_train_category])\n",
    "X_valid_ = scipy.sparse.hstack([X_valid_title, X_valid_title_ch, X_valid_category])\n",
    "X_test_ =  scipy.sparse.hstack([X_test_title, X_test_title_ch, X_test_category])"
   ]
  },
  {
   "cell_type": "markdown",
   "metadata": {
    "collapsed": true
   },
   "source": [
    "## Применение моделей"
   ]
  },
  {
   "cell_type": "markdown",
   "metadata": {},
   "source": [
    "### Ridge"
   ]
  },
  {
   "cell_type": "markdown",
   "metadata": {},
   "source": [
    "Для начала построим Ridge, линейную модель с l2-регуляризацией:"
   ]
  },
  {
   "cell_type": "code",
   "execution_count": 36,
   "metadata": {
    "collapsed": false
   },
   "outputs": [
    {
     "name": "stdout",
     "output_type": "stream",
     "text": [
      "Wall time: 8.11 s\n"
     ]
    }
   ],
   "source": [
    "%%time\n",
    "model_ridge = Ridge(alpha = 1.0, random_state = 1)\n",
    "model_ridge.fit(X_train_, y_train)"
   ]
  },
  {
   "cell_type": "code",
   "execution_count": 37,
   "metadata": {
    "collapsed": false
   },
   "outputs": [
    {
     "name": "stdout",
     "output_type": "stream",
     "text": [
      "Ошибка на трейне 0.0826199319182\n",
      "Ошибка на тесте 0.581032537249\n"
     ]
    }
   ],
   "source": [
    "train_preds_ridge = model_ridge.predict(X_train_)\n",
    "valid_preds_ridge = model_ridge.predict(X_valid_)\n",
    "\n",
    "print('Ошибка на трейне',mean_squared_error(y_train, train_preds_ridge))\n",
    "print('Ошибка на тесте',mean_squared_error(y_valid, valid_preds_ridge))"
   ]
  },
  {
   "cell_type": "markdown",
   "metadata": {},
   "source": [
    "Нам удалось сразу получить довольно хорошие показатели по ключевой метрике на простой модели. \n",
    "\n",
    "Попробуем улучшить этот показатель обучив более сложные алгоритмы:"
   ]
  },
  {
   "cell_type": "markdown",
   "metadata": {},
   "source": [
    "### DecisionTreeRegressor"
   ]
  },
  {
   "cell_type": "code",
   "execution_count": 51,
   "metadata": {
    "collapsed": true
   },
   "outputs": [],
   "source": [
    "from sklearn.tree import DecisionTreeRegressor"
   ]
  },
  {
   "cell_type": "code",
   "execution_count": 52,
   "metadata": {
    "collapsed": false
   },
   "outputs": [
    {
     "name": "stdout",
     "output_type": "stream",
     "text": [
      "Wall time: 21min 31s\n"
     ]
    }
   ],
   "source": [
    "%%time\n",
    "parameters = {'max_features' : [\"sqrt\", \"log2\", \"auto\"]}\n",
    "dtr = GridSearchCV(DecisionTreeRegressor(), parameters, scoring = 'neg_mean_squared_error', n_jobs=-1)\n",
    "dtr.fit(X_train_, y_train);"
   ]
  },
  {
   "cell_type": "code",
   "execution_count": 53,
   "metadata": {
    "collapsed": false
   },
   "outputs": [
    {
     "data": {
      "text/plain": [
       "DecisionTreeRegressor(criterion='mse', max_depth=None, max_features='auto',\n",
       "           max_leaf_nodes=None, min_impurity_split=1e-07,\n",
       "           min_samples_leaf=1, min_samples_split=2,\n",
       "           min_weight_fraction_leaf=0.0, presort=False, random_state=None,\n",
       "           splitter='best')"
      ]
     },
     "execution_count": 53,
     "metadata": {},
     "output_type": "execute_result"
    }
   ],
   "source": [
    "dtr.best_estimator_"
   ]
  },
  {
   "cell_type": "code",
   "execution_count": 54,
   "metadata": {
    "collapsed": false
   },
   "outputs": [
    {
     "name": "stdout",
     "output_type": "stream",
     "text": [
      "Ошибка на трейне 0.000378754155563\n",
      "Ошибка на тесте 1.36055622877\n"
     ]
    }
   ],
   "source": [
    "train_preds_dtr = dtr.predict(X_train_)\n",
    "valid_preds_dtr = dtr.predict(X_valid_)\n",
    "\n",
    "print('Ошибка на трейне',mean_squared_error(y_train, train_preds_dtr))\n",
    "print('Ошибка на тесте',mean_squared_error(y_valid, valid_preds_dtr))"
   ]
  },
  {
   "cell_type": "markdown",
   "metadata": {},
   "source": [
    "Сразу легко заметить, что получившаяся модель переобучена. Мы получили очень низкое значение MSE на обучающей выборке, при этом ошибка на тестовой выборке получилась большой. Такую модель нельзя назвать качественной."
   ]
  },
  {
   "cell_type": "markdown",
   "metadata": {},
   "source": [
    "### RandomForestRegressor"
   ]
  },
  {
   "cell_type": "code",
   "execution_count": 39,
   "metadata": {
    "collapsed": true
   },
   "outputs": [],
   "source": [
    "from sklearn.ensemble import RandomForestRegressor"
   ]
  },
  {
   "cell_type": "code",
   "execution_count": 40,
   "metadata": {
    "collapsed": false
   },
   "outputs": [
    {
     "name": "stdout",
     "output_type": "stream",
     "text": [
      "Wall time: 2h 13min 2s\n"
     ]
    }
   ],
   "source": [
    "%%time\n",
    "parameters = {\"max_features\" : [\"sqrt\", \"auto\"]}\n",
    "#\"max_features\" : [\"sqrt\", \"log2\", \"auto\"], \"max_depth\" : [8, 16, 32, None]\n",
    "rfc = GridSearchCV(RandomForestRegressor(), parameters, scoring = 'neg_mean_squared_error', n_jobs=-1)\n",
    "rfc.fit(X_train_, y_train);"
   ]
  },
  {
   "cell_type": "code",
   "execution_count": 41,
   "metadata": {
    "collapsed": false
   },
   "outputs": [
    {
     "data": {
      "text/plain": [
       "RandomForestRegressor(bootstrap=True, criterion='mse', max_depth=None,\n",
       "           max_features='auto', max_leaf_nodes=None,\n",
       "           min_impurity_split=1e-07, min_samples_leaf=1,\n",
       "           min_samples_split=2, min_weight_fraction_leaf=0.0,\n",
       "           n_estimators=10, n_jobs=1, oob_score=False, random_state=None,\n",
       "           verbose=0, warm_start=False)"
      ]
     },
     "execution_count": 41,
     "metadata": {},
     "output_type": "execute_result"
    }
   ],
   "source": [
    "rfc.best_estimator_"
   ]
  },
  {
   "cell_type": "code",
   "execution_count": 42,
   "metadata": {
    "collapsed": false
   },
   "outputs": [
    {
     "name": "stdout",
     "output_type": "stream",
     "text": [
      "Ошибка на трейне 0.135503923966\n",
      "Ошибка на тесте 0.771896964531\n"
     ]
    }
   ],
   "source": [
    "train_preds_rf = rfc.predict(X_train_)\n",
    "valid_preds_rf = rfc.predict(X_valid_)\n",
    "\n",
    "print('Ошибка на трейне',mean_squared_error(y_train, train_preds_rf))\n",
    "print('Ошибка на тесте',mean_squared_error(y_valid, valid_preds_rf))"
   ]
  },
  {
   "cell_type": "markdown",
   "metadata": {},
   "source": [
    "Мы получили довольно неплохой результат сопоставимый с результатом модели **Ridge**, однако получили куда большее время обучения модели по сравнению с моделью линейной регрессии, даже с учетом подбора гиперпараметров. "
   ]
  },
  {
   "cell_type": "markdown",
   "metadata": {},
   "source": [
    "### GradientBoostingRegressor"
   ]
  },
  {
   "cell_type": "raw",
   "metadata": {
    "collapsed": true
   },
   "source": [
    "from sklearn.ensemble import GradientBoostingRegressor"
   ]
  },
  {
   "cell_type": "raw",
   "metadata": {
    "collapsed": true
   },
   "source": [
    "%%time\n",
    "parameters = { \"max_features\" : [\"auto\", \"log2\"] } #\"learning_rate\": [0.1, 1.0],\n",
    "#gbr = GridSearchCV(GradientBoostingRegressor(), parameters, scoring = 'neg_mean_squared_error', n_jobs=-1)\n",
    "gbr = GradientBoostingRegressor()\n",
    "gbr.fit(X_train_, y_train);"
   ]
  },
  {
   "cell_type": "raw",
   "metadata": {},
   "source": [
    "train_preds_gbr = gbr.predict(X_train_)\n",
    "valid_preds_gbr = gbr.predict(X_valid_)\n",
    "\n",
    "print('Ошибка на трейне',mean_squared_error(y_train, train_preds_gbr))\n",
    "print('Ошибка на тесте',mean_squared_error(y_valid, valid_preds_gbr))"
   ]
  },
  {
   "cell_type": "markdown",
   "metadata": {},
   "source": [
    "При попытке обучить и сделать предсказание с помощью модели **GradientBoostingRegressor** возникли сложности. \n",
    "\n",
    "Наши данные сохранены в форме *sparse matrix*, так как имеют очень высокую размерность и хранение такого объема данных не может себе позволить обычный компьютер:"
   ]
  },
  {
   "cell_type": "code",
   "execution_count": 73,
   "metadata": {
    "collapsed": false
   },
   "outputs": [
    {
     "name": "stdout",
     "output_type": "stream",
     "text": [
      "Количество строк:     87 189\n",
      "Количество столбцов:  153 982\n",
      "Количество элементов: 13 425 536 598\n"
     ]
    }
   ],
   "source": [
    "print (\"Количество строк:     {0:,}\".format(X_train_.shape[0]).replace(',', ' '))\n",
    "print (\"Количество столбцов:  {0:,}\".format(X_train_.shape[1]).replace(',', ' '))\n",
    "print (\"Количество элементов: {0:,}\".format(X_train_.shape[0] * X_train_.shape[1]).replace(',', ' '))"
   ]
  },
  {
   "cell_type": "markdown",
   "metadata": {},
   "source": [
    "Однако модель **GradientBoostingRegressor** не позволяет оперировать данными в формате *sparse matrix*, а для сохранения этих данных в обычный массив нам не хватает оперативной памяти.\n",
    "\n",
    "В связи с этим у нас нет возможности использовать данную модель."
   ]
  },
  {
   "cell_type": "markdown",
   "metadata": {
    "collapsed": true
   },
   "source": [
    "### Prophet"
   ]
  },
  {
   "cell_type": "markdown",
   "metadata": {},
   "source": [
    "Для разнообразия нашего проекта попробуем использовать открытую библиотеку **Prophet**.\n",
    "\n",
    "Данная библиотека была разработана для предсказания большого числа бизнес параметров. Главным ее достоинствоим является хорошее качество прогнозов, а также дает возможность изменять понятные обывателю параметры, не требующих хороших знаний в устройстве предсказательных моделей"
   ]
  },
  {
   "cell_type": "markdown",
   "metadata": {},
   "source": [
    "Реализация библиотеки очень похожа на всем привычные библиотеки из *sklearn*. На первом этапе мы создаем модель, затем обучаем ее с помощью метода **fit** и после этого можем получить свой прогноз.\n",
    "\n",
    "Однако конечно же библиотека имеет свои особенности. Так в метод **fit** мы передаем dataframe состоящий из всего двух колонок:\n",
    "    - время, в формате date или datetime\n",
    "    - числовой показатель, который мы хотим предсказать"
   ]
  },
  {
   "cell_type": "markdown",
   "metadata": {},
   "source": [
    "Приведем данные к нужному формату:"
   ]
  },
  {
   "cell_type": "code",
   "execution_count": 50,
   "metadata": {
    "collapsed": false
   },
   "outputs": [
    {
     "data": {
      "text/html": [
       "<div>\n",
       "<style>\n",
       "    .dataframe thead tr:only-child th {\n",
       "        text-align: right;\n",
       "    }\n",
       "\n",
       "    .dataframe thead th {\n",
       "        text-align: left;\n",
       "    }\n",
       "\n",
       "    .dataframe tbody tr th {\n",
       "        vertical-align: top;\n",
       "    }\n",
       "</style>\n",
       "<table border=\"1\" class=\"dataframe\">\n",
       "  <thead>\n",
       "    <tr style=\"text-align: right;\">\n",
       "      <th></th>\n",
       "      <th>ds</th>\n",
       "      <th>y</th>\n",
       "    </tr>\n",
       "  </thead>\n",
       "  <tbody>\n",
       "    <tr>\n",
       "      <th>0</th>\n",
       "      <td>2008-01-01 18:19:00</td>\n",
       "      <td>-1.344075</td>\n",
       "    </tr>\n",
       "    <tr>\n",
       "      <th>1</th>\n",
       "      <td>2008-01-01 18:30:00</td>\n",
       "      <td>-0.831946</td>\n",
       "    </tr>\n",
       "    <tr>\n",
       "      <th>2</th>\n",
       "      <td>2008-01-01 18:34:00</td>\n",
       "      <td>1.794023</td>\n",
       "    </tr>\n",
       "    <tr>\n",
       "      <th>3</th>\n",
       "      <td>2008-01-02 01:32:00</td>\n",
       "      <td>1.300050</td>\n",
       "    </tr>\n",
       "    <tr>\n",
       "      <th>4</th>\n",
       "      <td>2008-01-02 14:34:00</td>\n",
       "      <td>0.961094</td>\n",
       "    </tr>\n",
       "  </tbody>\n",
       "</table>\n",
       "</div>"
      ],
      "text/plain": [
       "                   ds         y\n",
       "0 2008-01-01 18:19:00 -1.344075\n",
       "1 2008-01-01 18:30:00 -0.831946\n",
       "2 2008-01-01 18:34:00  1.794023\n",
       "3 2008-01-02 01:32:00  1.300050\n",
       "4 2008-01-02 14:34:00  0.961094"
      ]
     },
     "execution_count": 50,
     "metadata": {},
     "output_type": "execute_result"
    }
   ],
   "source": [
    "habr_df = pd.read_csv('howpop_train.csv')\n",
    "habr_df['published'] = pd.to_datetime(habr_df.published)\n",
    "habr_df = habr_df[['published', 'favs_lognorm']]\n",
    "habr_df.columns = ['ds', 'y']\n",
    "habr_df.head()"
   ]
  },
  {
   "cell_type": "code",
   "execution_count": 51,
   "metadata": {
    "collapsed": false
   },
   "outputs": [
    {
     "data": {
      "text/plain": [
       "(134137, 2)"
      ]
     },
     "execution_count": 51,
     "metadata": {},
     "output_type": "execute_result"
    }
   ],
   "source": [
    "habr_df.shape"
   ]
  },
  {
   "cell_type": "markdown",
   "metadata": {},
   "source": [
    "Укажем количество наблюдений, которые мы будем использовать для оценки качества алгоритма и удалим их из обучающей выборки:"
   ]
  },
  {
   "cell_type": "code",
   "execution_count": 53,
   "metadata": {
    "collapsed": true
   },
   "outputs": [],
   "source": [
    "from fbprophet import Prophet\n",
    "predictions = 300\n",
    "train_df = habr_df[:-predictions] "
   ]
  },
  {
   "cell_type": "markdown",
   "metadata": {},
   "source": [
    "Обучим модель:"
   ]
  },
  {
   "cell_type": "code",
   "execution_count": 57,
   "metadata": {
    "collapsed": false
   },
   "outputs": [
    {
     "data": {
      "text/plain": [
       "<fbprophet.forecaster.Prophet at 0x120cc52b0>"
      ]
     },
     "execution_count": 57,
     "metadata": {},
     "output_type": "execute_result"
    }
   ],
   "source": [
    "m = Prophet()\n",
    "m.fit(train_df);"
   ]
  },
  {
   "cell_type": "markdown",
   "metadata": {},
   "source": [
    "Создадим dataframe **future**, который содержит временные метки постов, на которых мы обучились, плюс валидационные наблюдения, и делаем предсказание:"
   ]
  },
  {
   "cell_type": "code",
   "execution_count": 71,
   "metadata": {
    "collapsed": true
   },
   "outputs": [],
   "source": [
    "future = habr_df[['ds']]\n",
    "forecast = m.predict(future)"
   ]
  },
  {
   "cell_type": "markdown",
   "metadata": {},
   "source": [
    "В библиотеке **Prophet** есть встроенные средства визуализации, которые позволяют оценить результат построенной модели.\n",
    "\n",
    "Один из таких методов - это метод **plot_components**. Она дает нам возможность увидеть тренд, недельную сезонность и годовую сезонность. Это может дать нам новую и полезную информацию, на основании которой можно будет сделать какие-либо выводы. \n",
    "\n",
    "В нашем случае, например, отчетливо видно, что посты размещаемые по выходным дням обладают большей популярностью."
   ]
  },
  {
   "cell_type": "code",
   "execution_count": 80,
   "metadata": {
    "collapsed": false,
    "scrolled": false
   },
   "outputs": [
    {
     "data": {
      "image/png": "[encoded data removed]",
      "text/plain": [
       "<matplotlib.figure.Figure at 0x1205b5a90>"
      ]
     },
     "metadata": {},
     "output_type": "display_data"
    }
   ],
   "source": [
    "m.plot_components(forecast);"
   ]
  },
  {
   "cell_type": "markdown",
   "metadata": {},
   "source": [
    "### Оценка качества модели"
   ]
  },
  {
   "cell_type": "markdown",
   "metadata": {},
   "source": [
    "Теперь нам необходимо оценить качество построенной модели. Для этого мы должны рассчитать **MSE**, являющиеся нашей основной метрикой.\n",
    "\n",
    "Для рассчета этого значения нам понадобятся: \n",
    "\n",
    "    - наблюдения (y)\n",
    "    - прогноз (y_hat)"
   ]
  },
  {
   "cell_type": "markdown",
   "metadata": {},
   "source": [
    "Прежде чем продолжить, нам нужно объединить **forecast** с нашими исходными наблюдениями."
   ]
  },
  {
   "cell_type": "code",
   "execution_count": 92,
   "metadata": {
    "collapsed": true
   },
   "outputs": [],
   "source": [
    "cmp_df = forecast.set_index('ds')[['yhat']].join(habr_df.set_index('ds'))"
   ]
  },
  {
   "cell_type": "code",
   "execution_count": 94,
   "metadata": {
    "collapsed": false
   },
   "outputs": [
    {
     "name": "stdout",
     "output_type": "stream",
     "text": [
      "MAE:  0.7641134894416721\n",
      "MSE:  1.01994210029\n"
     ]
    }
   ],
   "source": [
    "cmp_df['e'] = cmp_df['y'] - cmp_df['yhat']\n",
    "\n",
    "print ('MAE: ', np.mean(abs(cmp_df[-predictions:]['e'])))\n",
    "print('MSE: ', mean_squared_error(cmp_df.y, cmp_df.yhat))"
   ]
  },
  {
   "cell_type": "markdown",
   "metadata": {},
   "source": [
    "В нашем случае использование данного метода прогнозирования изначально было не совсем оправдано. Данная модель принимает во внимание только время публикования поста на сайте, однако в нашем анализе очевидным является то, что это далеко не главный и единсвенный признак, по которому можно строить предположение. Так как большую роль будет играть содержание публикуемого поста. \n",
    "\n",
    "Получившиеся результаты модели подтверждают это предположение, модель не показала лучший результат **MSE** в этой работе, однако было интересно попробовать нечто новое для себя. Возможно, что при ее использовании в другой задаче она проявит себя куда лучше остальных."
   ]
  },
  {
   "cell_type": "markdown",
   "metadata": {},
   "source": [
    "### Итоги работы"
   ]
  },
  {
   "cell_type": "markdown",
   "metadata": {
    "collapsed": true
   },
   "source": [
    "В данной работе мы попались предсказать количество звездочек у статьи, а если говорить точнее, то долю статей, у которых звездочек меньше, чем у текущей. Ознакомившись с данными с помощью визуализации и предобработав их для создания обучающей и тестовой выборки, мы перешли к обучению моделей:\n",
    "\n",
    "    - Ridge\n",
    "    - DecisionTreeRegressor\n",
    "    - RandomForestRegressor\n",
    "    - GradientBoostingRegressor\n",
    "    - Prophet"
   ]
  },
  {
   "cell_type": "markdown",
   "metadata": {},
   "source": [
    "Отдельным разочарованием стала модель **GradientBoostingRegressor**, так как из-за технических особенностей в ее реализации мы даже не смогли сделать по ней предсказание. \n",
    "\n",
    "Наилучший результат показала модель линейной регрессии с l2 регуляризаций **Ridge**. Она обучилась заметно быстрее остальных моделей за счет простоты алгоритма, а также показала наилучший результат, который в нашей работе измерялся метрикой **Mean Squared Error**.\n",
    "\n",
    "Поэтому для решения этой задачи лучшим алгоритмом однозначно стал **Ridge** с результатом **MSE = 0.58** на валидационной выборке."
   ]
  }
 ],
 "metadata": {
  "kernelspec": {
   "display_name": "Python 3",
   "language": "python",
   "name": "python3"
  },
  "language_info": {
   "codemirror_mode": {
    "name": "ipython",
    "version": 3
   },
   "file_extension": ".py",
   "mimetype": "text/x-python",
   "name": "python",
   "nbconvert_exporter": "python",
   "pygments_lexer": "ipython3",
   "version": "3.6.0"
  }
 },
 "nbformat": 4,
 "nbformat_minor": 1
}

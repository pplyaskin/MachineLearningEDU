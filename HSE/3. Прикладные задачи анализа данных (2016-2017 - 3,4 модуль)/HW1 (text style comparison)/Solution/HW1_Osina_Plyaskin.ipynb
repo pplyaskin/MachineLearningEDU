{
 "cells": [
  {
   "cell_type": "markdown",
   "metadata": {},
   "source": [
    "## Домашнее задание 1. Сравнение стилей. \n",
    "###### Выполнили: \n",
    "* _Осина Анна_ ИАД-2\n",
    "* _Пляскин Павел_  ИАД-2"
   ]
  },
  {
   "cell_type": "markdown",
   "metadata": {},
   "source": [
    "###### Для данного задания мы подготовили две коллекции текстов.\n",
    "\n",
    "В качестве художественного стиля:\n",
    "* _Три товарища_  _Эрих Мария Ремарк_\n",
    "* _Капитанская дочка_  _Александ Сергеевич Пушкин_\n",
    "* _Цветы для Элджернона_  _Дэниел Киз_\n",
    "* _Дама с собачкой_  _Антон Павлович Чехов_\n",
    "* _Вишневый сад_  _Антон Павлович Чехов_\n",
    "\n",
    "В качестве публицистического стиля выбраны тексты с новостных сайтов, такие как _РИА Новости_, _Медуза_, _TJournal_, _РБК_ и т.п. \n",
    "\n",
    "Данные приведены в .txt файлах. "
   ]
  },
  {
   "cell_type": "code",
   "execution_count": 1,
   "metadata": {
    "collapsed": false
   },
   "outputs": [],
   "source": [
    "import pandas as pd\n",
    "import os\n",
    "import numpy as np\n",
    "import seaborn as sns\n",
    "import matplotlib.pyplot as plt\n",
    "%matplotlib inline\n",
    "\n",
    "import brewer2mpl\n",
    "dark2_colors = brewer2mpl.get_map('Paired', 'Qualitative', 8).mpl_colors"
   ]
  },
  {
   "cell_type": "code",
   "execution_count": 2,
   "metadata": {
    "collapsed": true
   },
   "outputs": [],
   "source": [
    "def get_data (collection_name):\n",
    "    texts = ''\n",
    "    directory = 'data/'+collection_name+'/'\n",
    "    files = os.listdir(directory) \n",
    "    for f in files:\n",
    "        file = open(directory+f, 'r', encoding = 'utf-8')\n",
    "        texts += file.read()[:9000]\n",
    "    return texts"
   ]
  },
  {
   "cell_type": "markdown",
   "metadata": {},
   "source": [
    "###### Загрузим данные для коллекций:"
   ]
  },
  {
   "cell_type": "code",
   "execution_count": 3,
   "metadata": {
    "collapsed": false
   },
   "outputs": [],
   "source": [
    "data_art = get_data('art')"
   ]
  },
  {
   "cell_type": "code",
   "execution_count": 4,
   "metadata": {
    "collapsed": false
   },
   "outputs": [],
   "source": [
    "data_publish = get_data('pub')"
   ]
  },
  {
   "cell_type": "markdown",
   "metadata": {},
   "source": [
    "###### Посчитаем количество токенов в каждой коллекции:"
   ]
  },
  {
   "cell_type": "code",
   "execution_count": 5,
   "metadata": {
    "collapsed": true
   },
   "outputs": [],
   "source": [
    "import nltk\n",
    "from nltk.tokenize import WhitespaceTokenizer\n",
    "from string import punctuation"
   ]
  },
  {
   "cell_type": "markdown",
   "metadata": {},
   "source": [
    "###### Проведем стандартную предобработку текстов, а именно:\n",
    "* _разобьем тексты на токены по пробелам_\n",
    "* _удалим символы пунктуации, цифры и тире_\n",
    "* _приводем текст к нижнему регистру_"
   ]
  },
  {
   "cell_type": "code",
   "execution_count": 6,
   "metadata": {
    "collapsed": false
   },
   "outputs": [],
   "source": [
    "exclude = set(punctuation + '0123456789'+u'–—'+u'«»')\n",
    "\n",
    "merged_text_art = ''.join(ch for ch in data_art if ch not in exclude)\n",
    "tokens_art = WhitespaceTokenizer().tokenize(merged_text_art.lower())\n",
    "\n",
    "merged_text_pb = ''.join(ch for ch in data_publish if ch not in exclude)\n",
    "tokens_pb = WhitespaceTokenizer().tokenize(merged_text_pb.lower())"
   ]
  },
  {
   "cell_type": "code",
   "execution_count": 7,
   "metadata": {
    "collapsed": false
   },
   "outputs": [
    {
     "name": "stdout",
     "output_type": "stream",
     "text": [
      "Количество токенов в художественной коллекции:    7201\n",
      "Количество токенов в публицистической коллекции:  7182\n"
     ]
    }
   ],
   "source": [
    "print('Количество токенов в художественной коллекции:    {}'.format(len(tokens_art)))\n",
    "print('Количество токенов в публицистической коллекции:  {}'.format(len(tokens_pb)))"
   ]
  },
  {
   "cell_type": "code",
   "execution_count": 8,
   "metadata": {
    "collapsed": true
   },
   "outputs": [],
   "source": [
    "def plt_draw(len_data, len_tokens, color_1, color_2):\n",
    "    others_s = len_data - len_tokens\n",
    "    plt.figure(figsize=(10,8))\n",
    "    plt.subplot(121)\n",
    "    plt.bar(0, len_tokens, color = color_1, label = 'Tokens')\n",
    "    plt.bar(0, others_s, bottom = len_tokens, color = color_2, label = 'Symbols')\n",
    "    plt.xticks(rotation = 'horizontal')\n",
    "    plt.ylabel(\"Number\")\n",
    "    plt.legend(bbox_to_anchor=(1.05, 1), loc=2, borderaxespad=0.)"
   ]
  },
  {
   "cell_type": "code",
   "execution_count": 9,
   "metadata": {
    "collapsed": false
   },
   "outputs": [
    {
     "data": {
      "image/png": "[encoded data removed]",
      "text/plain": [
       "<matplotlib.figure.Figure at 0x1949ac12cc0>"
      ]
     },
     "metadata": {},
     "output_type": "display_data"
    }
   ],
   "source": [
    "plt_draw(len(data_art), len(tokens_art), '#E667AF', '#CD0074')"
   ]
  },
  {
   "cell_type": "code",
   "execution_count": 10,
   "metadata": {
    "collapsed": false
   },
   "outputs": [
    {
     "data": {
      "image/png": "[encoded data removed]",
      "text/plain": [
       "<matplotlib.figure.Figure at 0x1949b06f7f0>"
      ]
     },
     "metadata": {},
     "output_type": "display_data"
    }
   ],
   "source": [
    "plt_draw(len(data_publish), len(tokens_pb), '#717DD7', '#1729B0')"
   ]
  },
  {
   "cell_type": "markdown",
   "metadata": {},
   "source": [
    "###### Посчитаем количество типов в каждой коллекции и сравним с количеством токенов:"
   ]
  },
  {
   "cell_type": "code",
   "execution_count": 11,
   "metadata": {
    "collapsed": true
   },
   "outputs": [],
   "source": [
    "def plt_barchart (len_tokens, len_types):\n",
    "    y = [len_tokens, len_types]\n",
    "    x = range(len(y))\n",
    "    plt.figure(figsize=(5,5))\n",
    "    width = 1/1.5\n",
    "    plt.bar(x, y, width, color = '#00004d')\n",
    "    plt.xticks(range(2), ['Tokens', 'Types'])\n",
    "    plt.grid(True)"
   ]
  },
  {
   "cell_type": "code",
   "execution_count": 12,
   "metadata": {
    "collapsed": false
   },
   "outputs": [
    {
     "name": "stdout",
     "output_type": "stream",
     "text": [
      "N of tokens in art collection: 7201\n",
      "N of types in art collection:  3045\n"
     ]
    },
    {
     "data": {
      "image/png": "[encoded data removed]",
      "text/plain": [
       "<matplotlib.figure.Figure at 0x1949b243860>"
      ]
     },
     "metadata": {},
     "output_type": "display_data"
    }
   ],
   "source": [
    "print('N of tokens in art collection: {}'.format(len(tokens_art)))\n",
    "types_art = nltk.FreqDist(tokens_art)\n",
    "print('N of types in art collection:  {}'.format(len(types_art)))\n",
    "\n",
    "plt_barchart(len(tokens_art), len(types_art))"
   ]
  },
  {
   "cell_type": "code",
   "execution_count": 13,
   "metadata": {
    "collapsed": false
   },
   "outputs": [
    {
     "name": "stdout",
     "output_type": "stream",
     "text": [
      "1) Слово 'и'    встречается 301\n",
      "2) Слово 'в'    встречается 219\n",
      "3) Слово 'я'    встречается 210\n",
      "4) Слово 'не'    встречается 149\n",
      "5) Слово 'на'    встречается 102\n",
      "6) Слово 'он'    встречается 92\n",
      "7) Слово 'с'    встречается 71\n",
      "8) Слово 'как'    встречается 60\n",
      "9) Слово 'а'    встречается 58\n",
      "10) Слово 'она'    встречается 55\n"
     ]
    }
   ],
   "source": [
    "for ind, i in enumerate(types_art.most_common(10)):\n",
    "     print(\"{}) Слово '{}'    встречается {}\".format(ind+1, i[0], i[1]))"
   ]
  },
  {
   "cell_type": "code",
   "execution_count": 14,
   "metadata": {
    "collapsed": false
   },
   "outputs": [
    {
     "name": "stdout",
     "output_type": "stream",
     "text": [
      "N of tokens in public collection: 7182\n",
      "N of types in public collection:  3421\n"
     ]
    },
    {
     "data": {
      "image/png": "[encoded data removed]",
      "text/plain": [
       "<matplotlib.figure.Figure at 0x1949b0c45c0>"
      ]
     },
     "metadata": {},
     "output_type": "display_data"
    }
   ],
   "source": [
    "print('N of tokens in public collection: {}'.format(len(tokens_pb)))\n",
    "types_pb = nltk.FreqDist(tokens_pb)\n",
    "print('N of types in public collection:  {}'.format(len(types_pb)))\n",
    "\n",
    "plt_barchart(len(tokens_pb), len(types_pb))"
   ]
  },
  {
   "cell_type": "code",
   "execution_count": 15,
   "metadata": {
    "collapsed": false,
    "scrolled": true
   },
   "outputs": [
    {
     "name": "stdout",
     "output_type": "stream",
     "text": [
      "Слово 'в' встречается 358\n",
      "Слово 'на' встречается 146\n",
      "Слово 'и' встречается 130\n",
      "Слово 'с' встречается 86\n",
      "Слово 'по' встречается 85\n",
      "Слово 'что' встречается 81\n",
      "Слово 'не' встречается 59\n",
      "Слово 'он' встречается 39\n",
      "Слово 'о' встречается 38\n",
      "Слово 'к' встречается 36\n"
     ]
    }
   ],
   "source": [
    "for i in types_pb.most_common(10):\n",
    "     print(\"Слово '{}' встречается {}\".format(i[0], i[1]))"
   ]
  },
  {
   "cell_type": "markdown",
   "metadata": {},
   "source": [
    "###### Построим кривую Ципфа для каждой коллекции:"
   ]
  },
  {
   "cell_type": "code",
   "execution_count": 16,
   "metadata": {
    "collapsed": false
   },
   "outputs": [
    {
     "data": {
      "image/png": "[encoded data removed]",
      "text/plain": [
       "<matplotlib.figure.Figure at 0x1949b18efd0>"
      ]
     },
     "metadata": {},
     "output_type": "display_data"
    }
   ],
   "source": [
    "fr = list(types_art.values())\n",
    "fr.sort(reverse=True)\n",
    "plt.plot(fr[:100])\n",
    "plt.ylabel('Type frequency')\n",
    "plt.xlabel('Type rank')\n",
    "plt.title(\"Zipf's law artistic texts\")\n",
    "plt.show()"
   ]
  },
  {
   "cell_type": "code",
   "execution_count": 17,
   "metadata": {
    "collapsed": false
   },
   "outputs": [
    {
     "data": {
      "image/png": "[encoded data removed]",
      "text/plain": [
       "<matplotlib.figure.Figure at 0x1949b06f9e8>"
      ]
     },
     "metadata": {},
     "output_type": "display_data"
    }
   ],
   "source": [
    "fr = list(types_pb.values())\n",
    "fr.sort(reverse=True)\n",
    "plt.plot(fr[:100])\n",
    "plt.ylabel('Type frequency')\n",
    "plt.xlabel('Type rank')\n",
    "plt.title(\"Zipf's law journalistic texts\")\n",
    "plt.show()"
   ]
  },
  {
   "cell_type": "markdown",
   "metadata": {},
   "source": [
    "### Составим частотные словари по частям речи"
   ]
  },
  {
   "cell_type": "markdown",
   "metadata": {},
   "source": [
    "###### Для этого будем использовать морфологический процессов _pymorphy2_"
   ]
  },
  {
   "cell_type": "code",
   "execution_count": 18,
   "metadata": {
    "collapsed": false
   },
   "outputs": [],
   "source": [
    "import pymorphy2\n",
    "morph = pymorphy2.MorphAnalyzer()"
   ]
  },
  {
   "cell_type": "code",
   "execution_count": 19,
   "metadata": {
    "collapsed": false
   },
   "outputs": [],
   "source": [
    "def get_pos_list(tokens):\n",
    "    pos_list = list()\n",
    "    for t in tokens:\n",
    "        pos_list.append(morph.parse(t)[0].tag.POS)\n",
    "    return pos_list"
   ]
  },
  {
   "cell_type": "code",
   "execution_count": 20,
   "metadata": {
    "collapsed": false
   },
   "outputs": [],
   "source": [
    "def plot_diagram(pos_freq):\n",
    "    for_diagram_titles = []\n",
    "    for_diagram_values = []\n",
    "    other_values = 0\n",
    "    \n",
    "    for i,f in enumerate(pos_freq.most_common(len(pos_freq))):\n",
    "        if i<7 and (f[0] is not None):\n",
    "            for_diagram_titles.append(f[0])\n",
    "            for_diagram_values.append(f[1])\n",
    "        if (i >= 7) or (f[0] is None):\n",
    "            other_values += f[1]\n",
    "    for_diagram_titles.append('Others')\n",
    "    for_diagram_values.append(other_values)\n",
    "    \n",
    "    plt.figure(figsize=(10,8))\n",
    "    plt.subplot(aspect = True)\n",
    "    plt.pie(for_diagram_values, colors = dark2_colors[0:8] , labels=for_diagram_titles, autopct='%i%%')\n",
    "    plt.title(\"Frequency of POS\")"
   ]
  },
  {
   "cell_type": "markdown",
   "metadata": {},
   "source": [
    "#### _Художественная коллекция:_"
   ]
  },
  {
   "cell_type": "code",
   "execution_count": 21,
   "metadata": {
    "collapsed": true
   },
   "outputs": [],
   "source": [
    "art_pos_list = get_pos_list(tokens_art)\n",
    "art_pos_freq = nltk.FreqDist(art_pos_list)"
   ]
  },
  {
   "cell_type": "markdown",
   "metadata": {},
   "source": [
    "##### Наиболее частые части речи в художественной коллекции:"
   ]
  },
  {
   "cell_type": "code",
   "execution_count": 22,
   "metadata": {
    "collapsed": false
   },
   "outputs": [
    {
     "name": "stdout",
     "output_type": "stream",
     "text": [
      "1) NOUN - 1946\n",
      "2) VERB - 1083\n",
      "3) NPRO - 756\n",
      "4) CONJ - 738\n",
      "5) PREP - 696\n"
     ]
    }
   ],
   "source": [
    "for i, p in enumerate(art_pos_freq.most_common(5)):\n",
    "    print ('{}) {} - {}'.format(i+1, p[0], p[1]))"
   ]
  },
  {
   "cell_type": "code",
   "execution_count": 23,
   "metadata": {
    "collapsed": false
   },
   "outputs": [
    {
     "data": {
      "image/png": "[encoded data removed]",
      "text/plain": [
       "<matplotlib.figure.Figure at 0x1949b708c50>"
      ]
     },
     "metadata": {},
     "output_type": "display_data"
    }
   ],
   "source": [
    "plot_diagram(art_pos_freq)"
   ]
  },
  {
   "cell_type": "markdown",
   "metadata": {
    "collapsed": true
   },
   "source": [
    "#### _Публицистическая коллекция_"
   ]
  },
  {
   "cell_type": "code",
   "execution_count": 24,
   "metadata": {
    "collapsed": true
   },
   "outputs": [],
   "source": [
    "pub_pos_list = get_pos_list(tokens_pb)\n",
    "pub_pos_freq = nltk.FreqDist(pub_pos_list)"
   ]
  },
  {
   "cell_type": "markdown",
   "metadata": {},
   "source": [
    "##### Наиболее частые части речи в публицестической коллекции:"
   ]
  },
  {
   "cell_type": "code",
   "execution_count": 25,
   "metadata": {
    "collapsed": false
   },
   "outputs": [
    {
     "name": "stdout",
     "output_type": "stream",
     "text": [
      "1) NOUN - 3063\n",
      "2) PREP - 1037\n",
      "3) ADJF - 833\n",
      "4) VERB - 668\n",
      "5) CONJ - 400\n"
     ]
    }
   ],
   "source": [
    "for i, p in enumerate(pub_pos_freq.most_common(5)):\n",
    "    print ('{}) {} - {}'.format(i+1, p[0], p[1]))"
   ]
  },
  {
   "cell_type": "code",
   "execution_count": 26,
   "metadata": {
    "collapsed": false,
    "scrolled": false
   },
   "outputs": [
    {
     "data": {
      "image/png": "[encoded data removed]",
      "text/plain": [
       "<matplotlib.figure.Figure at 0x1949c2a49b0>"
      ]
     },
     "metadata": {},
     "output_type": "display_data"
    }
   ],
   "source": [
    "plot_diagram(pub_pos_freq)"
   ]
  },
  {
   "cell_type": "markdown",
   "metadata": {},
   "source": [
    "### Посчитаем корреляцию Спирмена"
   ]
  },
  {
   "cell_type": "code",
   "execution_count": 27,
   "metadata": {
    "collapsed": false
   },
   "outputs": [],
   "source": [
    "tags_name = list(art_pos_freq.keys())\n",
    "tags = [art_pos_freq, pub_pos_freq]"
   ]
  },
  {
   "cell_type": "code",
   "execution_count": 28,
   "metadata": {
    "collapsed": false
   },
   "outputs": [],
   "source": [
    "all_tags = []\n",
    "for t in tags:\n",
    "    tag_freq = []\n",
    "    for name in tags_name:\n",
    "        tag_freq.append(t[name])\n",
    "    all_tags.append(tag_freq)"
   ]
  },
  {
   "cell_type": "code",
   "execution_count": 29,
   "metadata": {
    "collapsed": false
   },
   "outputs": [],
   "source": [
    "import scipy.stats"
   ]
  },
  {
   "cell_type": "code",
   "execution_count": 32,
   "metadata": {
    "collapsed": false
   },
   "outputs": [
    {
     "name": "stdout",
     "output_type": "stream",
     "text": [
      "Корреляция Спирмена между текстами: 0.8982964542479581\n"
     ]
    }
   ],
   "source": [
    "print ('Корреляция Спирмена между текстами: {}'.format(scipy.stats.spearmanr(all_tags[0],all_tags[1])[0]))"
   ]
  }
 ],
 "metadata": {
  "anaconda-cloud": {},
  "kernelspec": {
   "display_name": "Python 3",
   "language": "python",
   "name": "python3"
  },
  "language_info": {
   "codemirror_mode": {
    "name": "ipython",
    "version": 3
   },
   "file_extension": ".py",
   "mimetype": "text/x-python",
   "name": "python",
   "nbconvert_exporter": "python",
   "pygments_lexer": "ipython3",
   "version": "3.6.0"
  }
 },
 "nbformat": 4,
 "nbformat_minor": 0
}

{
 "cells": [
  {
   "cell_type": "markdown",
   "metadata": {},
   "source": [
    "## Домашнее задание 3. Классификация имен. \n",
    "###### Выполнили: \n",
    "* _Осина Анна_ ИАД-2\n",
    "* _Пляскин Павел_  ИАД-2"
   ]
  },
  {
   "cell_type": "markdown",
   "metadata": {},
   "source": [
    "Для данного задания был взят датасет https://www.dropbox.com/s/otnidq7fvly8hwp/hw3_data.zip?dl=0, который состоит из "
   ]
  },
  {
   "cell_type": "code",
   "execution_count": 1,
   "metadata": {
    "collapsed": false
   },
   "outputs": [
    {
     "name": "stderr",
     "output_type": "stream",
     "text": [
      "C:\\Anaconda3\\lib\\site-packages\\pandas\\computation\\__init__.py:19: UserWarning: The installed version of numexpr 2.4.4 is not supported in pandas and will be not be used\n",
      "\n",
      "  UserWarning)\n"
     ]
    }
   ],
   "source": [
    "import pandas as pd\n",
    "import numpy as np\n",
    "import os\n",
    "\n",
    "import seaborn as sns\n",
    "import matplotlib.pyplot as plt\n",
    "%matplotlib inline\n",
    "\n",
    "import brewer2mpl\n",
    "dark2_colors = brewer2mpl.get_map('Paired', 'Qualitative', 8).mpl_colors"
   ]
  },
  {
   "cell_type": "code",
   "execution_count": 2,
   "metadata": {
    "collapsed": true
   },
   "outputs": [],
   "source": [
    "def get_data (collection_name):\n",
    "    texts = ''\n",
    "    directory = 'hw3_data/'+collection_name+'/'\n",
    "    files = os.listdir(directory) \n",
    "    for f in files:\n",
    "        file = open(directory+f, 'r', encoding = 'utf-8')\n",
    "        texts += file.read()\n",
    "    return texts.split()"
   ]
  },
  {
   "cell_type": "code",
   "execution_count": 3,
   "metadata": {
    "collapsed": false
   },
   "outputs": [
    {
     "name": "stdout",
     "output_type": "stream",
     "text": [
      "Всего имен: 7947\n"
     ]
    }
   ],
   "source": [
    "female = get_data('female')\n",
    "male = get_data('male')\n",
    "\n",
    "print ('Всего имен: {}'.format(len(male) + len(female)))"
   ]
  },
  {
   "cell_type": "markdown",
   "metadata": {},
   "source": [
    "##### Проверим наличие имен, которые могут быть и мужские, и женские. Удалим данные имена. Создадим общий список"
   ]
  },
  {
   "cell_type": "code",
   "execution_count": 4,
   "metadata": {
    "collapsed": false
   },
   "outputs": [],
   "source": [
    "def check_function(list_f, list_m):\n",
    "    s_f = set(list_f)\n",
    "    s_m = set(list_m)\n",
    "    names = s_f.symmetric_difference(s_m) \n",
    "    print('Удалено {} неоднозначных имен'.format(len(list_f)+len(list_m)-len(names)))\n",
    "    print ('Осталось имен: {}'.format(len(names)))\n",
    "    return sorted(names) "
   ]
  },
  {
   "cell_type": "code",
   "execution_count": 5,
   "metadata": {
    "collapsed": false
   },
   "outputs": [
    {
     "name": "stdout",
     "output_type": "stream",
     "text": [
      "Удалено 736 неоднозначных имен\n",
      "Осталось имен: 7211\n"
     ]
    }
   ],
   "source": [
    "names = check_function(female, male)"
   ]
  },
  {
   "cell_type": "code",
   "execution_count": 6,
   "metadata": {
    "collapsed": true
   },
   "outputs": [],
   "source": [
    "df_names = pd.DataFrame(names, columns = ['Name'])\n",
    "df_names['Sex'] = 1\n",
    "df_names.loc[df_names['Name'].isin(female), 'Sex'] = 0"
   ]
  },
  {
   "cell_type": "markdown",
   "metadata": {},
   "source": [
    "Немного визуализации:"
   ]
  },
  {
   "cell_type": "code",
   "execution_count": 7,
   "metadata": {
    "collapsed": false
   },
   "outputs": [],
   "source": [
    "def alphabet():\n",
    "    alphabet = []\n",
    "    for i in range(65, 91):        \n",
    "        alphabet.append(chr(i))        \n",
    "    return alphabet      "
   ]
  },
  {
   "cell_type": "code",
   "execution_count": 8,
   "metadata": {
    "collapsed": false
   },
   "outputs": [],
   "source": [
    "alf = alphabet()\n",
    "names_dict = {n:n[0] for n in names}"
   ]
  },
  {
   "cell_type": "code",
   "execution_count": 9,
   "metadata": {
    "collapsed": false
   },
   "outputs": [],
   "source": [
    "def plt_barchart (female, male):\n",
    "    s_f = set(female)\n",
    "    s_m = set(male)\n",
    "    together = len(female)+len(male)\n",
    "    names = s_f.symmetric_difference(s_m)\n",
    "    deleted = len(female)+len(male)-len(names)\n",
    "    y = [len(female), len(male), together, deleted, len(names)]\n",
    "    x = range(len(y))\n",
    "    plt.figure(figsize=(11,8))\n",
    "    width = 1/1.5\n",
    "    \n",
    "    \n",
    "    plt.bar(x, y, width, color = dark2_colors[0:5])\n",
    "    plt.xticks(range(5), ['Female',  'Male', 'Female & Male', 'Удаленные', 'Остаток'])\n",
    "    plt.grid(True)"
   ]
  },
  {
   "cell_type": "code",
   "execution_count": 10,
   "metadata": {
    "collapsed": true
   },
   "outputs": [],
   "source": [
    "def plot_bar(names):\n",
    "    df_female = names.loc[names['Name'].isin(female)]\n",
    "    df_male = names.loc[~names['Name'].isin(female)]\n",
    "    \n",
    "    female_len = []\n",
    "    male_len = []\n",
    "    for l in alf:\n",
    "        female_len.append(df_female[df_female.Name.astype(str).str[0] == l].shape[0])\n",
    "        male_len.append(df_male[df_male.Name.astype(str).str[0] == l].shape[0])\n",
    "    \n",
    "    plt.figure(figsize=(11,8))\n",
    "    sns.set_color_codes(\"pastel\")\n",
    "    sns.barplot(x=female_len, y=alf, label=\"female names\", color=\"b\")\n",
    "    \n",
    "    sns.set_color_codes(\"muted\")\n",
    "    sns.barplot(x=male_len, y=alf, label=\"male names\", color=\"b\")\n",
    "    plt.legend(ncol=2, loc=\"lower right\", frameon=True)\n",
    "    plt.xlabel('Len names')"
   ]
  },
  {
   "cell_type": "code",
   "execution_count": 11,
   "metadata": {
    "collapsed": false
   },
   "outputs": [
    {
     "data": {
      "image/png": "[encoded data removed]",
      "text/plain": [
       "<matplotlib.figure.Figure at 0x282f8bffcf8>"
      ]
     },
     "metadata": {},
     "output_type": "display_data"
    }
   ],
   "source": [
    "plt_barchart(female, male)"
   ]
  },
  {
   "cell_type": "code",
   "execution_count": 12,
   "metadata": {
    "collapsed": false
   },
   "outputs": [
    {
     "data": {
      "image/png": "[encoded data removed]",
      "text/plain": [
       "<matplotlib.figure.Figure at 0x282f8c78c50>"
      ]
     },
     "metadata": {},
     "output_type": "display_data"
    }
   ],
   "source": [
    "plot_bar(df_names)"
   ]
  },
  {
   "cell_type": "markdown",
   "metadata": {},
   "source": [
    "#####  Создадим тестовое множество по следующему принципу: 20% от общего количества имен на каждую букву (т.е. 20% от имен на букву А, 20% имен на букву B, и.т.д.).\n"
   ]
  },
  {
   "cell_type": "code",
   "execution_count": 13,
   "metadata": {
    "collapsed": false
   },
   "outputs": [],
   "source": [
    "def create_names_set(names):\n",
    "    train_names = []\n",
    "    for l in alf:\n",
    "        l_names = [name for name, letter in names.items() if letter == l]\n",
    "        counter_names = int(len(l_names)*0.2)\n",
    "        print ('For letter \"{0:>1}\" {1:>3} names; get {2:>3} names for train set'.format(l, len(l_names), counter_names))\n",
    "        for i in range (counter_names):\n",
    "            train_names.append(l_names[i])\n",
    "    print ('Train set size:',len(train_names))\n",
    "    return train_names"
   ]
  },
  {
   "cell_type": "code",
   "execution_count": 14,
   "metadata": {
    "collapsed": false
   },
   "outputs": [
    {
     "name": "stdout",
     "output_type": "stream",
     "text": [
      "For letter \"A\" 606 names; get 121 names for train set\n",
      "For letter \"B\" 373 names; get  74 names for train set\n",
      "For letter \"C\" 567 names; get 113 names for train set\n",
      "For letter \"D\" 397 names; get  79 names for train set\n",
      "For letter \"E\" 354 names; get  70 names for train set\n",
      "For letter \"F\" 213 names; get  42 names for train set\n",
      "For letter \"G\" 326 names; get  65 names for train set\n",
      "For letter \"H\" 267 names; get  53 names for train set\n",
      "For letter \"I\" 116 names; get  23 names for train set\n",
      "For letter \"J\" 388 names; get  77 names for train set\n",
      "For letter \"K\" 322 names; get  64 names for train set\n",
      "For letter \"L\" 401 names; get  80 names for train set\n",
      "For letter \"M\" 626 names; get 125 names for train set\n",
      "For letter \"N\" 221 names; get  44 names for train set\n",
      "For letter \"O\" 116 names; get  23 names for train set\n",
      "For letter \"P\" 196 names; get  39 names for train set\n",
      "For letter \"Q\"  20 names; get   4 names for train set\n",
      "For letter \"R\" 411 names; get  82 names for train set\n",
      "For letter \"S\" 491 names; get  98 names for train set\n",
      "For letter \"T\" 332 names; get  66 names for train set\n",
      "For letter \"U\"  36 names; get   7 names for train set\n",
      "For letter \"V\" 139 names; get  27 names for train set\n",
      "For letter \"W\" 185 names; get  37 names for train set\n",
      "For letter \"X\"  12 names; get   2 names for train set\n",
      "For letter \"Y\"  34 names; get   6 names for train set\n",
      "For letter \"Z\"  62 names; get  12 names for train set\n",
      "Train set size: 1433\n"
     ]
    }
   ],
   "source": [
    "train_names = create_names_set(names_dict)"
   ]
  },
  {
   "cell_type": "markdown",
   "metadata": {},
   "source": [
    "#### Создадим обучающую и тестовую выборку"
   ]
  },
  {
   "cell_type": "code",
   "execution_count": 15,
   "metadata": {
    "collapsed": false
   },
   "outputs": [],
   "source": [
    "df_test_names = df_names.loc[df_names['Name'].isin(train_names)]\n",
    "df_train_names = df_names.loc[~df_names['Name'].isin(df_test_names['Name'])]\n",
    "\n",
    "X_train, X_test = df_train_names.Name.str.lower(), df_test_names.Name.str.lower()\n",
    "y_train, y_test = df_train_names.Sex, df_test_names.Sex"
   ]
  },
  {
   "cell_type": "markdown",
   "metadata": {
    "collapsed": true
   },
   "source": [
    "##### Будем классифицировать имена с помощью метода Наивного Байеса, где в качестве признаков будем использовать символьные n-граммы. "
   ]
  },
  {
   "cell_type": "code",
   "execution_count": 16,
   "metadata": {
    "collapsed": true
   },
   "outputs": [],
   "source": [
    "from nltk.util import ngrams\n",
    "from sklearn.naive_bayes import GaussianNB\n",
    "from sklearn.metrics import accuracy_score\n",
    "from sklearn.metrics import f1_score"
   ]
  },
  {
   "cell_type": "code",
   "execution_count": 17,
   "metadata": {
    "collapsed": true
   },
   "outputs": [],
   "source": [
    "def get_features(data, n):\n",
    "    features = []\n",
    "    for name in data:\n",
    "        for g in list(ngrams(name, n)):\n",
    "            features.append(g)\n",
    "    features = list(set(features))\n",
    "    features.sort()\n",
    "    return features"
   ]
  },
  {
   "cell_type": "code",
   "execution_count": 18,
   "metadata": {
    "collapsed": true
   },
   "outputs": [],
   "source": [
    "def create_train_frame(data, features):\n",
    "    train_frame = np.zeros((len(data), len(features)), dtype = np.bool)\n",
    "    for n, name in enumerate(data):\n",
    "        for f, feature in enumerate(features):\n",
    "            if \"\".join(feature) in name:\n",
    "                train_frame[n][f] = 1\n",
    "    return train_frame"
   ]
  },
  {
   "cell_type": "code",
   "execution_count": 19,
   "metadata": {
    "collapsed": false
   },
   "outputs": [],
   "source": [
    "def fit_gaussian(x_train, y_train, x_test, y_test):\n",
    "    gnb = GaussianNB()\n",
    "    gnb.fit(x_train, y_train)\n",
    "    prediction = gnb.predict(x_test)\n",
    "    print(\"accuracy = {}\".format(accuracy_score(y_test, prediction)))\n",
    "    print(\"F-score  = {}\".format(f1_score(y_test, prediction)))"
   ]
  },
  {
   "cell_type": "markdown",
   "metadata": {},
   "source": [
    "### n=2"
   ]
  },
  {
   "cell_type": "code",
   "execution_count": 20,
   "metadata": {
    "collapsed": true
   },
   "outputs": [],
   "source": [
    "features_n2 = get_features(X_train, 2)\n",
    "train_n2 = create_train_frame(X_train, features_n2)\n",
    "test_n2 = create_train_frame(X_test, features_n2)"
   ]
  },
  {
   "cell_type": "code",
   "execution_count": 21,
   "metadata": {
    "collapsed": false
   },
   "outputs": [
    {
     "name": "stdout",
     "output_type": "stream",
     "text": [
      "accuracy = 0.73831123517097\n",
      "F-score  = 0.4427934621099554\n"
     ]
    }
   ],
   "source": [
    "fit_gaussian(train_n2, y_train, test_n2, y_test)"
   ]
  },
  {
   "cell_type": "markdown",
   "metadata": {},
   "source": [
    "### n=3"
   ]
  },
  {
   "cell_type": "code",
   "execution_count": 22,
   "metadata": {
    "collapsed": true
   },
   "outputs": [],
   "source": [
    "features_n3 = get_features(X_train, 3)\n",
    "train_n3 = create_train_frame(X_train, features_n3)\n",
    "test_n3 = create_train_frame(X_test, features_n3)"
   ]
  },
  {
   "cell_type": "code",
   "execution_count": 23,
   "metadata": {
    "collapsed": false
   },
   "outputs": [
    {
     "name": "stdout",
     "output_type": "stream",
     "text": [
      "accuracy = 0.801814375436148\n",
      "F-score  = 0.6330749354005167\n"
     ]
    }
   ],
   "source": [
    "fit_gaussian(train_n3, y_train, test_n3, y_test)"
   ]
  },
  {
   "cell_type": "markdown",
   "metadata": {},
   "source": [
    "### n=4"
   ]
  },
  {
   "cell_type": "code",
   "execution_count": 24,
   "metadata": {
    "collapsed": false
   },
   "outputs": [],
   "source": [
    "features_n4 = get_features(X_train, 4)\n",
    "train_n4 = create_train_frame(X_train, features_n4)\n",
    "test_n4 = create_train_frame(X_test, features_n4)"
   ]
  },
  {
   "cell_type": "code",
   "execution_count": 25,
   "metadata": {
    "collapsed": false
   },
   "outputs": [
    {
     "name": "stdout",
     "output_type": "stream",
     "text": [
      "accuracy = 0.7787857641311933\n",
      "F-score  = 0.7245873153779322\n"
     ]
    }
   ],
   "source": [
    "fit_gaussian(train_n4, y_train, test_n4, y_test)"
   ]
  },
  {
   "cell_type": "markdown",
   "metadata": {},
   "source": [
    "Сравнив результаты полученные на моделях, обученных на разных n-граммах, хорошо видно, что этот параметр является очень значимым в решении этой задачи и прямым образом влияет на полученный результат."
   ]
  },
  {
   "cell_type": "markdown",
   "metadata": {},
   "source": [
    "В данном случае лучше всего себя показали модели обученные на 3-grams и 4-grams. \n",
    "\n",
    "Модель с 3-grams имеет высокий показатель **accuracy** равный 0.80, однако в этой модели **F-score** имеет не самый хороший показатель и равен 0.63. \n",
    "\n",
    "Модель с 4-grams, несмотря на то, что **accuracy** = 0.77, имеет более высокий показатель **F-score** = 0.72. \n",
    "\n",
    "Исходя из совокупности этих значений, лучшей моделью в этом случае является модель, обученная на 4-grams."
   ]
  },
  {
   "cell_type": "code",
   "execution_count": 27,
   "metadata": {
    "collapsed": false
   },
   "outputs": [
    {
     "name": "stderr",
     "output_type": "stream",
     "text": [
      "Using TensorFlow backend.\n"
     ]
    }
   ],
   "source": [
    "from keras.models import Sequential\n",
    "from keras.layers.core import Dense, Activation, Dropout\n",
    "from keras.layers.recurrent import LSTM"
   ]
  },
  {
   "cell_type": "markdown",
   "metadata": {},
   "source": [
    "### Обучающая выборка для нейронной сети "
   ]
  },
  {
   "cell_type": "code",
   "execution_count": 28,
   "metadata": {
    "collapsed": false
   },
   "outputs": [
    {
     "name": "stdout",
     "output_type": "stream",
     "text": [
      "total endtries  5778\n",
      "max len  30\n",
      "total chars: 28\n"
     ]
    }
   ],
   "source": [
    "m_names = list(df_train_names[df_train_names.Sex == 1].Name)\n",
    "f_names = list(df_train_names[df_train_names.Sex == 0].Name)\n",
    "\n",
    "mf_names = []\n",
    "\n",
    "for f_name in f_names:\n",
    "    if f_name in m_names:\n",
    "        mf_names.append(f_name)\n",
    "\n",
    "m_names = [m_name.lower() for m_name in m_names if not m_name in mf_names]\n",
    "f_names = [f_name.lower() for f_name in f_names if not f_name in mf_names]\n",
    "\n",
    "\n",
    "totalEntries = len(m_names) + len(f_names)\n",
    "maxlen = len(max( m_names , key=len)) + len(max( f_names , key=len))\n",
    "\n",
    "chars = set(  \"\".join(m_names) + \"\".join(f_names)  )\n",
    "char_indices = dict((c, i) for i, c in enumerate(chars))\n",
    "indices_char = dict((i, c) for i, c in enumerate(chars))\n",
    "\n",
    "\n",
    "print (\"total endtries \" , totalEntries)\n",
    "print (\"max len \" , maxlen)\n",
    "print('total chars:', len(chars))\n",
    "\n",
    "X = np.zeros((totalEntries , maxlen, len(chars) ), dtype=np.bool)\n",
    "y = np.zeros((totalEntries , 2 ), dtype=np.bool)\n",
    "\n",
    "\n",
    "for i, name in enumerate(m_names):\n",
    "    for t, char in enumerate(name):\n",
    "        X[i, t, char_indices[char]] = 1\n",
    "    y[i, 0 ] = 1\n",
    "\n",
    "for i, name in enumerate(f_names):\n",
    "    for t, char in enumerate(name):\n",
    "        X[i + len(m_names), t, char_indices[char]] = 1\n",
    "    y[i + len(m_names) , 1 ] = 1"
   ]
  },
  {
   "cell_type": "markdown",
   "metadata": {},
   "source": [
    "### Тестовая выборка для нейросети"
   ]
  },
  {
   "cell_type": "code",
   "execution_count": 29,
   "metadata": {
    "collapsed": false
   },
   "outputs": [
    {
     "name": "stdout",
     "output_type": "stream",
     "text": [
      "total endtries  1433\n",
      "max len  30\n",
      "total chars: 28\n"
     ]
    }
   ],
   "source": [
    "m_names_test = list(df_test_names[df_test_names.Sex == 1].Name)\n",
    "f_names_test = list(df_test_names[df_test_names.Sex == 0].Name)\n",
    "\n",
    "mf_names_test = []\n",
    "\n",
    "for f_name in f_names_test:\n",
    "    if f_name in m_names_test:\n",
    "        mf_names_test.append(f_name)\n",
    "\n",
    "m_names_test = [m_name.lower() for m_name in m_names_test if not m_name in mf_names_test]\n",
    "f_names_test = [f_name.lower() for f_name in f_names_test if not f_name in mf_names_test]\n",
    "\n",
    "\n",
    "totalEntries_test = len(m_names_test) + len(f_names_test)\n",
    "#maxlen = len(max( m_names_test , key=len)) + len(max( f_names_test , key=len))\n",
    "\n",
    "#chars = set(  \"\".join(m_names_test) + \"\".join(f_names_test)  )\n",
    "#char_indices = dict((c, i) for i, c in enumerate(chars))\n",
    "#indices_char = dict((i, c) for i, c in enumerate(chars))\n",
    "\n",
    "\n",
    "print (\"total endtries \" , totalEntries_test)\n",
    "print (\"max len \" , maxlen)\n",
    "print('total chars:', len(chars))\n",
    "\n",
    "X_test = np.zeros((totalEntries_test , maxlen, len(chars) ), dtype=np.bool)\n",
    "y_test = np.zeros((totalEntries_test , 2 ), dtype=np.bool)\n",
    "\n",
    "\n",
    "for i, name in enumerate(m_names_test):\n",
    "    for t, char in enumerate(name):\n",
    "        X_test[i, t, char_indices[char]] = 1\n",
    "    y_test[i, 0 ] = 1\n",
    "\n",
    "for i, name in enumerate(f_names_test):\n",
    "    for t, char in enumerate(name):\n",
    "        X_test[i + len(m_names_test), t, char_indices[char]] = 1\n",
    "    y_test[i + len(m_names_test) , 1 ] = 1"
   ]
  },
  {
   "cell_type": "markdown",
   "metadata": {},
   "source": [
    "### Обучение модели"
   ]
  },
  {
   "cell_type": "markdown",
   "metadata": {},
   "source": [
    "### Узлы 512; Dropout = 0.2"
   ]
  },
  {
   "cell_type": "code",
   "execution_count": 30,
   "metadata": {
    "collapsed": false,
    "scrolled": true
   },
   "outputs": [
    {
     "name": "stdout",
     "output_type": "stream",
     "text": [
      "Build model...\n",
      "Epoch 1/5\n",
      "5778/5778 [==============================] - 214s - loss: 0.7175 - acc: 0.5886 - fmeasure: 0.5886   \n",
      "Epoch 2/5\n",
      "5778/5778 [==============================] - 210s - loss: 0.6476 - acc: 0.6385 - fmeasure: 0.6385   \n",
      "Epoch 3/5\n",
      "5778/5778 [==============================] - 209s - loss: 0.6445 - acc: 0.6431 - fmeasure: 0.6431   \n",
      "Epoch 4/5\n",
      "5778/5778 [==============================] - 220s - loss: 0.6376 - acc: 0.6440 - fmeasure: 0.6440   \n",
      "Epoch 5/5\n",
      "5778/5778 [==============================] - 219s - loss: 0.6351 - acc: 0.6520 - fmeasure: 0.6520   \n",
      "1433/1433 [==============================] - 13s    \n"
     ]
    }
   ],
   "source": [
    "nEpochs = 5\n",
    "\n",
    "print('Build model...')\n",
    "model = Sequential()\n",
    "model.add(LSTM(512, return_sequences=True, input_shape=(maxlen, len(chars))))\n",
    "model.add(Dropout(0.2))\n",
    "model.add(LSTM(512, return_sequences=False))\n",
    "model.add(Dropout(0.2))\n",
    "model.add(Dense(2))\n",
    "model.add(Activation('softmax'))\n",
    "\n",
    "model.compile(loss='binary_crossentropy', optimizer='rmsprop', metrics=['accuracy', 'fmeasure'])\n",
    "\n",
    "model.fit(X, y, batch_size=16, nb_epoch=nEpochs)\n",
    "score = model.evaluate(X_test, y_test, batch_size=16)"
   ]
  },
  {
   "cell_type": "code",
   "execution_count": 31,
   "metadata": {
    "collapsed": false
   },
   "outputs": [
    {
     "name": "stdout",
     "output_type": "stream",
     "text": [
      "Accuracy: 0.6734124214933705\n",
      "F score: 0.6734124175835055\n"
     ]
    }
   ],
   "source": [
    "print (\"Accuracy: {}\".format(score[1]))\n",
    "print (\"F score: {}\".format(score[2]))"
   ]
  },
  {
   "cell_type": "markdown",
   "metadata": {},
   "source": [
    "### Узлы 256; Dropout = 0.2"
   ]
  },
  {
   "cell_type": "code",
   "execution_count": 34,
   "metadata": {
    "collapsed": false
   },
   "outputs": [
    {
     "name": "stdout",
     "output_type": "stream",
     "text": [
      "Build model...\n",
      "Epoch 1/5\n",
      "5778/5778 [==============================] - 41s - loss: 0.6906 - acc: 0.5954 - fmeasure: 0.5954    \n",
      "Epoch 2/5\n",
      "5778/5778 [==============================] - 38s - loss: 0.6127 - acc: 0.6784 - fmeasure: 0.6784    \n",
      "Epoch 3/5\n",
      "5778/5778 [==============================] - 38s - loss: 0.5671 - acc: 0.7127 - fmeasure: 0.7127    \n",
      "Epoch 4/5\n",
      "5778/5778 [==============================] - 38s - loss: 0.5330 - acc: 0.7411 - fmeasure: 0.7411    \n",
      "Epoch 5/5\n",
      "5778/5778 [==============================] - 38s - loss: 0.4983 - acc: 0.7710 - fmeasure: 0.7710    \n",
      "1433/1433 [==============================] - 3s     \n"
     ]
    }
   ],
   "source": [
    "nEpochs = 5\n",
    "\n",
    "print('Build model...')\n",
    "model = Sequential()\n",
    "model.add(LSTM(256, return_sequences=True, input_shape=(maxlen, len(chars))))\n",
    "model.add(Dropout(0.2))\n",
    "model.add(LSTM(256, return_sequences=False))\n",
    "model.add(Dropout(0.2))\n",
    "model.add(Dense(2))\n",
    "model.add(Activation('softmax'))\n",
    "\n",
    "model.compile(loss='binary_crossentropy', optimizer='rmsprop', metrics=['accuracy', 'fmeasure'])\n",
    "\n",
    "model.fit(X, y, batch_size=16, nb_epoch=nEpochs)\n",
    "score = model.evaluate(X_test, y_test, batch_size=16)"
   ]
  },
  {
   "cell_type": "code",
   "execution_count": 35,
   "metadata": {
    "collapsed": false
   },
   "outputs": [
    {
     "name": "stdout",
     "output_type": "stream",
     "text": [
      "Accuracy: 0.7613398464759247\n",
      "F score: 0.7613398180254173\n"
     ]
    }
   ],
   "source": [
    "print (\"Accuracy: {}\".format(score[1]))\n",
    "print (\"F score: {}\".format(score[2]))"
   ]
  },
  {
   "cell_type": "markdown",
   "metadata": {},
   "source": [
    "### Узлы 256; Dropout = 0.5"
   ]
  },
  {
   "cell_type": "code",
   "execution_count": 36,
   "metadata": {
    "collapsed": false
   },
   "outputs": [
    {
     "name": "stdout",
     "output_type": "stream",
     "text": [
      "Build model...\n",
      "Epoch 1/5\n",
      "5778/5778 [==============================] - 39s - loss: 0.7000 - acc: 0.5976 - fmeasure: 0.5976    \n",
      "Epoch 2/5\n",
      "5778/5778 [==============================] - 37s - loss: 0.6698 - acc: 0.6298 - fmeasure: 0.6298    \n",
      "Epoch 3/5\n",
      "5778/5778 [==============================] - 37s - loss: 0.6677 - acc: 0.6326 - fmeasure: 0.6326    \n",
      "Epoch 4/5\n",
      "5778/5778 [==============================] - 37s - loss: 0.6554 - acc: 0.6435 - fmeasure: 0.6435    \n",
      "Epoch 5/5\n",
      "5778/5778 [==============================] - 37s - loss: 0.6461 - acc: 0.6329 - fmeasure: 0.6329    \n",
      "1424/1433 [============================>.] - ETA: 0s"
     ]
    }
   ],
   "source": [
    "nEpochs = 5\n",
    "\n",
    "print('Build model...')\n",
    "model = Sequential()\n",
    "model.add(LSTM(256, return_sequences=True, input_shape=(maxlen, len(chars))))\n",
    "model.add(Dropout(0.5))\n",
    "model.add(LSTM(256, return_sequences=False))\n",
    "model.add(Dropout(0.5))\n",
    "model.add(Dense(2))\n",
    "model.add(Activation('softmax'))\n",
    "\n",
    "model.compile(loss='binary_crossentropy', optimizer='rmsprop', metrics=['accuracy', 'fmeasure'])\n",
    "\n",
    "model.fit(X, y, batch_size=16, nb_epoch=nEpochs)\n",
    "score = model.evaluate(X_test, y_test, batch_size=16)"
   ]
  },
  {
   "cell_type": "code",
   "execution_count": 37,
   "metadata": {
    "collapsed": false
   },
   "outputs": [
    {
     "name": "stdout",
     "output_type": "stream",
     "text": [
      "Accuracy: 0.653175157034056\n",
      "F score: 0.6531751420185105\n"
     ]
    }
   ],
   "source": [
    "print (\"Accuracy: {}\".format(score[1]))\n",
    "print (\"F score: {}\".format(score[2]))"
   ]
  },
  {
   "cell_type": "markdown",
   "metadata": {},
   "source": [
    "### Узлы 512; Dropout = 0.5"
   ]
  },
  {
   "cell_type": "code",
   "execution_count": 38,
   "metadata": {
    "collapsed": false
   },
   "outputs": [
    {
     "name": "stdout",
     "output_type": "stream",
     "text": [
      "Build model...\n",
      "Epoch 1/5\n",
      "5778/5778 [==============================] - 40s - loss: 0.6976 - acc: 0.5950 - fmeasure: 0.5950    \n",
      "Epoch 2/5\n",
      "5778/5778 [==============================] - 37s - loss: 0.6710 - acc: 0.6224 - fmeasure: 0.6224    \n",
      "Epoch 3/5\n",
      "5778/5778 [==============================] - 38s - loss: 0.6625 - acc: 0.6272 - fmeasure: 0.6272    \n",
      "Epoch 4/5\n",
      "5778/5778 [==============================] - 37s - loss: 0.6487 - acc: 0.6378 - fmeasure: 0.6378    \n",
      "Epoch 5/5\n",
      "5778/5778 [==============================] - 38s - loss: 0.6436 - acc: 0.6402 - fmeasure: 0.6402    \n",
      "1433/1433 [==============================] - 3s     \n"
     ]
    }
   ],
   "source": [
    "nEpochs = 5\n",
    "\n",
    "print('Build model...')\n",
    "model = Sequential()\n",
    "model.add(LSTM(256, return_sequences=True, input_shape=(maxlen, len(chars))))\n",
    "model.add(Dropout(0.5))\n",
    "model.add(LSTM(256, return_sequences=False))\n",
    "model.add(Dropout(0.5))\n",
    "model.add(Dense(2))\n",
    "model.add(Activation('softmax'))\n",
    "\n",
    "model.compile(loss='binary_crossentropy', optimizer='rmsprop', metrics=['accuracy', 'fmeasure'])\n",
    "\n",
    "model.fit(X, y, batch_size=16, nb_epoch=nEpochs)\n",
    "score = model.evaluate(X_test, y_test, batch_size=16)"
   ]
  },
  {
   "cell_type": "code",
   "execution_count": 39,
   "metadata": {
    "collapsed": false
   },
   "outputs": [
    {
     "name": "stdout",
     "output_type": "stream",
     "text": [
      "Accuracy: 0.6782972784368457\n",
      "F score: 0.678297270117984\n"
     ]
    }
   ],
   "source": [
    "print (\"Accuracy: {}\".format(score[1]))\n",
    "print (\"F score: {}\".format(score[2]))"
   ]
  },
  {
   "cell_type": "markdown",
   "metadata": {},
   "source": [
    "### Узлы 256; Dropout = 0.5; Dropout = 0.8"
   ]
  },
  {
   "cell_type": "code",
   "execution_count": 40,
   "metadata": {
    "collapsed": false
   },
   "outputs": [
    {
     "name": "stdout",
     "output_type": "stream",
     "text": [
      "Build model...\n",
      "Epoch 1/5\n",
      "5778/5778 [==============================] - 41s - loss: 0.7345 - acc: 0.5845 - fmeasure: 0.5845    \n",
      "Epoch 2/5\n",
      "5778/5778 [==============================] - 39s - loss: 0.6812 - acc: 0.6172 - fmeasure: 0.6172    \n",
      "Epoch 3/5\n",
      "5778/5778 [==============================] - 39s - loss: 0.6746 - acc: 0.6156 - fmeasure: 0.6156    \n",
      "Epoch 4/5\n",
      "5778/5778 [==============================] - 39s - loss: 0.6692 - acc: 0.6250 - fmeasure: 0.6250    \n",
      "Epoch 5/5\n",
      "5778/5778 [==============================] - 39s - loss: 0.6602 - acc: 0.6281 - fmeasure: 0.6281    \n",
      "1433/1433 [==============================] - 3s     \n"
     ]
    }
   ],
   "source": [
    "nEpochs = 5\n",
    "\n",
    "print('Build model...')\n",
    "model = Sequential()\n",
    "model.add(LSTM(256, return_sequences=True, input_shape=(maxlen, len(chars))))\n",
    "model.add(Dropout(0.5))\n",
    "model.add(LSTM(256, return_sequences=False))\n",
    "model.add(Dropout(0.8))\n",
    "model.add(Dense(2))\n",
    "model.add(Activation('softmax'))\n",
    "\n",
    "model.compile(loss='binary_crossentropy', optimizer='rmsprop', metrics=['accuracy', 'fmeasure'])\n",
    "\n",
    "model.fit(X, y, batch_size=16, nb_epoch=nEpochs)\n",
    "score = model.evaluate(X_test, y_test, batch_size=16)"
   ]
  },
  {
   "cell_type": "code",
   "execution_count": 41,
   "metadata": {
    "collapsed": false
   },
   "outputs": [
    {
     "name": "stdout",
     "output_type": "stream",
     "text": [
      "Accuracy: 0.6741102581995813\n",
      "F score: 0.6741102563694317\n"
     ]
    }
   ],
   "source": [
    "print (\"Accuracy: {}\".format(score[1]))\n",
    "print (\"F score: {}\".format(score[2]))"
   ]
  },
  {
   "cell_type": "markdown",
   "metadata": {},
   "source": [
    "Сравненив значения метрик **Accuracy** и **F-score** на нейронных сетях, обученных с разным количеством узлов и разными dropout, видно, что лучшие значения показала нейросеть с 256 узлами и Dropout = 0.2"
   ]
  },
  {
   "cell_type": "markdown",
   "metadata": {},
   "source": [
    "### Сравнение методов"
   ]
  },
  {
   "cell_type": "markdown",
   "metadata": {},
   "source": [
    "#### Байесовский наивный классификатор обученный на 4-grams:\n",
    "- **Accuracy:** 0.7787857641311933\n",
    "- **F-score:** 0.72458731537793222"
   ]
  },
  {
   "cell_type": "markdown",
   "metadata": {},
   "source": [
    "#### Нейронная сеть с 256 узлами и dropout = 0.2:\n",
    "- **Accuracy:** 0.7613398464759247\n",
    "- **F score:** 0.76133981802541732"
   ]
  },
  {
   "cell_type": "markdown",
   "metadata": {},
   "source": [
    "Нейронные сети показывают более сбалансированные значения по метрикам **Accuracy** и **F-score**, они практически не отличаются друг от друга. Тогда как при классификации методом наивного Байеса практически при всех n-grams, эти показатели имели довольно сильное расхождение."
   ]
  },
  {
   "cell_type": "markdown",
   "metadata": {},
   "source": [
    "В данном случае оба метода классификации показали приблизительно одинаковый результат. Одноко, чуть лучше оказалась нейронная сеть, за счет более высокого показателя по **F-score** и общей сбалансированности по метрикам\n",
    "\n",
    "Возможно, что от этой нейронной сети можно добиться еще более высоких результатов, если верно подобрать количество узлов и значения dropout. Так как нейронные сети LSTM являются одним из лучших методов, за счет того, что в них присутствуют реккурентные связи."
   ]
  },
  {
   "cell_type": "code",
   "execution_count": null,
   "metadata": {
    "collapsed": true
   },
   "outputs": [],
   "source": []
  }
 ],
 "metadata": {
  "kernelspec": {
   "display_name": "Python 3",
   "language": "python",
   "name": "python3"
  },
  "language_info": {
   "codemirror_mode": {
    "name": "ipython",
    "version": 3
   },
   "file_extension": ".py",
   "mimetype": "text/x-python",
   "name": "python",
   "nbconvert_exporter": "python",
   "pygments_lexer": "ipython3",
   "version": "3.5.2"
  }
 },
 "nbformat": 4,
 "nbformat_minor": 0
}
